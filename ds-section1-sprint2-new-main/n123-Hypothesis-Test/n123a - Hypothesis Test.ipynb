{
  "cells": [
    {
      "cell_type": "markdown",
      "metadata": {
        "id": "view-in-github",
        "colab_type": "text"
      },
      "source": [
        "<a href=\"https://colab.research.google.com/github/codestates/ds-section1-sprint2-new/blob/main/n123-Hypothesis-Test/n123a%20-%20Hypothesis%20Test.ipynb\" target=\"_parent\"><img src=\"https://colab.research.google.com/assets/colab-badge.svg\" alt=\"Open In Colab\"/></a>"
      ]
    },
    {
      "cell_type": "markdown",
      "source": [
        "<img src='https://user-images.githubusercontent.com/6457691/89746244-a6e2a200-daf3-11ea-9314-7863d544d73c.png' width = '200' align = 'right'>\n",
        "\n",
        "## *DATA SCIENCE / SECTION 1 / SPRINT 2 / NOTE 3*\n",
        "\n",
        "---\n",
        "\n",
        "# 📝 Assignment"
      ],
      "metadata": {
        "id": "4xK3p5j6xuwx"
      }
    },
    {
      "cell_type": "markdown",
      "source": [
        "# **🌱 기본 과제**\n",
        "\n",
        "오늘 lecture note에서는 두 집단의 평균을 비교하는 가설 검정 과정을 부트스트래핑을 이용해 표본 평균 분포를 구현하여 통계적 유의미함을 살펴보았습니다. \n",
        "\n",
        "**T-test** 메소드에는 이러한 과정이 built-in 되어있기 때문에 우리는 동일한 계산을 **T-test** 메소드를 통해 간단히 구현해 볼 수 있습니다. "
      ],
      "metadata": {
        "id": "iuXghyPoH2oo"
      }
    },
    {
      "cell_type": "markdown",
      "source": [
        "## **Part 1. One-Sample T-test** \n",
        "한 샘플의 평균값과 특정값(모수)을 비교하는 검정 방법입니다. <br>\n",
        "이를 양측검정을 통해 시행하고자 한다면 귀무가설과 대립가설은 다음과 같이 세울 수 있습니다. \n",
        "\n",
        "$H_0$ : $\\mu_{sample} = \\mu_{population}$\n",
        "\n",
        "$H_a$ : $\\mu_{sample} ≠ \\mu_{population}$ "
      ],
      "metadata": {
        "id": "lp0vFCqdxuwy"
      }
    },
    {
      "cell_type": "markdown",
      "source": [
        "### **1-1. 데이터셋 준비**\n",
        "- 다음 데이터셋을 불러옵니다. <br>\n",
        "  https://ds-lecture-data.s3.ap-northeast-2.amazonaws.com/seoul_tree/seoul_tree.txt\n",
        "  - 데이터는 `tap`으로 구분되어 있습니다. \n",
        "  - `skiprows=1`로 설정하여 첫 번째 row가 헤더가 되도록 지정합니다. \n",
        "- `자치구`가 `서울시`, `공원녹지사업소`, `시설관리공단`인 데이터는 제외합니다. \n",
        "- `이팝나무` column만 추출하여 `df_sub`에 저장하세요. \n",
        "  - `df_sub`은 Series 형태입니다. \n",
        "- `df_sub`의 index를 재설정 하세요. "
      ],
      "metadata": {
        "id": "W0AtIiP3__0r"
      }
    },
    {
      "cell_type": "markdown",
      "source": [
        "##### **Q1. `df_sub`의 row의 총 개수를 쓰세요.**"
      ],
      "metadata": {
        "id": "XgnucPhCjL1Q"
      }
    },
    {
      "cell_type": "code",
      "source": [
        "# 이곳에 코드를 작성하세요."
      ],
      "metadata": {
        "id": "k828GpfqWeK2"
      },
      "execution_count": null,
      "outputs": []
    },
    {
      "cell_type": "markdown",
      "source": [
        "### **1-2. 데이터 타입 변환**\n",
        "- `이팝나무` column의 데이터 타입을 확인한 후, 적절한 데이터 타입으로 변환하세요.\n",
        "  - 적절한 데이터 타입으로 변환하기 위해 `.replace()` 함수를 활용해보세요."
      ],
      "metadata": {
        "id": "bnl8iMeCeafC"
      }
    },
    {
      "cell_type": "markdown",
      "source": [
        "##### **Q2. `이팝나무` column의 데이터 타입으로 적절한 것은 무엇인가요?**"
      ],
      "metadata": {
        "id": "IRWR7xTSjpt4"
      }
    },
    {
      "cell_type": "code",
      "source": [
        "# 이곳에 코드를 작성하세요."
      ],
      "metadata": {
        "id": "gOv4RxA8CQkV"
      },
      "execution_count": null,
      "outputs": []
    },
    {
      "cell_type": "markdown",
      "source": [
        "### **1-3. 표본 생성 및 가설 검정**\n",
        "- [`np.random.choice()`](https://numpy.org/doc/stable/reference/random/generated/numpy.random.choice.html)를 사용해 10개의 구의 `이팝나무` 데이터를 중복을 허용하여 추출합니다. \n",
        "    - `np.random.seed(123)`으로 설정하세요.\n",
        "- 서울시 구별 `이팝나무` 데이터를 모집단으로 가정하였을 때, 10개의 구를 추출한 `이팝나무` 수의 평균과 모집단의 평균을 비교하는 가설검정을 One-Sample T-test를 통해 시행하세요.      \n",
        "  - scipy 라이브러리의 [`.ttest_1samp()`](https://docs.scipy.org/doc/scipy/reference/generated/scipy.stats.ttest_1samp.html)을 사용합니다.\n",
        "- `.pvalue`를 사용하여 가설검정 결과의 P-value를 `pv1`에 저장하세요."
      ],
      "metadata": {
        "id": "V9hRAB-QBPrw"
      }
    },
    {
      "cell_type": "markdown",
      "source": [
        "##### **Q3. 모집단(서울시 구별 이팝나무 데이터)의 평균은 얼마인지 소수점 둘째 자리까지 구하세요.**"
      ],
      "metadata": {
        "id": "IzBWyg8kr0gu"
      }
    },
    {
      "cell_type": "code",
      "source": [
        "# 이곳에 코드를 작성하세요."
      ],
      "metadata": {
        "id": "ni8TR-2DCVjm"
      },
      "execution_count": null,
      "outputs": []
    },
    {
      "cell_type": "markdown",
      "source": [
        "##### **Q4. 표본(10개의 구를 추출한 이팝나무 데이터)의 평균은 얼마인지 소수점 첫째 자리까지 구하세요.**"
      ],
      "metadata": {
        "id": "bGMDsEsKr5Uc"
      }
    },
    {
      "cell_type": "code",
      "source": [
        "# 이곳에 코드를 작성하세요."
      ],
      "metadata": {
        "id": "jgVSM26jCinR"
      },
      "execution_count": null,
      "outputs": []
    },
    {
      "cell_type": "markdown",
      "source": [
        "##### **Q5. 가설 검정 결과 P-value를 해석한 것으로 알맞은 것은 무엇인가요?**\n",
        "- 서울시 구별 이팝나무 수의 평균과 10개의 구를 샘플링한 이팝나무 수의 평균은 다르다고 볼 수 없다. \n",
        "- 서울시 구별 이팝나무 수의 평균과 10개의 구를 샘플링한 이팝나무 수의 평균은 같다고 볼 수 없다. \n",
        "- 서울시 구별 이팝나무 수의 평균은 10개의 구를 샘플링한 이팝나무 수의 평균보다 크다. \n",
        "- 서울시 구별 이팝나무 수의 평균은 10개의 구를 샘플링한 이팝나무 수의 평균보다 작다. "
      ],
      "metadata": {
        "id": "C0iPS_imseYW"
      }
    },
    {
      "cell_type": "code",
      "source": [
        "# 이곳에 코드를 작성하세요."
      ],
      "metadata": {
        "id": "ywPONxA5CmhZ"
      },
      "execution_count": null,
      "outputs": []
    },
    {
      "cell_type": "markdown",
      "source": [
        "# **🥇 도전 과제**"
      ],
      "metadata": {
        "id": "zSVm5CcdNnEe"
      }
    },
    {
      "cell_type": "markdown",
      "source": [
        "## **Part 2. Two-Sample T-test**\n",
        "\n",
        "\n",
        "두 샘플의 평균값을 비교하는 검정 방법입니다. <br>\n",
        "이를 양측검정을 통해 시행하고자 한다면 귀무가설과 대립가설은 다음과 같이 세울 수 있습니다. \n",
        "\n",
        "$H_0$ : $\\mu_{sample1} = \\mu_{sample2}$\n",
        "\n",
        "$H_a$ : $\\mu_{sample1} ≠ \\mu_{sample2}$"
      ],
      "metadata": {
        "id": "fLCPDfHKxuw3"
      }
    },
    {
      "cell_type": "code",
      "source": [
        "# 아래의 코드를 실행해 주세요. 업그레이드 완료 후에는 런타임을 재시작해야 합니다. \n",
        "!pip install scipy --upgrade"
      ],
      "metadata": {
        "id": "vjg3WH0qxuw3"
      },
      "execution_count": null,
      "outputs": []
    },
    {
      "cell_type": "code",
      "source": [
        "# 버전 확인 \n",
        "import scipy\n",
        "\n",
        "scipy.__version__"
      ],
      "metadata": {
        "colab": {
          "base_uri": "https://localhost:8080/",
          "height": 36
        },
        "outputId": "9e273f79-d759-4f3e-8f43-7cfe9b9e1fd7",
        "id": "DH4hH6-Bxuw3"
      },
      "execution_count": null,
      "outputs": [
        {
          "output_type": "execute_result",
          "data": {
            "text/plain": [
              "'1.7.3'"
            ],
            "application/vnd.google.colaboratory.intrinsic+json": {
              "type": "string"
            }
          },
          "metadata": {},
          "execution_count": 34
        }
      ]
    },
    {
      "cell_type": "markdown",
      "source": [
        "### **2-1. 데이터셋 준비**\n",
        "- **`서울시`, `공원녹지사업소`, `시설관리공단` 데이터는 제외하세요.** \n",
        "- **`느티나무`, `왕벚나무` column만 추출하여 각각 `zelkova`과 `cherry`에 저장하세요.** "
      ],
      "metadata": {
        "id": "Pc84U5GgzFKH"
      }
    },
    {
      "cell_type": "code",
      "source": [
        "# 이곳에 코드를 작성하세요."
      ],
      "metadata": {
        "id": "B9f99li7Crlh"
      },
      "execution_count": null,
      "outputs": []
    },
    {
      "cell_type": "markdown",
      "source": [
        "### **2-2. 데이터 타입 변환**\n",
        "**`느티나무`, `왕벚나무` column의 데이터 타입을 `int`로 변환하세요.**"
      ],
      "metadata": {
        "id": "fS7qviyEzQ7p"
      }
    },
    {
      "cell_type": "code",
      "source": [
        "# 이곳에 코드를 작성하세요."
      ],
      "metadata": {
        "id": "iVpKwk-VCs3B"
      },
      "execution_count": null,
      "outputs": []
    },
    {
      "cell_type": "markdown",
      "source": [
        "### **2-3. 가설 검정**\n",
        "단측 검정(One-tailed test)을 사용하여 평균 `느티나무` 수와 평균 `왕벚나무` 수를 비교하는 가설검정을 시행하세요. (단, 서울시 구별 `느티나무` 및 `왕벚나무` 데이터는 표본입니다.) \n",
        "- **scipy 라이브러리의 [`.ttest_ind()`](https://docs.scipy.org/doc/scipy/reference/generated/scipy.stats.ttest_ind.html)를 사용합니다.**\n",
        "  - One-tailed test를 진행하기 위해서는 `alternative` 파라미터를 설정해야 합니다. \n",
        "- **'평균 느티나무 수가 왕벚나무 수보다 통계적으로 유의미하게 크다'는 가설검정 결과의 P-value를 `pv2`에 저장하세요.**\n",
        "   - 이에 알맞은 귀무가설과 대립가설을 설정합니다. \n",
        "- **'평균 왕벚나무 수가 느티나무 수보다 통계적으로 유의미하게 크다'는 가설검정 결과의 P-value를 `pv3`에 저장하세요.** \n",
        "  - 이에 알맞은 귀무가설과 대립가설을 설정합니다. \n",
        "- **평균 `느티나무` 수와 평균 `왕벚나무` 수를 비교하는 가설검정 결과를 `ans`에 저장하세요. 이때 `ans`는 다음 세 가지 중 하나입니다.** \n",
        "  - 느티나무 (평균 느티나무 수가 왕벚나무 수보다 통계적으로 유의하게 큰 경우)\n",
        "  - 왕벚나무 (평균 왕벚나무 수가 느티나무 수보다 통계적으로 유의하게 큰 경우)\n",
        "  - 같다. (통계적으로 유의미한 차이가 없다.) "
      ],
      "metadata": {
        "id": "L87xLozjfMX6"
      }
    },
    {
      "cell_type": "code",
      "source": [
        "# 이곳에 코드를 작성하세요."
      ],
      "metadata": {
        "id": "zBJvDtNQCxUG"
      },
      "execution_count": null,
      "outputs": []
    }
  ],
  "metadata": {
    "colab": {
      "collapsed_sections": [],
      "name": "n123a - Hypothesis Test.ipynb",
      "provenance": [],
      "include_colab_link": true
    },
    "kernelspec": {
      "display_name": "Python 3",
      "name": "python3"
    },
    "language_info": {
      "name": "python"
    }
  },
  "nbformat": 4,
  "nbformat_minor": 0
}