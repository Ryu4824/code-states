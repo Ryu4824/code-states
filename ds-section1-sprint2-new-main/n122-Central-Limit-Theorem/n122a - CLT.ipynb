{
  "nbformat": 4,
  "nbformat_minor": 0,
  "metadata": {
    "colab": {
      "name": "n122a_CLT.ipynb",
      "provenance": [],
      "include_colab_link": true
    },
    "kernelspec": {
      "name": "python3",
      "display_name": "Python 3"
    },
    "language_info": {
      "name": "python"
    }
  },
  "cells": [
    {
      "cell_type": "markdown",
      "metadata": {
        "id": "view-in-github",
        "colab_type": "text"
      },
      "source": [
        "<a href=\"https://colab.research.google.com/github/Ryu4824/ds-section1-sprint2-new/blob/main/n122-Central-Limit-Theorem/n122a%20-%20CLT.ipynb\" target=\"_parent\"><img src=\"https://colab.research.google.com/assets/colab-badge.svg\" alt=\"Open In Colab\"/></a>"
      ]
    },
    {
      "cell_type": "markdown",
      "source": [
        "<img src='https://i.imgur.com/RDAD11M.png' width = '200' align = 'right'>\n",
        "\n",
        "## *DATA SCIENCE / SECTION 1 / SPRINT 2 / NOTE 2*\n",
        "\n",
        "# 📝 Assignment"
      ],
      "metadata": {
        "id": "hhLTda3cVIHR"
      }
    },
    {
      "cell_type": "markdown",
      "source": [
        "# **🌱 기본 과제**"
      ],
      "metadata": {
        "id": "5x7pERiy3grr"
      }
    },
    {
      "cell_type": "markdown",
      "source": [
        "## **Part 1. 데이터셋 불러오기**\n",
        "\n",
        "- 서울시 기간별 시간평균 대기환경 정보 데이터셋을 \b불러오세요. \n",
        "  - 다음 [링크](https://data.seoul.go.kr/dataList/OA-2221/S/1/datasetView.do)에서 `2020년 3월`의 데이터셋을 다운받으세요. \n",
        "- 불러온 데이터셋을 변수 `data`에 저장하세요.\n",
        "  - 한글 데이터이므로 `encoding` 파라미터 설정이 필요합니다. \n",
        "  - `측정일시`, `측정소명`, `오존(ppm)` column만 사용합니다. column을 추출하는 방법은 여러 가지가 있는데, 이번에는 `usecols` 파라미터를 한번 사용해 보세요. \n",
        "- `data`에서 `측정소명`이 **`송파구`**인 데이터를 추출하여 `df`에 저장하세요. \n",
        "- `df`의 index를 재설정 하세요."
      ],
      "metadata": {
        "id": "m9DCmR8T-qCP"
      }
    },
    {
      "cell_type": "code",
      "source": [
        "import pandas as pd\n",
        "import numpy as np\n",
        "from google.colab import files\n",
        "upload = files.upload()"
      ],
      "metadata": {
        "colab": {
          "base_uri": "https://localhost:8080/",
          "height": 77
        },
        "id": "tRZs2JCoyLvU",
        "outputId": "6f8270a0-ad50-484d-c59f-ff3af324e794"
      },
      "execution_count": 31,
      "outputs": [
        {
          "output_type": "display_data",
          "data": {
            "text/plain": [
              "<IPython.core.display.HTML object>"
            ],
            "text/html": [
              "\n",
              "     <input type=\"file\" id=\"files-dc68d7de-5623-4cf1-8601-367ced04fdf0\" name=\"files[]\" multiple disabled\n",
              "        style=\"border:none\" />\n",
              "     <output id=\"result-dc68d7de-5623-4cf1-8601-367ced04fdf0\">\n",
              "      Upload widget is only available when the cell has been executed in the\n",
              "      current browser session. Please rerun this cell to enable.\n",
              "      </output>\n",
              "      <script>// Copyright 2017 Google LLC\n",
              "//\n",
              "// Licensed under the Apache License, Version 2.0 (the \"License\");\n",
              "// you may not use this file except in compliance with the License.\n",
              "// You may obtain a copy of the License at\n",
              "//\n",
              "//      http://www.apache.org/licenses/LICENSE-2.0\n",
              "//\n",
              "// Unless required by applicable law or agreed to in writing, software\n",
              "// distributed under the License is distributed on an \"AS IS\" BASIS,\n",
              "// WITHOUT WARRANTIES OR CONDITIONS OF ANY KIND, either express or implied.\n",
              "// See the License for the specific language governing permissions and\n",
              "// limitations under the License.\n",
              "\n",
              "/**\n",
              " * @fileoverview Helpers for google.colab Python module.\n",
              " */\n",
              "(function(scope) {\n",
              "function span(text, styleAttributes = {}) {\n",
              "  const element = document.createElement('span');\n",
              "  element.textContent = text;\n",
              "  for (const key of Object.keys(styleAttributes)) {\n",
              "    element.style[key] = styleAttributes[key];\n",
              "  }\n",
              "  return element;\n",
              "}\n",
              "\n",
              "// Max number of bytes which will be uploaded at a time.\n",
              "const MAX_PAYLOAD_SIZE = 100 * 1024;\n",
              "\n",
              "function _uploadFiles(inputId, outputId) {\n",
              "  const steps = uploadFilesStep(inputId, outputId);\n",
              "  const outputElement = document.getElementById(outputId);\n",
              "  // Cache steps on the outputElement to make it available for the next call\n",
              "  // to uploadFilesContinue from Python.\n",
              "  outputElement.steps = steps;\n",
              "\n",
              "  return _uploadFilesContinue(outputId);\n",
              "}\n",
              "\n",
              "// This is roughly an async generator (not supported in the browser yet),\n",
              "// where there are multiple asynchronous steps and the Python side is going\n",
              "// to poll for completion of each step.\n",
              "// This uses a Promise to block the python side on completion of each step,\n",
              "// then passes the result of the previous step as the input to the next step.\n",
              "function _uploadFilesContinue(outputId) {\n",
              "  const outputElement = document.getElementById(outputId);\n",
              "  const steps = outputElement.steps;\n",
              "\n",
              "  const next = steps.next(outputElement.lastPromiseValue);\n",
              "  return Promise.resolve(next.value.promise).then((value) => {\n",
              "    // Cache the last promise value to make it available to the next\n",
              "    // step of the generator.\n",
              "    outputElement.lastPromiseValue = value;\n",
              "    return next.value.response;\n",
              "  });\n",
              "}\n",
              "\n",
              "/**\n",
              " * Generator function which is called between each async step of the upload\n",
              " * process.\n",
              " * @param {string} inputId Element ID of the input file picker element.\n",
              " * @param {string} outputId Element ID of the output display.\n",
              " * @return {!Iterable<!Object>} Iterable of next steps.\n",
              " */\n",
              "function* uploadFilesStep(inputId, outputId) {\n",
              "  const inputElement = document.getElementById(inputId);\n",
              "  inputElement.disabled = false;\n",
              "\n",
              "  const outputElement = document.getElementById(outputId);\n",
              "  outputElement.innerHTML = '';\n",
              "\n",
              "  const pickedPromise = new Promise((resolve) => {\n",
              "    inputElement.addEventListener('change', (e) => {\n",
              "      resolve(e.target.files);\n",
              "    });\n",
              "  });\n",
              "\n",
              "  const cancel = document.createElement('button');\n",
              "  inputElement.parentElement.appendChild(cancel);\n",
              "  cancel.textContent = 'Cancel upload';\n",
              "  const cancelPromise = new Promise((resolve) => {\n",
              "    cancel.onclick = () => {\n",
              "      resolve(null);\n",
              "    };\n",
              "  });\n",
              "\n",
              "  // Wait for the user to pick the files.\n",
              "  const files = yield {\n",
              "    promise: Promise.race([pickedPromise, cancelPromise]),\n",
              "    response: {\n",
              "      action: 'starting',\n",
              "    }\n",
              "  };\n",
              "\n",
              "  cancel.remove();\n",
              "\n",
              "  // Disable the input element since further picks are not allowed.\n",
              "  inputElement.disabled = true;\n",
              "\n",
              "  if (!files) {\n",
              "    return {\n",
              "      response: {\n",
              "        action: 'complete',\n",
              "      }\n",
              "    };\n",
              "  }\n",
              "\n",
              "  for (const file of files) {\n",
              "    const li = document.createElement('li');\n",
              "    li.append(span(file.name, {fontWeight: 'bold'}));\n",
              "    li.append(span(\n",
              "        `(${file.type || 'n/a'}) - ${file.size} bytes, ` +\n",
              "        `last modified: ${\n",
              "            file.lastModifiedDate ? file.lastModifiedDate.toLocaleDateString() :\n",
              "                                    'n/a'} - `));\n",
              "    const percent = span('0% done');\n",
              "    li.appendChild(percent);\n",
              "\n",
              "    outputElement.appendChild(li);\n",
              "\n",
              "    const fileDataPromise = new Promise((resolve) => {\n",
              "      const reader = new FileReader();\n",
              "      reader.onload = (e) => {\n",
              "        resolve(e.target.result);\n",
              "      };\n",
              "      reader.readAsArrayBuffer(file);\n",
              "    });\n",
              "    // Wait for the data to be ready.\n",
              "    let fileData = yield {\n",
              "      promise: fileDataPromise,\n",
              "      response: {\n",
              "        action: 'continue',\n",
              "      }\n",
              "    };\n",
              "\n",
              "    // Use a chunked sending to avoid message size limits. See b/62115660.\n",
              "    let position = 0;\n",
              "    do {\n",
              "      const length = Math.min(fileData.byteLength - position, MAX_PAYLOAD_SIZE);\n",
              "      const chunk = new Uint8Array(fileData, position, length);\n",
              "      position += length;\n",
              "\n",
              "      const base64 = btoa(String.fromCharCode.apply(null, chunk));\n",
              "      yield {\n",
              "        response: {\n",
              "          action: 'append',\n",
              "          file: file.name,\n",
              "          data: base64,\n",
              "        },\n",
              "      };\n",
              "\n",
              "      let percentDone = fileData.byteLength === 0 ?\n",
              "          100 :\n",
              "          Math.round((position / fileData.byteLength) * 100);\n",
              "      percent.textContent = `${percentDone}% done`;\n",
              "\n",
              "    } while (position < fileData.byteLength);\n",
              "  }\n",
              "\n",
              "  // All done.\n",
              "  yield {\n",
              "    response: {\n",
              "      action: 'complete',\n",
              "    }\n",
              "  };\n",
              "}\n",
              "\n",
              "scope.google = scope.google || {};\n",
              "scope.google.colab = scope.google.colab || {};\n",
              "scope.google.colab._files = {\n",
              "  _uploadFiles,\n",
              "  _uploadFilesContinue,\n",
              "};\n",
              "})(self);\n",
              "</script> "
            ]
          },
          "metadata": {}
        },
        {
          "output_type": "stream",
          "name": "stdout",
          "text": [
            "Saving 서울시_기간별_시간평균_대기환경_정보_2020.03.csv to 서울시_기간별_시간평균_대기환경_정보_2020.03.csv\n"
          ]
        }
      ]
    },
    {
      "cell_type": "code",
      "source": [
        "data = pd.read_csv('서울시_기간별_시간평균_대기환경_정보_2020.03.csv', encoding='CP949')"
      ],
      "metadata": {
        "id": "zpOAOVeby6dG"
      },
      "execution_count": 243,
      "outputs": []
    },
    {
      "cell_type": "code",
      "source": [
        "data"
      ],
      "metadata": {
        "colab": {
          "base_uri": "https://localhost:8080/",
          "height": 424
        },
        "id": "0HUI_K0V3REB",
        "outputId": "381c4f6a-71ea-4245-df71-0c0a157333d0"
      },
      "execution_count": 244,
      "outputs": [
        {
          "output_type": "execute_result",
          "data": {
            "text/plain": [
              "               측정일시  권역코드  권역명   측정소코드  측정소명  미세먼지 1시간(㎍/㎥)  미세먼지 24시간(㎍/㎥)  \\\n",
              "0      202003312300   100  도심권  111123   종로구             47              48   \n",
              "1      202003312300   100  도심권  111131   용산구             55              52   \n",
              "2      202003312300   100  도심권  111121    중구             43              43   \n",
              "3      202003312300   101  서북권  111181   은평구             51              54   \n",
              "4      202003312300   101  서북권  111191  서대문구             58              57   \n",
              "...             ...   ...  ...     ...   ...            ...             ...   \n",
              "18595  202003010000   103  서남권  111231  영등포구             33              29   \n",
              "18596  202003010000   104  동남권  111261   강남구             26              25   \n",
              "18597  202003010000   104  동남권  111262   서초구             46              35   \n",
              "18598  202003010000   104  동남권  111274   강동구             36              31   \n",
              "18599  202003010000   104  동남권  111273   송파구             31              30   \n",
              "\n",
              "       초미세먼지(㎍/㎥)  오존(ppm)  이산화질소농도(ppm)  일산화탄소농도(ppm)  아황산가스농도(ppm)  \n",
              "0              22    0.036         0.018           0.4         0.004  \n",
              "1              21    0.024         0.033           0.5         0.003  \n",
              "2              24    0.034         0.020           0.4         0.003  \n",
              "3              18    0.047         0.010           0.3         0.003  \n",
              "4              21    0.047         0.012           0.6         0.003  \n",
              "...           ...      ...           ...           ...           ...  \n",
              "18595          23    0.002         0.050           0.8         0.003  \n",
              "18596          19    0.008         0.046           0.7         0.002  \n",
              "18597          27    0.007         0.054           0.5         0.003  \n",
              "18598          22    0.002         0.043           0.6         0.002  \n",
              "18599          21    0.002         0.047           1.3         0.003  \n",
              "\n",
              "[18600 rows x 12 columns]"
            ],
            "text/html": [
              "\n",
              "  <div id=\"df-e5a32551-789e-42f3-baab-6f39a5b4c7cd\">\n",
              "    <div class=\"colab-df-container\">\n",
              "      <div>\n",
              "<style scoped>\n",
              "    .dataframe tbody tr th:only-of-type {\n",
              "        vertical-align: middle;\n",
              "    }\n",
              "\n",
              "    .dataframe tbody tr th {\n",
              "        vertical-align: top;\n",
              "    }\n",
              "\n",
              "    .dataframe thead th {\n",
              "        text-align: right;\n",
              "    }\n",
              "</style>\n",
              "<table border=\"1\" class=\"dataframe\">\n",
              "  <thead>\n",
              "    <tr style=\"text-align: right;\">\n",
              "      <th></th>\n",
              "      <th>측정일시</th>\n",
              "      <th>권역코드</th>\n",
              "      <th>권역명</th>\n",
              "      <th>측정소코드</th>\n",
              "      <th>측정소명</th>\n",
              "      <th>미세먼지 1시간(㎍/㎥)</th>\n",
              "      <th>미세먼지 24시간(㎍/㎥)</th>\n",
              "      <th>초미세먼지(㎍/㎥)</th>\n",
              "      <th>오존(ppm)</th>\n",
              "      <th>이산화질소농도(ppm)</th>\n",
              "      <th>일산화탄소농도(ppm)</th>\n",
              "      <th>아황산가스농도(ppm)</th>\n",
              "    </tr>\n",
              "  </thead>\n",
              "  <tbody>\n",
              "    <tr>\n",
              "      <th>0</th>\n",
              "      <td>202003312300</td>\n",
              "      <td>100</td>\n",
              "      <td>도심권</td>\n",
              "      <td>111123</td>\n",
              "      <td>종로구</td>\n",
              "      <td>47</td>\n",
              "      <td>48</td>\n",
              "      <td>22</td>\n",
              "      <td>0.036</td>\n",
              "      <td>0.018</td>\n",
              "      <td>0.4</td>\n",
              "      <td>0.004</td>\n",
              "    </tr>\n",
              "    <tr>\n",
              "      <th>1</th>\n",
              "      <td>202003312300</td>\n",
              "      <td>100</td>\n",
              "      <td>도심권</td>\n",
              "      <td>111131</td>\n",
              "      <td>용산구</td>\n",
              "      <td>55</td>\n",
              "      <td>52</td>\n",
              "      <td>21</td>\n",
              "      <td>0.024</td>\n",
              "      <td>0.033</td>\n",
              "      <td>0.5</td>\n",
              "      <td>0.003</td>\n",
              "    </tr>\n",
              "    <tr>\n",
              "      <th>2</th>\n",
              "      <td>202003312300</td>\n",
              "      <td>100</td>\n",
              "      <td>도심권</td>\n",
              "      <td>111121</td>\n",
              "      <td>중구</td>\n",
              "      <td>43</td>\n",
              "      <td>43</td>\n",
              "      <td>24</td>\n",
              "      <td>0.034</td>\n",
              "      <td>0.020</td>\n",
              "      <td>0.4</td>\n",
              "      <td>0.003</td>\n",
              "    </tr>\n",
              "    <tr>\n",
              "      <th>3</th>\n",
              "      <td>202003312300</td>\n",
              "      <td>101</td>\n",
              "      <td>서북권</td>\n",
              "      <td>111181</td>\n",
              "      <td>은평구</td>\n",
              "      <td>51</td>\n",
              "      <td>54</td>\n",
              "      <td>18</td>\n",
              "      <td>0.047</td>\n",
              "      <td>0.010</td>\n",
              "      <td>0.3</td>\n",
              "      <td>0.003</td>\n",
              "    </tr>\n",
              "    <tr>\n",
              "      <th>4</th>\n",
              "      <td>202003312300</td>\n",
              "      <td>101</td>\n",
              "      <td>서북권</td>\n",
              "      <td>111191</td>\n",
              "      <td>서대문구</td>\n",
              "      <td>58</td>\n",
              "      <td>57</td>\n",
              "      <td>21</td>\n",
              "      <td>0.047</td>\n",
              "      <td>0.012</td>\n",
              "      <td>0.6</td>\n",
              "      <td>0.003</td>\n",
              "    </tr>\n",
              "    <tr>\n",
              "      <th>...</th>\n",
              "      <td>...</td>\n",
              "      <td>...</td>\n",
              "      <td>...</td>\n",
              "      <td>...</td>\n",
              "      <td>...</td>\n",
              "      <td>...</td>\n",
              "      <td>...</td>\n",
              "      <td>...</td>\n",
              "      <td>...</td>\n",
              "      <td>...</td>\n",
              "      <td>...</td>\n",
              "      <td>...</td>\n",
              "    </tr>\n",
              "    <tr>\n",
              "      <th>18595</th>\n",
              "      <td>202003010000</td>\n",
              "      <td>103</td>\n",
              "      <td>서남권</td>\n",
              "      <td>111231</td>\n",
              "      <td>영등포구</td>\n",
              "      <td>33</td>\n",
              "      <td>29</td>\n",
              "      <td>23</td>\n",
              "      <td>0.002</td>\n",
              "      <td>0.050</td>\n",
              "      <td>0.8</td>\n",
              "      <td>0.003</td>\n",
              "    </tr>\n",
              "    <tr>\n",
              "      <th>18596</th>\n",
              "      <td>202003010000</td>\n",
              "      <td>104</td>\n",
              "      <td>동남권</td>\n",
              "      <td>111261</td>\n",
              "      <td>강남구</td>\n",
              "      <td>26</td>\n",
              "      <td>25</td>\n",
              "      <td>19</td>\n",
              "      <td>0.008</td>\n",
              "      <td>0.046</td>\n",
              "      <td>0.7</td>\n",
              "      <td>0.002</td>\n",
              "    </tr>\n",
              "    <tr>\n",
              "      <th>18597</th>\n",
              "      <td>202003010000</td>\n",
              "      <td>104</td>\n",
              "      <td>동남권</td>\n",
              "      <td>111262</td>\n",
              "      <td>서초구</td>\n",
              "      <td>46</td>\n",
              "      <td>35</td>\n",
              "      <td>27</td>\n",
              "      <td>0.007</td>\n",
              "      <td>0.054</td>\n",
              "      <td>0.5</td>\n",
              "      <td>0.003</td>\n",
              "    </tr>\n",
              "    <tr>\n",
              "      <th>18598</th>\n",
              "      <td>202003010000</td>\n",
              "      <td>104</td>\n",
              "      <td>동남권</td>\n",
              "      <td>111274</td>\n",
              "      <td>강동구</td>\n",
              "      <td>36</td>\n",
              "      <td>31</td>\n",
              "      <td>22</td>\n",
              "      <td>0.002</td>\n",
              "      <td>0.043</td>\n",
              "      <td>0.6</td>\n",
              "      <td>0.002</td>\n",
              "    </tr>\n",
              "    <tr>\n",
              "      <th>18599</th>\n",
              "      <td>202003010000</td>\n",
              "      <td>104</td>\n",
              "      <td>동남권</td>\n",
              "      <td>111273</td>\n",
              "      <td>송파구</td>\n",
              "      <td>31</td>\n",
              "      <td>30</td>\n",
              "      <td>21</td>\n",
              "      <td>0.002</td>\n",
              "      <td>0.047</td>\n",
              "      <td>1.3</td>\n",
              "      <td>0.003</td>\n",
              "    </tr>\n",
              "  </tbody>\n",
              "</table>\n",
              "<p>18600 rows × 12 columns</p>\n",
              "</div>\n",
              "      <button class=\"colab-df-convert\" onclick=\"convertToInteractive('df-e5a32551-789e-42f3-baab-6f39a5b4c7cd')\"\n",
              "              title=\"Convert this dataframe to an interactive table.\"\n",
              "              style=\"display:none;\">\n",
              "        \n",
              "  <svg xmlns=\"http://www.w3.org/2000/svg\" height=\"24px\"viewBox=\"0 0 24 24\"\n",
              "       width=\"24px\">\n",
              "    <path d=\"M0 0h24v24H0V0z\" fill=\"none\"/>\n",
              "    <path d=\"M18.56 5.44l.94 2.06.94-2.06 2.06-.94-2.06-.94-.94-2.06-.94 2.06-2.06.94zm-11 1L8.5 8.5l.94-2.06 2.06-.94-2.06-.94L8.5 2.5l-.94 2.06-2.06.94zm10 10l.94 2.06.94-2.06 2.06-.94-2.06-.94-.94-2.06-.94 2.06-2.06.94z\"/><path d=\"M17.41 7.96l-1.37-1.37c-.4-.4-.92-.59-1.43-.59-.52 0-1.04.2-1.43.59L10.3 9.45l-7.72 7.72c-.78.78-.78 2.05 0 2.83L4 21.41c.39.39.9.59 1.41.59.51 0 1.02-.2 1.41-.59l7.78-7.78 2.81-2.81c.8-.78.8-2.07 0-2.86zM5.41 20L4 18.59l7.72-7.72 1.47 1.35L5.41 20z\"/>\n",
              "  </svg>\n",
              "      </button>\n",
              "      \n",
              "  <style>\n",
              "    .colab-df-container {\n",
              "      display:flex;\n",
              "      flex-wrap:wrap;\n",
              "      gap: 12px;\n",
              "    }\n",
              "\n",
              "    .colab-df-convert {\n",
              "      background-color: #E8F0FE;\n",
              "      border: none;\n",
              "      border-radius: 50%;\n",
              "      cursor: pointer;\n",
              "      display: none;\n",
              "      fill: #1967D2;\n",
              "      height: 32px;\n",
              "      padding: 0 0 0 0;\n",
              "      width: 32px;\n",
              "    }\n",
              "\n",
              "    .colab-df-convert:hover {\n",
              "      background-color: #E2EBFA;\n",
              "      box-shadow: 0px 1px 2px rgba(60, 64, 67, 0.3), 0px 1px 3px 1px rgba(60, 64, 67, 0.15);\n",
              "      fill: #174EA6;\n",
              "    }\n",
              "\n",
              "    [theme=dark] .colab-df-convert {\n",
              "      background-color: #3B4455;\n",
              "      fill: #D2E3FC;\n",
              "    }\n",
              "\n",
              "    [theme=dark] .colab-df-convert:hover {\n",
              "      background-color: #434B5C;\n",
              "      box-shadow: 0px 1px 3px 1px rgba(0, 0, 0, 0.15);\n",
              "      filter: drop-shadow(0px 1px 2px rgba(0, 0, 0, 0.3));\n",
              "      fill: #FFFFFF;\n",
              "    }\n",
              "  </style>\n",
              "\n",
              "      <script>\n",
              "        const buttonEl =\n",
              "          document.querySelector('#df-e5a32551-789e-42f3-baab-6f39a5b4c7cd button.colab-df-convert');\n",
              "        buttonEl.style.display =\n",
              "          google.colab.kernel.accessAllowed ? 'block' : 'none';\n",
              "\n",
              "        async function convertToInteractive(key) {\n",
              "          const element = document.querySelector('#df-e5a32551-789e-42f3-baab-6f39a5b4c7cd');\n",
              "          const dataTable =\n",
              "            await google.colab.kernel.invokeFunction('convertToInteractive',\n",
              "                                                     [key], {});\n",
              "          if (!dataTable) return;\n",
              "\n",
              "          const docLinkHtml = 'Like what you see? Visit the ' +\n",
              "            '<a target=\"_blank\" href=https://colab.research.google.com/notebooks/data_table.ipynb>data table notebook</a>'\n",
              "            + ' to learn more about interactive tables.';\n",
              "          element.innerHTML = '';\n",
              "          dataTable['output_type'] = 'display_data';\n",
              "          await google.colab.output.renderOutput(dataTable, element);\n",
              "          const docLink = document.createElement('div');\n",
              "          docLink.innerHTML = docLinkHtml;\n",
              "          element.appendChild(docLink);\n",
              "        }\n",
              "      </script>\n",
              "    </div>\n",
              "  </div>\n",
              "  "
            ]
          },
          "metadata": {},
          "execution_count": 244
        }
      ]
    },
    {
      "cell_type": "markdown",
      "source": [
        "##### **Q1. `df`의 row는 모두 몇 개인지 쓰세요.**"
      ],
      "metadata": {
        "id": "F_ecLvyM3URQ"
      }
    },
    {
      "cell_type": "code",
      "source": [
        "df=data[data['측정소명'] == '송파구']\n",
        "df=df.reset_index(drop=True)\n",
        "df"
      ],
      "metadata": {
        "colab": {
          "base_uri": "https://localhost:8080/",
          "height": 424
        },
        "id": "i3_Anx2h1W1H",
        "outputId": "4ca05cec-3412-4613-dbae-762772ab815f"
      },
      "execution_count": 245,
      "outputs": [
        {
          "output_type": "execute_result",
          "data": {
            "text/plain": [
              "             측정일시  권역코드  권역명   측정소코드 측정소명  미세먼지 1시간(㎍/㎥)  미세먼지 24시간(㎍/㎥)  \\\n",
              "0    202003312300   104  동남권  111273  송파구             49              47   \n",
              "1    202003312200   104  동남권  111273  송파구             41              48   \n",
              "2    202003312100   104  동남권  111273  송파구             42              50   \n",
              "3    202003312000   104  동남권  111273  송파구             43              54   \n",
              "4    202003311900   104  동남권  111273  송파구             52              55   \n",
              "..            ...   ...  ...     ...  ...            ...             ...   \n",
              "739  202003010400   104  동남권  111273  송파구             30              30   \n",
              "740  202003010300   104  동남권  111273  송파구             31              30   \n",
              "741  202003010200   104  동남권  111273  송파구             29              30   \n",
              "742  202003010100   104  동남권  111273  송파구             30              30   \n",
              "743  202003010000   104  동남권  111273  송파구             31              30   \n",
              "\n",
              "     초미세먼지(㎍/㎥)  오존(ppm)  이산화질소농도(ppm)  일산화탄소농도(ppm)  아황산가스농도(ppm)  \n",
              "0            23    0.020         0.044           0.5         0.004  \n",
              "1            19    0.021         0.045           0.6         0.004  \n",
              "2            17    0.025         0.042           0.6         0.004  \n",
              "3            18    0.032         0.040           0.5         0.004  \n",
              "4            22    0.034         0.045           0.5         0.004  \n",
              "..          ...      ...           ...           ...           ...  \n",
              "739          21    0.002         0.039           1.2         0.002  \n",
              "740          20    0.002         0.040           1.2         0.002  \n",
              "741          21    0.002         0.042           1.1         0.002  \n",
              "742          20    0.002         0.042           1.1         0.002  \n",
              "743          21    0.002         0.047           1.3         0.003  \n",
              "\n",
              "[744 rows x 12 columns]"
            ],
            "text/html": [
              "\n",
              "  <div id=\"df-9f0baf81-865b-4e6d-bf49-372ad437075c\">\n",
              "    <div class=\"colab-df-container\">\n",
              "      <div>\n",
              "<style scoped>\n",
              "    .dataframe tbody tr th:only-of-type {\n",
              "        vertical-align: middle;\n",
              "    }\n",
              "\n",
              "    .dataframe tbody tr th {\n",
              "        vertical-align: top;\n",
              "    }\n",
              "\n",
              "    .dataframe thead th {\n",
              "        text-align: right;\n",
              "    }\n",
              "</style>\n",
              "<table border=\"1\" class=\"dataframe\">\n",
              "  <thead>\n",
              "    <tr style=\"text-align: right;\">\n",
              "      <th></th>\n",
              "      <th>측정일시</th>\n",
              "      <th>권역코드</th>\n",
              "      <th>권역명</th>\n",
              "      <th>측정소코드</th>\n",
              "      <th>측정소명</th>\n",
              "      <th>미세먼지 1시간(㎍/㎥)</th>\n",
              "      <th>미세먼지 24시간(㎍/㎥)</th>\n",
              "      <th>초미세먼지(㎍/㎥)</th>\n",
              "      <th>오존(ppm)</th>\n",
              "      <th>이산화질소농도(ppm)</th>\n",
              "      <th>일산화탄소농도(ppm)</th>\n",
              "      <th>아황산가스농도(ppm)</th>\n",
              "    </tr>\n",
              "  </thead>\n",
              "  <tbody>\n",
              "    <tr>\n",
              "      <th>0</th>\n",
              "      <td>202003312300</td>\n",
              "      <td>104</td>\n",
              "      <td>동남권</td>\n",
              "      <td>111273</td>\n",
              "      <td>송파구</td>\n",
              "      <td>49</td>\n",
              "      <td>47</td>\n",
              "      <td>23</td>\n",
              "      <td>0.020</td>\n",
              "      <td>0.044</td>\n",
              "      <td>0.5</td>\n",
              "      <td>0.004</td>\n",
              "    </tr>\n",
              "    <tr>\n",
              "      <th>1</th>\n",
              "      <td>202003312200</td>\n",
              "      <td>104</td>\n",
              "      <td>동남권</td>\n",
              "      <td>111273</td>\n",
              "      <td>송파구</td>\n",
              "      <td>41</td>\n",
              "      <td>48</td>\n",
              "      <td>19</td>\n",
              "      <td>0.021</td>\n",
              "      <td>0.045</td>\n",
              "      <td>0.6</td>\n",
              "      <td>0.004</td>\n",
              "    </tr>\n",
              "    <tr>\n",
              "      <th>2</th>\n",
              "      <td>202003312100</td>\n",
              "      <td>104</td>\n",
              "      <td>동남권</td>\n",
              "      <td>111273</td>\n",
              "      <td>송파구</td>\n",
              "      <td>42</td>\n",
              "      <td>50</td>\n",
              "      <td>17</td>\n",
              "      <td>0.025</td>\n",
              "      <td>0.042</td>\n",
              "      <td>0.6</td>\n",
              "      <td>0.004</td>\n",
              "    </tr>\n",
              "    <tr>\n",
              "      <th>3</th>\n",
              "      <td>202003312000</td>\n",
              "      <td>104</td>\n",
              "      <td>동남권</td>\n",
              "      <td>111273</td>\n",
              "      <td>송파구</td>\n",
              "      <td>43</td>\n",
              "      <td>54</td>\n",
              "      <td>18</td>\n",
              "      <td>0.032</td>\n",
              "      <td>0.040</td>\n",
              "      <td>0.5</td>\n",
              "      <td>0.004</td>\n",
              "    </tr>\n",
              "    <tr>\n",
              "      <th>4</th>\n",
              "      <td>202003311900</td>\n",
              "      <td>104</td>\n",
              "      <td>동남권</td>\n",
              "      <td>111273</td>\n",
              "      <td>송파구</td>\n",
              "      <td>52</td>\n",
              "      <td>55</td>\n",
              "      <td>22</td>\n",
              "      <td>0.034</td>\n",
              "      <td>0.045</td>\n",
              "      <td>0.5</td>\n",
              "      <td>0.004</td>\n",
              "    </tr>\n",
              "    <tr>\n",
              "      <th>...</th>\n",
              "      <td>...</td>\n",
              "      <td>...</td>\n",
              "      <td>...</td>\n",
              "      <td>...</td>\n",
              "      <td>...</td>\n",
              "      <td>...</td>\n",
              "      <td>...</td>\n",
              "      <td>...</td>\n",
              "      <td>...</td>\n",
              "      <td>...</td>\n",
              "      <td>...</td>\n",
              "      <td>...</td>\n",
              "    </tr>\n",
              "    <tr>\n",
              "      <th>739</th>\n",
              "      <td>202003010400</td>\n",
              "      <td>104</td>\n",
              "      <td>동남권</td>\n",
              "      <td>111273</td>\n",
              "      <td>송파구</td>\n",
              "      <td>30</td>\n",
              "      <td>30</td>\n",
              "      <td>21</td>\n",
              "      <td>0.002</td>\n",
              "      <td>0.039</td>\n",
              "      <td>1.2</td>\n",
              "      <td>0.002</td>\n",
              "    </tr>\n",
              "    <tr>\n",
              "      <th>740</th>\n",
              "      <td>202003010300</td>\n",
              "      <td>104</td>\n",
              "      <td>동남권</td>\n",
              "      <td>111273</td>\n",
              "      <td>송파구</td>\n",
              "      <td>31</td>\n",
              "      <td>30</td>\n",
              "      <td>20</td>\n",
              "      <td>0.002</td>\n",
              "      <td>0.040</td>\n",
              "      <td>1.2</td>\n",
              "      <td>0.002</td>\n",
              "    </tr>\n",
              "    <tr>\n",
              "      <th>741</th>\n",
              "      <td>202003010200</td>\n",
              "      <td>104</td>\n",
              "      <td>동남권</td>\n",
              "      <td>111273</td>\n",
              "      <td>송파구</td>\n",
              "      <td>29</td>\n",
              "      <td>30</td>\n",
              "      <td>21</td>\n",
              "      <td>0.002</td>\n",
              "      <td>0.042</td>\n",
              "      <td>1.1</td>\n",
              "      <td>0.002</td>\n",
              "    </tr>\n",
              "    <tr>\n",
              "      <th>742</th>\n",
              "      <td>202003010100</td>\n",
              "      <td>104</td>\n",
              "      <td>동남권</td>\n",
              "      <td>111273</td>\n",
              "      <td>송파구</td>\n",
              "      <td>30</td>\n",
              "      <td>30</td>\n",
              "      <td>20</td>\n",
              "      <td>0.002</td>\n",
              "      <td>0.042</td>\n",
              "      <td>1.1</td>\n",
              "      <td>0.002</td>\n",
              "    </tr>\n",
              "    <tr>\n",
              "      <th>743</th>\n",
              "      <td>202003010000</td>\n",
              "      <td>104</td>\n",
              "      <td>동남권</td>\n",
              "      <td>111273</td>\n",
              "      <td>송파구</td>\n",
              "      <td>31</td>\n",
              "      <td>30</td>\n",
              "      <td>21</td>\n",
              "      <td>0.002</td>\n",
              "      <td>0.047</td>\n",
              "      <td>1.3</td>\n",
              "      <td>0.003</td>\n",
              "    </tr>\n",
              "  </tbody>\n",
              "</table>\n",
              "<p>744 rows × 12 columns</p>\n",
              "</div>\n",
              "      <button class=\"colab-df-convert\" onclick=\"convertToInteractive('df-9f0baf81-865b-4e6d-bf49-372ad437075c')\"\n",
              "              title=\"Convert this dataframe to an interactive table.\"\n",
              "              style=\"display:none;\">\n",
              "        \n",
              "  <svg xmlns=\"http://www.w3.org/2000/svg\" height=\"24px\"viewBox=\"0 0 24 24\"\n",
              "       width=\"24px\">\n",
              "    <path d=\"M0 0h24v24H0V0z\" fill=\"none\"/>\n",
              "    <path d=\"M18.56 5.44l.94 2.06.94-2.06 2.06-.94-2.06-.94-.94-2.06-.94 2.06-2.06.94zm-11 1L8.5 8.5l.94-2.06 2.06-.94-2.06-.94L8.5 2.5l-.94 2.06-2.06.94zm10 10l.94 2.06.94-2.06 2.06-.94-2.06-.94-.94-2.06-.94 2.06-2.06.94z\"/><path d=\"M17.41 7.96l-1.37-1.37c-.4-.4-.92-.59-1.43-.59-.52 0-1.04.2-1.43.59L10.3 9.45l-7.72 7.72c-.78.78-.78 2.05 0 2.83L4 21.41c.39.39.9.59 1.41.59.51 0 1.02-.2 1.41-.59l7.78-7.78 2.81-2.81c.8-.78.8-2.07 0-2.86zM5.41 20L4 18.59l7.72-7.72 1.47 1.35L5.41 20z\"/>\n",
              "  </svg>\n",
              "      </button>\n",
              "      \n",
              "  <style>\n",
              "    .colab-df-container {\n",
              "      display:flex;\n",
              "      flex-wrap:wrap;\n",
              "      gap: 12px;\n",
              "    }\n",
              "\n",
              "    .colab-df-convert {\n",
              "      background-color: #E8F0FE;\n",
              "      border: none;\n",
              "      border-radius: 50%;\n",
              "      cursor: pointer;\n",
              "      display: none;\n",
              "      fill: #1967D2;\n",
              "      height: 32px;\n",
              "      padding: 0 0 0 0;\n",
              "      width: 32px;\n",
              "    }\n",
              "\n",
              "    .colab-df-convert:hover {\n",
              "      background-color: #E2EBFA;\n",
              "      box-shadow: 0px 1px 2px rgba(60, 64, 67, 0.3), 0px 1px 3px 1px rgba(60, 64, 67, 0.15);\n",
              "      fill: #174EA6;\n",
              "    }\n",
              "\n",
              "    [theme=dark] .colab-df-convert {\n",
              "      background-color: #3B4455;\n",
              "      fill: #D2E3FC;\n",
              "    }\n",
              "\n",
              "    [theme=dark] .colab-df-convert:hover {\n",
              "      background-color: #434B5C;\n",
              "      box-shadow: 0px 1px 3px 1px rgba(0, 0, 0, 0.15);\n",
              "      filter: drop-shadow(0px 1px 2px rgba(0, 0, 0, 0.3));\n",
              "      fill: #FFFFFF;\n",
              "    }\n",
              "  </style>\n",
              "\n",
              "      <script>\n",
              "        const buttonEl =\n",
              "          document.querySelector('#df-9f0baf81-865b-4e6d-bf49-372ad437075c button.colab-df-convert');\n",
              "        buttonEl.style.display =\n",
              "          google.colab.kernel.accessAllowed ? 'block' : 'none';\n",
              "\n",
              "        async function convertToInteractive(key) {\n",
              "          const element = document.querySelector('#df-9f0baf81-865b-4e6d-bf49-372ad437075c');\n",
              "          const dataTable =\n",
              "            await google.colab.kernel.invokeFunction('convertToInteractive',\n",
              "                                                     [key], {});\n",
              "          if (!dataTable) return;\n",
              "\n",
              "          const docLinkHtml = 'Like what you see? Visit the ' +\n",
              "            '<a target=\"_blank\" href=https://colab.research.google.com/notebooks/data_table.ipynb>data table notebook</a>'\n",
              "            + ' to learn more about interactive tables.';\n",
              "          element.innerHTML = '';\n",
              "          dataTable['output_type'] = 'display_data';\n",
              "          await google.colab.output.renderOutput(dataTable, element);\n",
              "          const docLink = document.createElement('div');\n",
              "          docLink.innerHTML = docLinkHtml;\n",
              "          element.appendChild(docLink);\n",
              "        }\n",
              "      </script>\n",
              "    </div>\n",
              "  </div>\n",
              "  "
            ]
          },
          "metadata": {},
          "execution_count": 245
        }
      ]
    },
    {
      "cell_type": "markdown",
      "source": [
        "## **Part 2. 큰 수의 법칙**\n",
        "\n",
        "표본 크기가 커질수록 표본평균이 모평균에 가까워지는 것을 확인합니다. "
      ],
      "metadata": {
        "id": "PR5Hrf4MmFH-"
      }
    },
    {
      "cell_type": "markdown",
      "source": [
        "### **2-1. 모평균**\n",
        "- `df['오존(ppm)']`을 추출하여 변수 `pop`에 저장합니다. 우리는 `pop`을 모집단이라 가정한 뒤 분석을 진행합니다. \n",
        "- 모평균을 `pop_mean`에 저장하세요. "
      ],
      "metadata": {
        "id": "a-b9PfV2N-n0"
      }
    },
    {
      "cell_type": "markdown",
      "source": [
        "##### **Q2. 모평균을 반올림하여 소수점 둘째 자리까지 쓰세요.**"
      ],
      "metadata": {
        "id": "yUduo9Xq3UGt"
      }
    },
    {
      "cell_type": "code",
      "source": [
        "pop = df['오존(ppm)']\n",
        "pop_mean = pop.mean()\n",
        "round(pop_mean,2)"
      ],
      "metadata": {
        "id": "o_xMP8e04tGa",
        "colab": {
          "base_uri": "https://localhost:8080/"
        },
        "outputId": "9f938871-9766-41fe-dbb3-1cd11dcaf0b3"
      },
      "execution_count": 246,
      "outputs": [
        {
          "output_type": "execute_result",
          "data": {
            "text/plain": [
              "0.02"
            ]
          },
          "metadata": {},
          "execution_count": 246
        }
      ]
    },
    {
      "cell_type": "markdown",
      "source": [
        "### **2-2. 표본 크기에 따른 표본 평균**\n",
        "- 모집단에서 10개의 데이터를 추출하여 평균을 `sample_10_mean`에 저장하세요.\n",
        "- 모집단에서 200개의 데이터를 추출하여 평균을 `sample_200_mean`에 저장하세요. \n",
        "- 데이터를 추출할 때, [`.sample()`](https://pandas.pydata.org/docs/reference/api/pandas.DataFrame.sample.html) 함수를 활용하세요. \n",
        "  - `random_state=2`로 설정합니다. \n",
        "  - 중복 추출을 허용합니다. "
      ],
      "metadata": {
        "id": "SbuWKioKOyMe"
      }
    },
    {
      "cell_type": "markdown",
      "source": [
        "##### **Q3. 모평균과 표본 크기가 10인 표본의 평균의 차의 절댓값을 $a$, 모평균과 표본 크기가 200인 표본의 평균의 차의 절댓값을 $b$라 할 때, $a \\over b$의 값을 반올림하여 소수점 둘째 자리까지 구하세요.**"
      ],
      "metadata": {
        "id": "YMfQq5_XkhuR"
      }
    },
    {
      "cell_type": "code",
      "source": [
        "sample_10 = pop.sample(10,random_state=2,replace=True)\n",
        "sample_10_mean = sample_10.mean()"
      ],
      "metadata": {
        "id": "FGSGlyrNnGwN"
      },
      "execution_count": 247,
      "outputs": []
    },
    {
      "cell_type": "code",
      "source": [
        "sample_200 = pop.sample(200,random_state=2,replace=True)\n",
        "sample_200_mean = sample_200.mean()"
      ],
      "metadata": {
        "id": "097YLTik5DDf"
      },
      "execution_count": 248,
      "outputs": []
    },
    {
      "cell_type": "code",
      "source": [
        "round((abs(pop_mean-sample_10_mean) / abs(pop_mean-sample_200_mean)),2)"
      ],
      "metadata": {
        "colab": {
          "base_uri": "https://localhost:8080/"
        },
        "id": "PMbJ456A5nn9",
        "outputId": "6f4e51f8-3b61-4bc3-d601-0ebac4af8303"
      },
      "execution_count": 249,
      "outputs": [
        {
          "output_type": "execute_result",
          "data": {
            "text/plain": [
              "13.75"
            ]
          },
          "metadata": {},
          "execution_count": 249
        }
      ]
    },
    {
      "cell_type": "markdown",
      "source": [
        "### **2-3. 시각화**\n",
        "- 다음 시각화를 구현하세요.  <br>\n",
        "  <img src = 'https://i.imgur.com/cC8DaP1.png'>"
      ],
      "metadata": {
        "id": "XTMoR0gMO-xN"
      }
    },
    {
      "cell_type": "markdown",
      "source": [
        "##### **Q4. 주어진 시각화와 같이 히스토그램을 나타내려고 합니다. `plt.hist()`를 활용할 때, `()`안에 들어갈 인자는 무엇일까요?**\n",
        "- 모집단의 데이터 분포\n",
        "- 표본 크기가 10인 표본의 데이터 분포\n",
        "- 표본 크기가 200인 표본의 데이터 분포 \n",
        "- 표본 크기가 10인 표본의 평균의 분포\n",
        "- 표본 크기가 200인 표본의 평균의 분포 "
      ],
      "metadata": {
        "id": "fdwovFYBmzNK"
      }
    },
    {
      "cell_type": "code",
      "source": [
        "import matplotlib.pyplot as plt\n",
        "plt.figure(figsize=(8,5))\n",
        "plt.hist(pop, alpha=0.5)\n",
        "plt.axvline(pop_mean, c='red', lw=2, label='Population Mean')\n",
        "plt.axvline(sample_10_mean, c='green', lw=2, label='Mean of Sample Size 10')\n",
        "plt.axvline(sample_200_mean, c='yellow', lw=2, label='Mean of Sample Size 200')\n",
        "plt.legend();"
      ],
      "metadata": {
        "id": "Wf_j1dw7XfxS",
        "colab": {
          "base_uri": "https://localhost:8080/",
          "height": 320
        },
        "outputId": "0bdd9bdd-fe48-471d-ad56-105409368fbe"
      },
      "execution_count": 250,
      "outputs": [
        {
          "output_type": "display_data",
          "data": {
            "text/plain": [
              "<Figure size 576x360 with 1 Axes>"
            ],
            "image/png": "[encoded data removed]"
          },
          "metadata": {
            "needs_background": "light"
          }
        }
      ]
    },
    {
      "cell_type": "markdown",
      "source": [
        "## **Part 3. 중심극한정리**\n",
        "\n",
        "표본들의 평균 분포가 정규분포를 이루는지 다음 순서에 따라 확인합니다.  \n",
        "\n",
        "1. numpy의 `random.choice()` 함수를 활용하여 `df['오존(ppm)']`에서 20개의 데이터를 추출합니다.\n",
        "  - 중복 추출을 허용합니다. \n",
        "2. 20개의 데이터의 평균을 계산하여 리스트 `s1`에 저장합니다. \n",
        "3. 1~2 과정을 `for loop`을 이용하여 10,000번 반복합니다. 즉, `s1`에는 10,000번 추출된 20개의 데이터의 평균값이 저장됩니다. \n",
        "4. 평균값들의 분포를 `seaborn.kdeplot()`을 활용하여 시각화 하세요. <br>\n",
        "  https://seaborn.pydata.org/generated/seaborn.kdeplot.html"
      ],
      "metadata": {
        "id": "QjjcAoJDAyfq"
      }
    },
    {
      "cell_type": "markdown",
      "source": [
        "##### **Q5. 평균 값들의 분포를 시각화한 결과는 어떤 모습일까요?**"
      ],
      "metadata": {
        "id": "pvAwpZCxxl9V"
      }
    },
    {
      "cell_type": "code",
      "source": [
        "np.random.seed(1)\n",
        "sample=np.random.choice(pop,20,replace=True)\n",
        "sample"
      ],
      "metadata": {
        "id": "XS_7GYs8gfey",
        "colab": {
          "base_uri": "https://localhost:8080/"
        },
        "outputId": "4cf53ed4-9999-4785-c61b-61c918f07089"
      },
      "execution_count": 251,
      "outputs": [
        {
          "output_type": "execute_result",
          "data": {
            "text/plain": [
              "array([0.023, 0.037, 0.023, 0.038, 0.033, 0.011, 0.056, 0.038, 0.016,\n",
              "       0.036, 0.007, 0.037, 0.018, 0.024, 0.022, 0.017, 0.033, 0.031,\n",
              "       0.038, 0.02 ])"
            ]
          },
          "metadata": {},
          "execution_count": 251
        }
      ]
    },
    {
      "cell_type": "code",
      "source": [
        "s1 = []\n",
        "s1.append(sample.mean())\n",
        "s1"
      ],
      "metadata": {
        "colab": {
          "base_uri": "https://localhost:8080/"
        },
        "id": "WER7wWpzV72L",
        "outputId": "7cac6636-4db9-42ed-de0f-c4277a4d74c8"
      },
      "execution_count": 252,
      "outputs": [
        {
          "output_type": "execute_result",
          "data": {
            "text/plain": [
              "[0.0279]"
            ]
          },
          "metadata": {},
          "execution_count": 252
        }
      ]
    },
    {
      "cell_type": "code",
      "source": [
        "np.random.seed(1)\n",
        "s1 = []\n",
        "for i in range(10000):\n",
        "  sample=np.random.choice(pop,20,replace=True)\n",
        "  s1.append(sample.mean())"
      ],
      "metadata": {
        "id": "5lcVckTnWGsM"
      },
      "execution_count": 253,
      "outputs": []
    },
    {
      "cell_type": "code",
      "source": [
        "import seaborn as sns\n",
        "sns.kdeplot(s1)"
      ],
      "metadata": {
        "colab": {
          "base_uri": "https://localhost:8080/",
          "height": 283
        },
        "id": "glKERPYWWgko",
        "outputId": "78e79893-3027-4dc0-e47e-f9de02b054ca"
      },
      "execution_count": 254,
      "outputs": [
        {
          "output_type": "execute_result",
          "data": {
            "text/plain": [
              "<matplotlib.axes._subplots.AxesSubplot at 0x7f705a292fa0>"
            ]
          },
          "metadata": {},
          "execution_count": 254
        },
        {
          "output_type": "display_data",
          "data": {
            "text/plain": [
              "<Figure size 432x288 with 1 Axes>"
            ],
            "image/png": "[encoded data removed]"
          },
          "metadata": {
            "needs_background": "light"
          }
        }
      ]
    },
    {
      "cell_type": "markdown",
      "source": [
        "## **Part 4. 신뢰구간**\n",
        "**Part 3** 에서 빌드한 표본 평균 분포에 대하여 모집단의 모수를 포함할 확률이 95%가 되는 구간을 시각화합니다. \n",
        "- 표본 평균의 평균은 초록 세로선으로, 신뢰구간 95% 구간은 빨간 세로선으로 나타내세요. "
      ],
      "metadata": {
        "id": "Hy0QfN5tlhAK"
      }
    },
    {
      "cell_type": "markdown",
      "source": [
        "##### **Q6. 95% 신뢰구간을 시각화한 결과는 어떤 모습일까요?**"
      ],
      "metadata": {
        "id": "6JGaQ5XTxhz_"
      }
    },
    {
      "cell_type": "code",
      "source": [
        "s1 = np.array(s1)\n",
        "s1_mean = s1.mean()\n",
        "s1_mean"
      ],
      "metadata": {
        "colab": {
          "base_uri": "https://localhost:8080/"
        },
        "id": "H93ajpneZ2Dg",
        "outputId": "88e8a9aa-3d6d-418b-d0c2-0550b428878c"
      },
      "execution_count": 255,
      "outputs": [
        {
          "output_type": "execute_result",
          "data": {
            "text/plain": [
              "0.023614205000000003"
            ]
          },
          "metadata": {},
          "execution_count": 255
        }
      ]
    },
    {
      "cell_type": "code",
      "source": [
        "lower, upper = round(np.percentile(s1, 2.5),4), round(np.percentile(s1, 97.5),4)\n",
        "lower,upper"
      ],
      "metadata": {
        "colab": {
          "base_uri": "https://localhost:8080/"
        },
        "id": "5Q64Hg4fanIz",
        "outputId": "1524986e-0232-4b94-f198-60c671c7bbb1"
      },
      "execution_count": 256,
      "outputs": [
        {
          "output_type": "execute_result",
          "data": {
            "text/plain": [
              "(0.0176, 0.0296)"
            ]
          },
          "metadata": {},
          "execution_count": 256
        }
      ]
    },
    {
      "cell_type": "code",
      "source": [
        "plt.figure(figsize=(10,5))\n",
        "plt.axvline(lower, c='red', label='95% Confidence Interval')\n",
        "plt.axvline(upper, c='red')\n",
        "plt.axvline(s1_mean, c='green', label='Mean')\n",
        "plt.legend(fontsize=8)\n",
        "sns.kdeplot(data=s1)"
      ],
      "metadata": {
        "id": "-iR5GlQeiqrU",
        "colab": {
          "base_uri": "https://localhost:8080/",
          "height": 338
        },
        "outputId": "2e3b7bd5-19f6-488a-e7a4-3dbbb6c81527"
      },
      "execution_count": 257,
      "outputs": [
        {
          "output_type": "execute_result",
          "data": {
            "text/plain": [
              "<matplotlib.axes._subplots.AxesSubplot at 0x7f705a10afa0>"
            ]
          },
          "metadata": {},
          "execution_count": 257
        },
        {
          "output_type": "display_data",
          "data": {
            "text/plain": [
              "<Figure size 720x360 with 1 Axes>"
            ],
            "image/png": "[encoded data removed]"
          },
          "metadata": {
            "needs_background": "light"
          }
        }
      ]
    },
    {
      "cell_type": "markdown",
      "source": [
        "# **🥇 도전 과제**\n",
        "\n",
        "> 2번에서 구한 두 표본 sample_10, sample_200을 계속 사용합니다.\n",
        "\n",
        "</br>\n",
        "\n",
        "- 한 표본의 신뢰구간을 수학적으로 다음 식과 같이 나타낼 수 있습니다. \n",
        "  > $\\bar{x} ± t \\cdot {s\\over \\sqrt{n}}$\n",
        "  - $\\bar{x}$ : 표본의 평균\n",
        "  - $t$ : t-value <br>\n",
        "    - [stats.t.ppf()](https://docs.scipy.org/doc/scipy/reference/generated/scipy.stats.t.html) 메소드를 활용해 구할 수 있습니다. 신뢰도(confidence level)는 95%로 합니다. \n",
        "    - 다음 [stackoverflow](https://stackoverflow.com/questions/67340028/how-to-use-t-ppf-which-are-the-arguments)를 참고하세요. \n",
        "  - $s$ : 표본의 표준편차\n",
        "  - $n$ : 데이터 수 \n",
        "\n",
        "- **신뢰구간 식과 `plt.bar()`를 사용하여 다음과 같은 신뢰구간 시각화를 그리세요.**\n",
        "\n",
        "  <img src = 'https://i.imgur.com/MpDSFtn.png'>\n",
        "\n",
        "- **위의 시각화로부터 도출할 수 있는 insight를 설명해 보세요.** "
      ],
      "metadata": {
        "id": "WbeZQk-vIh5c"
      }
    },
    {
      "cell_type": "code",
      "source": [
        "from scipy.stats import t\n",
        "import math\n",
        "\n",
        "upper_10=sample_10_mean + (t.ppf(0.975, len(sample_10)-1) * (sample_10.std()/math.sqrt(len(sample_10))))\n",
        "lower_10=sample_10_mean - (t.ppf(0.975, len(sample_10)-1) * (sample_10.std()/math.sqrt(len(sample_10))))\n",
        "\n",
        "upper_200=sample_200_mean + (t.ppf(0.975, len(sample_200)-1) * (sample_200.std()/math.sqrt(len(sample_200))))\n",
        "lower_200=sample_200_mean - (t.ppf(0.975, len(sample_200)-1) * (sample_200.std()/math.sqrt(len(sample_200))))\n",
        "\n",
        "plt.figure(figsize = (8,5))\n",
        "plt.bar('sample_10', sample_10_mean, yerr = ((upper_10 - lower_10)/2), capsize = 10)\n",
        "plt.bar('sample_200', sample_200_mean, yerr = ((upper_200 - lower_200)/2), capsize = 10)\n",
        "plt.axhline(y=pop_mean, color='blue', linestyle='--')"
      ],
      "metadata": {
        "colab": {
          "base_uri": "https://localhost:8080/",
          "height": 339
        },
        "id": "Xh07ZxPoym6E",
        "outputId": "3c89ccaa-bd42-4299-98fb-3b61a0159590"
      },
      "execution_count": 342,
      "outputs": [
        {
          "output_type": "execute_result",
          "data": {
            "text/plain": [
              "<matplotlib.lines.Line2D at 0x7f7058fcb430>"
            ]
          },
          "metadata": {},
          "execution_count": 342
        },
        {
          "output_type": "display_data",
          "data": {
            "text/plain": [
              "<Figure size 576x360 with 1 Axes>"
            ],
            "image/png": "[encoded data removed]"
          },
          "metadata": {
            "needs_background": "light"
          }
        }
      ]
    }
  ]
}