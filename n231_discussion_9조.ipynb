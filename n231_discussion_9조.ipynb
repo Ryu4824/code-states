{
  "nbformat": 4,
  "nbformat_minor": 0,
  "metadata": {
    "colab": {
      "provenance": [],
      "include_colab_link": true
    },
    "kernelspec": {
      "name": "python3",
      "display_name": "Python 3"
    },
    "language_info": {
      "name": "python"
    }
  },
  "cells": [
    {
      "cell_type": "markdown",
      "metadata": {
        "id": "view-in-github",
        "colab_type": "text"
      },
      "source": [
        "<a href=\"https://colab.research.google.com/github/Ryu4824/code-states/blob/main/n231_discussion_9%EC%A1%B0.ipynb\" target=\"_parent\"><img src=\"https://colab.research.google.com/assets/colab-badge.svg\" alt=\"Open In Colab\"/></a>"
      ]
    },
    {
      "cell_type": "markdown",
      "source": [
        "# **N231 Interpretable-ML-I**\n",
        "\n",
        "## 오늘의 목표\n",
        "- 트리기반 모델의\n",
        " MDI를 사용하여 특성의 중요도를 해석할 수 있습니다.\n",
        "- Permutation Importance를 사용하여 특성의 중요도를 해석할 수 있습니다."
      ],
      "metadata": {
        "id": "vGJWOZ7ttPSI"
      }
    },
    {
      "cell_type": "markdown",
      "source": [
        "## **개념 Topic**\n",
        "> 오늘은 다양한 특성 중요도 기법에 대해 배웠습니다.\n",
        "\n",
        "- 순열중요도를 한 문장으로 요약하여 설명해 보세요. \n",
        "  - 주요 키워드를 생각하면서 정리해보세요.\n",
        "  - 만약 설명이 어렵다면 어느 부분이 이해가 안 되는지 구체적인 질문을 동기들과 나눠보세요.\n",
        "- **Discussion** 표의 `정리` 탭에 답변을 정리하여 적어 주세요. "
      ],
      "metadata": {
        "id": "eNN5XUHLt_6P"
      }
    },
    {
      "cell_type": "code",
      "source": [
        "# 주어진 입력 변수들의 순서를 바꼈을 때, 모델의 성능 변화를 측정하여 각 변수가 모델에 미치는 영향력을 평가하는 방법\n",
        "# 특성의 변수를 무작위로 배열하여 관련도를 삭제시키고, 기본 데이터와 비교하여 중요도를 계산하는 방법\n",
        "## \n",
        "# 특성의 중요도는 엔지니어가 직접 판단하는 것이 중요하다."
      ],
      "metadata": {
        "id": "Ec0U68dcaj8i"
      },
      "execution_count": null,
      "outputs": []
    },
    {
      "cell_type": "markdown",
      "source": [
        "## **코딩 Topic**\n"
      ],
      "metadata": {
        "id": "LfnPKrNXulMt"
      }
    },
    {
      "cell_type": "code",
      "execution_count": null,
      "metadata": {
        "id": "fe2rLuittBfo",
        "colab": {
          "base_uri": "https://localhost:8080/"
        },
        "outputId": "8de137ad-6c4f-40de-f431-ebbd42f16ab8"
      },
      "outputs": [
        {
          "output_type": "stream",
          "name": "stdout",
          "text": [
            "Looking in indexes: https://pypi.org/simple, https://us-python.pkg.dev/colab-wheels/public/simple/\n",
            "Collecting category_encoders\n",
            "  Downloading category_encoders-2.6.0-py2.py3-none-any.whl (81 kB)\n",
            "\u001b[2K     \u001b[90m━━━━━━━━━━━━━━━━━━━━━━━━━━━━━━━━━━━━━━━━\u001b[0m \u001b[32m81.2/81.2 KB\u001b[0m \u001b[31m1.9 MB/s\u001b[0m eta \u001b[36m0:00:00\u001b[0m\n",
            "\u001b[?25hRequirement already satisfied: scikit-learn>=0.20.0 in /usr/local/lib/python3.9/dist-packages (from category_encoders) (1.2.2)\n",
            "Requirement already satisfied: scipy>=1.0.0 in /usr/local/lib/python3.9/dist-packages (from category_encoders) (1.10.1)\n",
            "Requirement already satisfied: pandas>=1.0.5 in /usr/local/lib/python3.9/dist-packages (from category_encoders) (1.4.4)\n",
            "Requirement already satisfied: numpy>=1.14.0 in /usr/local/lib/python3.9/dist-packages (from category_encoders) (1.22.4)\n",
            "Requirement already satisfied: patsy>=0.5.1 in /usr/local/lib/python3.9/dist-packages (from category_encoders) (0.5.3)\n",
            "Requirement already satisfied: statsmodels>=0.9.0 in /usr/local/lib/python3.9/dist-packages (from category_encoders) (0.13.5)\n",
            "Requirement already satisfied: pytz>=2020.1 in /usr/local/lib/python3.9/dist-packages (from pandas>=1.0.5->category_encoders) (2022.7.1)\n",
            "Requirement already satisfied: python-dateutil>=2.8.1 in /usr/local/lib/python3.9/dist-packages (from pandas>=1.0.5->category_encoders) (2.8.2)\n",
            "Requirement already satisfied: six in /usr/local/lib/python3.9/dist-packages (from patsy>=0.5.1->category_encoders) (1.16.0)\n",
            "Requirement already satisfied: joblib>=1.1.1 in /usr/local/lib/python3.9/dist-packages (from scikit-learn>=0.20.0->category_encoders) (1.1.1)\n",
            "Requirement already satisfied: threadpoolctl>=2.0.0 in /usr/local/lib/python3.9/dist-packages (from scikit-learn>=0.20.0->category_encoders) (3.1.0)\n",
            "Requirement already satisfied: packaging>=21.3 in /usr/local/lib/python3.9/dist-packages (from statsmodels>=0.9.0->category_encoders) (23.0)\n",
            "Installing collected packages: category_encoders\n",
            "Successfully installed category_encoders-2.6.0\n",
            "Looking in indexes: https://pypi.org/simple, https://us-python.pkg.dev/colab-wheels/public/simple/\n",
            "Collecting xgboost==1.7.2\n",
            "  Downloading xgboost-1.7.2-py3-none-manylinux2014_x86_64.whl (193.6 MB)\n",
            "\u001b[2K     \u001b[90m━━━━━━━━━━━━━━━━━━━━━━━━━━━━━━━━━━━━━━━\u001b[0m \u001b[32m193.6/193.6 MB\u001b[0m \u001b[31m4.5 MB/s\u001b[0m eta \u001b[36m0:00:00\u001b[0m\n",
            "\u001b[?25hRequirement already satisfied: scipy in /usr/local/lib/python3.9/dist-packages (from xgboost==1.7.2) (1.10.1)\n",
            "Requirement already satisfied: numpy in /usr/local/lib/python3.9/dist-packages (from xgboost==1.7.2) (1.22.4)\n",
            "Installing collected packages: xgboost\n",
            "  Attempting uninstall: xgboost\n",
            "    Found existing installation: xgboost 1.7.4\n",
            "    Uninstalling xgboost-1.7.4:\n",
            "      Successfully uninstalled xgboost-1.7.4\n",
            "Successfully installed xgboost-1.7.2\n",
            "Looking in indexes: https://pypi.org/simple, https://us-python.pkg.dev/colab-wheels/public/simple/\n",
            "Collecting eli5\n",
            "  Downloading eli5-0.13.0.tar.gz (216 kB)\n",
            "\u001b[2K     \u001b[90m━━━━━━━━━━━━━━━━━━━━━━━━━━━━━━━━━━━━━━━\u001b[0m \u001b[32m216.2/216.2 KB\u001b[0m \u001b[31m5.2 MB/s\u001b[0m eta \u001b[36m0:00:00\u001b[0m\n",
            "\u001b[?25h  Preparing metadata (setup.py) ... \u001b[?25l\u001b[?25hdone\n",
            "Requirement already satisfied: attrs>17.1.0 in /usr/local/lib/python3.9/dist-packages (from eli5) (22.2.0)\n",
            "Requirement already satisfied: jinja2>=3.0.0 in /usr/local/lib/python3.9/dist-packages (from eli5) (3.1.2)\n",
            "Requirement already satisfied: numpy>=1.9.0 in /usr/local/lib/python3.9/dist-packages (from eli5) (1.22.4)\n",
            "Requirement already satisfied: scipy in /usr/local/lib/python3.9/dist-packages (from eli5) (1.10.1)\n",
            "Requirement already satisfied: six in /usr/local/lib/python3.9/dist-packages (from eli5) (1.16.0)\n",
            "Requirement already satisfied: scikit-learn>=0.20 in /usr/local/lib/python3.9/dist-packages (from eli5) (1.2.2)\n",
            "Requirement already satisfied: graphviz in /usr/local/lib/python3.9/dist-packages (from eli5) (0.20.1)\n",
            "Requirement already satisfied: tabulate>=0.7.7 in /usr/local/lib/python3.9/dist-packages (from eli5) (0.8.10)\n",
            "Requirement already satisfied: MarkupSafe>=2.0 in /usr/local/lib/python3.9/dist-packages (from jinja2>=3.0.0->eli5) (2.1.2)\n",
            "Requirement already satisfied: threadpoolctl>=2.0.0 in /usr/local/lib/python3.9/dist-packages (from scikit-learn>=0.20->eli5) (3.1.0)\n",
            "Requirement already satisfied: joblib>=1.1.1 in /usr/local/lib/python3.9/dist-packages (from scikit-learn>=0.20->eli5) (1.1.1)\n",
            "Building wheels for collected packages: eli5\n",
            "  Building wheel for eli5 (setup.py) ... \u001b[?25l\u001b[?25hdone\n",
            "  Created wheel for eli5: filename=eli5-0.13.0-py2.py3-none-any.whl size=107747 sha256=ce6996261b81eca47df88d238cc039a2d5ea530a053264223d7bf40fe8b8577a\n",
            "  Stored in directory: /root/.cache/pip/wheels/7b/26/a5/8460416695a992a2966b41caa5338e5e7fcea98c9d032d055c\n",
            "Successfully built eli5\n",
            "Installing collected packages: eli5\n",
            "Successfully installed eli5-0.13.0\n"
          ]
        }
      ],
      "source": [
        "!pip install category_encoders\n",
        "!pip install xgboost==1.7.2\n",
        "!pip install eli5"
      ]
    },
    {
      "cell_type": "markdown",
      "source": [
        "### **Part.1 : 데이터 준비**\n",
        "\n",
        "중고차 가격 예측 데이터셋인 [100,000 UK Used Car Data set](https://www.kaggle.com/datasets/adityadesai13/used-car-dataset-ford-and-mercedes)을 사용해서 회귀 문제를 풀어보겠습니다. \n",
        "\n",
        "> **Data Description**\n",
        "\n",
        "- company : car manufacturer\n",
        "- model : car model\n",
        "- year : registration year\n",
        "- transmission : type of gearbox\n",
        "- mileage : distance used\n",
        "- fuelType : engine fuel\n",
        "- tax : road tax\n",
        "- mpg : miles per gallon\n",
        "- engineSize : size in litres\n",
        "- price : price in £"
      ],
      "metadata": {
        "id": "-3-x9FLPuvNn"
      }
    },
    {
      "cell_type": "markdown",
      "source": [
        "#### **1-1. 데이터 불러오기 및 전처리**\n",
        "- 데이터셋을 불러오고 결측치&중복값을 확인하세요.\n",
        "  - 결측치와 중복값이 있다면 제거하거나 적절한 값으로 변환시켜보세요."
      ],
      "metadata": {
        "id": "VWxOTxbYwBRn"
      }
    },
    {
      "cell_type": "code",
      "source": [
        "# 데이터셋 불러오기 \n",
        "import pandas as pd\n",
        "df = pd.read_csv('https://ds-lecture-data.s3.ap-northeast-2.amazonaws.com/renewal/mldl/used_car.csv')\n",
        "df.head()"
      ],
      "metadata": {
        "colab": {
          "base_uri": "https://localhost:8080/",
          "height": 206
        },
        "id": "V9oF5tV3upCq",
        "outputId": "814c2e07-b02e-4e39-967c-9c220a7de3e5"
      },
      "execution_count": null,
      "outputs": [
        {
          "output_type": "execute_result",
          "data": {
            "text/plain": [
              "    company   model  year transmission  mileage fuelType  tax   mpg  \\\n",
              "0  vauxhall   Corsa  2018       Manual     9876   Petrol  145  55.4   \n",
              "1  vauxhall   Corsa  2019       Manual     2500   Petrol  145  54.3   \n",
              "2  vauxhall   Corsa  2017    Automatic     9625   Petrol  145  47.9   \n",
              "3  vauxhall   Corsa  2016       Manual    25796   Petrol   30  55.4   \n",
              "4  vauxhall   Corsa  2019       Manual     3887   Petrol  145  43.5   \n",
              "\n",
              "   engineSize  price  \n",
              "0         1.4   7885  \n",
              "1         1.4  11995  \n",
              "2         1.4   9777  \n",
              "3         1.4   8500  \n",
              "4         1.4  10000  "
            ],
            "text/html": [
              "\n",
              "  <div id=\"df-a485953d-1761-45fd-9988-f6771e57f130\">\n",
              "    <div class=\"colab-df-container\">\n",
              "      <div>\n",
              "<style scoped>\n",
              "    .dataframe tbody tr th:only-of-type {\n",
              "        vertical-align: middle;\n",
              "    }\n",
              "\n",
              "    .dataframe tbody tr th {\n",
              "        vertical-align: top;\n",
              "    }\n",
              "\n",
              "    .dataframe thead th {\n",
              "        text-align: right;\n",
              "    }\n",
              "</style>\n",
              "<table border=\"1\" class=\"dataframe\">\n",
              "  <thead>\n",
              "    <tr style=\"text-align: right;\">\n",
              "      <th></th>\n",
              "      <th>company</th>\n",
              "      <th>model</th>\n",
              "      <th>year</th>\n",
              "      <th>transmission</th>\n",
              "      <th>mileage</th>\n",
              "      <th>fuelType</th>\n",
              "      <th>tax</th>\n",
              "      <th>mpg</th>\n",
              "      <th>engineSize</th>\n",
              "      <th>price</th>\n",
              "    </tr>\n",
              "  </thead>\n",
              "  <tbody>\n",
              "    <tr>\n",
              "      <th>0</th>\n",
              "      <td>vauxhall</td>\n",
              "      <td>Corsa</td>\n",
              "      <td>2018</td>\n",
              "      <td>Manual</td>\n",
              "      <td>9876</td>\n",
              "      <td>Petrol</td>\n",
              "      <td>145</td>\n",
              "      <td>55.4</td>\n",
              "      <td>1.4</td>\n",
              "      <td>7885</td>\n",
              "    </tr>\n",
              "    <tr>\n",
              "      <th>1</th>\n",
              "      <td>vauxhall</td>\n",
              "      <td>Corsa</td>\n",
              "      <td>2019</td>\n",
              "      <td>Manual</td>\n",
              "      <td>2500</td>\n",
              "      <td>Petrol</td>\n",
              "      <td>145</td>\n",
              "      <td>54.3</td>\n",
              "      <td>1.4</td>\n",
              "      <td>11995</td>\n",
              "    </tr>\n",
              "    <tr>\n",
              "      <th>2</th>\n",
              "      <td>vauxhall</td>\n",
              "      <td>Corsa</td>\n",
              "      <td>2017</td>\n",
              "      <td>Automatic</td>\n",
              "      <td>9625</td>\n",
              "      <td>Petrol</td>\n",
              "      <td>145</td>\n",
              "      <td>47.9</td>\n",
              "      <td>1.4</td>\n",
              "      <td>9777</td>\n",
              "    </tr>\n",
              "    <tr>\n",
              "      <th>3</th>\n",
              "      <td>vauxhall</td>\n",
              "      <td>Corsa</td>\n",
              "      <td>2016</td>\n",
              "      <td>Manual</td>\n",
              "      <td>25796</td>\n",
              "      <td>Petrol</td>\n",
              "      <td>30</td>\n",
              "      <td>55.4</td>\n",
              "      <td>1.4</td>\n",
              "      <td>8500</td>\n",
              "    </tr>\n",
              "    <tr>\n",
              "      <th>4</th>\n",
              "      <td>vauxhall</td>\n",
              "      <td>Corsa</td>\n",
              "      <td>2019</td>\n",
              "      <td>Manual</td>\n",
              "      <td>3887</td>\n",
              "      <td>Petrol</td>\n",
              "      <td>145</td>\n",
              "      <td>43.5</td>\n",
              "      <td>1.4</td>\n",
              "      <td>10000</td>\n",
              "    </tr>\n",
              "  </tbody>\n",
              "</table>\n",
              "</div>\n",
              "      <button class=\"colab-df-convert\" onclick=\"convertToInteractive('df-a485953d-1761-45fd-9988-f6771e57f130')\"\n",
              "              title=\"Convert this dataframe to an interactive table.\"\n",
              "              style=\"display:none;\">\n",
              "        \n",
              "  <svg xmlns=\"http://www.w3.org/2000/svg\" height=\"24px\"viewBox=\"0 0 24 24\"\n",
              "       width=\"24px\">\n",
              "    <path d=\"M0 0h24v24H0V0z\" fill=\"none\"/>\n",
              "    <path d=\"M18.56 5.44l.94 2.06.94-2.06 2.06-.94-2.06-.94-.94-2.06-.94 2.06-2.06.94zm-11 1L8.5 8.5l.94-2.06 2.06-.94-2.06-.94L8.5 2.5l-.94 2.06-2.06.94zm10 10l.94 2.06.94-2.06 2.06-.94-2.06-.94-.94-2.06-.94 2.06-2.06.94z\"/><path d=\"M17.41 7.96l-1.37-1.37c-.4-.4-.92-.59-1.43-.59-.52 0-1.04.2-1.43.59L10.3 9.45l-7.72 7.72c-.78.78-.78 2.05 0 2.83L4 21.41c.39.39.9.59 1.41.59.51 0 1.02-.2 1.41-.59l7.78-7.78 2.81-2.81c.8-.78.8-2.07 0-2.86zM5.41 20L4 18.59l7.72-7.72 1.47 1.35L5.41 20z\"/>\n",
              "  </svg>\n",
              "      </button>\n",
              "      \n",
              "  <style>\n",
              "    .colab-df-container {\n",
              "      display:flex;\n",
              "      flex-wrap:wrap;\n",
              "      gap: 12px;\n",
              "    }\n",
              "\n",
              "    .colab-df-convert {\n",
              "      background-color: #E8F0FE;\n",
              "      border: none;\n",
              "      border-radius: 50%;\n",
              "      cursor: pointer;\n",
              "      display: none;\n",
              "      fill: #1967D2;\n",
              "      height: 32px;\n",
              "      padding: 0 0 0 0;\n",
              "      width: 32px;\n",
              "    }\n",
              "\n",
              "    .colab-df-convert:hover {\n",
              "      background-color: #E2EBFA;\n",
              "      box-shadow: 0px 1px 2px rgba(60, 64, 67, 0.3), 0px 1px 3px 1px rgba(60, 64, 67, 0.15);\n",
              "      fill: #174EA6;\n",
              "    }\n",
              "\n",
              "    [theme=dark] .colab-df-convert {\n",
              "      background-color: #3B4455;\n",
              "      fill: #D2E3FC;\n",
              "    }\n",
              "\n",
              "    [theme=dark] .colab-df-convert:hover {\n",
              "      background-color: #434B5C;\n",
              "      box-shadow: 0px 1px 3px 1px rgba(0, 0, 0, 0.15);\n",
              "      filter: drop-shadow(0px 1px 2px rgba(0, 0, 0, 0.3));\n",
              "      fill: #FFFFFF;\n",
              "    }\n",
              "  </style>\n",
              "\n",
              "      <script>\n",
              "        const buttonEl =\n",
              "          document.querySelector('#df-a485953d-1761-45fd-9988-f6771e57f130 button.colab-df-convert');\n",
              "        buttonEl.style.display =\n",
              "          google.colab.kernel.accessAllowed ? 'block' : 'none';\n",
              "\n",
              "        async function convertToInteractive(key) {\n",
              "          const element = document.querySelector('#df-a485953d-1761-45fd-9988-f6771e57f130');\n",
              "          const dataTable =\n",
              "            await google.colab.kernel.invokeFunction('convertToInteractive',\n",
              "                                                     [key], {});\n",
              "          if (!dataTable) return;\n",
              "\n",
              "          const docLinkHtml = 'Like what you see? Visit the ' +\n",
              "            '<a target=\"_blank\" href=https://colab.research.google.com/notebooks/data_table.ipynb>data table notebook</a>'\n",
              "            + ' to learn more about interactive tables.';\n",
              "          element.innerHTML = '';\n",
              "          dataTable['output_type'] = 'display_data';\n",
              "          await google.colab.output.renderOutput(dataTable, element);\n",
              "          const docLink = document.createElement('div');\n",
              "          docLink.innerHTML = docLinkHtml;\n",
              "          element.appendChild(docLink);\n",
              "        }\n",
              "      </script>\n",
              "    </div>\n",
              "  </div>\n",
              "  "
            ]
          },
          "metadata": {},
          "execution_count": 2
        }
      ]
    },
    {
      "cell_type": "code",
      "source": [
        "df.info()"
      ],
      "metadata": {
        "colab": {
          "base_uri": "https://localhost:8080/"
        },
        "id": "Bh5rh8LqPZIy",
        "outputId": "f37d7fd4-af22-4d07-afdf-34c2db6ece04"
      },
      "execution_count": null,
      "outputs": [
        {
          "output_type": "stream",
          "name": "stdout",
          "text": [
            "<class 'pandas.core.frame.DataFrame'>\n",
            "RangeIndex: 97712 entries, 0 to 97711\n",
            "Data columns (total 10 columns):\n",
            " #   Column        Non-Null Count  Dtype  \n",
            "---  ------        --------------  -----  \n",
            " 0   company       97712 non-null  object \n",
            " 1   model         97712 non-null  object \n",
            " 2   year          97712 non-null  int64  \n",
            " 3   transmission  97712 non-null  object \n",
            " 4   mileage       97712 non-null  int64  \n",
            " 5   fuelType      97712 non-null  object \n",
            " 6   tax           97712 non-null  int64  \n",
            " 7   mpg           97712 non-null  float64\n",
            " 8   engineSize    97712 non-null  float64\n",
            " 9   price         97712 non-null  int64  \n",
            "dtypes: float64(2), int64(4), object(4)\n",
            "memory usage: 7.5+ MB\n"
          ]
        }
      ]
    },
    {
      "cell_type": "code",
      "source": [
        "# !pip install pandas-profiling"
      ],
      "metadata": {
        "id": "SNOHXUppo7v3"
      },
      "execution_count": null,
      "outputs": []
    },
    {
      "cell_type": "code",
      "source": [
        "# from pandas_profiling import ProfileReport\n",
        "# profile = ProfileReport(df, explorative=True)\n",
        "# profile.to_file(output_file='n231 discussion')"
      ],
      "metadata": {
        "id": "JroGziuPJ0A0"
      },
      "execution_count": null,
      "outputs": []
    },
    {
      "cell_type": "code",
      "source": [
        "df[df.year > 2023]"
      ],
      "metadata": {
        "colab": {
          "base_uri": "https://localhost:8080/",
          "height": 81
        },
        "id": "lGT63kgnLAx7",
        "outputId": "619e9734-50e2-41bb-9c8e-486d93fbdddc"
      },
      "execution_count": null,
      "outputs": [
        {
          "output_type": "execute_result",
          "data": {
            "text/plain": [
              "      company    model  year transmission  mileage fuelType  tax   mpg  \\\n",
              "73651    ford   Fiesta  2060    Automatic    54807   Petrol  205  42.8   \n",
              "\n",
              "       engineSize  price  \n",
              "73651         1.4   6495  "
            ],
            "text/html": [
              "\n",
              "  <div id=\"df-89b46d4d-73f6-4314-ab89-a50de86c823e\">\n",
              "    <div class=\"colab-df-container\">\n",
              "      <div>\n",
              "<style scoped>\n",
              "    .dataframe tbody tr th:only-of-type {\n",
              "        vertical-align: middle;\n",
              "    }\n",
              "\n",
              "    .dataframe tbody tr th {\n",
              "        vertical-align: top;\n",
              "    }\n",
              "\n",
              "    .dataframe thead th {\n",
              "        text-align: right;\n",
              "    }\n",
              "</style>\n",
              "<table border=\"1\" class=\"dataframe\">\n",
              "  <thead>\n",
              "    <tr style=\"text-align: right;\">\n",
              "      <th></th>\n",
              "      <th>company</th>\n",
              "      <th>model</th>\n",
              "      <th>year</th>\n",
              "      <th>transmission</th>\n",
              "      <th>mileage</th>\n",
              "      <th>fuelType</th>\n",
              "      <th>tax</th>\n",
              "      <th>mpg</th>\n",
              "      <th>engineSize</th>\n",
              "      <th>price</th>\n",
              "    </tr>\n",
              "  </thead>\n",
              "  <tbody>\n",
              "    <tr>\n",
              "      <th>73651</th>\n",
              "      <td>ford</td>\n",
              "      <td>Fiesta</td>\n",
              "      <td>2060</td>\n",
              "      <td>Automatic</td>\n",
              "      <td>54807</td>\n",
              "      <td>Petrol</td>\n",
              "      <td>205</td>\n",
              "      <td>42.8</td>\n",
              "      <td>1.4</td>\n",
              "      <td>6495</td>\n",
              "    </tr>\n",
              "  </tbody>\n",
              "</table>\n",
              "</div>\n",
              "      <button class=\"colab-df-convert\" onclick=\"convertToInteractive('df-89b46d4d-73f6-4314-ab89-a50de86c823e')\"\n",
              "              title=\"Convert this dataframe to an interactive table.\"\n",
              "              style=\"display:none;\">\n",
              "        \n",
              "  <svg xmlns=\"http://www.w3.org/2000/svg\" height=\"24px\"viewBox=\"0 0 24 24\"\n",
              "       width=\"24px\">\n",
              "    <path d=\"M0 0h24v24H0V0z\" fill=\"none\"/>\n",
              "    <path d=\"M18.56 5.44l.94 2.06.94-2.06 2.06-.94-2.06-.94-.94-2.06-.94 2.06-2.06.94zm-11 1L8.5 8.5l.94-2.06 2.06-.94-2.06-.94L8.5 2.5l-.94 2.06-2.06.94zm10 10l.94 2.06.94-2.06 2.06-.94-2.06-.94-.94-2.06-.94 2.06-2.06.94z\"/><path d=\"M17.41 7.96l-1.37-1.37c-.4-.4-.92-.59-1.43-.59-.52 0-1.04.2-1.43.59L10.3 9.45l-7.72 7.72c-.78.78-.78 2.05 0 2.83L4 21.41c.39.39.9.59 1.41.59.51 0 1.02-.2 1.41-.59l7.78-7.78 2.81-2.81c.8-.78.8-2.07 0-2.86zM5.41 20L4 18.59l7.72-7.72 1.47 1.35L5.41 20z\"/>\n",
              "  </svg>\n",
              "      </button>\n",
              "      \n",
              "  <style>\n",
              "    .colab-df-container {\n",
              "      display:flex;\n",
              "      flex-wrap:wrap;\n",
              "      gap: 12px;\n",
              "    }\n",
              "\n",
              "    .colab-df-convert {\n",
              "      background-color: #E8F0FE;\n",
              "      border: none;\n",
              "      border-radius: 50%;\n",
              "      cursor: pointer;\n",
              "      display: none;\n",
              "      fill: #1967D2;\n",
              "      height: 32px;\n",
              "      padding: 0 0 0 0;\n",
              "      width: 32px;\n",
              "    }\n",
              "\n",
              "    .colab-df-convert:hover {\n",
              "      background-color: #E2EBFA;\n",
              "      box-shadow: 0px 1px 2px rgba(60, 64, 67, 0.3), 0px 1px 3px 1px rgba(60, 64, 67, 0.15);\n",
              "      fill: #174EA6;\n",
              "    }\n",
              "\n",
              "    [theme=dark] .colab-df-convert {\n",
              "      background-color: #3B4455;\n",
              "      fill: #D2E3FC;\n",
              "    }\n",
              "\n",
              "    [theme=dark] .colab-df-convert:hover {\n",
              "      background-color: #434B5C;\n",
              "      box-shadow: 0px 1px 3px 1px rgba(0, 0, 0, 0.15);\n",
              "      filter: drop-shadow(0px 1px 2px rgba(0, 0, 0, 0.3));\n",
              "      fill: #FFFFFF;\n",
              "    }\n",
              "  </style>\n",
              "\n",
              "      <script>\n",
              "        const buttonEl =\n",
              "          document.querySelector('#df-89b46d4d-73f6-4314-ab89-a50de86c823e button.colab-df-convert');\n",
              "        buttonEl.style.display =\n",
              "          google.colab.kernel.accessAllowed ? 'block' : 'none';\n",
              "\n",
              "        async function convertToInteractive(key) {\n",
              "          const element = document.querySelector('#df-89b46d4d-73f6-4314-ab89-a50de86c823e');\n",
              "          const dataTable =\n",
              "            await google.colab.kernel.invokeFunction('convertToInteractive',\n",
              "                                                     [key], {});\n",
              "          if (!dataTable) return;\n",
              "\n",
              "          const docLinkHtml = 'Like what you see? Visit the ' +\n",
              "            '<a target=\"_blank\" href=https://colab.research.google.com/notebooks/data_table.ipynb>data table notebook</a>'\n",
              "            + ' to learn more about interactive tables.';\n",
              "          element.innerHTML = '';\n",
              "          dataTable['output_type'] = 'display_data';\n",
              "          await google.colab.output.renderOutput(dataTable, element);\n",
              "          const docLink = document.createElement('div');\n",
              "          docLink.innerHTML = docLinkHtml;\n",
              "          element.appendChild(docLink);\n",
              "        }\n",
              "      </script>\n",
              "    </div>\n",
              "  </div>\n",
              "  "
            ]
          },
          "metadata": {},
          "execution_count": 4
        }
      ]
    },
    {
      "cell_type": "code",
      "source": [
        "df.year = df.year.replace({2060:2016})\n",
        "df[df.year >2023]"
      ],
      "metadata": {
        "colab": {
          "base_uri": "https://localhost:8080/",
          "height": 49
        },
        "id": "MKP2hHEvLcdS",
        "outputId": "9f90ae9f-7a28-4402-9f40-6173c5190ccd"
      },
      "execution_count": null,
      "outputs": [
        {
          "output_type": "execute_result",
          "data": {
            "text/plain": [
              "Empty DataFrame\n",
              "Columns: [company, model, year, transmission, mileage, fuelType, tax, mpg, engineSize, price]\n",
              "Index: []"
            ],
            "text/html": [
              "\n",
              "  <div id=\"df-e1d907ab-e940-498d-ad73-637993d188af\">\n",
              "    <div class=\"colab-df-container\">\n",
              "      <div>\n",
              "<style scoped>\n",
              "    .dataframe tbody tr th:only-of-type {\n",
              "        vertical-align: middle;\n",
              "    }\n",
              "\n",
              "    .dataframe tbody tr th {\n",
              "        vertical-align: top;\n",
              "    }\n",
              "\n",
              "    .dataframe thead th {\n",
              "        text-align: right;\n",
              "    }\n",
              "</style>\n",
              "<table border=\"1\" class=\"dataframe\">\n",
              "  <thead>\n",
              "    <tr style=\"text-align: right;\">\n",
              "      <th></th>\n",
              "      <th>company</th>\n",
              "      <th>model</th>\n",
              "      <th>year</th>\n",
              "      <th>transmission</th>\n",
              "      <th>mileage</th>\n",
              "      <th>fuelType</th>\n",
              "      <th>tax</th>\n",
              "      <th>mpg</th>\n",
              "      <th>engineSize</th>\n",
              "      <th>price</th>\n",
              "    </tr>\n",
              "  </thead>\n",
              "  <tbody>\n",
              "  </tbody>\n",
              "</table>\n",
              "</div>\n",
              "      <button class=\"colab-df-convert\" onclick=\"convertToInteractive('df-e1d907ab-e940-498d-ad73-637993d188af')\"\n",
              "              title=\"Convert this dataframe to an interactive table.\"\n",
              "              style=\"display:none;\">\n",
              "        \n",
              "  <svg xmlns=\"http://www.w3.org/2000/svg\" height=\"24px\"viewBox=\"0 0 24 24\"\n",
              "       width=\"24px\">\n",
              "    <path d=\"M0 0h24v24H0V0z\" fill=\"none\"/>\n",
              "    <path d=\"M18.56 5.44l.94 2.06.94-2.06 2.06-.94-2.06-.94-.94-2.06-.94 2.06-2.06.94zm-11 1L8.5 8.5l.94-2.06 2.06-.94-2.06-.94L8.5 2.5l-.94 2.06-2.06.94zm10 10l.94 2.06.94-2.06 2.06-.94-2.06-.94-.94-2.06-.94 2.06-2.06.94z\"/><path d=\"M17.41 7.96l-1.37-1.37c-.4-.4-.92-.59-1.43-.59-.52 0-1.04.2-1.43.59L10.3 9.45l-7.72 7.72c-.78.78-.78 2.05 0 2.83L4 21.41c.39.39.9.59 1.41.59.51 0 1.02-.2 1.41-.59l7.78-7.78 2.81-2.81c.8-.78.8-2.07 0-2.86zM5.41 20L4 18.59l7.72-7.72 1.47 1.35L5.41 20z\"/>\n",
              "  </svg>\n",
              "      </button>\n",
              "      \n",
              "  <style>\n",
              "    .colab-df-container {\n",
              "      display:flex;\n",
              "      flex-wrap:wrap;\n",
              "      gap: 12px;\n",
              "    }\n",
              "\n",
              "    .colab-df-convert {\n",
              "      background-color: #E8F0FE;\n",
              "      border: none;\n",
              "      border-radius: 50%;\n",
              "      cursor: pointer;\n",
              "      display: none;\n",
              "      fill: #1967D2;\n",
              "      height: 32px;\n",
              "      padding: 0 0 0 0;\n",
              "      width: 32px;\n",
              "    }\n",
              "\n",
              "    .colab-df-convert:hover {\n",
              "      background-color: #E2EBFA;\n",
              "      box-shadow: 0px 1px 2px rgba(60, 64, 67, 0.3), 0px 1px 3px 1px rgba(60, 64, 67, 0.15);\n",
              "      fill: #174EA6;\n",
              "    }\n",
              "\n",
              "    [theme=dark] .colab-df-convert {\n",
              "      background-color: #3B4455;\n",
              "      fill: #D2E3FC;\n",
              "    }\n",
              "\n",
              "    [theme=dark] .colab-df-convert:hover {\n",
              "      background-color: #434B5C;\n",
              "      box-shadow: 0px 1px 3px 1px rgba(0, 0, 0, 0.15);\n",
              "      filter: drop-shadow(0px 1px 2px rgba(0, 0, 0, 0.3));\n",
              "      fill: #FFFFFF;\n",
              "    }\n",
              "  </style>\n",
              "\n",
              "      <script>\n",
              "        const buttonEl =\n",
              "          document.querySelector('#df-e1d907ab-e940-498d-ad73-637993d188af button.colab-df-convert');\n",
              "        buttonEl.style.display =\n",
              "          google.colab.kernel.accessAllowed ? 'block' : 'none';\n",
              "\n",
              "        async function convertToInteractive(key) {\n",
              "          const element = document.querySelector('#df-e1d907ab-e940-498d-ad73-637993d188af');\n",
              "          const dataTable =\n",
              "            await google.colab.kernel.invokeFunction('convertToInteractive',\n",
              "                                                     [key], {});\n",
              "          if (!dataTable) return;\n",
              "\n",
              "          const docLinkHtml = 'Like what you see? Visit the ' +\n",
              "            '<a target=\"_blank\" href=https://colab.research.google.com/notebooks/data_table.ipynb>data table notebook</a>'\n",
              "            + ' to learn more about interactive tables.';\n",
              "          element.innerHTML = '';\n",
              "          dataTable['output_type'] = 'display_data';\n",
              "          await google.colab.output.renderOutput(dataTable, element);\n",
              "          const docLink = document.createElement('div');\n",
              "          docLink.innerHTML = docLinkHtml;\n",
              "          element.appendChild(docLink);\n",
              "        }\n",
              "      </script>\n",
              "    </div>\n",
              "  </div>\n",
              "  "
            ]
          },
          "metadata": {},
          "execution_count": 5
        }
      ]
    },
    {
      "cell_type": "markdown",
      "source": [
        "#### **1-2. 데이터셋 분리**\n",
        "- 특성 X와 타겟 y를 지정하세요.\n",
        "  - 타겟은 `price`입니다. \n",
        "- X와 y 모두 train/test set으로 분리하세요.\n",
        "  - train/test set을 적절한 비율로 나누세요.\n",
        "  - `random_state`로 시드를 고정하세요.\n",
        "- X와 y 모두 train set을 train/validation set으로 분리하세요. \n",
        "  - train/val set을 적절한 비율로 나누세요.\n",
        "  - `random_state`로 시드를 고정하세요."
      ],
      "metadata": {
        "id": "fuwvGOHwwJlk"
      }
    },
    {
      "cell_type": "code",
      "source": [
        "import pandas as pd\n",
        "import numpy as np\n",
        "import matplotlib.pyplot as plt\n",
        "import seaborn as sns\n",
        "import eli5\n",
        "\n",
        "from sklearn.model_selection import train_test_split\n",
        "from sklearn.metrics import mean_absolute_error, mean_squared_error, r2_score\n",
        "from sklearn.preprocessing import LabelEncoder, StandardScaler\n",
        "from sklearn.ensemble import RandomForestRegressor\n",
        "from sklearn.pipeline import make_pipeline\n",
        "from category_encoders import OrdinalEncoder, TargetEncoder, OneHotEncoder\n",
        "from sklearn.model_selection import cross_val_score\n",
        "from sklearn.metrics import roc_auc_score, classification_report\n",
        "from eli5.sklearn import PermutationImportance\n",
        "from xgboost import XGBRegressor"
      ],
      "metadata": {
        "id": "jgi_XmrGLz9a"
      },
      "execution_count": null,
      "outputs": []
    },
    {
      "cell_type": "code",
      "source": [
        "target = 'price'\n",
        "y = df[target]\n",
        "X = df.drop(target, axis=1)\n",
        "\n",
        "X_train, X_test, y_train, y_test = train_test_split(X, y, random_state=42)\n",
        "X_train, X_val, y_train, y_val = train_test_split(X_train, y_train, random_state=42)\n",
        "print(X_train.shape, X_val.shape, X_test.shape)\n",
        "print(y_train.shape, y_val.shape, y_test.shape)"
      ],
      "metadata": {
        "id": "0IyGMnRmo86o",
        "colab": {
          "base_uri": "https://localhost:8080/"
        },
        "outputId": "d5ba8fa3-7449-4c3e-9c29-a560d5807e43"
      },
      "execution_count": null,
      "outputs": [
        {
          "output_type": "stream",
          "name": "stdout",
          "text": [
            "(54963, 9) (18321, 9) (24428, 9)\n",
            "(54963,) (18321,) (24428,)\n"
          ]
        }
      ]
    },
    {
      "cell_type": "markdown",
      "source": [
        "### **Part.2 : 모델 학습 및 예측**"
      ],
      "metadata": {
        "id": "NUjFYxjDw9L9"
      }
    },
    {
      "cell_type": "markdown",
      "source": [
        "#### **2-1. 기준모델 설정**\n",
        "- 중고차의 가격을 예측하는 모델이기 때문에 회귀문제에 해당됩니다.\n",
        "- 학습 데이터의 타겟의 평균값을 활용하여 기준모델을 만드세요.\n",
        "  - 기준모델의 평가지표로는 MAE를 사용합니다."
      ],
      "metadata": {
        "id": "cyQ_qetBxAlz"
      }
    },
    {
      "cell_type": "code",
      "source": [
        "y_mean = y_train.mean()\n",
        "\n",
        "y_pred = [y_mean] * len(y_val)\n",
        "\n",
        "# MAE 계산하기\n",
        "mae_baseline = mean_absolute_error(y_val, y_pred)\n",
        "\n",
        "print('기준모델 MAE', mae_baseline)"
      ],
      "metadata": {
        "id": "lBRvE0XIo-67",
        "colab": {
          "base_uri": "https://localhost:8080/"
        },
        "outputId": "49f845a6-1429-4039-9508-94eb79745b8b"
      },
      "execution_count": null,
      "outputs": [
        {
          "output_type": "stream",
          "name": "stdout",
          "text": [
            "기준모델 MAE 7012.625098528678\n"
          ]
        }
      ]
    },
    {
      "cell_type": "markdown",
      "source": [
        "#### **2-2. 회귀 모델링**\n",
        "- 트리기반 모델에서는 스케일링이 성능에 영향을 주지않으므로 선형회귀 기반 모델보다 전처리 과정이 수월했습니다.\n",
        "- 여러 가지 회귀모델이 있지만 시간 관계상 선형회귀 기반 모델에 비해 전처리가 많이 필요하지 않은 `RandomForestRegressor`와 `XGBoostRegressor` 모델을 사용합니다.\n",
        "  - `RandomForestRegressor`를 사용하여 검증 데이터에서의 MAE가 기준모델보다 낮은 모델을 만들어보세요.\n",
        "  - `XGBoostRegressor`를 사용하여 검증 데이터에서의 MAE가 기준모델보다 낮은 모델을 만들어보세요.\n",
        "  - **오늘은 모델의 성능보다 모델 해석에 중점을 두고 학습할 것이기 때문에 두 모델의 성능을 매우 좋게 만들 필요는 없습니다!**\n",
        "    - 기준모델보다 좋은 성능을 내면서 과적합이 발생하지 않을 정도로만 만들어보세요. "
      ],
      "metadata": {
        "id": "tERk_9eWx3iP"
      }
    },
    {
      "cell_type": "code",
      "source": [
        "#범주형, 수치형 분리\n",
        "cat_cols = X_train.select_dtypes(include='object').columns.tolist()\n",
        "num_cols = X_train.drop(cat_cols, axis=1).columns.tolist()\n",
        "\n",
        "#스케일러는 파이프라인적용 안됨\n",
        "scaler = StandardScaler()\n",
        "X_train[num_cols] = scaler.fit_transform(X_train[num_cols])\n",
        "X_val[num_cols] = scaler.transform(X_val[num_cols])\n",
        "X_test[num_cols] = scaler.transform(X_test[num_cols])\n",
        "\n",
        "#모델생성\n",
        "pipe_rf = make_pipeline(TargetEncoder(cols=cat_cols),RandomForestRegressor(random_state=42, n_jobs=-1, oob_score=True))\n",
        "pipe_xgb = make_pipeline(TargetEncoder(cols=cat_cols),XGBRegressor(random_state=42, n_jobs=-1))\n",
        "#모델학습\n",
        "pipe_rf.fit(X_train,y_train)\n",
        "pipe_xgb.fit(X_train,y_train)\n",
        "#예측값\n",
        "y_val_pred_rf = pipe_rf.predict(X_val)\n",
        "y_val_pred_xgb = pipe_xgb.predict(X_val)\n",
        "#평가점수\n",
        "mae_rf = mean_absolute_error(y_val, y_val_pred_rf)\n",
        "mae_xgb = mean_absolute_error(y_val, y_val_pred_xgb)\n",
        "print('rf MAE 점수', mae_rf)\n",
        "print('rf MAE 점수', mae_xgb)"
      ],
      "metadata": {
        "id": "KF_C76VPpA-x",
        "colab": {
          "base_uri": "https://localhost:8080/"
        },
        "outputId": "ed34e222-41f6-499e-dc74-5044b74305ca"
      },
      "execution_count": null,
      "outputs": [
        {
          "output_type": "stream",
          "name": "stdout",
          "text": [
            "rf MAE 점수 1188.150044116218\n",
            "rf MAE 점수 1243.4826545938122\n"
          ]
        }
      ]
    },
    {
      "cell_type": "markdown",
      "source": [
        "### **Part.3 : 특성 중요도 해석**"
      ],
      "metadata": {
        "id": "5jy5csCt30lT"
      }
    },
    {
      "cell_type": "markdown",
      "source": [
        "#### **3-1. MDI(Mean Decreased Impurity)**\n",
        "- MDI를 사용하여 특성의 중요도를 해석해봅시다."
      ],
      "metadata": {
        "id": "kX26g35t33F-"
      }
    },
    {
      "cell_type": "code",
      "source": [
        "# 특성 중요도\n",
        "\n",
        "rf = pipe_rf.named_steps[\"randomforestregressor\"]\n",
        "importances = pd.Series(rf.feature_importances_, X_train.columns)\n",
        "\n",
        "importances.sort_values().plot.barh()\n",
        "plt.title(\"Feature Importance\")\n",
        "plt.show()\n",
        "\n",
        "X_train.drop('mileage', axis=1).nunique().sort_values().plot.barh()\n",
        "plt.title(\"Cardinality\")\n",
        "plt.show()"
      ],
      "metadata": {
        "colab": {
          "base_uri": "https://localhost:8080/",
          "height": 887
        },
        "id": "1RRqpoWTWNSy",
        "outputId": "79b327d0-3a10-46db-fa0c-9200df158fde"
      },
      "execution_count": null,
      "outputs": [
        {
          "output_type": "display_data",
          "data": {
            "text/plain": [
              "<Figure size 640x480 with 1 Axes>"
            ],
            "image/png": "[encoded data removed]"
          },
          "metadata": {}
        },
        {
          "output_type": "display_data",
          "data": {
            "text/plain": [
              "<Figure size 640x480 with 1 Axes>"
            ],
            "image/png": "[encoded data removed]"
          },
          "metadata": {}
        }
      ]
    },
    {
      "cell_type": "code",
      "source": [
        "# 특성 중요도\n",
        "xgb = pipe_xgb.named_steps[\"xgbregressor\"]\n",
        "importances = pd.Series(xgb.feature_importances_, X_train.columns)\n",
        "\n",
        "importances.sort_values().plot.barh()\n",
        "plt.title(\"Feature Importance\")\n",
        "plt.show()\n",
        "\n",
        "X_train.drop('mileage', axis=1).nunique().sort_values().plot.barh()\n",
        "plt.title(\"Cardinality\")\n",
        "plt.show()"
      ],
      "metadata": {
        "colab": {
          "base_uri": "https://localhost:8080/",
          "height": 887
        },
        "id": "ThflK-MzXVc8",
        "outputId": "fa7d1d78-06b7-4476-f5ba-2176aebd38aa"
      },
      "execution_count": null,
      "outputs": [
        {
          "output_type": "display_data",
          "data": {
            "text/plain": [
              "<Figure size 640x480 with 1 Axes>"
            ],
            "image/png": "[encoded data removed]"
          },
          "metadata": {}
        },
        {
          "output_type": "display_data",
          "data": {
            "text/plain": [
              "<Figure size 640x480 with 1 Axes>"
            ],
            "image/png": "[encoded data removed]"
          },
          "metadata": {}
        }
      ]
    },
    {
      "cell_type": "markdown",
      "source": [
        "##### **RandomForest의 MDI**\n",
        "- RandomForest 모델의 MDI를 출력해보세요.\n",
        "  - 가장 중요한 특성과 가장 중요하지 않은 특성은\u001f 어떤 특성인가요?\n",
        "  - 해당 특성이 왜 중요하거나 중요하지 않은지 추측해보고 추측한 내용을 기록해주세요.\n",
        "  \n",
        "  ```\n",
        "  1. 중요한 특성: model, enginesize, mileage, year\n",
        "  - 중요한 이유: Feature importance에서 상위 3위의 특성들이고, 서로 타겟과의 연관이 있다고 여길 수 있기 때문이다. \n",
        "  model, enginesize와는 자동차 자체의 성능에 대해서 연관이 깊은 특성이며, mileage, year는 중고차의 연식을 나타내는 지표기에 중요하다고 생각된다.\n",
        "\n",
        "  model : 자동차의 종류에따라 가격 변동이 심해진다.\n",
        "  mileage :  주행거리가 길면 가격이 저렴해진다.\n",
        "  engineSize : 모델(차종)과의 상관계수가 높다.\n",
        "\n",
        "  2. 중요하지 않은 특성: transmission, tax, fuelType\n",
        "  - 중요하지 않은 이유: 이미 어떤 모델, 연식 등 이미 정해진 상황에서 이 3개는 전혀 고려하지 않아도 되기 때문에 중요하지 않은 특성이 된다. \n",
        "  transmission을 굳이 따져가면서 사는 사람은 극히 드물기도 하고, tax나 fuelType 역시 그 특성만으로 차의 전체 부분을 알 수 없기 때문이다.\n",
        "\n",
        "  transmission : 중고차를 구입할 때, 굳이 자동과 수동을 고려하지 않는다. 심지어 요즘은 Auto으로만 만드는 경우가 많기에 고려하지 않는 것 같다.\n",
        "  tax : 자동차세를 걱정하고 중고차를 구매하진 않는다.\n",
        "  fuelType : model과 enginesize에 따라 나뉘는 특성일 뿐이지, 거기서 연료까지 고려하는 사람들은 드물다.\n",
        "  ```"
      ],
      "metadata": {
        "id": "M3D2bvTV6lSK"
      }
    },
    {
      "cell_type": "code",
      "source": [],
      "metadata": {
        "id": "83fQ3YDTpCf5"
      },
      "execution_count": null,
      "outputs": []
    },
    {
      "cell_type": "markdown",
      "source": [
        "##### **XGBoost의 MDI**\n",
        "- XGBoost 모델의 MDI를 출력해보세요.\n",
        "  - 가장 중요한 특성과 가장 중요하지 않은 특성은\u001f 어떤 특성인가요?\n",
        "  - RandomForest 모델과 중요한 특성/중요하지 않은 특성이 같나요?\n",
        "  - 해당 특성이 왜 중요하거나 중요하지 않은지 추측해보고 추측한 내용을 기록해주세요.\n",
        " \n",
        "  ```\n",
        "  RandomForest 모델과 같은 특성이 있다면 해당 특성은 생략해도 좋습니다.\n",
        "  1. 중요한 특성: model, enginesize, year\n",
        "  - 중요한 이유: RandomForest와 비슷하게 model, enginesize와는 자동차 자체의 성능에 대해서 연관이 깊은 특성이며, mileage, year는 중고차의 연식을 나타내는 지표인 것은 동일했다.\n",
        " 뜻밖에도 transmission이 RandomForest에서는 그다지 중요하지 않게 여겼던 것에 비해서 순위가 많이 올라갔다. \n",
        " transmission은 어느정도 Model과 year에 종속되어있기 때문에 그럴 수도 있겠다는 생각을 했다.\n",
        "\n",
        "  2. 중요하지 않은 특성: tax, company, fuelType \n",
        "  - 중요하지 않은 이유: 이 역시나 이 3개의 지표만으로 해당 중고차의 전체 지표와 동일 할 수가 없다고 여길 수밖에 없다.\n",
        "\n",
        "\n",
        "\n",
        "  ```\n"
      ],
      "metadata": {
        "id": "gZNj4L4U6lUv"
      }
    },
    {
      "cell_type": "code",
      "source": [],
      "metadata": {
        "id": "rUZGrFmxpDo9"
      },
      "execution_count": null,
      "outputs": []
    },
    {
      "cell_type": "markdown",
      "source": [
        "#### **3-2. 순열중요도(Permutation Importance)**\n",
        "- 순열중요도를 사용하여 특성의 중요도를 해석해봅시다.\n",
        "- 순열중요도를 사용했을 때 모델을 재학습 시켰나요?\n",
        " - 재학습 시켰다면 어떤 방법으로 재학습시켰는지, 재학습 시키지 않았다면 왜 시키지 않아도 되는지 논의해보세요."
      ],
      "metadata": {
        "id": "HsVWBWcU7AKM"
      }
    },
    {
      "cell_type": "code",
      "source": [
        "# permuter 정의\n",
        "permuter = PermutationImportance(pipe_xgb.named_steps[\"xgbregressor\"],  # model\n",
        "                                 scoring=\"neg_mean_absolute_error\",  # metric\n",
        "                                 n_iter=10,  # 다른 random seed를 사용하여 10번 반복\n",
        "                                 random_state=42)\n",
        "\n",
        "# 스코어를 다시 계산합니다.\n",
        "X_test_preprocessed = pipe_xgb[0].transform(X_test)\n",
        "permuter.fit(X_test_preprocessed, y_test)\n",
        "\n",
        "feature_importances = pd.Series(permuter.feature_importances_, X_test.columns)\n",
        "features = feature_importances.sort_values(ascending=False).index\n",
        "\n",
        "feature_names = X_test.columns.tolist()\n",
        "pi = pd.Series(permuter.feature_importances_, feature_names).sort_values()\n",
        "pi.plot.barh()\n",
        "plt.title(\"Permutation Importance\")"
      ],
      "metadata": {
        "colab": {
          "base_uri": "https://localhost:8080/",
          "height": 470
        },
        "id": "aAc0vTTlXuJK",
        "outputId": "509fd110-ee24-476d-d889-2203d54dc047"
      },
      "execution_count": null,
      "outputs": [
        {
          "output_type": "execute_result",
          "data": {
            "text/plain": [
              "Text(0.5, 1.0, 'Permutation Importance')"
            ]
          },
          "metadata": {},
          "execution_count": 12
        },
        {
          "output_type": "display_data",
          "data": {
            "text/plain": [
              "<Figure size 640x480 with 1 Axes>"
            ],
            "image/png": "[encoded data removed]"
          },
          "metadata": {}
        }
      ]
    },
    {
      "cell_type": "code",
      "source": [
        "# 특성별 score을 확인합니다.\n",
        "eli5.show_weights(\n",
        "    permuter,\n",
        "    top=None,  # top n 지정 가능, None 일 경우 모든 특성\n",
        "    feature_names=feature_names) # list 형식으로 넣어야 합니다"
      ],
      "metadata": {
        "colab": {
          "base_uri": "https://localhost:8080/",
          "height": 191
        },
        "id": "BoyuhEb7XzCB",
        "outputId": "a5761c4f-10b9-4aea-e7e1-f7ba152cce9b"
      },
      "execution_count": null,
      "outputs": [
        {
          "output_type": "execute_result",
          "data": {
            "text/plain": [
              "<IPython.core.display.HTML object>"
            ],
            "text/html": [
              "\n",
              "    <style>\n",
              "    table.eli5-weights tr:hover {\n",
              "        filter: brightness(85%);\n",
              "    }\n",
              "</style>\n",
              "\n",
              "\n",
              "\n",
              "    \n",
              "\n",
              "    \n",
              "\n",
              "    \n",
              "\n",
              "    \n",
              "\n",
              "    \n",
              "\n",
              "    \n",
              "\n",
              "\n",
              "    \n",
              "\n",
              "    \n",
              "\n",
              "    \n",
              "\n",
              "    \n",
              "\n",
              "    \n",
              "\n",
              "    \n",
              "\n",
              "\n",
              "    \n",
              "\n",
              "    \n",
              "\n",
              "    \n",
              "\n",
              "    \n",
              "\n",
              "    \n",
              "        <table class=\"eli5-weights eli5-feature-importances\" style=\"border-collapse: collapse; border: none; margin-top: 0em; table-layout: auto;\">\n",
              "    <thead>\n",
              "    <tr style=\"border: none;\">\n",
              "        <th style=\"padding: 0 1em 0 0.5em; text-align: right; border: none;\">Weight</th>\n",
              "        <th style=\"padding: 0 0.5em 0 0.5em; text-align: left; border: none;\">Feature</th>\n",
              "    </tr>\n",
              "    </thead>\n",
              "    <tbody>\n",
              "    \n",
              "        <tr style=\"background-color: hsl(120, 100.00%, 80.00%); border: none;\">\n",
              "            <td style=\"padding: 0 1em 0 0.5em; text-align: right; border: none;\">\n",
              "                3505.0487\n",
              "                \n",
              "                    &plusmn; 45.2226\n",
              "                \n",
              "            </td>\n",
              "            <td style=\"padding: 0 0.5em 0 0.5em; text-align: left; border: none;\">\n",
              "                model\n",
              "            </td>\n",
              "        </tr>\n",
              "    \n",
              "        <tr style=\"background-color: hsl(120, 100.00%, 86.97%); border: none;\">\n",
              "            <td style=\"padding: 0 1em 0 0.5em; text-align: right; border: none;\">\n",
              "                1900.5668\n",
              "                \n",
              "                    &plusmn; 26.5282\n",
              "                \n",
              "            </td>\n",
              "            <td style=\"padding: 0 0.5em 0 0.5em; text-align: left; border: none;\">\n",
              "                year\n",
              "            </td>\n",
              "        </tr>\n",
              "    \n",
              "        <tr style=\"background-color: hsl(120, 100.00%, 90.52%); border: none;\">\n",
              "            <td style=\"padding: 0 1em 0 0.5em; text-align: right; border: none;\">\n",
              "                1205.5930\n",
              "                \n",
              "                    &plusmn; 29.3478\n",
              "                \n",
              "            </td>\n",
              "            <td style=\"padding: 0 0.5em 0 0.5em; text-align: left; border: none;\">\n",
              "                engineSize\n",
              "            </td>\n",
              "        </tr>\n",
              "    \n",
              "        <tr style=\"background-color: hsl(120, 100.00%, 90.87%); border: none;\">\n",
              "            <td style=\"padding: 0 1em 0 0.5em; text-align: right; border: none;\">\n",
              "                1143.7134\n",
              "                \n",
              "                    &plusmn; 20.9380\n",
              "                \n",
              "            </td>\n",
              "            <td style=\"padding: 0 0.5em 0 0.5em; text-align: left; border: none;\">\n",
              "                mileage\n",
              "            </td>\n",
              "        </tr>\n",
              "    \n",
              "        <tr style=\"background-color: hsl(120, 100.00%, 92.48%); border: none;\">\n",
              "            <td style=\"padding: 0 1em 0 0.5em; text-align: right; border: none;\">\n",
              "                866.8015\n",
              "                \n",
              "                    &plusmn; 14.9227\n",
              "                \n",
              "            </td>\n",
              "            <td style=\"padding: 0 0.5em 0 0.5em; text-align: left; border: none;\">\n",
              "                mpg\n",
              "            </td>\n",
              "        </tr>\n",
              "    \n",
              "        <tr style=\"background-color: hsl(120, 100.00%, 95.19%); border: none;\">\n",
              "            <td style=\"padding: 0 1em 0 0.5em; text-align: right; border: none;\">\n",
              "                457.2398\n",
              "                \n",
              "                    &plusmn; 17.3472\n",
              "                \n",
              "            </td>\n",
              "            <td style=\"padding: 0 0.5em 0 0.5em; text-align: left; border: none;\">\n",
              "                company\n",
              "            </td>\n",
              "        </tr>\n",
              "    \n",
              "        <tr style=\"background-color: hsl(120, 100.00%, 95.62%); border: none;\">\n",
              "            <td style=\"padding: 0 1em 0 0.5em; text-align: right; border: none;\">\n",
              "                400.3815\n",
              "                \n",
              "                    &plusmn; 15.8360\n",
              "                \n",
              "            </td>\n",
              "            <td style=\"padding: 0 0.5em 0 0.5em; text-align: left; border: none;\">\n",
              "                transmission\n",
              "            </td>\n",
              "        </tr>\n",
              "    \n",
              "        <tr style=\"background-color: hsl(120, 100.00%, 96.94%); border: none;\">\n",
              "            <td style=\"padding: 0 1em 0 0.5em; text-align: right; border: none;\">\n",
              "                240.3405\n",
              "                \n",
              "                    &plusmn; 10.4771\n",
              "                \n",
              "            </td>\n",
              "            <td style=\"padding: 0 0.5em 0 0.5em; text-align: left; border: none;\">\n",
              "                fuelType\n",
              "            </td>\n",
              "        </tr>\n",
              "    \n",
              "        <tr style=\"background-color: hsl(120, 100.00%, 97.47%); border: none;\">\n",
              "            <td style=\"padding: 0 1em 0 0.5em; text-align: right; border: none;\">\n",
              "                182.5707\n",
              "                \n",
              "                    &plusmn; 9.3972\n",
              "                \n",
              "            </td>\n",
              "            <td style=\"padding: 0 0.5em 0 0.5em; text-align: left; border: none;\">\n",
              "                tax\n",
              "            </td>\n",
              "        </tr>\n",
              "    \n",
              "    \n",
              "    </tbody>\n",
              "</table>\n",
              "    \n",
              "\n",
              "    \n",
              "\n",
              "\n",
              "    \n",
              "\n",
              "    \n",
              "\n",
              "    \n",
              "\n",
              "    \n",
              "\n",
              "    \n",
              "\n",
              "    \n",
              "\n",
              "\n",
              "\n"
            ]
          },
          "metadata": {},
          "execution_count": 13
        }
      ]
    },
    {
      "cell_type": "code",
      "source": [
        "# permuter 정의\n",
        "permuter = PermutationImportance(pipe_rf.named_steps[\"randomforestregressor\"],  # model\n",
        "                                 scoring=\"neg_mean_absolute_error\",  # metric\n",
        "                                 n_iter=10,  # 다른 random seed를 사용하여 10번 반복\n",
        "                                 random_state=42)\n",
        "\n",
        "# 스코어를 다시 계산합니다.\n",
        "X_test_preprocessed = pipe_rf[0].transform(X_test)\n",
        "permuter.fit(X_test_preprocessed, y_test)\n",
        "\n",
        "feature_importances = pd.Series(permuter.feature_importances_, X_test.columns)\n",
        "features = feature_importances.sort_values(ascending=False).index\n",
        "\n",
        "feature_names = X_test.columns.tolist()\n",
        "pi = pd.Series(permuter.feature_importances_, feature_names).sort_values()\n",
        "pi.plot.barh()\n",
        "plt.title(\"Permutation Importance\")"
      ],
      "metadata": {
        "colab": {
          "base_uri": "https://localhost:8080/",
          "height": 470
        },
        "id": "oaRw_U-aYvki",
        "outputId": "e75bbf35-960e-472f-b61c-6c2cd0d3e12a"
      },
      "execution_count": null,
      "outputs": [
        {
          "output_type": "execute_result",
          "data": {
            "text/plain": [
              "Text(0.5, 1.0, 'Permutation Importance')"
            ]
          },
          "metadata": {},
          "execution_count": 14
        },
        {
          "output_type": "display_data",
          "data": {
            "text/plain": [
              "<Figure size 640x480 with 1 Axes>"
            ],
            "image/png": "[encoded data removed]"
          },
          "metadata": {}
        }
      ]
    },
    {
      "cell_type": "code",
      "source": [
        "# 특성별 score을 확인합니다.\n",
        "eli5.show_weights(\n",
        "    permuter,\n",
        "    top=None,  # top n 지정 가능, None 일 경우 모든 특성\n",
        "    feature_names=feature_names) # list 형식으로 넣어야 합니다"
      ],
      "metadata": {
        "colab": {
          "base_uri": "https://localhost:8080/",
          "height": 191
        },
        "id": "Ln_NA-cxYwGK",
        "outputId": "c2cab456-a755-4e79-8678-4f0e5fb224d3"
      },
      "execution_count": null,
      "outputs": [
        {
          "output_type": "execute_result",
          "data": {
            "text/plain": [
              "<IPython.core.display.HTML object>"
            ],
            "text/html": [
              "\n",
              "    <style>\n",
              "    table.eli5-weights tr:hover {\n",
              "        filter: brightness(85%);\n",
              "    }\n",
              "</style>\n",
              "\n",
              "\n",
              "\n",
              "    \n",
              "\n",
              "    \n",
              "\n",
              "    \n",
              "\n",
              "    \n",
              "\n",
              "    \n",
              "\n",
              "    \n",
              "\n",
              "\n",
              "    \n",
              "\n",
              "    \n",
              "\n",
              "    \n",
              "\n",
              "    \n",
              "\n",
              "    \n",
              "\n",
              "    \n",
              "\n",
              "\n",
              "    \n",
              "\n",
              "    \n",
              "\n",
              "    \n",
              "\n",
              "    \n",
              "\n",
              "    \n",
              "        <table class=\"eli5-weights eli5-feature-importances\" style=\"border-collapse: collapse; border: none; margin-top: 0em; table-layout: auto;\">\n",
              "    <thead>\n",
              "    <tr style=\"border: none;\">\n",
              "        <th style=\"padding: 0 1em 0 0.5em; text-align: right; border: none;\">Weight</th>\n",
              "        <th style=\"padding: 0 0.5em 0 0.5em; text-align: left; border: none;\">Feature</th>\n",
              "    </tr>\n",
              "    </thead>\n",
              "    <tbody>\n",
              "    \n",
              "        <tr style=\"background-color: hsl(120, 100.00%, 80.00%); border: none;\">\n",
              "            <td style=\"padding: 0 1em 0 0.5em; text-align: right; border: none;\">\n",
              "                4225.4676\n",
              "                \n",
              "                    &plusmn; 48.9001\n",
              "                \n",
              "            </td>\n",
              "            <td style=\"padding: 0 0.5em 0 0.5em; text-align: left; border: none;\">\n",
              "                model\n",
              "            </td>\n",
              "        </tr>\n",
              "    \n",
              "        <tr style=\"background-color: hsl(120, 100.00%, 88.90%); border: none;\">\n",
              "            <td style=\"padding: 0 1em 0 0.5em; text-align: right; border: none;\">\n",
              "                1822.9798\n",
              "                \n",
              "                    &plusmn; 20.5179\n",
              "                \n",
              "            </td>\n",
              "            <td style=\"padding: 0 0.5em 0 0.5em; text-align: left; border: none;\">\n",
              "                year\n",
              "            </td>\n",
              "        </tr>\n",
              "    \n",
              "        <tr style=\"background-color: hsl(120, 100.00%, 91.67%); border: none;\">\n",
              "            <td style=\"padding: 0 1em 0 0.5em; text-align: right; border: none;\">\n",
              "                1209.7856\n",
              "                \n",
              "                    &plusmn; 22.0049\n",
              "                \n",
              "            </td>\n",
              "            <td style=\"padding: 0 0.5em 0 0.5em; text-align: left; border: none;\">\n",
              "                mileage\n",
              "            </td>\n",
              "        </tr>\n",
              "    \n",
              "        <tr style=\"background-color: hsl(120, 100.00%, 91.78%); border: none;\">\n",
              "            <td style=\"padding: 0 1em 0 0.5em; text-align: right; border: none;\">\n",
              "                1187.0073\n",
              "                \n",
              "                    &plusmn; 23.3392\n",
              "                \n",
              "            </td>\n",
              "            <td style=\"padding: 0 0.5em 0 0.5em; text-align: left; border: none;\">\n",
              "                engineSize\n",
              "            </td>\n",
              "        </tr>\n",
              "    \n",
              "        <tr style=\"background-color: hsl(120, 100.00%, 93.87%); border: none;\">\n",
              "            <td style=\"padding: 0 1em 0 0.5em; text-align: right; border: none;\">\n",
              "                781.0140\n",
              "                \n",
              "                    &plusmn; 15.5958\n",
              "                \n",
              "            </td>\n",
              "            <td style=\"padding: 0 0.5em 0 0.5em; text-align: left; border: none;\">\n",
              "                mpg\n",
              "            </td>\n",
              "        </tr>\n",
              "    \n",
              "        <tr style=\"background-color: hsl(120, 100.00%, 96.28%); border: none;\">\n",
              "            <td style=\"padding: 0 1em 0 0.5em; text-align: right; border: none;\">\n",
              "                381.8086\n",
              "                \n",
              "                    &plusmn; 10.3179\n",
              "                \n",
              "            </td>\n",
              "            <td style=\"padding: 0 0.5em 0 0.5em; text-align: left; border: none;\">\n",
              "                transmission\n",
              "            </td>\n",
              "        </tr>\n",
              "    \n",
              "        <tr style=\"background-color: hsl(120, 100.00%, 96.99%); border: none;\">\n",
              "            <td style=\"padding: 0 1em 0 0.5em; text-align: right; border: none;\">\n",
              "                282.0113\n",
              "                \n",
              "                    &plusmn; 9.5151\n",
              "                \n",
              "            </td>\n",
              "            <td style=\"padding: 0 0.5em 0 0.5em; text-align: left; border: none;\">\n",
              "                company\n",
              "            </td>\n",
              "        </tr>\n",
              "    \n",
              "        <tr style=\"background-color: hsl(120, 100.00%, 98.49%); border: none;\">\n",
              "            <td style=\"padding: 0 1em 0 0.5em; text-align: right; border: none;\">\n",
              "                105.7087\n",
              "                \n",
              "                    &plusmn; 4.5683\n",
              "                \n",
              "            </td>\n",
              "            <td style=\"padding: 0 0.5em 0 0.5em; text-align: left; border: none;\">\n",
              "                tax\n",
              "            </td>\n",
              "        </tr>\n",
              "    \n",
              "        <tr style=\"background-color: hsl(120, 100.00%, 99.01%); border: none;\">\n",
              "            <td style=\"padding: 0 1em 0 0.5em; text-align: right; border: none;\">\n",
              "                57.9708\n",
              "                \n",
              "                    &plusmn; 4.0752\n",
              "                \n",
              "            </td>\n",
              "            <td style=\"padding: 0 0.5em 0 0.5em; text-align: left; border: none;\">\n",
              "                fuelType\n",
              "            </td>\n",
              "        </tr>\n",
              "    \n",
              "    \n",
              "    </tbody>\n",
              "</table>\n",
              "    \n",
              "\n",
              "    \n",
              "\n",
              "\n",
              "    \n",
              "\n",
              "    \n",
              "\n",
              "    \n",
              "\n",
              "    \n",
              "\n",
              "    \n",
              "\n",
              "    \n",
              "\n",
              "\n",
              "\n"
            ]
          },
          "metadata": {},
          "execution_count": 15
        }
      ]
    },
    {
      "cell_type": "markdown",
      "source": [
        "##### **RandomForest의 순열 중요도**\n",
        "- RandomForest 모델의 순열중요도를 출력해보세요.\n",
        "  - 가장 중요한 특성과 가장 중요하지 않은 특성은\u001f 어떤 특성인가요?\n",
        "  - RandomForest 모델의 MDI를 사용했을 때와 중요한/중요하지않은 특성이 같나요?\n",
        "  - 해당 특성이 왜 중요하거나 중요하지 않은지 추측해보고 추측한 내용을 기록해주세요.\n",
        "  \n",
        "  ```\n",
        "  이미 추측해본 특성이라면 생략해도 좋습니다.\n",
        "\n",
        "  1. 중요한 특성:\n",
        "  - 중요한 이유:\n",
        "\n",
        "  2. 중요하지 않은 특성:\n",
        "  - 중요하지 않은 이유:\n",
        "  ```"
      ],
      "metadata": {
        "id": "kJ34X6Df7IRG"
      }
    },
    {
      "cell_type": "code",
      "source": [
        "# 위에 이미, 추측했듯 나왔지만, "
      ],
      "metadata": {
        "id": "NxcCDEK5pFRx"
      },
      "execution_count": null,
      "outputs": []
    },
    {
      "cell_type": "markdown",
      "source": [
        "##### **XGBoost의 순열 중요도**\n",
        "- XGBoost 모델의 순열중요도를 출력해보세요.\n",
        "  - 가장 중요한 특성과 가장 중요하지 않은 특성은\u001f 어떤 특성인가요?\n",
        "  - XGBoost 모델의 MDI를 사용했을 때와 중요한/중요하지않은 특성이 같나요?\n",
        "  - RandomForest 모델의 순열중요도를 사용했을 때와 중요한/중요하지 않은 특성이 같나요?\n",
        "  - 해당 특성이 왜 중요하거나 중요하지 않은지 추측해보고 추측한 내용을 기록해주세요.\n",
        "  \n",
        "  ```\n",
        "  이미 추측해본 특성이라면 생략해도 좋습니다.\n",
        "\n",
        "  1. 중요한 특성:\n",
        "  - 중요한 이유:\n",
        "\n",
        "  2. 중요하지 않은 특성:\n",
        "  - 중요하지 않은 이유:\n",
        "  ```"
      ],
      "metadata": {
        "id": "DknrsXl67hAb"
      }
    },
    {
      "cell_type": "code",
      "source": [],
      "metadata": {
        "id": "2I59n_XYpHvG"
      },
      "execution_count": null,
      "outputs": []
    },
    {
      "cell_type": "markdown",
      "source": [
        "### **Conclusion**\n",
        "> 오늘 Topic을 수행한 결과를 바탕으로, 다음 사항에 대해 답해 주세요.\n",
        "\n",
        "1. 위에서 작성한 중요한 특성/중요하지 않은 특성의 셀을 기반으로 정리해 보세요.\n",
        "  - RandomForest 모델의 MDI에서 중요한 특성, 중요하지 않은 특성과 그 이유는 무엇인가요?\n",
        "  - XGBoost 모델의 MDI에서 중요한 특성, 중요하지 않은 특성과 그 이유는 무엇인가요?\n",
        "  - RandomForest 모델의 순열중요도에서 중요한 특성, 중요하지 않은 특성과 그 이유는 무엇인가요?\n",
        "  - XGBoost 모델의 순열중요도에서 중요한 특성, 중요하지 않은 특성과 그 이유는 무엇인가요?\n",
        "2. 특성의 중요도를 파악하고 다른 모델들과 비교해본 후에 어떠한 시도를 추가적으로 해볼 수 있을까요?\n",
        "- **Discussion** 표의 `정리` 탭에 답변을 정리하여 적어 주세요. "
      ],
      "metadata": {
        "id": "IwpLMo4A9fkF"
      }
    },
    {
      "cell_type": "markdown",
      "source": [
        "---\n",
        "2. 답변\n",
        "\n",
        "특성을 조합하거나 제거해서 성능을 올릴 수는 있지만, 정확한 판단을 위해서라면 해당 데이터에 대해서 높은 데이터 이해도가 더 유리하다.\n",
        "\n",
        "데이터가 주어졌다면 그 데이터에 대한 높은 이해도가 있어야지만 알 수 있는 부분이 많았다. 당장 게임이나 자동차, 농구에 대해서 데이터를 주었는데 그 값이 합당한 값인지 알 수 있는 건 높은 데이터 이해도를 가진 엔지니어밖에 없다.\n",
        "\n",
        "---"
      ],
      "metadata": {
        "id": "Q5vksaSSj5Cj"
      }
    },
    {
      "cell_type": "markdown",
      "source": [
        "## **심화 Topic**\n",
        "- MDI, Drop Column Importance의 한계점은 무엇인가요?\n",
        "- 순열중요도는 MDI, Drop Column Importance의 한계점을 어떻게 해결하나요? \n",
        "  - shuffle의 역할을 생각해 보세요."
      ],
      "metadata": {
        "id": "sH8_T_x-BlWr"
      }
    }
  ]
}