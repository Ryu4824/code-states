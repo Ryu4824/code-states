{
  "nbformat": 4,
  "nbformat_minor": 0,
  "metadata": {
    "colab": {
      "provenance": []
    },
    "kernelspec": {
      "name": "python3",
      "display_name": "Python 3"
    },
    "language_info": {
      "name": "python"
    }
  },
  "cells": [
    {
      "cell_type": "markdown",
      "source": [
        "<img src='https://i.imgur.com/RDAD11M.png' width = '200' align = 'right'>\n",
        "\n",
        "# **SC12x**\n",
        "\n",
        "# **Statistics**"
      ],
      "metadata": {
        "id": "Lh5QGrdw-mKP"
      }
    },
    {
      "cell_type": "markdown",
      "source": [
        "## **Part 1. Bayes Theorem**\n",
        "\n",
        "Bayes Thoerem은 사전확률에서 정보가 업데이트됨에 따라 사후확률이 어떻게 변화하는지를 나타냅니다. \n",
        "\n",
        "다음의 문제에 대해 Bayes Thoerem을 활용하여 사후확률을 구해보세요.\n",
        "\n",
        "> 여러분은 가게에서 2개의 사탕팩(A, B)을 구매하였습니다. A팩에는 7개의 딸기맛, 3개의 사과맛 사탕이 들어있고, B팩에는 5개의 딸기맛, 5개의 사과맛 사탕이 들어있었습니다. 해당 사탕들을 모두 섞은 후 1개를 뽑았더니 딸기맛이었을 때, 해당 사탕이 A팩에 있었던 사탕이었을 확률은 얼마일까요?\n",
        "\n",
        "\n",
        "\n"
      ],
      "metadata": {
        "id": "r7D6lw5IUwc2"
      }
    },
    {
      "cell_type": "markdown",
      "source": [
        "##### **Q1. 사후확률을 반올림하여 소수점 둘째 자리까지 구한 후, 사전확률과 사후확률 결과를 (사전확률, 사후확률)의 형태로 쓰세요.**"
      ],
      "metadata": {
        "id": "r0MUSUO6A2kj"
      }
    },
    {
      "cell_type": "code",
      "source": [
        "tpr=7/10\n",
        "fpr=5/10\n",
        "\n",
        "# 사전확률\n",
        "prior=1/2\n",
        "\n",
        "a = prior\n",
        "b = 1 - prior\n",
        "\n",
        "# evidence\n",
        "pos_a = tpr\n",
        "pos_b = fpr\n",
        "\n",
        "# 사후확률\n",
        "posterior = (pos_a * a) / ((pos_a * a) + (pos_b * b))\n",
        "round(prior,2),round(posterior,2)"
      ],
      "metadata": {
        "id": "Em6ZBk6Nl10u",
        "colab": {
          "base_uri": "https://localhost:8080/"
        },
        "outputId": "4260c23e-5dbb-4ed4-b0c6-879a0d5ee086"
      },
      "execution_count": 1,
      "outputs": [
        {
          "output_type": "execute_result",
          "data": {
            "text/plain": [
              "(0.5, 0.58)"
            ]
          },
          "metadata": {},
          "execution_count": 1
        }
      ]
    },
    {
      "cell_type": "markdown",
      "source": [
        "---"
      ],
      "metadata": {
        "id": "uxyyD7S2BG3S"
      }
    },
    {
      "cell_type": "markdown",
      "source": [
        "## **Part 2. 큰 수의 법칙 & 신뢰 구간**\n",
        "\n",
        "> **Part 2, Part 3에서 여러분은 가상의 마케팅 데이터를 활용할 것입니다.**"
      ],
      "metadata": {
        "id": "RD-eh22GVjx7"
      }
    },
    {
      "cell_type": "markdown",
      "source": [
        "#### 데이터셋 정보 :   \n",
        "이 데이터셋은 알뜰 구매를 도와주는 XYZ사의 마케팅 정보를 다루고 있으며, 개인 정보는 보호를 위해 제거 되어 있습니다.\n",
        "\n",
        "**Attribute Information:**\n",
        "\n",
        "- ID - 고객의 고유값\n",
        "- Year_Birth - 고객의 출생연도\n",
        "- Education - 고객의 최종학력\n",
        "- Marital_Status - 고객의 혼인여부\n",
        "- Country - 고객의 국적\n",
        "- Income - 고객의 연간 수입\n",
        "- Kidhome - 자녀가 미취학아동인지 여부 (1 - yes, 0 - no)\n",
        "- Teenhome - 자녀가 10대 청소년인지 여부 (1 - yes, 0 - no)\n",
        "- Dt_Customer - 서비스 가입 시기\n",
        "- Recency - 마지막 구매 시기 (일)\n",
        "- MntWines - 최근 2년간 구매한 와인 구매 총액\n",
        "- MntFruits- 최근 2년간 구매한 과일 구매 총액\n",
        "- MntMeatProducts - 최근 2년간 구매한 정육 구매 총액\n",
        "- MntFishProducts - 최근 2년간 구매한 어류 구매 총액\n",
        "- MntSweetProducts - 최근 2년간 구매한 과자 구매 총액\n",
        "- MntGoldProds - 최근 2년간 구매한 황금 구매 총액\n",
        "- NumDealsPurchases - 할인을 통해 제품을 구매한 횟수\n",
        "- NumWebPurchases - 회사의 웹사이트를 통해 구매한 횟수\n",
        "- NumStorePurchases - 가게에서 직접 구매한 횟수\n",
        "- NumWebVisitsMonth - 회사의 웹사이트를 방문한 횟수\n",
        "- Complain - 고객의 최근 2년간 회사에 대한 클레임 여부 (1 - yes, 0 - no)"
      ],
      "metadata": {
        "id": "64C3XkoL-lZB"
      }
    },
    {
      "cell_type": "markdown",
      "source": [
        "### **2-1. 데이터셋 살펴보기**\n",
        "\n",
        "- 데이터셋을 데이터프레임 형태로 불러오세요.\n",
        "- `Income` column 이름 앞뒤의 공백을 제거하세요.\n",
        "- 데이터셋의 결측치를 살펴보고, 있다면 제거하고 인덱스를 재설정하세요.\n",
        "- `Income`의 데이터타입을 `int`로 변경하세요.\n",
        "  - 필요시 다음의 코드를 활용해보세요.\n",
        "  \n",
        "\n",
        "  ```python\n",
        "  import re\n",
        "\n",
        "  def cleaning(df):\n",
        "    li = []\n",
        "    for row in df['Income']:\n",
        "      splited = row.split('.') # .을 기준으로 문자열을 분리합니다.\n",
        "      result = re.sub('[^0-9]','', splited[0]) # .기준 앞 부분만 활용하여 숫자가 아닌 문자는 공백으로 치환합니다.\n",
        "      li.append(int(result))\n",
        "  \n",
        "    df['Income'] = li\n",
        "  ```\n",
        "\n",
        "- `Income`의 이상치를 제거하세요.\n",
        "  - 다음의 코드를 통해 `Income`의 분포를 비교해보세요.\n",
        "\n",
        "  ```python\n",
        "  plt.hist(df['Income']);\n",
        "\n",
        "  plt.hist(df.loc[df['Income'] < 120000, 'Income']);\n",
        "  ```\n",
        "\n",
        "  - `Income`이 120000 이상이 되는 값은 이상치로 간주하여 해당 row를 삭제하고 인덱스를 재설정하세요.\n",
        "\n",
        "- 위의 전처리 과정을 완료한 데이터프레임을 `df_final` 변수로 저장하세요."
      ],
      "metadata": {
        "id": "kZGgXCglUznv"
      }
    },
    {
      "cell_type": "code",
      "source": [
        "import pandas as pd\n",
        "import numpy as np\n",
        "\n",
        "from google.colab import files\n",
        "upload=files.upload()"
      ],
      "metadata": {
        "colab": {
          "base_uri": "https://localhost:8080/",
          "height": 77
        },
        "id": "8Gv6npxGPSyM",
        "outputId": "a05a64ec-05aa-4f4f-9ebc-8dee20d37744"
      },
      "execution_count": 2,
      "outputs": [
        {
          "output_type": "display_data",
          "data": {
            "text/plain": [
              "<IPython.core.display.HTML object>"
            ],
            "text/html": [
              "\n",
              "     <input type=\"file\" id=\"files-b1714597-5138-4e24-8d1a-d2ee0ea30135\" name=\"files[]\" multiple disabled\n",
              "        style=\"border:none\" />\n",
              "     <output id=\"result-b1714597-5138-4e24-8d1a-d2ee0ea30135\">\n",
              "      Upload widget is only available when the cell has been executed in the\n",
              "      current browser session. Please rerun this cell to enable.\n",
              "      </output>\n",
              "      <script>// Copyright 2017 Google LLC\n",
              "//\n",
              "// Licensed under the Apache License, Version 2.0 (the \"License\");\n",
              "// you may not use this file except in compliance with the License.\n",
              "// You may obtain a copy of the License at\n",
              "//\n",
              "//      http://www.apache.org/licenses/LICENSE-2.0\n",
              "//\n",
              "// Unless required by applicable law or agreed to in writing, software\n",
              "// distributed under the License is distributed on an \"AS IS\" BASIS,\n",
              "// WITHOUT WARRANTIES OR CONDITIONS OF ANY KIND, either express or implied.\n",
              "// See the License for the specific language governing permissions and\n",
              "// limitations under the License.\n",
              "\n",
              "/**\n",
              " * @fileoverview Helpers for google.colab Python module.\n",
              " */\n",
              "(function(scope) {\n",
              "function span(text, styleAttributes = {}) {\n",
              "  const element = document.createElement('span');\n",
              "  element.textContent = text;\n",
              "  for (const key of Object.keys(styleAttributes)) {\n",
              "    element.style[key] = styleAttributes[key];\n",
              "  }\n",
              "  return element;\n",
              "}\n",
              "\n",
              "// Max number of bytes which will be uploaded at a time.\n",
              "const MAX_PAYLOAD_SIZE = 100 * 1024;\n",
              "\n",
              "function _uploadFiles(inputId, outputId) {\n",
              "  const steps = uploadFilesStep(inputId, outputId);\n",
              "  const outputElement = document.getElementById(outputId);\n",
              "  // Cache steps on the outputElement to make it available for the next call\n",
              "  // to uploadFilesContinue from Python.\n",
              "  outputElement.steps = steps;\n",
              "\n",
              "  return _uploadFilesContinue(outputId);\n",
              "}\n",
              "\n",
              "// This is roughly an async generator (not supported in the browser yet),\n",
              "// where there are multiple asynchronous steps and the Python side is going\n",
              "// to poll for completion of each step.\n",
              "// This uses a Promise to block the python side on completion of each step,\n",
              "// then passes the result of the previous step as the input to the next step.\n",
              "function _uploadFilesContinue(outputId) {\n",
              "  const outputElement = document.getElementById(outputId);\n",
              "  const steps = outputElement.steps;\n",
              "\n",
              "  const next = steps.next(outputElement.lastPromiseValue);\n",
              "  return Promise.resolve(next.value.promise).then((value) => {\n",
              "    // Cache the last promise value to make it available to the next\n",
              "    // step of the generator.\n",
              "    outputElement.lastPromiseValue = value;\n",
              "    return next.value.response;\n",
              "  });\n",
              "}\n",
              "\n",
              "/**\n",
              " * Generator function which is called between each async step of the upload\n",
              " * process.\n",
              " * @param {string} inputId Element ID of the input file picker element.\n",
              " * @param {string} outputId Element ID of the output display.\n",
              " * @return {!Iterable<!Object>} Iterable of next steps.\n",
              " */\n",
              "function* uploadFilesStep(inputId, outputId) {\n",
              "  const inputElement = document.getElementById(inputId);\n",
              "  inputElement.disabled = false;\n",
              "\n",
              "  const outputElement = document.getElementById(outputId);\n",
              "  outputElement.innerHTML = '';\n",
              "\n",
              "  const pickedPromise = new Promise((resolve) => {\n",
              "    inputElement.addEventListener('change', (e) => {\n",
              "      resolve(e.target.files);\n",
              "    });\n",
              "  });\n",
              "\n",
              "  const cancel = document.createElement('button');\n",
              "  inputElement.parentElement.appendChild(cancel);\n",
              "  cancel.textContent = 'Cancel upload';\n",
              "  const cancelPromise = new Promise((resolve) => {\n",
              "    cancel.onclick = () => {\n",
              "      resolve(null);\n",
              "    };\n",
              "  });\n",
              "\n",
              "  // Wait for the user to pick the files.\n",
              "  const files = yield {\n",
              "    promise: Promise.race([pickedPromise, cancelPromise]),\n",
              "    response: {\n",
              "      action: 'starting',\n",
              "    }\n",
              "  };\n",
              "\n",
              "  cancel.remove();\n",
              "\n",
              "  // Disable the input element since further picks are not allowed.\n",
              "  inputElement.disabled = true;\n",
              "\n",
              "  if (!files) {\n",
              "    return {\n",
              "      response: {\n",
              "        action: 'complete',\n",
              "      }\n",
              "    };\n",
              "  }\n",
              "\n",
              "  for (const file of files) {\n",
              "    const li = document.createElement('li');\n",
              "    li.append(span(file.name, {fontWeight: 'bold'}));\n",
              "    li.append(span(\n",
              "        `(${file.type || 'n/a'}) - ${file.size} bytes, ` +\n",
              "        `last modified: ${\n",
              "            file.lastModifiedDate ? file.lastModifiedDate.toLocaleDateString() :\n",
              "                                    'n/a'} - `));\n",
              "    const percent = span('0% done');\n",
              "    li.appendChild(percent);\n",
              "\n",
              "    outputElement.appendChild(li);\n",
              "\n",
              "    const fileDataPromise = new Promise((resolve) => {\n",
              "      const reader = new FileReader();\n",
              "      reader.onload = (e) => {\n",
              "        resolve(e.target.result);\n",
              "      };\n",
              "      reader.readAsArrayBuffer(file);\n",
              "    });\n",
              "    // Wait for the data to be ready.\n",
              "    let fileData = yield {\n",
              "      promise: fileDataPromise,\n",
              "      response: {\n",
              "        action: 'continue',\n",
              "      }\n",
              "    };\n",
              "\n",
              "    // Use a chunked sending to avoid message size limits. See b/62115660.\n",
              "    let position = 0;\n",
              "    do {\n",
              "      const length = Math.min(fileData.byteLength - position, MAX_PAYLOAD_SIZE);\n",
              "      const chunk = new Uint8Array(fileData, position, length);\n",
              "      position += length;\n",
              "\n",
              "      const base64 = btoa(String.fromCharCode.apply(null, chunk));\n",
              "      yield {\n",
              "        response: {\n",
              "          action: 'append',\n",
              "          file: file.name,\n",
              "          data: base64,\n",
              "        },\n",
              "      };\n",
              "\n",
              "      let percentDone = fileData.byteLength === 0 ?\n",
              "          100 :\n",
              "          Math.round((position / fileData.byteLength) * 100);\n",
              "      percent.textContent = `${percentDone}% done`;\n",
              "\n",
              "    } while (position < fileData.byteLength);\n",
              "  }\n",
              "\n",
              "  // All done.\n",
              "  yield {\n",
              "    response: {\n",
              "      action: 'complete',\n",
              "    }\n",
              "  };\n",
              "}\n",
              "\n",
              "scope.google = scope.google || {};\n",
              "scope.google.colab = scope.google.colab || {};\n",
              "scope.google.colab._files = {\n",
              "  _uploadFiles,\n",
              "  _uploadFilesContinue,\n",
              "};\n",
              "})(self);\n",
              "</script> "
            ]
          },
          "metadata": {}
        },
        {
          "output_type": "stream",
          "name": "stdout",
          "text": [
            "Saving sc_12_data.csv to sc_12_data.csv\n"
          ]
        }
      ]
    },
    {
      "cell_type": "code",
      "source": [
        "df = pd.read_csv('/content/sc_12_data.csv')"
      ],
      "metadata": {
        "id": "DVMgBuJrQwQb"
      },
      "execution_count": 3,
      "outputs": []
    },
    {
      "cell_type": "code",
      "source": [
        "df.columns"
      ],
      "metadata": {
        "colab": {
          "base_uri": "https://localhost:8080/"
        },
        "id": "e_R6_skMRBcR",
        "outputId": "bb841540-ca30-4ce9-d2c6-eaebaf262531"
      },
      "execution_count": 4,
      "outputs": [
        {
          "output_type": "execute_result",
          "data": {
            "text/plain": [
              "Index(['Unnamed: 0', 'ID', 'Year_Birth', 'Country', 'Education',\n",
              "       'Marital_Status', ' Income ', 'Kidhome', 'Teenhome', 'Dt_Customer',\n",
              "       'Recency', 'MntWines', 'MntFruits', 'MntMeatProducts',\n",
              "       'MntFishProducts', 'MntSweetProducts', 'MntGoldProds',\n",
              "       'NumDealsPurchases', 'NumWebPurchases', 'NumStorePurchases',\n",
              "       'NumWebVisitsMonth', 'Complain'],\n",
              "      dtype='object')"
            ]
          },
          "metadata": {},
          "execution_count": 4
        }
      ]
    },
    {
      "cell_type": "code",
      "source": [
        "df = df.rename(columns={' Income ': 'Income'})\n",
        "df.columns"
      ],
      "metadata": {
        "colab": {
          "base_uri": "https://localhost:8080/"
        },
        "id": "7KVuZJhlRrNf",
        "outputId": "057ec43c-0dde-4c86-d3ca-6677c227e5f4"
      },
      "execution_count": 5,
      "outputs": [
        {
          "output_type": "execute_result",
          "data": {
            "text/plain": [
              "Index(['Unnamed: 0', 'ID', 'Year_Birth', 'Country', 'Education',\n",
              "       'Marital_Status', 'Income', 'Kidhome', 'Teenhome', 'Dt_Customer',\n",
              "       'Recency', 'MntWines', 'MntFruits', 'MntMeatProducts',\n",
              "       'MntFishProducts', 'MntSweetProducts', 'MntGoldProds',\n",
              "       'NumDealsPurchases', 'NumWebPurchases', 'NumStorePurchases',\n",
              "       'NumWebVisitsMonth', 'Complain'],\n",
              "      dtype='object')"
            ]
          },
          "metadata": {},
          "execution_count": 5
        }
      ]
    },
    {
      "cell_type": "code",
      "source": [
        "df.isnull().sum()"
      ],
      "metadata": {
        "colab": {
          "base_uri": "https://localhost:8080/"
        },
        "id": "cSZEUYaJSJZZ",
        "outputId": "29ade1d4-91c8-46e8-aeae-a39813b7eefc"
      },
      "execution_count": 6,
      "outputs": [
        {
          "output_type": "execute_result",
          "data": {
            "text/plain": [
              "Unnamed: 0            0\n",
              "ID                    0\n",
              "Year_Birth            0\n",
              "Country               0\n",
              "Education             0\n",
              "Marital_Status        0\n",
              "Income               21\n",
              "Kidhome               0\n",
              "Teenhome              0\n",
              "Dt_Customer           0\n",
              "Recency               0\n",
              "MntWines              0\n",
              "MntFruits             0\n",
              "MntMeatProducts       0\n",
              "MntFishProducts       0\n",
              "MntSweetProducts      0\n",
              "MntGoldProds          0\n",
              "NumDealsPurchases     0\n",
              "NumWebPurchases       0\n",
              "NumStorePurchases     0\n",
              "NumWebVisitsMonth     0\n",
              "Complain              0\n",
              "dtype: int64"
            ]
          },
          "metadata": {},
          "execution_count": 6
        }
      ]
    },
    {
      "cell_type": "code",
      "source": [
        "df = df.dropna()\n",
        "df = df.reset_index(drop=True)\n",
        "df.isnull().sum()"
      ],
      "metadata": {
        "colab": {
          "base_uri": "https://localhost:8080/"
        },
        "id": "PcnYk7o9Si_8",
        "outputId": "cf6b7f50-be29-44f5-8708-0e684e36e739"
      },
      "execution_count": 7,
      "outputs": [
        {
          "output_type": "execute_result",
          "data": {
            "text/plain": [
              "Unnamed: 0           0\n",
              "ID                   0\n",
              "Year_Birth           0\n",
              "Country              0\n",
              "Education            0\n",
              "Marital_Status       0\n",
              "Income               0\n",
              "Kidhome              0\n",
              "Teenhome             0\n",
              "Dt_Customer          0\n",
              "Recency              0\n",
              "MntWines             0\n",
              "MntFruits            0\n",
              "MntMeatProducts      0\n",
              "MntFishProducts      0\n",
              "MntSweetProducts     0\n",
              "MntGoldProds         0\n",
              "NumDealsPurchases    0\n",
              "NumWebPurchases      0\n",
              "NumStorePurchases    0\n",
              "NumWebVisitsMonth    0\n",
              "Complain             0\n",
              "dtype: int64"
            ]
          },
          "metadata": {},
          "execution_count": 7
        }
      ]
    },
    {
      "cell_type": "code",
      "source": [
        "import re\n",
        "\n",
        "def cleaning(df):\n",
        "    li = []\n",
        "    for row in df['Income']:\n",
        "      splited = row.split('.') # .을 기준으로 문자열을 분리합니다.\n",
        "      result = re.sub('[^0-9]','', splited[0]) # .기준 앞 부분만 활용하여 숫자가 아닌 문자는 공백으로 치환합니다.\n",
        "      li.append(int(result))\n",
        "\n",
        "    df['Income'] = li"
      ],
      "metadata": {
        "id": "mevYQgsBTPso"
      },
      "execution_count": 8,
      "outputs": []
    },
    {
      "cell_type": "code",
      "source": [
        "cleaning(df)\n",
        "df.Income"
      ],
      "metadata": {
        "colab": {
          "base_uri": "https://localhost:8080/"
        },
        "id": "X5NgE4AOTcqS",
        "outputId": "43e89ff7-9d5b-444c-de3b-38f80a7953bd"
      },
      "execution_count": 9,
      "outputs": [
        {
          "output_type": "execute_result",
          "data": {
            "text/plain": [
              "0       84835\n",
              "1       57091\n",
              "2       67267\n",
              "3       32474\n",
              "4       21474\n",
              "        ...  \n",
              "2114    78901\n",
              "2115    66476\n",
              "2116    31056\n",
              "2117    46310\n",
              "2118    65819\n",
              "Name: Income, Length: 2119, dtype: int64"
            ]
          },
          "metadata": {},
          "execution_count": 9
        }
      ]
    },
    {
      "cell_type": "code",
      "source": [
        "import matplotlib.pyplot as plt\n",
        "plt.hist(df['Income']);\n",
        "\n",
        "plt.hist(df.loc[df['Income'] < 120000, 'Income']);"
      ],
      "metadata": {
        "colab": {
          "base_uri": "https://localhost:8080/",
          "height": 265
        },
        "id": "SP5OLrDfTsBN",
        "outputId": "ad9682cc-ebae-467d-a96f-852fdde7f195"
      },
      "execution_count": 10,
      "outputs": [
        {
          "output_type": "display_data",
          "data": {
            "text/plain": [
              "<Figure size 432x288 with 1 Axes>"
            ],
            "image/png": "[encoded data removed]"
          },
          "metadata": {
            "needs_background": "light"
          }
        }
      ]
    },
    {
      "cell_type": "code",
      "source": [
        "#Income이 120000 이상이 되는 값은 이상치로 간주하여 해당 row를 삭제하고 인덱스를 재설정하세요.\n",
        "df_final = df.query(\"Income < 120000\")\n",
        "df_final = df_final.reset_index(drop=True)\n",
        "#Income만 들고왔는데 도전과제를 위해 전체 데이터를 들고 왔었어야함\n",
        "#df_final = df_final.Income (원래 코드)\n",
        "df_final.shape"
      ],
      "metadata": {
        "id": "fhN-xZGrT_AG",
        "colab": {
          "base_uri": "https://localhost:8080/"
        },
        "outputId": "c0032325-e35e-4986-a4b1-8e3f021cb79a"
      },
      "execution_count": 42,
      "outputs": [
        {
          "output_type": "execute_result",
          "data": {
            "text/plain": [
              "(2111, 22)"
            ]
          },
          "metadata": {},
          "execution_count": 42
        }
      ]
    },
    {
      "cell_type": "code",
      "source": [
        "# 레퍼런스 풀이\n",
        "# outlier = df.loc[df['Income'] >= 120000, 'Income'].index\n",
        "\n",
        "# final = df.copy()\n",
        "\n",
        "# final = final.drop(labels=outlier, axis=0).reset_index(drop=True)\n",
        "\n",
        "# final.shape"
      ],
      "metadata": {
        "colab": {
          "base_uri": "https://localhost:8080/"
        },
        "id": "WHBLRfLd1lFv",
        "outputId": "b04150c0-e107-4cb2-b295-1cd6cc8a617b"
      },
      "execution_count": 36,
      "outputs": [
        {
          "output_type": "execute_result",
          "data": {
            "text/plain": [
              "(2111, 22)"
            ]
          },
          "metadata": {},
          "execution_count": 36
        }
      ]
    },
    {
      "cell_type": "markdown",
      "source": [
        "##### **Q2. `df_final`의 행의 개수를 쓰세요.**"
      ],
      "metadata": {
        "id": "U9teUfVZBMpK"
      }
    },
    {
      "cell_type": "code",
      "source": [
        "# 아래의 코드를 실행해 주세요. 업그레이드 완료 후에는 런타임을 재시작해야 합니다. \n",
        "!pip install scipy --upgrade"
      ],
      "metadata": {
        "colab": {
          "base_uri": "https://localhost:8080/"
        },
        "id": "jR7CP6nFSQKw",
        "outputId": "d007ae22-8ff4-485b-bccd-f4adea8633cf"
      },
      "execution_count": 12,
      "outputs": [
        {
          "output_type": "stream",
          "name": "stdout",
          "text": [
            "Looking in indexes: https://pypi.org/simple, https://us-python.pkg.dev/colab-wheels/public/simple/\n",
            "Requirement already satisfied: scipy in /usr/local/lib/python3.9/dist-packages (1.10.1)\n",
            "Requirement already satisfied: numpy<1.27.0,>=1.19.5 in /usr/local/lib/python3.9/dist-packages (from scipy) (1.22.4)\n"
          ]
        }
      ]
    },
    {
      "cell_type": "code",
      "source": [
        "df_final.shape[0]"
      ],
      "metadata": {
        "id": "KYlkINRZl_3f",
        "colab": {
          "base_uri": "https://localhost:8080/"
        },
        "outputId": "739b4507-0ef3-4a72-8593-5a357b62719a"
      },
      "execution_count": 13,
      "outputs": [
        {
          "output_type": "execute_result",
          "data": {
            "text/plain": [
              "2111"
            ]
          },
          "metadata": {},
          "execution_count": 13
        }
      ]
    },
    {
      "cell_type": "markdown",
      "source": [
        "### **2-2. sample의 평균값과 모집단의 평균값을 비교해봅니다.**\n",
        "\n",
        "- `seed`는 2로 지정하세요.\n",
        "  - 동일한 결과값을 도출하기 위해, seed 지정 코드 하단에 이 문제에 대한 코드를 작성해주세요.\n",
        "- `df_final`을 모집단으로 가정한 후, `Income` column의 평균을 구해 `mean_pop` 변수에 저장하세요.\n",
        "- sample size가 5일 때, 해당 데이터셋의 `Income` 데이터를 10,000번 중복 추출한 표본 평균들을 `sample_5` 라는 이름의 array에 저장하세요.\n",
        "  - `mean_pop`에서 `sample_5`의 평균을 뺀 값을 `diff_5`에 저장하세요.\n",
        "- sample size가 200일 때, 해당 데이터셋의 `Income` 데이터를 10,000번 중복 추출한 표본 평균들을 `sample_200` 라는 이름의 array에 저장하세요.\n",
        "  - `mean_pop`에서 `sample_200`의 평균을 뺀 값을 `diff_200`에 저장하세요.\n",
        "\n",
        "\n"
      ],
      "metadata": {
        "id": "3iICO7ltZe_Y"
      }
    },
    {
      "cell_type": "markdown",
      "source": [
        "##### **Q3. `diff_5`, `diff_200`의 결과를 각각 반올림하여 소수점 둘째 자리까지 (`diff_5`, `diff_200`)의 형태로 쓰세요.**\n",
        "\n",
        "- 동일한 결과값을 도출하기 위해, seed 지정 코드를 반드시 실행 해야 합니다.\n",
        "- 2-2 문제를 푸는데 필요한 모든 내용이 seed 지정 코드가 있는 셀에 들어가도록 코드를 작성해주세요.\n"
      ],
      "metadata": {
        "id": "1xyWbCuNBbRq"
      }
    },
    {
      "cell_type": "code",
      "source": [
        "import random\n",
        "# seed 지정 (반드시 실행)\n",
        "np.random.seed(2)\n",
        "\n",
        "# 이곳에 2-2번 문제에 대한 모든 코드를 작성하세요.\n",
        "mean_pop=df_final.mean()\n",
        "sample_5 = []\n",
        "for i in range(10000):\n",
        "  sample=np.random.choice(df_final,5,replace=True)\n",
        "  sample_5.append(sample.mean())\n",
        "\n",
        "sample_5 = np.array(sample_5)\n",
        "diff_5 = mean_pop-sample_5.mean()\n",
        "\n",
        "sample_200 = []\n",
        "for i in range(10000):\n",
        "  sample=np.random.choice(df_final,200,replace=True)\n",
        "  sample_200.append(sample.mean())\n",
        "\n",
        "sample_200 = np.array(sample_200)\n",
        "diff_200 = mean_pop-sample_200.mean()\n",
        "\n",
        "round(diff_5,2),round(diff_200,2)"
      ],
      "metadata": {
        "id": "zft5OPCcXGef",
        "colab": {
          "base_uri": "https://localhost:8080/"
        },
        "outputId": "a48848b0-cf55-4c24-bccd-485dfdc36f31"
      },
      "execution_count": 14,
      "outputs": [
        {
          "output_type": "execute_result",
          "data": {
            "text/plain": [
              "(101.97, 11.35)"
            ]
          },
          "metadata": {},
          "execution_count": 14
        }
      ]
    },
    {
      "cell_type": "markdown",
      "source": [
        "### **2-3. sample의 분포를 통해 신뢰구간을 확인합니다.**\n",
        "**2-2**에서 구현한 `sample_200` 표본 분포를 활용하여 모집단의 모수를 포함할 확률이 95%가 되는 구간을 찾아봅니다.\n",
        "\n"
      ],
      "metadata": {
        "id": "mlPTnYPCZosQ"
      }
    },
    {
      "cell_type": "markdown",
      "source": [
        "##### **Q4. 95% 신뢰구간의 lower limit과 upper limit을 각각 반올림하여 소수점 둘째 자리까지 (lower limit, upper limit)의 형태로 쓰세요.**"
      ],
      "metadata": {
        "id": "VvDR30q5Bvk_"
      }
    },
    {
      "cell_type": "code",
      "source": [
        "lower, upper = np.percentile(sample_200, 2.5), np.percentile(sample_200, 97.5) \n",
        "round(lower,2),round(upper,2)"
      ],
      "metadata": {
        "id": "bqkUt_3WmG95",
        "colab": {
          "base_uri": "https://localhost:8080/"
        },
        "outputId": "dad31777-4e6f-4ffa-d863-d672cc930a71"
      },
      "execution_count": 15,
      "outputs": [
        {
          "output_type": "execute_result",
          "data": {
            "text/plain": [
              "(48895.97, 54727.84)"
            ]
          },
          "metadata": {},
          "execution_count": 15
        }
      ]
    },
    {
      "cell_type": "markdown",
      "source": [
        "## **Part 3. Hypothesis Test**\n",
        "\n",
        "데이터에서 다양한 시나리오를 파악하고 옳은 가설을 세우는 것은 매우 중요합니다. 위에 우리에게 주어진 데이터셋에 대해서도 다양한 시나리오에 대해 생각해볼 수 있습니다.\n",
        "\n",
        "주어진 데이터셋에는 자녀가 청소년인지 여부를 나타내는 `Teenhome`과 연간 수입을 나타내는 `Income` 정보가 존재하는데, 청소년 자녀가 있는 경우 자녀의 연령에 따라 증가하는 지출, 고객의 회사 내 지위 등을 고려하여 수입이 증가할 것이라는 가설을 생각해 볼 수 있습니다. \n",
        "\n",
        "따라서 **고객의 자녀가 청소년인지 여부에 따라 연간 수입 평균값의 차이가 있는지** 가설검정을 통해 확인해보도록 하겠습니다."
      ],
      "metadata": {
        "id": "DcPtz22vU_Uw"
      }
    },
    {
      "cell_type": "markdown",
      "source": [
        "### **3-1. One-tailed Test**\n",
        "\n",
        "> 고객의 자녀가 청소년인 경우의 연간 수입 평균값이 그렇지 않은 경우보다 더 많은지 가설 검증을 시행하고자 합니다. ($\\alpha$ = 0.05)\n",
        "- 자녀가 청소년인 경우 고객의 연간 수입 평균값: $μ_{yes}$\n",
        "- 자녀가 청소년이 아닌 경우 고객의 연간 수입 평균값: $μ_{no}$\n",
        "\n",
        "\n",
        "\n",
        "\n"
      ],
      "metadata": {
        "id": "Zi8GxxoqHW78"
      }
    },
    {
      "cell_type": "markdown",
      "source": [
        "\n",
        "- 이번 문제에서는 scipy 라이브러리의 [`.ttest_ind()`](https://docs.scipy.org/doc/scipy/reference/generated/scipy.stats.ttest_ind.html)를 사용하여 가설검정을 진행하세요.\n",
        "  - `equal_val` 파라미터를 False로 지정합니다."
      ],
      "metadata": {
        "id": "vuLH6E51GCVP"
      }
    },
    {
      "cell_type": "markdown",
      "source": [
        "##### **Q5. 이 경우에는 귀무가설과 대립가설을 어떻게 세워야 할까요?**\n",
        "\n",
        "a. $H_0$: $μ_{no} ≥ μ_{yes}\\;$, $\\;H_a$: $μ_{no} < μ_{yes}$\n",
        "\n",
        "b. $H_0$: $μ_{no} < μ_{yes}\\;$, $\\;H_a$: $μ_{no} ≥ μ_{yes}$\n",
        "\n",
        "c. $H_0$: $μ_{no} > μ_{yes}\\;$, $\\;H_a$: $μ_{no} ≤ μ_{yes}$\n",
        "\n",
        "d. $H_0$: $μ_{no} ≤ μ_{yes}\\;$, $\\;H_a$: $μ_{no} > μ_{yes}$\n",
        "\n",
        "\n",
        "\n"
      ],
      "metadata": {
        "id": "aTPhPeTmCF6g"
      }
    },
    {
      "cell_type": "markdown",
      "source": [
        "**`이곳에 Q5에 대한 답을 작성하세요.`**"
      ],
      "metadata": {
        "id": "1TW2aQBSZk8m"
      }
    },
    {
      "cell_type": "code",
      "source": [
        "# a"
      ],
      "metadata": {
        "id": "M0rcNkrlXskA"
      },
      "execution_count": 16,
      "outputs": []
    },
    {
      "cell_type": "markdown",
      "source": [
        "##### **Q6. 다음 중 위의 가설검정 결과로 나온 p-value를 통해 도출한 결론을 고르세요.** \n",
        "\n",
        "a. p-value가 0.05보다 작으므로 귀무가설을 기각하고 대립가설을 채택한다.\n",
        "\n",
        "b. p-value가 0.05보다 크므로 귀무가설을 기각하지 못한다.\n",
        "\n",
        "c. p-value가 0.05보다 작으므로 귀무가설을 기각하지 못한다.\n",
        "\n",
        "d. p-value가 0.05보다 크므로 귀무가설을 기각하고 대립가설을 채택한다.\n",
        "\n",
        "e. p-value가 0.05보다 크므로 귀무가설과 대립가설 모두를 채택한다."
      ],
      "metadata": {
        "id": "wxR02lXtCMjE"
      }
    },
    {
      "cell_type": "code",
      "source": [
        "df_final.info()"
      ],
      "metadata": {
        "colab": {
          "base_uri": "https://localhost:8080/"
        },
        "id": "H5rY4xjC02Ls",
        "outputId": "2cacd1d2-10f5-49d2-f1c4-c6ca805f81a5"
      },
      "execution_count": 34,
      "outputs": [
        {
          "output_type": "stream",
          "name": "stdout",
          "text": [
            "<class 'pandas.core.series.Series'>\n",
            "RangeIndex: 2111 entries, 0 to 2110\n",
            "Series name: Income\n",
            "Non-Null Count  Dtype\n",
            "--------------  -----\n",
            "2111 non-null   int64\n",
            "dtypes: int64(1)\n",
            "memory usage: 16.6 KB\n"
          ]
        }
      ]
    },
    {
      "cell_type": "code",
      "source": [
        "import scipy.stats\n",
        "#Teenhome 0이 없는경우 1이 있는경우, Income\n",
        "\n",
        "'''\n",
        "*원본코드\n",
        "df에서 하는줄 알았는데 df_final의 데이터로 하는 것\n",
        "게다가 df_final은 Income만 들고 왔어서 수정함\n",
        "df_0=df.query(\"Teenhome==0\").Income\n",
        "df_1=df.query(\"Teenhome==1\").Income\n",
        "scipy.stats.ttest_ind(df_0,df_1,equal_var=False,alternative='less').pvalue\n",
        "'''\n",
        "\n",
        "df_0=df_final.query(\"Teenhome==0\").Income\n",
        "df_1=df_final.query(\"Teenhome==1\").Income\n",
        "pval1 = scipy.stats.ttest_ind(df_0,df_1,equal_var=False,alternative='less').pvalue\n",
        "round(pval1,3)"
      ],
      "metadata": {
        "colab": {
          "base_uri": "https://localhost:8080/"
        },
        "id": "dn31wXU8Y2PX",
        "outputId": "19557975-f6db-49a6-bfcc-f2676df5f7ce"
      },
      "execution_count": 44,
      "outputs": [
        {
          "output_type": "execute_result",
          "data": {
            "text/plain": [
              "0.051"
            ]
          },
          "metadata": {},
          "execution_count": 44
        }
      ]
    },
    {
      "cell_type": "code",
      "source": [
        "df_0.mean()"
      ],
      "metadata": {
        "colab": {
          "base_uri": "https://localhost:8080/"
        },
        "id": "rcUOniuB3Dp9",
        "outputId": "1159fcaa-51ab-4f2c-e6a7-076f52e5a786"
      },
      "execution_count": 45,
      "outputs": [
        {
          "output_type": "execute_result",
          "data": {
            "text/plain": [
              "51134.12989323843"
            ]
          },
          "metadata": {},
          "execution_count": 45
        }
      ]
    },
    {
      "cell_type": "markdown",
      "source": [
        "**`이곳에 Q6에 대한 답을 작성하세요.`**"
      ],
      "metadata": {
        "id": "AGQzJvEoaUeG"
      }
    },
    {
      "cell_type": "markdown",
      "source": [
        "### **3-2. Two-tailed Test**\n",
        "\n",
        "> 고객의 자녀가 청소년인 경우의 연간 수입 평균값이 그렇지 않은 경우와 차이가 있는지 가설검정을 시행하고자 합니다. ($\\alpha$ = 0.05)\n",
        "- 자녀가 청소년인 경우 고객의 연간 수입 평균값: $μ_{yes}$\n",
        "- 자녀가 청소년이 아닌 경우 고객의 연간 수입 평균값: $μ_{no}$\n",
        "\n",
        "- 이번 문제에서는 scipy 라이브러리의 [`.ttest_ind()`](https://docs.scipy.org/doc/scipy/reference/generated/scipy.stats.ttest_ind.html)를 사용하여 가설검정을 진행하세요.\n",
        "  - `equal_val` 파라미터를 False로 지정합니다.\n",
        "\n",
        "\n",
        "\n",
        "\n"
      ],
      "metadata": {
        "id": "CXIay0_nQfqC"
      }
    },
    {
      "cell_type": "markdown",
      "source": [
        "##### **Q7. 이 경우에는 귀무가설과 대립가설을 어떻게 세워야 할까요?** \n",
        "\n",
        "a. $H_0$: $μ_{no} \\neq\\; μ_{yes}\\;$, $\\;H_a$: $μ_{no} = \\;μ_{yes}$\n",
        "\n",
        "b. $H_0$: $μ_{no} < μ_{yes}\\;$, $\\;H_a$: $μ_{no} ≥ μ_{yes}$\n",
        "\n",
        "c. $H_0$: $μ_{no} =\\; μ_{yes}\\;$, $\\;H_a$: $μ_{no} \\neq \\;μ_{yes}$ \n",
        "\n",
        "d. $H_0$: $μ_{no} ≤ μ_{yes}\\;$, $\\;H_a$: $μ_{no} > μ_{yes}$\n",
        "\n",
        "</br>\n",
        "\n",
        "\n",
        "\n",
        "\n",
        "\n"
      ],
      "metadata": {
        "id": "2o_fsRGMSvPM"
      }
    },
    {
      "cell_type": "markdown",
      "source": [
        "**`이곳에 Q7에 대한 답을 작성하세요.`**"
      ],
      "metadata": {
        "id": "LR-PvAWHaNSp"
      }
    },
    {
      "cell_type": "markdown",
      "source": [
        "##### **Q8. 위의 가설 검정 결과로 나온 p-value를 반올림하여 소수점 셋째 자리까지 쓰세요.**"
      ],
      "metadata": {
        "id": "lpIx4YjvCZRe"
      }
    },
    {
      "cell_type": "code",
      "source": [
        "'''\n",
        "원본 코드는 맞았지만 위에서 df_final의 데이터셋으로 하는 줄 모르고\n",
        "df_final은 Income만 들고 왔었고 그리고 이상치 제거를 안한 df데이터 셋으로 했어서 결과가 이상하게 나옴\n",
        "'''\n",
        "#round(scipy.stats.ttest_ind(df_0,df_1,equal_var=False).pvalue,3)"
      ],
      "metadata": {
        "id": "61ogWGYwmtz1",
        "colab": {
          "base_uri": "https://localhost:8080/"
        },
        "outputId": "9732efb9-8f6c-4fba-f3d4-c34d434efc64"
      },
      "execution_count": 18,
      "outputs": [
        {
          "output_type": "execute_result",
          "data": {
            "text/plain": [
              "0.542"
            ]
          },
          "metadata": {},
          "execution_count": 18
        }
      ]
    },
    {
      "cell_type": "code",
      "source": [
        "round(scipy.stats.ttest_ind(df_0,df_1,equal_var=False).pvalue,3)"
      ],
      "metadata": {
        "colab": {
          "base_uri": "https://localhost:8080/"
        },
        "id": "EJHRXFy83nF_",
        "outputId": "19e3bf5c-328d-4586-f53c-dad8cf28bb67"
      },
      "execution_count": 46,
      "outputs": [
        {
          "output_type": "execute_result",
          "data": {
            "text/plain": [
              "0.101"
            ]
          },
          "metadata": {},
          "execution_count": 46
        }
      ]
    },
    {
      "cell_type": "markdown",
      "source": [
        "## **Part 4. 도전 과제**\n",
        "\n",
        "위에서 요구된 사항들을 모두 정확하게 만족하였으며, 아래 내용 또한 만족하는 경우 3점을 얻을 수 있습니다. \n",
        "\n",
        "아래 요구사항은 **optional** 임을 다시 한 번 강조합니다. (필수 요구사항이 아닙니다.)\n",
        "\n",
        "---\n",
        "\n",
        "#### **$\\chi^2$ 가설 검정을 시행합니다**\n",
        "\n",
        "우리가 사용할 $\\chi^2$ - test는 어떤 경우에 사용하는 가설 검정 방법인지 알아봅시다.\n",
        "\n",
        "\n",
        "- one sample $\\chi^2$ - test (적합도 검정)\n",
        "  > **주어진 하나의 범주형 변수의 분포가 특정 예상되는 분포와 동일한 분포를 나타내는지** 에 대한 가설 검정 방법\n",
        "\n",
        "  - 귀무가설($H_0$): 주어진 변수 X의 관측분포와 특정 예상 분포가 동일하다.\n",
        "  - 대립가설($H_a$): 주어진 변수 X의 관측분포와 특정 예상 분포가 다르다.\n",
        "\n",
        "- two sample $\\chi^2$ - test (독립성 검정)\n",
        "  > **두 개의 범주형 변수가 서로 연관되어 있는지 여부**에 대한 가설 검정 방법\n",
        "\n",
        "  - 귀무가설($H_0$): 변수 X와 Y는 서로 독립이다. (연관 없음)\n",
        "  - 대립가설($H_a$): 변수 X와 Y는 서로 독립이 아니다. (연관 있음)\n",
        "\n",
        "</br>\n",
        "\n",
        "위의 가설검정 방법에 대한 설명을 참고하여 진행해봅니다.\n"
      ],
      "metadata": {
        "id": "YzB1I36NgOkw"
      }
    },
    {
      "cell_type": "markdown",
      "source": [
        "### **4-1. one sample $\\chi^2$ - test**\n",
        "\n",
        "> XYZ사는 다국적 기업으로 다양한 나라에 고객층을 확보하고 있으며, 5월을 맞아 **기혼자를 대상으로 한 이벤트를 기획**하려고 합니다. 이때, 우리는 모든 국가를 대상으로 이벤트를 진행하는 것이 효율적인지 $\\chi^2$ - test를 통해 확인해보려 합니다. 만약 국적별 기혼자의 빈도가 비슷하다면, XYZ사는 모든 국가를 대상으로 이벤트를 진행하는 것을 고려할 것이고, 그렇지 않다면, 어떤 국적의 고객이 더 많은지 파악하는 추가 분석이 필요할 것입니다.\n"
      ],
      "metadata": {
        "id": "PqOZQRk2kbkd"
      }
    },
    {
      "cell_type": "markdown",
      "source": [
        "#### **기혼자의 빈도가 모든 나라에 대해 균일한지 가설 검정을 해보세요.**\n",
        "\n",
        "---\n",
        "\n",
        "[공식문서](https://docs.scipy.org/doc/scipy/reference/generated/scipy.stats.chisquare.html)를 참고하여 아래에 명시된 가설을 검정해봅시다. ($\\alpha$ = 0.05)\n",
        "- 귀무가설($H_0$): 고객의 국적(Country)별 기혼자(Married)의 빈도가 균일하게 분포되어 있다.\n",
        "- 대립가설($H_a$): 고객의 국적(Country)별 기혼자(Married)의 빈도가 균일하게 분포되어 있지 않다.\n",
        "\n",
        "> **Hint:** categorical feature 간의 \"cross tab\"을 생성하여 탐색해 보세요 (aka [contingency tables](https://en.wikipedia.org/wiki/Contingency_table)). 그리고 $\\chi^2 test$를 적용해 보세요. [pandas.crosstab](http://pandas.pydata.org/pandas-docs/stable/reference/api/pandas.crosstab.html)을 사용하면 contingency table 을 생성할 수 있습니다."
      ],
      "metadata": {
        "id": "pHHK1iOiE1qV"
      }
    },
    {
      "cell_type": "code",
      "source": [
        "'''\n",
        "아랫 코드 역시 df_final로 했어야 했다.\n",
        "df를 df_final로 수정\n",
        "'''"
      ],
      "metadata": {
        "id": "NyZwod-x3xc7"
      },
      "execution_count": null,
      "outputs": []
    },
    {
      "cell_type": "code",
      "source": [
        "table = pd.crosstab(df_final['Country'], df_final['Marital_Status'])\n",
        "table"
      ],
      "metadata": {
        "colab": {
          "base_uri": "https://localhost:8080/",
          "height": 332
        },
        "id": "nS72aJFtjFBS",
        "outputId": "be1bc569-e871-4054-efe3-b2705f452aea"
      },
      "execution_count": 48,
      "outputs": [
        {
          "output_type": "execute_result",
          "data": {
            "text/plain": [
              "Marital_Status  Absurd  Alone  Divorced  Married  Single  Together  Widow  \\\n",
              "Country                                                                     \n",
              "AUS                  1      0        18       63      17        36      5   \n",
              "CA                   1      3        26       94      56        62      6   \n",
              "GER                  0      0         6       56      18        31      4   \n",
              "IND                  0      0        10       51      35        36      4   \n",
              "ME                   0      0         0        0       2         1      0   \n",
              "SA                   0      0        43      103      66        91     12   \n",
              "SP                   0      0       102      413     230       264     42   \n",
              "US                   0      0        16       32      28        23      2   \n",
              "\n",
              "Marital_Status  YOLO  \n",
              "Country               \n",
              "AUS                0  \n",
              "CA                 1  \n",
              "GER                0  \n",
              "IND                1  \n",
              "ME                 0  \n",
              "SA                 0  \n",
              "SP                 0  \n",
              "US                 0  "
            ],
            "text/html": [
              "\n",
              "  <div id=\"df-c9e50d3e-bc87-4dba-88fb-ebc77b38f8d1\">\n",
              "    <div class=\"colab-df-container\">\n",
              "      <div>\n",
              "<style scoped>\n",
              "    .dataframe tbody tr th:only-of-type {\n",
              "        vertical-align: middle;\n",
              "    }\n",
              "\n",
              "    .dataframe tbody tr th {\n",
              "        vertical-align: top;\n",
              "    }\n",
              "\n",
              "    .dataframe thead th {\n",
              "        text-align: right;\n",
              "    }\n",
              "</style>\n",
              "<table border=\"1\" class=\"dataframe\">\n",
              "  <thead>\n",
              "    <tr style=\"text-align: right;\">\n",
              "      <th>Marital_Status</th>\n",
              "      <th>Absurd</th>\n",
              "      <th>Alone</th>\n",
              "      <th>Divorced</th>\n",
              "      <th>Married</th>\n",
              "      <th>Single</th>\n",
              "      <th>Together</th>\n",
              "      <th>Widow</th>\n",
              "      <th>YOLO</th>\n",
              "    </tr>\n",
              "    <tr>\n",
              "      <th>Country</th>\n",
              "      <th></th>\n",
              "      <th></th>\n",
              "      <th></th>\n",
              "      <th></th>\n",
              "      <th></th>\n",
              "      <th></th>\n",
              "      <th></th>\n",
              "      <th></th>\n",
              "    </tr>\n",
              "  </thead>\n",
              "  <tbody>\n",
              "    <tr>\n",
              "      <th>AUS</th>\n",
              "      <td>1</td>\n",
              "      <td>0</td>\n",
              "      <td>18</td>\n",
              "      <td>63</td>\n",
              "      <td>17</td>\n",
              "      <td>36</td>\n",
              "      <td>5</td>\n",
              "      <td>0</td>\n",
              "    </tr>\n",
              "    <tr>\n",
              "      <th>CA</th>\n",
              "      <td>1</td>\n",
              "      <td>3</td>\n",
              "      <td>26</td>\n",
              "      <td>94</td>\n",
              "      <td>56</td>\n",
              "      <td>62</td>\n",
              "      <td>6</td>\n",
              "      <td>1</td>\n",
              "    </tr>\n",
              "    <tr>\n",
              "      <th>GER</th>\n",
              "      <td>0</td>\n",
              "      <td>0</td>\n",
              "      <td>6</td>\n",
              "      <td>56</td>\n",
              "      <td>18</td>\n",
              "      <td>31</td>\n",
              "      <td>4</td>\n",
              "      <td>0</td>\n",
              "    </tr>\n",
              "    <tr>\n",
              "      <th>IND</th>\n",
              "      <td>0</td>\n",
              "      <td>0</td>\n",
              "      <td>10</td>\n",
              "      <td>51</td>\n",
              "      <td>35</td>\n",
              "      <td>36</td>\n",
              "      <td>4</td>\n",
              "      <td>1</td>\n",
              "    </tr>\n",
              "    <tr>\n",
              "      <th>ME</th>\n",
              "      <td>0</td>\n",
              "      <td>0</td>\n",
              "      <td>0</td>\n",
              "      <td>0</td>\n",
              "      <td>2</td>\n",
              "      <td>1</td>\n",
              "      <td>0</td>\n",
              "      <td>0</td>\n",
              "    </tr>\n",
              "    <tr>\n",
              "      <th>SA</th>\n",
              "      <td>0</td>\n",
              "      <td>0</td>\n",
              "      <td>43</td>\n",
              "      <td>103</td>\n",
              "      <td>66</td>\n",
              "      <td>91</td>\n",
              "      <td>12</td>\n",
              "      <td>0</td>\n",
              "    </tr>\n",
              "    <tr>\n",
              "      <th>SP</th>\n",
              "      <td>0</td>\n",
              "      <td>0</td>\n",
              "      <td>102</td>\n",
              "      <td>413</td>\n",
              "      <td>230</td>\n",
              "      <td>264</td>\n",
              "      <td>42</td>\n",
              "      <td>0</td>\n",
              "    </tr>\n",
              "    <tr>\n",
              "      <th>US</th>\n",
              "      <td>0</td>\n",
              "      <td>0</td>\n",
              "      <td>16</td>\n",
              "      <td>32</td>\n",
              "      <td>28</td>\n",
              "      <td>23</td>\n",
              "      <td>2</td>\n",
              "      <td>0</td>\n",
              "    </tr>\n",
              "  </tbody>\n",
              "</table>\n",
              "</div>\n",
              "      <button class=\"colab-df-convert\" onclick=\"convertToInteractive('df-c9e50d3e-bc87-4dba-88fb-ebc77b38f8d1')\"\n",
              "              title=\"Convert this dataframe to an interactive table.\"\n",
              "              style=\"display:none;\">\n",
              "        \n",
              "  <svg xmlns=\"http://www.w3.org/2000/svg\" height=\"24px\"viewBox=\"0 0 24 24\"\n",
              "       width=\"24px\">\n",
              "    <path d=\"M0 0h24v24H0V0z\" fill=\"none\"/>\n",
              "    <path d=\"M18.56 5.44l.94 2.06.94-2.06 2.06-.94-2.06-.94-.94-2.06-.94 2.06-2.06.94zm-11 1L8.5 8.5l.94-2.06 2.06-.94-2.06-.94L8.5 2.5l-.94 2.06-2.06.94zm10 10l.94 2.06.94-2.06 2.06-.94-2.06-.94-.94-2.06-.94 2.06-2.06.94z\"/><path d=\"M17.41 7.96l-1.37-1.37c-.4-.4-.92-.59-1.43-.59-.52 0-1.04.2-1.43.59L10.3 9.45l-7.72 7.72c-.78.78-.78 2.05 0 2.83L4 21.41c.39.39.9.59 1.41.59.51 0 1.02-.2 1.41-.59l7.78-7.78 2.81-2.81c.8-.78.8-2.07 0-2.86zM5.41 20L4 18.59l7.72-7.72 1.47 1.35L5.41 20z\"/>\n",
              "  </svg>\n",
              "      </button>\n",
              "      \n",
              "  <style>\n",
              "    .colab-df-container {\n",
              "      display:flex;\n",
              "      flex-wrap:wrap;\n",
              "      gap: 12px;\n",
              "    }\n",
              "\n",
              "    .colab-df-convert {\n",
              "      background-color: #E8F0FE;\n",
              "      border: none;\n",
              "      border-radius: 50%;\n",
              "      cursor: pointer;\n",
              "      display: none;\n",
              "      fill: #1967D2;\n",
              "      height: 32px;\n",
              "      padding: 0 0 0 0;\n",
              "      width: 32px;\n",
              "    }\n",
              "\n",
              "    .colab-df-convert:hover {\n",
              "      background-color: #E2EBFA;\n",
              "      box-shadow: 0px 1px 2px rgba(60, 64, 67, 0.3), 0px 1px 3px 1px rgba(60, 64, 67, 0.15);\n",
              "      fill: #174EA6;\n",
              "    }\n",
              "\n",
              "    [theme=dark] .colab-df-convert {\n",
              "      background-color: #3B4455;\n",
              "      fill: #D2E3FC;\n",
              "    }\n",
              "\n",
              "    [theme=dark] .colab-df-convert:hover {\n",
              "      background-color: #434B5C;\n",
              "      box-shadow: 0px 1px 3px 1px rgba(0, 0, 0, 0.15);\n",
              "      filter: drop-shadow(0px 1px 2px rgba(0, 0, 0, 0.3));\n",
              "      fill: #FFFFFF;\n",
              "    }\n",
              "  </style>\n",
              "\n",
              "      <script>\n",
              "        const buttonEl =\n",
              "          document.querySelector('#df-c9e50d3e-bc87-4dba-88fb-ebc77b38f8d1 button.colab-df-convert');\n",
              "        buttonEl.style.display =\n",
              "          google.colab.kernel.accessAllowed ? 'block' : 'none';\n",
              "\n",
              "        async function convertToInteractive(key) {\n",
              "          const element = document.querySelector('#df-c9e50d3e-bc87-4dba-88fb-ebc77b38f8d1');\n",
              "          const dataTable =\n",
              "            await google.colab.kernel.invokeFunction('convertToInteractive',\n",
              "                                                     [key], {});\n",
              "          if (!dataTable) return;\n",
              "\n",
              "          const docLinkHtml = 'Like what you see? Visit the ' +\n",
              "            '<a target=\"_blank\" href=https://colab.research.google.com/notebooks/data_table.ipynb>data table notebook</a>'\n",
              "            + ' to learn more about interactive tables.';\n",
              "          element.innerHTML = '';\n",
              "          dataTable['output_type'] = 'display_data';\n",
              "          await google.colab.output.renderOutput(dataTable, element);\n",
              "          const docLink = document.createElement('div');\n",
              "          docLink.innerHTML = docLinkHtml;\n",
              "          element.appendChild(docLink);\n",
              "        }\n",
              "      </script>\n",
              "    </div>\n",
              "  </div>\n",
              "  "
            ]
          },
          "metadata": {},
          "execution_count": 48
        }
      ]
    },
    {
      "cell_type": "code",
      "source": [
        "'''\n",
        "처음 결과 (1158.9975460122698, 5.185732237599381e-246)\n",
        "statistic, p_value = scipy.stats.chisquare(table.Married)\n",
        "statistic,p_value\n",
        "'''"
      ],
      "metadata": {
        "colab": {
          "base_uri": "https://localhost:8080/"
        },
        "id": "WmYNHI8oliwy",
        "outputId": "c8caf087-7f26-4bee-dfa6-c831d0cf8719"
      },
      "execution_count": 21,
      "outputs": [
        {
          "output_type": "execute_result",
          "data": {
            "text/plain": [
              "(1158.9975460122698, 5.185732237599381e-246)"
            ]
          },
          "metadata": {},
          "execution_count": 21
        }
      ]
    },
    {
      "cell_type": "code",
      "source": [
        "#df를 df_final로 수정 결과\n",
        "statistic, p_value = scipy.stats.chisquare(table.Married)\n",
        "statistic,p_value"
      ],
      "metadata": {
        "colab": {
          "base_uri": "https://localhost:8080/"
        },
        "id": "ae8sTAgn4P8T",
        "outputId": "43b9c387-937c-46d2-86d7-85b864882e0b"
      },
      "execution_count": 49,
      "outputs": [
        {
          "output_type": "execute_result",
          "data": {
            "text/plain": [
              "(1165.7733990147783, 1.777339802509078e-247)"
            ]
          },
          "metadata": {},
          "execution_count": 49
        }
      ]
    },
    {
      "cell_type": "code",
      "source": [
        "#레퍼런스 코드 \n",
        "\n",
        "# 기혼자 명수 총합\n",
        "married_ppl = sum(table.Married)\n",
        "married_ppl"
      ],
      "metadata": {
        "colab": {
          "base_uri": "https://localhost:8080/"
        },
        "id": "t4-YbqKM5RVP",
        "outputId": "d4ee8b12-0981-4792-94f1-df8ff9ae3cd5"
      },
      "execution_count": 51,
      "outputs": [
        {
          "output_type": "execute_result",
          "data": {
            "text/plain": [
              "812"
            ]
          },
          "metadata": {},
          "execution_count": 51
        }
      ]
    },
    {
      "cell_type": "code",
      "source": [
        "#레퍼런스 코드\n",
        "\n",
        "# 국적 수\n",
        "len(df_final['Country'].unique())"
      ],
      "metadata": {
        "colab": {
          "base_uri": "https://localhost:8080/"
        },
        "id": "NzauJhQm5LBP",
        "outputId": "2c1d3365-2c9f-4de3-fd1b-ce709f8296f1"
      },
      "execution_count": 52,
      "outputs": [
        {
          "output_type": "execute_result",
          "data": {
            "text/plain": [
              "8"
            ]
          },
          "metadata": {},
          "execution_count": 52
        }
      ]
    },
    {
      "cell_type": "code",
      "source": [
        "#레퍼런스 코드\n",
        "\n",
        "# 기혼('Married')에 해당하는 전체 데이터 수를 국적 수(8)으로 나눈 빈도 = 우리의 기대 분포 (국적별 빈도가 균일함)\n",
        "exp = [married_ppl / 8]\n",
        "exp_f = exp * 8\n",
        "exp_f\n",
        "\n",
        "# option 2) 실제 분포와 기대 분포 직접 비교\n",
        "stats2, pvalue2 = scipy.stats.chisquare(table.Married, exp_f)\n",
        "pvalue2"
      ],
      "metadata": {
        "colab": {
          "base_uri": "https://localhost:8080/"
        },
        "id": "fnTNNq5E4-kt",
        "outputId": "5c4c451c-9e58-4f14-a9f0-89264b6592c5"
      },
      "execution_count": 53,
      "outputs": [
        {
          "output_type": "execute_result",
          "data": {
            "text/plain": [
              "1.777339802509078e-247"
            ]
          },
          "metadata": {},
          "execution_count": 53
        }
      ]
    },
    {
      "cell_type": "code",
      "source": [
        "#pd.crosstab()과의 차이\n",
        "#국적별에 ME가 제외됨\n",
        "df_M  = df_final.groupby('Country')['Marital_Status'].value_counts().loc[:,'Married']\n",
        "df_M"
      ],
      "metadata": {
        "id": "Oq1YEFIUm1Ru",
        "colab": {
          "base_uri": "https://localhost:8080/"
        },
        "outputId": "7d071fde-95c8-4d20-a798-c0d5c050692b"
      },
      "execution_count": 50,
      "outputs": [
        {
          "output_type": "execute_result",
          "data": {
            "text/plain": [
              "Country\n",
              "AUS     63\n",
              "CA      94\n",
              "GER     56\n",
              "IND     51\n",
              "SA     103\n",
              "SP     413\n",
              "US      32\n",
              "Name: Marital_Status, dtype: int64"
            ]
          },
          "metadata": {},
          "execution_count": 50
        }
      ]
    },
    {
      "cell_type": "code",
      "source": [
        "statistic, p_value = scipy.stats.chisquare(df_M)\n",
        "statistic,p_value"
      ],
      "metadata": {
        "colab": {
          "base_uri": "https://localhost:8080/"
        },
        "id": "33M6_a7zjymh",
        "outputId": "61bb5d93-abc8-4e06-9166-e5b6bff1b2e5"
      },
      "execution_count": 23,
      "outputs": [
        {
          "output_type": "execute_result",
          "data": {
            "text/plain": [
              "(912.2478527607361, 8.451537023686116e-194)"
            ]
          },
          "metadata": {},
          "execution_count": 23
        }
      ]
    },
    {
      "cell_type": "markdown",
      "source": [
        "### **4-2. P-value 해석**\n",
        "\n"
      ],
      "metadata": {
        "id": "JGov3kLCobnX"
      }
    },
    {
      "cell_type": "markdown",
      "source": [
        "#### **가설검정 결과로 나온 p-value를 바탕으로 결론을 제시하세요.**"
      ],
      "metadata": {
        "id": "Em0Pj-5PCxeH"
      }
    },
    {
      "cell_type": "markdown",
      "source": [
        "##### **Q9. p-value와 귀무가설 기각 여부를 (`p-value`, `귀무가설 기각 여부`) 형태로 쓰세요.**\n",
        "\n",
        "- p-value는 소수점 둘째 자리까지 표시합니다.\n",
        "- 귀무가설 기각 여부는 `O`, `X` 로 표시합니다.\n",
        "  - `O` : 귀무가설 기각\n",
        "  - `X` : 귀무가설 기각 실패"
      ],
      "metadata": {
        "id": "t21mbk-OdkMP"
      }
    },
    {
      "cell_type": "markdown",
      "source": [
        "**`이곳에 답을 작성하세요.`**"
      ],
      "metadata": {
        "id": "Wz0aQtT1m3lJ"
      }
    },
    {
      "cell_type": "markdown",
      "source": [
        "pvalue가 0.05보다 작은 1.777339802509078e-247 임으로 귀무가설을 기각합니다"
      ],
      "metadata": {
        "id": "akdn0mjpk3P3"
      }
    },
    {
      "cell_type": "code",
      "source": [
        "round(1.777339802509078e-247,2)"
      ],
      "metadata": {
        "id": "WOmdbgKCtM64",
        "colab": {
          "base_uri": "https://localhost:8080/"
        },
        "outputId": "37df3477-3a6b-4f3d-9a6c-f52a0d560445"
      },
      "execution_count": 54,
      "outputs": [
        {
          "output_type": "execute_result",
          "data": {
            "text/plain": [
              "0.0"
            ]
          },
          "metadata": {},
          "execution_count": 54
        }
      ]
    }
  ]
}