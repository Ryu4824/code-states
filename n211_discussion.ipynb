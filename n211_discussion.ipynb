{
  "cells": [
    {
      "cell_type": "markdown",
      "metadata": {
        "id": "view-in-github",
        "colab_type": "text"
      },
      "source": [
        "<a href=\"https://colab.research.google.com/github/Ryu4824/code-states/blob/main/n211_discussion.ipynb\" target=\"_parent\"><img src=\"https://colab.research.google.com/assets/colab-badge.svg\" alt=\"Open In Colab\"/></a>"
      ]
    },
    {
      "cell_type": "markdown",
      "metadata": {
        "id": "ZRl89zRamhfN"
      },
      "source": [
        "# **N211 Linear Regression**\n",
        "\n",
        "## 오늘의 목표\n",
        "- 데이터를 모델링에 적합한 형태로 가공할 수 있습니다.\n",
        "- 회귀 문제에서 기준 모델을 만들고 기준 모델의 성능을 평가할 수 있습니다.\n",
        "- scikit-learn을 이용해 선형회귀 모델을 만들어 학습하고 해석할 수 있습니다.\n",
        "- 기준 모델과 선형회귀 모델의 성능을 비교할 수 있습니다."
      ]
    },
    {
      "cell_type": "markdown",
      "source": [
        "## **개념 Topic**\n",
        "\n",
        "- 오늘은 선형회귀 모델에 대해 배웠습니다.\n",
        "- 선형 회귀를 한 문장으로 요약하여 설명해보세요.\n",
        "  - `scatterplot에 가장 잘 맞는(best fit) 직선을 그려주면 그것이 회귀 예측모델이 됩니다.`를 제외한 문장이어야 합니다.\n",
        "  - `선형회귀모델이란 무엇이며 어떻게 최적의 모델을 구할 수 있나요?` 에 답할 수 있도록 정리해 보세요.\n",
        "  - 어떤 키워드가 포함되어야할지 키워드 위주로 고민해보세요.\n",
        "  - 만약 설명이 어렵다면 어느 부분이 이해가 안 되는지 구체적인 질문을 동기들과 나눠보세요.\n",
        "- **Discussion** 표의 `정리` 탭에 답변을 정리하여 적어 주세요. "
      ],
      "metadata": {
        "id": "T3G874QQqjCv"
      }
    },
    {
      "cell_type": "markdown",
      "source": [
        "## **코딩 Topic**"
      ],
      "metadata": {
        "id": "BrJenoJer8dj"
      }
    },
    {
      "cell_type": "markdown",
      "metadata": {
        "id": "S_nZD34Dlrdq"
      },
      "source": [
        "### **Part.1 : 데이터 준비**\n",
        "\n",
        "인도의 한 도시인 [Begaluru의 집값 데이터](https://www.kaggle.com/datasets/amitabhajoy/bengaluru-house-price-data)를 사용해서 집값을 예측하는 회귀 문제를 풀어보겠습니다.\n",
        "\n",
        "데이터에 대한 더 자세한 설명은 위의 링크를 참고하세요.\n",
        "\n",
        "> **Data Description**\n",
        "\n",
        "- Area_type : Description of the area\n",
        "- Availability : When it can be possessed or when it is ready\n",
        "- Location : Where it is located in Bengaluru\n",
        "- Size : BHK or Bedrooms\n",
        "- Society : To which society it belongs\n",
        "- Total_sqft : Size of the property in sq.ft\n",
        "- Bath : No. of Bathrooms\n",
        "- Balcony : No. of the Balcony\n",
        "- Price : Value of the property in lakhs (Indian Rupee - ₹)\n"
      ]
    },
    {
      "cell_type": "markdown",
      "source": [
        "#### **1-1. 데이터셋 불러오기**\n",
        "- 주어진 데이터를 불러오고 데이터의 shape을 확인해보세요."
      ],
      "metadata": {
        "id": "25Vdu6k8pHHQ"
      }
    },
    {
      "cell_type": "code",
      "execution_count": null,
      "metadata": {
        "id": "iAnXvXilp9o8",
        "colab": {
          "base_uri": "https://localhost:8080/",
          "height": 206
        },
        "outputId": "bcecfaff-f3e6-4082-e199-b7f98344e967"
      },
      "outputs": [
        {
          "output_type": "display_data",
          "data": {
            "text/plain": [
              "              area_type   availability                  location       size  \\\n",
              "0  Super built-up  Area         19-Dec  Electronic City Phase II      2 BHK   \n",
              "1            Plot  Area  Ready To Move          Chikka Tirupathi  4 Bedroom   \n",
              "2        Built-up  Area  Ready To Move               Uttarahalli      3 BHK   \n",
              "3  Super built-up  Area  Ready To Move        Lingadheeranahalli      3 BHK   \n",
              "4  Super built-up  Area  Ready To Move                  Kothanur      2 BHK   \n",
              "\n",
              "   society total_sqft  bath  balcony   price  \n",
              "0  Coomee        1056   2.0      1.0   39.07  \n",
              "1  Theanmp       2600   5.0      3.0  120.00  \n",
              "2      NaN       1440   2.0      3.0   62.00  \n",
              "3  Soiewre       1521   3.0      1.0   95.00  \n",
              "4      NaN       1200   2.0      1.0   51.00  "
            ],
            "text/html": [
              "\n",
              "  <div id=\"df-8f2cdd30-8a00-4fe1-bd17-0b9287856a08\">\n",
              "    <div class=\"colab-df-container\">\n",
              "      <div>\n",
              "<style scoped>\n",
              "    .dataframe tbody tr th:only-of-type {\n",
              "        vertical-align: middle;\n",
              "    }\n",
              "\n",
              "    .dataframe tbody tr th {\n",
              "        vertical-align: top;\n",
              "    }\n",
              "\n",
              "    .dataframe thead th {\n",
              "        text-align: right;\n",
              "    }\n",
              "</style>\n",
              "<table border=\"1\" class=\"dataframe\">\n",
              "  <thead>\n",
              "    <tr style=\"text-align: right;\">\n",
              "      <th></th>\n",
              "      <th>area_type</th>\n",
              "      <th>availability</th>\n",
              "      <th>location</th>\n",
              "      <th>size</th>\n",
              "      <th>society</th>\n",
              "      <th>total_sqft</th>\n",
              "      <th>bath</th>\n",
              "      <th>balcony</th>\n",
              "      <th>price</th>\n",
              "    </tr>\n",
              "  </thead>\n",
              "  <tbody>\n",
              "    <tr>\n",
              "      <th>0</th>\n",
              "      <td>Super built-up  Area</td>\n",
              "      <td>19-Dec</td>\n",
              "      <td>Electronic City Phase II</td>\n",
              "      <td>2 BHK</td>\n",
              "      <td>Coomee</td>\n",
              "      <td>1056</td>\n",
              "      <td>2.0</td>\n",
              "      <td>1.0</td>\n",
              "      <td>39.07</td>\n",
              "    </tr>\n",
              "    <tr>\n",
              "      <th>1</th>\n",
              "      <td>Plot  Area</td>\n",
              "      <td>Ready To Move</td>\n",
              "      <td>Chikka Tirupathi</td>\n",
              "      <td>4 Bedroom</td>\n",
              "      <td>Theanmp</td>\n",
              "      <td>2600</td>\n",
              "      <td>5.0</td>\n",
              "      <td>3.0</td>\n",
              "      <td>120.00</td>\n",
              "    </tr>\n",
              "    <tr>\n",
              "      <th>2</th>\n",
              "      <td>Built-up  Area</td>\n",
              "      <td>Ready To Move</td>\n",
              "      <td>Uttarahalli</td>\n",
              "      <td>3 BHK</td>\n",
              "      <td>NaN</td>\n",
              "      <td>1440</td>\n",
              "      <td>2.0</td>\n",
              "      <td>3.0</td>\n",
              "      <td>62.00</td>\n",
              "    </tr>\n",
              "    <tr>\n",
              "      <th>3</th>\n",
              "      <td>Super built-up  Area</td>\n",
              "      <td>Ready To Move</td>\n",
              "      <td>Lingadheeranahalli</td>\n",
              "      <td>3 BHK</td>\n",
              "      <td>Soiewre</td>\n",
              "      <td>1521</td>\n",
              "      <td>3.0</td>\n",
              "      <td>1.0</td>\n",
              "      <td>95.00</td>\n",
              "    </tr>\n",
              "    <tr>\n",
              "      <th>4</th>\n",
              "      <td>Super built-up  Area</td>\n",
              "      <td>Ready To Move</td>\n",
              "      <td>Kothanur</td>\n",
              "      <td>2 BHK</td>\n",
              "      <td>NaN</td>\n",
              "      <td>1200</td>\n",
              "      <td>2.0</td>\n",
              "      <td>1.0</td>\n",
              "      <td>51.00</td>\n",
              "    </tr>\n",
              "  </tbody>\n",
              "</table>\n",
              "</div>\n",
              "      <button class=\"colab-df-convert\" onclick=\"convertToInteractive('df-8f2cdd30-8a00-4fe1-bd17-0b9287856a08')\"\n",
              "              title=\"Convert this dataframe to an interactive table.\"\n",
              "              style=\"display:none;\">\n",
              "        \n",
              "  <svg xmlns=\"http://www.w3.org/2000/svg\" height=\"24px\"viewBox=\"0 0 24 24\"\n",
              "       width=\"24px\">\n",
              "    <path d=\"M0 0h24v24H0V0z\" fill=\"none\"/>\n",
              "    <path d=\"M18.56 5.44l.94 2.06.94-2.06 2.06-.94-2.06-.94-.94-2.06-.94 2.06-2.06.94zm-11 1L8.5 8.5l.94-2.06 2.06-.94-2.06-.94L8.5 2.5l-.94 2.06-2.06.94zm10 10l.94 2.06.94-2.06 2.06-.94-2.06-.94-.94-2.06-.94 2.06-2.06.94z\"/><path d=\"M17.41 7.96l-1.37-1.37c-.4-.4-.92-.59-1.43-.59-.52 0-1.04.2-1.43.59L10.3 9.45l-7.72 7.72c-.78.78-.78 2.05 0 2.83L4 21.41c.39.39.9.59 1.41.59.51 0 1.02-.2 1.41-.59l7.78-7.78 2.81-2.81c.8-.78.8-2.07 0-2.86zM5.41 20L4 18.59l7.72-7.72 1.47 1.35L5.41 20z\"/>\n",
              "  </svg>\n",
              "      </button>\n",
              "      \n",
              "  <style>\n",
              "    .colab-df-container {\n",
              "      display:flex;\n",
              "      flex-wrap:wrap;\n",
              "      gap: 12px;\n",
              "    }\n",
              "\n",
              "    .colab-df-convert {\n",
              "      background-color: #E8F0FE;\n",
              "      border: none;\n",
              "      border-radius: 50%;\n",
              "      cursor: pointer;\n",
              "      display: none;\n",
              "      fill: #1967D2;\n",
              "      height: 32px;\n",
              "      padding: 0 0 0 0;\n",
              "      width: 32px;\n",
              "    }\n",
              "\n",
              "    .colab-df-convert:hover {\n",
              "      background-color: #E2EBFA;\n",
              "      box-shadow: 0px 1px 2px rgba(60, 64, 67, 0.3), 0px 1px 3px 1px rgba(60, 64, 67, 0.15);\n",
              "      fill: #174EA6;\n",
              "    }\n",
              "\n",
              "    [theme=dark] .colab-df-convert {\n",
              "      background-color: #3B4455;\n",
              "      fill: #D2E3FC;\n",
              "    }\n",
              "\n",
              "    [theme=dark] .colab-df-convert:hover {\n",
              "      background-color: #434B5C;\n",
              "      box-shadow: 0px 1px 3px 1px rgba(0, 0, 0, 0.15);\n",
              "      filter: drop-shadow(0px 1px 2px rgba(0, 0, 0, 0.3));\n",
              "      fill: #FFFFFF;\n",
              "    }\n",
              "  </style>\n",
              "\n",
              "      <script>\n",
              "        const buttonEl =\n",
              "          document.querySelector('#df-8f2cdd30-8a00-4fe1-bd17-0b9287856a08 button.colab-df-convert');\n",
              "        buttonEl.style.display =\n",
              "          google.colab.kernel.accessAllowed ? 'block' : 'none';\n",
              "\n",
              "        async function convertToInteractive(key) {\n",
              "          const element = document.querySelector('#df-8f2cdd30-8a00-4fe1-bd17-0b9287856a08');\n",
              "          const dataTable =\n",
              "            await google.colab.kernel.invokeFunction('convertToInteractive',\n",
              "                                                     [key], {});\n",
              "          if (!dataTable) return;\n",
              "\n",
              "          const docLinkHtml = 'Like what you see? Visit the ' +\n",
              "            '<a target=\"_blank\" href=https://colab.research.google.com/notebooks/data_table.ipynb>data table notebook</a>'\n",
              "            + ' to learn more about interactive tables.';\n",
              "          element.innerHTML = '';\n",
              "          dataTable['output_type'] = 'display_data';\n",
              "          await google.colab.output.renderOutput(dataTable, element);\n",
              "          const docLink = document.createElement('div');\n",
              "          docLink.innerHTML = docLinkHtml;\n",
              "          element.appendChild(docLink);\n",
              "        }\n",
              "      </script>\n",
              "    </div>\n",
              "  </div>\n",
              "  "
            ]
          },
          "metadata": {}
        }
      ],
      "source": [
        "import pandas as pd\n",
        "data = pd.read_csv('https://ds-lecture-data.s3.ap-northeast-2.amazonaws.com/renewal/mldl/House_Data.csv')\n",
        "display(data.head())"
      ]
    },
    {
      "cell_type": "markdown",
      "metadata": {
        "id": "dvLXYaooKhDY"
      },
      "source": [
        "#### **1-2. 데이터 전처리**\n",
        "데이터를 모델링에 적합한 형태로 가공합니다.\n",
        "- 기존 데이터에서 ['total_sqft', 'bath', 'balcony', 'price'] column만 추출하여 **df** 변수에 데이터프레임 형태로 저장해 보세요.\n",
        "    - 특성들의 타입을 확인해보세요.\n",
        "    - 4가지 특성만 선택한 데이터에서 결측치, 중복값을 확인해보고 존재한다면 제거해주세요.\n",
        "    - 전처리 후 데이터의 shape은 (10933,4)입니다."
      ]
    },
    {
      "cell_type": "code",
      "execution_count": null,
      "metadata": {
        "id": "k2Lq3Xn7tId6"
      },
      "outputs": [],
      "source": []
    },
    {
      "cell_type": "markdown",
      "metadata": {
        "id": "M6e41DCUO4lS"
      },
      "source": [
        "#### **1-3. total_sqft 타입변경**\n",
        "집의 총 면적을 나타내는 `total_sqft` 특성은 수치형이어야 합니다. <br>\n",
        "따라서, **object** 형식으로 되어있는 `total_sqft` 특성의 타입을 **float**으로 바꿔주기 위해 수치형으로 변환하기 애매한 데이터들을 제거해줍니다.\n",
        "\n",
        "- 주어진 코드(for loop)를 실행하세요.\n",
        "  - `total_sqft` 변수의 값들을 for loop을 통해 수치형으로 변환해 보고, 변환할 때 에러가 발생하는 값의 index를 `idx` 리스트에 저장하여 해당 샘플(row)을 제거해줍니다.\n",
        "  - 수치형으로 변환시킬 때 왜 에러가 나는지 코드 실행 후 데이터를 확인해보세요.\n",
        "- 샘플 제거 후 최종 데이터의 shape은 (10748, 4)이어야 합니다.\n",
        "- `total_sqft`의 타입을 float으로 변환하세요.\n",
        "- (optional) 이 방법 외에 데이터를 제거하지 않으면서 `total_sqft` 변수를 수치형으로 변환하는 다른 방법이 있다면 논의해보세요."
      ]
    },
    {
      "cell_type": "code",
      "execution_count": null,
      "metadata": {
        "id": "Jc48W0uOz-aw"
      },
      "outputs": [],
      "source": [
        "# 수치로 변환되지 않는 데이터 index 추출\n",
        "idx = []\n",
        "for i in range(len(df.total_sqft)):\n",
        "  try:\n",
        "    float(df.total_sqft[i])\n",
        "  except:\n",
        "    idx.append(i) # 수치형으로 변환되지 않은 데이터들의 index 저장. ex) 2100 - 2850 형식처럼 수치형으로 바꿀 수 없는 데이터 존재."
      ]
    },
    {
      "cell_type": "code",
      "execution_count": null,
      "metadata": {
        "id": "ErdBXD4zjxrX"
      },
      "outputs": [],
      "source": [
        "df.iloc[idx[:10]] # 이와 같이 수치형으로 바꾸기 애매한 데이터들 확인."
      ]
    },
    {
      "cell_type": "code",
      "execution_count": null,
      "metadata": {
        "id": "aX6LQcECvsLx"
      },
      "outputs": [],
      "source": []
    },
    {
      "cell_type": "markdown",
      "metadata": {
        "id": "y7aQ8uz8Q9ky"
      },
      "source": [
        "### **Part.2 : 모델링**\n",
        "타겟이 집값(수치)이기 때문에 회귀 문제에 해당하고, 여러 회귀 모델 중 이번 디스커션에서는 **선형 회귀 모델**을 사용합니다."
      ]
    },
    {
      "cell_type": "markdown",
      "metadata": {
        "id": "o7YO1vOpTW0j"
      },
      "source": [
        "#### **2-1. 데이터 분리**\n",
        "모델링을 위해 입력 특성과 타겟으로 데이터를 나눕니다.\n",
        "- `price` column을 타겟 데이터로(y), 나머지 column을 특성 데이터로(X) 나눠보세요.\n",
        "- 데이터가 잘 나누어졌는지 X,y의 결과와 shape을 확인해보세요."
      ]
    },
    {
      "cell_type": "code",
      "execution_count": null,
      "metadata": {
        "id": "X8t1oEeBTnLg"
      },
      "outputs": [],
      "source": []
    },
    {
      "cell_type": "markdown",
      "metadata": {
        "id": "dfVcnDfDTW29"
      },
      "source": [
        "#### **2-2. 기준모델 설정**\n",
        "모델링 전 기준모델을 설정해서 앞으로 개발할 예측 모델의 성능이 기준모델의 성능보다 뛰어나야 한다는 기준점을 만들어야 합니다.\n",
        "- 타겟인 `price`의 평균값을 이용해서 기준모델을 만들어보세요.\n",
        "    - 기준모델의 평가지표는 MSE, MAE, R2 score로 사용해보세요.\n",
        "      ```python\n",
        "      from sklearn.metrics import mean_absolute_error, mean_squared_error, r2_score\n",
        "      ```\n",
        "    - 기준모델의 MSE, MAE, R2 score는 어떻게 되나요?"
      ]
    },
    {
      "cell_type": "code",
      "execution_count": null,
      "metadata": {
        "id": "PC-1__aWzwWO"
      },
      "outputs": [],
      "source": []
    },
    {
      "cell_type": "markdown",
      "metadata": {
        "id": "TAdD9E5hUyl2"
      },
      "source": [
        "#### **2-3. 선형회귀 모델링**\n",
        "- 입력 특성과 타겟을 활용하여 선형회귀 모델을 만드세요.\n",
        "- 선형회귀 모델의 MSE, MAE, R2 score는 어떻게 되나요?\n",
        "  - 기준 모델보다 성능이 더 나아졌나요? 어떠한 것을 보고 나아졌는지, 나아지지 않았는지 판단할 수 있었나요?"
      ]
    },
    {
      "cell_type": "code",
      "execution_count": null,
      "metadata": {
        "id": "8l88kq54Vp7e"
      },
      "outputs": [],
      "source": []
    },
    {
      "cell_type": "markdown",
      "metadata": {
        "id": "R0kFPrJdV9eO"
      },
      "source": [
        "#### **2-4. 모델 해석**\n",
        "- 회귀계수를 보고 모델의 결과를 해석해봅시다.\n",
        "    - 어떤 특성이 중요해보이나요?\n",
        "    - **집 면적(total_sqft)**이 커질수록 집값은 증가하나요? 감소하나요?\n",
        "        - 회귀계수를 보고 해석해보세요."
      ]
    },
    {
      "cell_type": "code",
      "execution_count": null,
      "metadata": {
        "id": "4YaqmBl9WFd3"
      },
      "outputs": [],
      "source": []
    },
    {
      "cell_type": "markdown",
      "source": [
        "### **Conclusion**\n",
        "> 오늘 Topic을 수행한 결과를 바탕으로, 다음 사항에 대해 답해 주세요.\n",
        "\n",
        "- 기준 모델의 성능(MAE, MSE, R2 score)은 어떻게 되나요?\n",
        "- 입력 특성과 타겟에 각각 어떤 column을 사용했나요?\n",
        "- 선형회귀 모델은 기준 모델보다 성능이 좋은 모델인가요?\n",
        "- 회귀계수를 통해 모델을 해석해보았을 때 어떤 특성이 중요해보이나요?\n",
        "  - 왜 그렇게 생각하시나요?\n",
        "  - 해당 특성은 집값에 어떤 방향으로 영향을 주나요? (양의 방향: +, 음의 방항: -)\n",
        "- **Discussion** 표의 `정리` 탭에 답변을 정리하여 적어 주세요. "
      ],
      "metadata": {
        "id": "VhnD6RnaWi5N"
      }
    },
    {
      "cell_type": "markdown",
      "source": [
        "## **심화 Topic (optional)**\n",
        "> 추가적으로 다음 사항들에 대해서 이야기해 보세요. \n",
        "\n",
        "- 지도학습의 프로세스를 설명해 보세요. \n",
        "  - 다음 다이어그램을 **Data**, **Model**, **Training**, **Evaluation**, **Inference**의 개념을 포함시켜서 설명해 보세요.\n",
        "    - 다이어그램 <br>\n",
        "      <img src = 'https://imgur.com/bBGwYN7.png' width=500>\n",
        "- 주변에서 찾아볼 수 있는 회귀 문제는 무엇이 있을까요? 여러분이 실제로 프로젝트를 한다고 생각하고 관심 도메인에서 구체적으로 어떤 예시가 있을지 생각해보세요.\n",
        "  - 여러분들은 어떤 프로젝트가 하고 싶으세요? 서로 아이디어를 나눠보세요.\n",
        "- 디즈니플러스에서 시청률 추세를 예측하는 회귀모델을 만들었습니다. 전체 시간대 중 95% 시간대에서 모델의 예측오차는 1% 밖에 되지 않는 반면 RMSE가 너무 높습니다. 예측오차를 보면 좋은 모델인데 RMSE가 너무 높은 이유는 뭘까요?\n",
        "  - RMSE의 특징이 무엇인가요? 특징을 생각하면서 위의 문제를 풀어보세요."
      ],
      "metadata": {
        "id": "j1ZB9mNnBn3y"
      }
    }
  ],
  "metadata": {
    "colab": {
      "provenance": [],
      "toc_visible": true,
      "include_colab_link": true
    },
    "kernelspec": {
      "display_name": "Python 3",
      "language": "python",
      "name": "python3"
    },
    "language_info": {
      "codemirror_mode": {
        "name": "ipython",
        "version": 3
      },
      "file_extension": ".py",
      "mimetype": "text/x-python",
      "name": "python",
      "nbconvert_exporter": "python",
      "pygments_lexer": "ipython3",
      "version": "3.9.6"
    },
    "vscode": {
      "interpreter": {
        "hash": "31f2aee4e71d21fbe5cf8b01ff0e069b9275f58929596ceb00d14d90e3e16cd6"
      }
    }
  },
  "nbformat": 4,
  "nbformat_minor": 0
}