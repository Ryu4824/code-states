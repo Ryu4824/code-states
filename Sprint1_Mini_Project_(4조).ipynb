{
  "nbformat": 4,
  "nbformat_minor": 0,
  "metadata": {
    "colab": {
      "provenance": [],
      "include_colab_link": true
    },
    "kernelspec": {
      "name": "python3",
      "display_name": "Python 3"
    },
    "language_info": {
      "name": "python"
    }
  },
  "cells": [
    {
      "cell_type": "markdown",
      "metadata": {
        "id": "view-in-github",
        "colab_type": "text"
      },
      "source": [
        "<a href=\"https://colab.research.google.com/github/Ryu4824/code-states/blob/main/Sprint1_Mini_Project_(4%E1%84%8C%E1%85%A9).ipynb\" target=\"_parent\"><img src=\"https://colab.research.google.com/assets/colab-badge.svg\" alt=\"Open In Colab\"/></a>"
      ]
    },
    {
      "cell_type": "markdown",
      "source": [
        "# **Sprint 1 Mini Project**\n"
      ],
      "metadata": {
        "id": "ozuNq4ntan5m"
      }
    },
    {
      "cell_type": "markdown",
      "source": [
        "## Sprint 학습 목표\n",
        "\n",
        "- EDA & Data Wrangling 과정을 코드로 구현할 수 있다.\n",
        "- 목적에 맞는 시각화를 활용하여 비지니스 인사이트를 도출할 수 있다."
      ],
      "metadata": {
        "id": "TNlVAZ15azaz"
      }
    },
    {
      "cell_type": "markdown",
      "source": [
        "## Project 문제 정의"
      ],
      "metadata": {
        "id": "Dt5KsBNbbN1B"
      }
    },
    {
      "cell_type": "markdown",
      "source": [
        "### 배경\n",
        "> 여러분은 웹사이트와 더불어 오프라인 매장을 함께 운영하고 있는 **자전거 거래 플랫폼 회사**에서 데이터 분석 업무를 담당하고 있습니다.<br>\n",
        "해당 회사의 주요 타겟 지역은 **호주**이며, 매출액을 늘리기 위해서는 자전거 거래 데이터를 분석하여 **인사이트를 도출**하는 작업이 필요합니다.<br>\n",
        "회사 Database에 적재 되어있는 데이터를 추출하여 확보한 **고객 데이터**와 **거래 데이터**를 분석에 용이한 형태로 정제하는 것이 이번 프로젝트의 주요 과제입니다.<br>\n",
        "가능하다면 데이터 분석을 통해 현재 상황과 매출액 증가를 위한 방안에 대한 **비즈니스 인사이트를 도출**하고 **실행 가능한 계획까지 수립**하는 프로젝트를 완성해보세요.\n",
        "\n",
        "\n"
      ],
      "metadata": {
        "id": "S_30oFfwbUUW"
      }
    },
    {
      "cell_type": "markdown",
      "source": [
        "### 목표\n",
        "\n",
        "#### 기본 과제\n",
        "> - 주어진 데이터셋을 **이해하고 분석**할 수 있다.\n",
        "- 주어진 질문에 대해 **시각화를 통해 설명**할 수 있다.\n",
        "- **품질의 문제와 구조적 문제**를 파악하여 **정제**할 수 있다.\n",
        "\n",
        "\n",
        "#### 도전 과제\n",
        "> - 현재 플랫폼 내 자전거 거래의 **동향(trend)**을 파악한다.<br>\n",
        "- **고객 세분화(Customer Segmentation)**를 통해 비슷한 특성을 가진 **고객군 각각의 특징을 파악**한다. <br>\n",
        "- 고객군 별로 매출을 증가시키기 위해 적용할 수 있는 마케팅 전략을 수립하고 **실행 계획(action plan)**을 제시할 수 있다."
      ],
      "metadata": {
        "id": "0YP8FV0IawBo"
      }
    },
    {
      "cell_type": "markdown",
      "source": [
        "## **N111**\n",
        "\n",
        "### 오늘의 목표\n",
        "- 주어진 데이터셋을 불러올 수 있다.\n",
        "- 데이터셋에 대해 pandas 메서드를 통해 기본 정보를 확인할 수 있다.\n"
      ],
      "metadata": {
        "id": "jtAQyTDKbuGH"
      }
    },
    {
      "cell_type": "markdown",
      "source": [
        "### `Topic 1`: 데이터셋 불러오기\n",
        "본격적인 분석에 앞서, 아래의 데이터셋 설명을 통해 어떤 정보를 가진 데이터셋인지 파악 후 코드를 통해 데이터셋을 불러오도록 합시다.\n",
        "\n",
        "<br>\n",
        "\n",
        "> **customer 데이터셋 설명 (description)** <br>\n",
        "우리 플랫폼에 등록된 고객 정보 데이터\n",
        "\n",
        "- `customer_id`: 고객 고유번호\n",
        "- `first_name`: 이름\n",
        "- `last_name`: 성\n",
        "- `gender`: 성별\n",
        "- `past_3_years_bike_related_purchases`: 자전거 관련 구매 이력 (3년)\n",
        "- `DOB`: 생년월일\n",
        "- `job_title`: 직업명\n",
        "- `job_industry_category`: 직무\n",
        "- `wealth_segment`: 재력\n",
        "- `deceased_indicator`: 사망 여부\n",
        "- `default`: 정보\n",
        "- `owns_car`: 차 소유 여부\n",
        "- `tenure`: 재직 기간\n"
      ],
      "metadata": {
        "id": "0vOrRMndLZuF"
      }
    },
    {
      "cell_type": "markdown",
      "source": [
        "#### **1-1. 라이브러리와 메서드는 무엇인가요?**\n",
        "> 앞으로 여러분은 다양한 라이브러리를 사용하여 분석, 모델링을 진행하시게 될 텐데요.\n",
        ">\n",
        "> 오늘 Lecture Note에서도 pandas라는 라이브러리를 활용하고 있습니다.\n",
        ">\n",
        "> 그렇다면 라이브러리는 무엇이며, 왜 사용을 하는 것일까요? 이와 더불어 라이브러리와 함께 자주 등장하는 개념인 메서드는 무엇인지에 대해서도 함께 찾아본 후 내용을 정리하여 노션의 **진행내용**에 남겨주세요."
      ],
      "metadata": {
        "id": "m6N8xdcIPiZp"
      }
    },
    {
      "cell_type": "markdown",
      "source": [
        "\n",
        "#### **1-2. pandas의 `read_csv` 함수를 활용하여 주어진 csv 파일(customer_info.csv)을 `customer`라는 이름으로 불러오세요.**\n"
      ],
      "metadata": {
        "id": "VmMqcS5HPZpP"
      }
    },
    {
      "cell_type": "code",
      "source": [
        "import pandas as pd\n",
        "import numpy as np\n",
        "customer = pd.read_csv('https://github.com/YuriCha02/N11-4-/raw/main/customer_info.csv')"
      ],
      "metadata": {
        "id": "EupkR7cfKorD"
      },
      "execution_count": null,
      "outputs": []
    },
    {
      "cell_type": "markdown",
      "source": [
        "### `Topic 2`: 기본 정보 확인\n",
        "> 위에서 불러온 데이터셋에 대해 pandas 메서드를 활용하여 기본 정보를 확인해봅시다."
      ],
      "metadata": {
        "id": "3hOs58uKQYa6"
      }
    },
    {
      "cell_type": "markdown",
      "source": [
        "#### **2-1. `customer`는 몇 개의 행과 열로 구성되어 있는지 확인해보세요.**\n",
        "\n",
        "> 💡 **Hint)** shape"
      ],
      "metadata": {
        "id": "9ve5Puc5QuKn"
      }
    },
    {
      "cell_type": "code",
      "source": [
        "customer.shape"
      ],
      "metadata": {
        "id": "wNHlRUG8KqAO",
        "outputId": "f91961e6-d3d8-414c-ee8d-c88d8138dee8",
        "colab": {
          "base_uri": "https://localhost:8080/"
        }
      },
      "execution_count": null,
      "outputs": [
        {
          "output_type": "execute_result",
          "data": {
            "text/plain": [
              "(4000, 14)"
            ]
          },
          "metadata": {},
          "execution_count": 3
        }
      ]
    },
    {
      "cell_type": "markdown",
      "source": [
        "#### **2-2. `customer`의 정보(column 이름, 결측치 개수, 데이터타입 ...)를 pandas 메서드를 활용하여 확인해보세요.**\n",
        "> 💡 **Hint)** info\n",
        "\n",
        "- 몇 개의 column을 가지고 있는 데이터셋인지 확인해보세요.\n",
        "  - 각 column에 어떤 정보가 들어있는지 확인한 뒤, 무의미한 데이터가 들어있는 column이 있는지도 함께 논의해보세요."
      ],
      "metadata": {
        "id": "T-qz3WCxRBje"
      }
    },
    {
      "cell_type": "code",
      "source": [
        "customer.info()"
      ],
      "metadata": {
        "id": "8fKPtj75OSfF",
        "colab": {
          "base_uri": "https://localhost:8080/"
        },
        "outputId": "ad69d04a-0ee3-472b-e7ba-71545c4c6be7"
      },
      "execution_count": null,
      "outputs": [
        {
          "output_type": "stream",
          "name": "stdout",
          "text": [
            "<class 'pandas.core.frame.DataFrame'>\n",
            "RangeIndex: 4000 entries, 0 to 3999\n",
            "Data columns (total 14 columns):\n",
            " #   Column                               Non-Null Count  Dtype  \n",
            "---  ------                               --------------  -----  \n",
            " 0   customer_id                          4000 non-null   int64  \n",
            " 1   first_name                           4000 non-null   object \n",
            " 2   last_name                            3875 non-null   object \n",
            " 3   gender                               4000 non-null   object \n",
            " 4   past_3_years_bike_related_purchases  4000 non-null   int64  \n",
            " 5   DOB                                  3913 non-null   object \n",
            " 6   job_title                            3494 non-null   object \n",
            " 7   job_industry_category                3344 non-null   object \n",
            " 8   wealth_segment                       4000 non-null   object \n",
            " 9   deceased_indicator                   4000 non-null   object \n",
            " 10  default                              2571 non-null   object \n",
            " 11  owns_car                             4000 non-null   object \n",
            " 12  tenure                               3913 non-null   float64\n",
            " 13  Unnamed: 13                          0 non-null      float64\n",
            "dtypes: float64(2), int64(2), object(10)\n",
            "memory usage: 437.6+ KB\n"
          ]
        }
      ]
    },
    {
      "cell_type": "markdown",
      "source": [
        "#### **2-3. `customer`에 결측치가 있는지 확인한 뒤, 어떻게 처리하는 것이 좋을지 생각해보세요.**\n",
        "> 💡 **Hint)** missing value, nan, isnull\n",
        "- 결측치 처리 방식에는 크게 두 가지가 있습니다.\n",
        "  - 결측치 대체: 특정 값으로 결측치를 채우는 것\n",
        "  - 결측치 제거: 결측치가 있는 행 또는 열을 제거하는 것\n",
        "\n",
        "- 결측치가 있는 column에는 어떤 것이 있는지 확인해보세요.\n",
        "- 각 column 별로 결측치를 어떻게 처리하는 것이 좋을지 생각해보세요.\n",
        "  - 결측치 처리에 무조건적인 정답은 없으며, 조에서 논의 후 내린 결론을 논리적으로 설명하는 것이 무엇보다 중요합니다."
      ],
      "metadata": {
        "id": "XoaORCSRSThK"
      }
    },
    {
      "cell_type": "code",
      "source": [
        "customer=customer.drop(['Unnamed: 13','default'], axis=1)\n",
        "customer.info()"
      ],
      "metadata": {
        "id": "FtPNqSJBKuUR",
        "colab": {
          "base_uri": "https://localhost:8080/"
        },
        "outputId": "2b118a67-9088-42a3-b9f6-f296a3caf488"
      },
      "execution_count": null,
      "outputs": [
        {
          "output_type": "stream",
          "name": "stdout",
          "text": [
            "<class 'pandas.core.frame.DataFrame'>\n",
            "RangeIndex: 4000 entries, 0 to 3999\n",
            "Data columns (total 12 columns):\n",
            " #   Column                               Non-Null Count  Dtype  \n",
            "---  ------                               --------------  -----  \n",
            " 0   customer_id                          4000 non-null   int64  \n",
            " 1   first_name                           4000 non-null   object \n",
            " 2   last_name                            3875 non-null   object \n",
            " 3   gender                               4000 non-null   object \n",
            " 4   past_3_years_bike_related_purchases  4000 non-null   int64  \n",
            " 5   DOB                                  3913 non-null   object \n",
            " 6   job_title                            3494 non-null   object \n",
            " 7   job_industry_category                3344 non-null   object \n",
            " 8   wealth_segment                       4000 non-null   object \n",
            " 9   deceased_indicator                   4000 non-null   object \n",
            " 10  owns_car                             4000 non-null   object \n",
            " 11  tenure                               3913 non-null   float64\n",
            "dtypes: float64(1), int64(2), object(9)\n",
            "memory usage: 375.1+ KB\n"
          ]
        }
      ]
    },
    {
      "cell_type": "code",
      "source": [
        "customer.iloc[:,0:12]=customer.iloc[:,0:12].fillna(np.nan)"
      ],
      "metadata": {
        "id": "8vZY87j_3uNF"
      },
      "execution_count": null,
      "outputs": []
    },
    {
      "cell_type": "markdown",
      "source": [
        "#### **2-4. `customer`에 중복값이 있는지 확인한 뒤, 있다면 제거하세요.**\n",
        "> 💡 **Hint)** duplicated"
      ],
      "metadata": {
        "id": "XXOy98uOSLyq"
      }
    },
    {
      "cell_type": "code",
      "source": [
        "customer.duplicated().sum()"
      ],
      "metadata": {
        "id": "FqObQ8pOKv0Y",
        "colab": {
          "base_uri": "https://localhost:8080/"
        },
        "outputId": "8fd356bf-1d6e-49c2-c952-e26a1af6f2d8"
      },
      "execution_count": null,
      "outputs": [
        {
          "output_type": "execute_result",
          "data": {
            "text/plain": [
              "0"
            ]
          },
          "metadata": {},
          "execution_count": 7
        }
      ]
    },
    {
      "cell_type": "markdown",
      "source": [
        "### **Conclusion**\n",
        "> 오늘 논의한 내용을 바탕으로 아래 항목에 대해 논의하고 답변을 정리해보세요.\n",
        "\n",
        " * 해당 데이터셋은 어떻게 구성되어 있는지 정리해보세요.\n",
        "  - 몇 개의 행과 열로 구성되어 있는 데이터셋인가요?\n",
        "  - 각 컬럼이 어떤 데이터 타입에 속해있나요?\n",
        " * 데이터 전처리 과정을 정리해보세요. (결측치 처리, 중복값 제거)\n",
        "  - 결측치는 몇 개가 있었나요? 어떤 기준으로 제거/대치하셨나요?\n",
        "  - 중복값은 몇 개가 있었나요? 어떤 메소드로 제거하셨나요?\n"
      ],
      "metadata": {
        "id": "uY2r6kx16ygH"
      }
    },
    {
      "cell_type": "code",
      "source": [
        "#Default 행에 있는 값들은 의미가 없는 "
      ],
      "metadata": {
        "id": "9GwWTV-6KsTn"
      },
      "execution_count": null,
      "outputs": []
    },
    {
      "cell_type": "markdown",
      "source": [
        "## **N112**\n",
        "\n",
        "### 오늘의 목표\n",
        "- EDA의 중요성에 대해 설명할 수 있다.\n",
        "- groupby 함수를 활용하여 특성별 고객의 특징을 확인할 수 있다.\n",
        "- 주어진 질문에 대한 답을 시각화를 통해 제시할 수 있다.\n",
        "  - 가독성 높은 시각화를 위해 다양한 파라미터를 조정할 수 있다."
      ],
      "metadata": {
        "id": "f8bGyTXNSkI-"
      }
    },
    {
      "cell_type": "markdown",
      "source": [
        "### `Topic 1`: EDA\n",
        "\n",
        "\n"
      ],
      "metadata": {
        "id": "8OpfvuBmTYbX"
      }
    },
    {
      "cell_type": "markdown",
      "source": [
        "#### **1-1. EDA란 무엇인가요?**\n",
        "> EDA에 대해 알아보고, EDA의 중요성에 대해 요약하여 정리해보세요."
      ],
      "metadata": {
        "id": "Ixv1M1snK7yi"
      }
    },
    {
      "cell_type": "markdown",
      "source": [
        "- EDA는 \"탐색적 데이터 분석(Exploratory Data Analysis)\"의 약어로, 데이터를 탐색하고 이해하기 위한 분석 방법론을 의미한다. \n",
        "\n",
        "- EDA는 데이터 분석의 첫 단계로서, 데이터를 수집하고 나서 그 데이터를 탐색하고 이해함으로써 문제를 발견하고 해결하는 데 도움이 된다. \n",
        "\n",
        "- 이후 수행되는 분석 결과의 신뢰성과 유의성을 높이기 위함과 동시에 EDA를 통해 발견된 문제점이나 데이터의 특성은 데이터 전처리나 모델링 등 다음 단계에서 활용될 수 있기 때문에 매우 중요하다."
      ],
      "metadata": {
        "id": "mMP0FFLpH8is"
      }
    },
    {
      "cell_type": "markdown",
      "source": [
        "### `Topic 2`: 특성별 고객의 특징 파악하기\n",
        "> 우리에게 주어진 데이터셋은 고객의 정보를 담고 있습니다. (column에 대한 자세한 설명은 N111 - Topic 1을 참고하세요)\n",
        "\n",
        "* 데이터를 통해 우리 플랫폼을 이용하는 고객의 특징은 무엇인지 파악해보도록 합시다."
      ],
      "metadata": {
        "id": "xDAQxW8vWPPt"
      }
    },
    {
      "cell_type": "markdown",
      "source": [
        "#### **2-1. 고객의 성비는 어떻게 구성되어있나요?**\n",
        "> 고객 데이터 내 성비를 확인하여, 주요 타겟을 어떻게 설정할지에 대한 인사이트를 고민해봅시다.\n",
        "\n",
        "- `value_counts()`를 통해 `gender`별 고객 수를 계산해보세요.\n",
        "  - `gender` column 내 `Female`, `Male` 데이터만 사용하세요. (그 외 U, F, Femel, M 으로 표시된 데이터는 일단 제외합니다)\n",
        "- 해당 데이터를 시각화로 나타낼 때, 어떤 plot을 활용하는 것이 좋을지 논의해보세요.\n",
        "  - [seaborn 라이브러리 튜토리얼](http://seaborn.pydata.org/tutorial.html) 등의 자료를 참고해보셔도 좋습니다.\n",
        "- 시각화의 가독성을 높이기 위해 어떤 요소가 필요할지 논의 후 시각화를 코드로 구현해보세요.\n",
        "  - 예시) 제목, 축 이름, 색상 변경, 글자 크기...\n",
        "- `groupby`를 활용하여 성별에 따라 지난 3년간 자전거 관련 소비 횟수의 평균에 차이가 있는지도 함께 확인해보세요."
      ],
      "metadata": {
        "id": "EJqe8mkYUfiS"
      }
    },
    {
      "cell_type": "code",
      "source": [
        "import matplotlib.pyplot as plt\n",
        "\n",
        "gender_counts = customer[customer['gender'].isin(['Female', 'Male'])]['gender'].value_counts()\n",
        "labels = 'Female','Male'\n",
        "Female = customer[customer['gender'] == 'Female']\n",
        "Male = customer[customer['gender'] == 'Male']\n",
        "sizes = [Female.gender.count(),Male.gender.count()]\n",
        "fig, ax = plt.subplots()\n",
        "ax.pie(sizes, labels=labels,autopct=lambda p : '{:.2f}%'.format(p));"
      ],
      "metadata": {
        "id": "qc-Zc-hfLHYJ",
        "colab": {
          "base_uri": "https://localhost:8080/",
          "height": 248
        },
        "outputId": "7ebb9d2f-c8bc-433a-b664-1237bdd6b9b6"
      },
      "execution_count": null,
      "outputs": [
        {
          "output_type": "display_data",
          "data": {
            "text/plain": [
              "<Figure size 432x288 with 1 Axes>"
            ],
            "image/png": "[encoded data removed]"
          },
          "metadata": {}
        }
      ]
    },
    {
      "cell_type": "code",
      "source": [
        "customer[(customer['gender']=='Female') | (customer['gender']=='Male')].groupby('gender', as_index=False)['past_3_years_bike_related_purchases'].mean()"
      ],
      "metadata": {
        "colab": {
          "base_uri": "https://localhost:8080/",
          "height": 112
        },
        "id": "WvTgmIeb7_qC",
        "outputId": "7231206b-c47d-40b1-aac1-611068f592de"
      },
      "execution_count": null,
      "outputs": [
        {
          "output_type": "execute_result",
          "data": {
            "text/plain": [
              "   gender  past_3_years_bike_related_purchases\n",
              "0  Female                            48.239568\n",
              "1    Male                            49.891026"
            ],
            "text/html": [
              "\n",
              "  <div id=\"df-d9a44385-faf7-4fd6-8c52-39a067955a3a\">\n",
              "    <div class=\"colab-df-container\">\n",
              "      <div>\n",
              "<style scoped>\n",
              "    .dataframe tbody tr th:only-of-type {\n",
              "        vertical-align: middle;\n",
              "    }\n",
              "\n",
              "    .dataframe tbody tr th {\n",
              "        vertical-align: top;\n",
              "    }\n",
              "\n",
              "    .dataframe thead th {\n",
              "        text-align: right;\n",
              "    }\n",
              "</style>\n",
              "<table border=\"1\" class=\"dataframe\">\n",
              "  <thead>\n",
              "    <tr style=\"text-align: right;\">\n",
              "      <th></th>\n",
              "      <th>gender</th>\n",
              "      <th>past_3_years_bike_related_purchases</th>\n",
              "    </tr>\n",
              "  </thead>\n",
              "  <tbody>\n",
              "    <tr>\n",
              "      <th>0</th>\n",
              "      <td>Female</td>\n",
              "      <td>48.239568</td>\n",
              "    </tr>\n",
              "    <tr>\n",
              "      <th>1</th>\n",
              "      <td>Male</td>\n",
              "      <td>49.891026</td>\n",
              "    </tr>\n",
              "  </tbody>\n",
              "</table>\n",
              "</div>\n",
              "      <button class=\"colab-df-convert\" onclick=\"convertToInteractive('df-d9a44385-faf7-4fd6-8c52-39a067955a3a')\"\n",
              "              title=\"Convert this dataframe to an interactive table.\"\n",
              "              style=\"display:none;\">\n",
              "        \n",
              "  <svg xmlns=\"http://www.w3.org/2000/svg\" height=\"24px\"viewBox=\"0 0 24 24\"\n",
              "       width=\"24px\">\n",
              "    <path d=\"M0 0h24v24H0V0z\" fill=\"none\"/>\n",
              "    <path d=\"M18.56 5.44l.94 2.06.94-2.06 2.06-.94-2.06-.94-.94-2.06-.94 2.06-2.06.94zm-11 1L8.5 8.5l.94-2.06 2.06-.94-2.06-.94L8.5 2.5l-.94 2.06-2.06.94zm10 10l.94 2.06.94-2.06 2.06-.94-2.06-.94-.94-2.06-.94 2.06-2.06.94z\"/><path d=\"M17.41 7.96l-1.37-1.37c-.4-.4-.92-.59-1.43-.59-.52 0-1.04.2-1.43.59L10.3 9.45l-7.72 7.72c-.78.78-.78 2.05 0 2.83L4 21.41c.39.39.9.59 1.41.59.51 0 1.02-.2 1.41-.59l7.78-7.78 2.81-2.81c.8-.78.8-2.07 0-2.86zM5.41 20L4 18.59l7.72-7.72 1.47 1.35L5.41 20z\"/>\n",
              "  </svg>\n",
              "      </button>\n",
              "      \n",
              "  <style>\n",
              "    .colab-df-container {\n",
              "      display:flex;\n",
              "      flex-wrap:wrap;\n",
              "      gap: 12px;\n",
              "    }\n",
              "\n",
              "    .colab-df-convert {\n",
              "      background-color: #E8F0FE;\n",
              "      border: none;\n",
              "      border-radius: 50%;\n",
              "      cursor: pointer;\n",
              "      display: none;\n",
              "      fill: #1967D2;\n",
              "      height: 32px;\n",
              "      padding: 0 0 0 0;\n",
              "      width: 32px;\n",
              "    }\n",
              "\n",
              "    .colab-df-convert:hover {\n",
              "      background-color: #E2EBFA;\n",
              "      box-shadow: 0px 1px 2px rgba(60, 64, 67, 0.3), 0px 1px 3px 1px rgba(60, 64, 67, 0.15);\n",
              "      fill: #174EA6;\n",
              "    }\n",
              "\n",
              "    [theme=dark] .colab-df-convert {\n",
              "      background-color: #3B4455;\n",
              "      fill: #D2E3FC;\n",
              "    }\n",
              "\n",
              "    [theme=dark] .colab-df-convert:hover {\n",
              "      background-color: #434B5C;\n",
              "      box-shadow: 0px 1px 3px 1px rgba(0, 0, 0, 0.15);\n",
              "      filter: drop-shadow(0px 1px 2px rgba(0, 0, 0, 0.3));\n",
              "      fill: #FFFFFF;\n",
              "    }\n",
              "  </style>\n",
              "\n",
              "      <script>\n",
              "        const buttonEl =\n",
              "          document.querySelector('#df-d9a44385-faf7-4fd6-8c52-39a067955a3a button.colab-df-convert');\n",
              "        buttonEl.style.display =\n",
              "          google.colab.kernel.accessAllowed ? 'block' : 'none';\n",
              "\n",
              "        async function convertToInteractive(key) {\n",
              "          const element = document.querySelector('#df-d9a44385-faf7-4fd6-8c52-39a067955a3a');\n",
              "          const dataTable =\n",
              "            await google.colab.kernel.invokeFunction('convertToInteractive',\n",
              "                                                     [key], {});\n",
              "          if (!dataTable) return;\n",
              "\n",
              "          const docLinkHtml = 'Like what you see? Visit the ' +\n",
              "            '<a target=\"_blank\" href=https://colab.research.google.com/notebooks/data_table.ipynb>data table notebook</a>'\n",
              "            + ' to learn more about interactive tables.';\n",
              "          element.innerHTML = '';\n",
              "          dataTable['output_type'] = 'display_data';\n",
              "          await google.colab.output.renderOutput(dataTable, element);\n",
              "          const docLink = document.createElement('div');\n",
              "          docLink.innerHTML = docLinkHtml;\n",
              "          element.appendChild(docLink);\n",
              "        }\n",
              "      </script>\n",
              "    </div>\n",
              "  </div>\n",
              "  "
            ]
          },
          "metadata": {},
          "execution_count": 10
        }
      ]
    },
    {
      "cell_type": "markdown",
      "source": [
        "#### **2-2. 자동차를 소유하고 있는 고객의 비중은 어느정도인가요?**\n",
        "> 자전거는 자동차의 대체 교통수단으로 자주 언급되는 만큼, 우리 플랫폼을 사용하는 고객 중 자동차 소유자의 비율이 어느정도 있는지 확인해봅시다."
      ],
      "metadata": {
        "id": "aWwuZICeWALK"
      }
    },
    {
      "cell_type": "code",
      "source": [
        "import matplotlib.pyplot as plt\n",
        "import seaborn as sns\n",
        "\n",
        "owns_car_rate = customer['owns_car'].value_counts(normalize=True).round(2).rename_axis('owns_car').to_frame('owns_car_rate')\n",
        "plt.figure(figsize=(15,10)) #그래프 크기 변경\n",
        "\n",
        "plt.pie(owns_car_rate['owns_car_rate'], labels=owns_car_rate.index, autopct='%.2f%%')\n",
        "plt.rc('font', size=20) #글씨 크기 조절\n",
        "plt.title('Own a car') #그래프 타이틀 표시\n",
        "plt.show()\n"
      ],
      "metadata": {
        "id": "eLDLqHgTLHqG",
        "colab": {
          "base_uri": "https://localhost:8080/",
          "height": 600
        },
        "outputId": "a97a871b-607d-4c81-d1d3-a5938f6f2fc1"
      },
      "execution_count": null,
      "outputs": [
        {
          "output_type": "display_data",
          "data": {
            "text/plain": [
              "<Figure size 1080x720 with 1 Axes>"
            ],
            "image/png": "[encoded data removed]"
          },
          "metadata": {}
        }
      ]
    },
    {
      "cell_type": "markdown",
      "source": [
        "#### **2-3. 고객의 나이대 분포는 어떻게 되나요?**\n",
        "> 마케팅 전략을 세우기 위해서 고객의 나이대 분포를 파악해봅시다.\n",
        "\n",
        "- 현재 시점을 기준으로 고객의 나이를 나타내는 `age` column을 생성하세요.\n",
        "  - 날짜 계산을 용이하게 하기 위해, `DOB` column의 데이터타입을 변경해보셔도 좋습니다.\n",
        "  - 태어난 년도를 기준으로 구분합니다.\n",
        "    - 결측치(missing value)는 제외하고 진행합니다.\n",
        "    - 태어난 년도가 1800년대인 데이터는 이상치로 보고 제외합니다.\n",
        "- 나이대별 분포를 histogram으로 나타내보세요.\n",
        "  - 전체적인 분포를 확인하기 위해 10의 단위로 나눠서 분포를 표현해보세요.\n",
        "    - 목적에 따라 30대 이상, 30대 미만 등 보고자 하는 특정 기준을 중심으로 분포를 확인할 수도 있습니다.\n",
        "  - 어떤 나이대의 고객층이 가장 많은지 확인한 뒤, 해당 나이대의 부분을 강조할 수 있도록 색상을 변경해보셔도 좋습니다.\n",
        "    - 왜 해당 고객층의 비율이 높은지에 대한 근거도 생각해본다면 더욱 풍부한 인사이트를 도출할 수 있을 것입니다."
      ],
      "metadata": {
        "id": "CgegIFSdXH14"
      }
    },
    {
      "cell_type": "code",
      "source": [
        "import datetime\n",
        "customer['DOB'] = customer['DOB'].apply(lambda x: pd.to_datetime(str(x), format='%Y-%m-%d'))\n",
        "\n",
        "customer.info()"
      ],
      "metadata": {
        "colab": {
          "base_uri": "https://localhost:8080/"
        },
        "id": "uR3_7Ug-Qdnp",
        "outputId": "b933f0f8-df8a-4f8c-b57f-46ae04c70dce"
      },
      "execution_count": null,
      "outputs": [
        {
          "output_type": "stream",
          "name": "stdout",
          "text": [
            "<class 'pandas.core.frame.DataFrame'>\n",
            "RangeIndex: 4000 entries, 0 to 3999\n",
            "Data columns (total 12 columns):\n",
            " #   Column                               Non-Null Count  Dtype         \n",
            "---  ------                               --------------  -----         \n",
            " 0   customer_id                          4000 non-null   int64         \n",
            " 1   first_name                           4000 non-null   object        \n",
            " 2   last_name                            3875 non-null   object        \n",
            " 3   gender                               4000 non-null   object        \n",
            " 4   past_3_years_bike_related_purchases  4000 non-null   int64         \n",
            " 5   DOB                                  3913 non-null   datetime64[ns]\n",
            " 6   job_title                            3494 non-null   object        \n",
            " 7   job_industry_category                3344 non-null   object        \n",
            " 8   wealth_segment                       4000 non-null   object        \n",
            " 9   deceased_indicator                   4000 non-null   object        \n",
            " 10  owns_car                             4000 non-null   object        \n",
            " 11  tenure                               3913 non-null   float64       \n",
            "dtypes: datetime64[ns](1), float64(1), int64(2), object(8)\n",
            "memory usage: 375.1+ KB\n"
          ]
        }
      ]
    },
    {
      "cell_type": "code",
      "source": [
        "customer_temp = customer[(customer['DOB'] < datetime.datetime(1800, 1, 1)) | (customer['DOB'] >= datetime.datetime(1900, 1, 1))]\n",
        "\n",
        "now = pd.Timestamp('now')\n",
        "customer['age'] = (now - customer_temp['DOB']).astype('<m8[Y]')\n",
        "\n",
        "customer"
      ],
      "metadata": {
        "id": "SmSR93ydLJqP",
        "colab": {
          "base_uri": "https://localhost:8080/",
          "height": 424
        },
        "outputId": "c8a494cd-ed03-4007-99ba-ea10b6dd6a3d"
      },
      "execution_count": null,
      "outputs": [
        {
          "output_type": "execute_result",
          "data": {
            "text/plain": [
              "      customer_id      first_name  last_name  gender  \\\n",
              "0               1         Laraine  Medendorp       F   \n",
              "1               2             Eli    Bockman    Male   \n",
              "2               3           Arlin     Dearle    Male   \n",
              "3               4          Talbot        NaN    Male   \n",
              "4               5  Sheila-kathryn     Calton  Female   \n",
              "...           ...             ...        ...     ...   \n",
              "3995         3996         Rosalia   Halgarth  Female   \n",
              "3996         3997          Blanch     Nisuis  Female   \n",
              "3997         3998          Sarene    Woolley       U   \n",
              "3998         3999       Patrizius        NaN    Male   \n",
              "3999         4000           Kippy    Oldland    Male   \n",
              "\n",
              "      past_3_years_bike_related_purchases        DOB               job_title  \\\n",
              "0                                      93 1953-10-12     Executive Secretary   \n",
              "1                                      81 1980-12-16  Administrative Officer   \n",
              "2                                      61 1954-01-20      Recruiting Manager   \n",
              "3                                      33 1961-10-03                     NaN   \n",
              "4                                      56 1977-05-13           Senior Editor   \n",
              "...                                   ...        ...                     ...   \n",
              "3995                                    8 1975-08-09   VP Product Management   \n",
              "3996                                   87 2001-07-13         Statistician II   \n",
              "3997                                   60        NaT       Assistant Manager   \n",
              "3998                                   11 1973-10-24                     NaN   \n",
              "3999                                   76 1991-11-05    Software Engineer IV   \n",
              "\n",
              "     job_industry_category     wealth_segment deceased_indicator owns_car  \\\n",
              "0                   Health      Mass Customer                  N      Yes   \n",
              "1       Financial Services      Mass Customer                  N      Yes   \n",
              "2                 Property      Mass Customer                  N      Yes   \n",
              "3                       IT      Mass Customer                  N       No   \n",
              "4                      NaN  Affluent Customer                  N      Yes   \n",
              "...                    ...                ...                ...      ...   \n",
              "3995                Health      Mass Customer                  N       No   \n",
              "3996         Manufacturing     High Net Worth                  N      Yes   \n",
              "3997                    IT     High Net Worth                  N       No   \n",
              "3998         Manufacturing  Affluent Customer                  N      Yes   \n",
              "3999                   NaN  Affluent Customer                  N       No   \n",
              "\n",
              "      tenure   age  \n",
              "0       11.0  69.0  \n",
              "1       16.0  42.0  \n",
              "2       15.0  69.0  \n",
              "3        7.0  61.0  \n",
              "4        8.0  45.0  \n",
              "...      ...   ...  \n",
              "3995    19.0  47.0  \n",
              "3996     1.0  21.0  \n",
              "3997     NaN   NaN  \n",
              "3998    10.0  49.0  \n",
              "3999    11.0  31.0  \n",
              "\n",
              "[4000 rows x 13 columns]"
            ],
            "text/html": [
              "\n",
              "  <div id=\"df-a706b786-64d8-4c6d-a8dd-8f11c96a2357\">\n",
              "    <div class=\"colab-df-container\">\n",
              "      <div>\n",
              "<style scoped>\n",
              "    .dataframe tbody tr th:only-of-type {\n",
              "        vertical-align: middle;\n",
              "    }\n",
              "\n",
              "    .dataframe tbody tr th {\n",
              "        vertical-align: top;\n",
              "    }\n",
              "\n",
              "    .dataframe thead th {\n",
              "        text-align: right;\n",
              "    }\n",
              "</style>\n",
              "<table border=\"1\" class=\"dataframe\">\n",
              "  <thead>\n",
              "    <tr style=\"text-align: right;\">\n",
              "      <th></th>\n",
              "      <th>customer_id</th>\n",
              "      <th>first_name</th>\n",
              "      <th>last_name</th>\n",
              "      <th>gender</th>\n",
              "      <th>past_3_years_bike_related_purchases</th>\n",
              "      <th>DOB</th>\n",
              "      <th>job_title</th>\n",
              "      <th>job_industry_category</th>\n",
              "      <th>wealth_segment</th>\n",
              "      <th>deceased_indicator</th>\n",
              "      <th>owns_car</th>\n",
              "      <th>tenure</th>\n",
              "      <th>age</th>\n",
              "    </tr>\n",
              "  </thead>\n",
              "  <tbody>\n",
              "    <tr>\n",
              "      <th>0</th>\n",
              "      <td>1</td>\n",
              "      <td>Laraine</td>\n",
              "      <td>Medendorp</td>\n",
              "      <td>F</td>\n",
              "      <td>93</td>\n",
              "      <td>1953-10-12</td>\n",
              "      <td>Executive Secretary</td>\n",
              "      <td>Health</td>\n",
              "      <td>Mass Customer</td>\n",
              "      <td>N</td>\n",
              "      <td>Yes</td>\n",
              "      <td>11.0</td>\n",
              "      <td>69.0</td>\n",
              "    </tr>\n",
              "    <tr>\n",
              "      <th>1</th>\n",
              "      <td>2</td>\n",
              "      <td>Eli</td>\n",
              "      <td>Bockman</td>\n",
              "      <td>Male</td>\n",
              "      <td>81</td>\n",
              "      <td>1980-12-16</td>\n",
              "      <td>Administrative Officer</td>\n",
              "      <td>Financial Services</td>\n",
              "      <td>Mass Customer</td>\n",
              "      <td>N</td>\n",
              "      <td>Yes</td>\n",
              "      <td>16.0</td>\n",
              "      <td>42.0</td>\n",
              "    </tr>\n",
              "    <tr>\n",
              "      <th>2</th>\n",
              "      <td>3</td>\n",
              "      <td>Arlin</td>\n",
              "      <td>Dearle</td>\n",
              "      <td>Male</td>\n",
              "      <td>61</td>\n",
              "      <td>1954-01-20</td>\n",
              "      <td>Recruiting Manager</td>\n",
              "      <td>Property</td>\n",
              "      <td>Mass Customer</td>\n",
              "      <td>N</td>\n",
              "      <td>Yes</td>\n",
              "      <td>15.0</td>\n",
              "      <td>69.0</td>\n",
              "    </tr>\n",
              "    <tr>\n",
              "      <th>3</th>\n",
              "      <td>4</td>\n",
              "      <td>Talbot</td>\n",
              "      <td>NaN</td>\n",
              "      <td>Male</td>\n",
              "      <td>33</td>\n",
              "      <td>1961-10-03</td>\n",
              "      <td>NaN</td>\n",
              "      <td>IT</td>\n",
              "      <td>Mass Customer</td>\n",
              "      <td>N</td>\n",
              "      <td>No</td>\n",
              "      <td>7.0</td>\n",
              "      <td>61.0</td>\n",
              "    </tr>\n",
              "    <tr>\n",
              "      <th>4</th>\n",
              "      <td>5</td>\n",
              "      <td>Sheila-kathryn</td>\n",
              "      <td>Calton</td>\n",
              "      <td>Female</td>\n",
              "      <td>56</td>\n",
              "      <td>1977-05-13</td>\n",
              "      <td>Senior Editor</td>\n",
              "      <td>NaN</td>\n",
              "      <td>Affluent Customer</td>\n",
              "      <td>N</td>\n",
              "      <td>Yes</td>\n",
              "      <td>8.0</td>\n",
              "      <td>45.0</td>\n",
              "    </tr>\n",
              "    <tr>\n",
              "      <th>...</th>\n",
              "      <td>...</td>\n",
              "      <td>...</td>\n",
              "      <td>...</td>\n",
              "      <td>...</td>\n",
              "      <td>...</td>\n",
              "      <td>...</td>\n",
              "      <td>...</td>\n",
              "      <td>...</td>\n",
              "      <td>...</td>\n",
              "      <td>...</td>\n",
              "      <td>...</td>\n",
              "      <td>...</td>\n",
              "      <td>...</td>\n",
              "    </tr>\n",
              "    <tr>\n",
              "      <th>3995</th>\n",
              "      <td>3996</td>\n",
              "      <td>Rosalia</td>\n",
              "      <td>Halgarth</td>\n",
              "      <td>Female</td>\n",
              "      <td>8</td>\n",
              "      <td>1975-08-09</td>\n",
              "      <td>VP Product Management</td>\n",
              "      <td>Health</td>\n",
              "      <td>Mass Customer</td>\n",
              "      <td>N</td>\n",
              "      <td>No</td>\n",
              "      <td>19.0</td>\n",
              "      <td>47.0</td>\n",
              "    </tr>\n",
              "    <tr>\n",
              "      <th>3996</th>\n",
              "      <td>3997</td>\n",
              "      <td>Blanch</td>\n",
              "      <td>Nisuis</td>\n",
              "      <td>Female</td>\n",
              "      <td>87</td>\n",
              "      <td>2001-07-13</td>\n",
              "      <td>Statistician II</td>\n",
              "      <td>Manufacturing</td>\n",
              "      <td>High Net Worth</td>\n",
              "      <td>N</td>\n",
              "      <td>Yes</td>\n",
              "      <td>1.0</td>\n",
              "      <td>21.0</td>\n",
              "    </tr>\n",
              "    <tr>\n",
              "      <th>3997</th>\n",
              "      <td>3998</td>\n",
              "      <td>Sarene</td>\n",
              "      <td>Woolley</td>\n",
              "      <td>U</td>\n",
              "      <td>60</td>\n",
              "      <td>NaT</td>\n",
              "      <td>Assistant Manager</td>\n",
              "      <td>IT</td>\n",
              "      <td>High Net Worth</td>\n",
              "      <td>N</td>\n",
              "      <td>No</td>\n",
              "      <td>NaN</td>\n",
              "      <td>NaN</td>\n",
              "    </tr>\n",
              "    <tr>\n",
              "      <th>3998</th>\n",
              "      <td>3999</td>\n",
              "      <td>Patrizius</td>\n",
              "      <td>NaN</td>\n",
              "      <td>Male</td>\n",
              "      <td>11</td>\n",
              "      <td>1973-10-24</td>\n",
              "      <td>NaN</td>\n",
              "      <td>Manufacturing</td>\n",
              "      <td>Affluent Customer</td>\n",
              "      <td>N</td>\n",
              "      <td>Yes</td>\n",
              "      <td>10.0</td>\n",
              "      <td>49.0</td>\n",
              "    </tr>\n",
              "    <tr>\n",
              "      <th>3999</th>\n",
              "      <td>4000</td>\n",
              "      <td>Kippy</td>\n",
              "      <td>Oldland</td>\n",
              "      <td>Male</td>\n",
              "      <td>76</td>\n",
              "      <td>1991-11-05</td>\n",
              "      <td>Software Engineer IV</td>\n",
              "      <td>NaN</td>\n",
              "      <td>Affluent Customer</td>\n",
              "      <td>N</td>\n",
              "      <td>No</td>\n",
              "      <td>11.0</td>\n",
              "      <td>31.0</td>\n",
              "    </tr>\n",
              "  </tbody>\n",
              "</table>\n",
              "<p>4000 rows × 13 columns</p>\n",
              "</div>\n",
              "      <button class=\"colab-df-convert\" onclick=\"convertToInteractive('df-a706b786-64d8-4c6d-a8dd-8f11c96a2357')\"\n",
              "              title=\"Convert this dataframe to an interactive table.\"\n",
              "              style=\"display:none;\">\n",
              "        \n",
              "  <svg xmlns=\"http://www.w3.org/2000/svg\" height=\"24px\"viewBox=\"0 0 24 24\"\n",
              "       width=\"24px\">\n",
              "    <path d=\"M0 0h24v24H0V0z\" fill=\"none\"/>\n",
              "    <path d=\"M18.56 5.44l.94 2.06.94-2.06 2.06-.94-2.06-.94-.94-2.06-.94 2.06-2.06.94zm-11 1L8.5 8.5l.94-2.06 2.06-.94-2.06-.94L8.5 2.5l-.94 2.06-2.06.94zm10 10l.94 2.06.94-2.06 2.06-.94-2.06-.94-.94-2.06-.94 2.06-2.06.94z\"/><path d=\"M17.41 7.96l-1.37-1.37c-.4-.4-.92-.59-1.43-.59-.52 0-1.04.2-1.43.59L10.3 9.45l-7.72 7.72c-.78.78-.78 2.05 0 2.83L4 21.41c.39.39.9.59 1.41.59.51 0 1.02-.2 1.41-.59l7.78-7.78 2.81-2.81c.8-.78.8-2.07 0-2.86zM5.41 20L4 18.59l7.72-7.72 1.47 1.35L5.41 20z\"/>\n",
              "  </svg>\n",
              "      </button>\n",
              "      \n",
              "  <style>\n",
              "    .colab-df-container {\n",
              "      display:flex;\n",
              "      flex-wrap:wrap;\n",
              "      gap: 12px;\n",
              "    }\n",
              "\n",
              "    .colab-df-convert {\n",
              "      background-color: #E8F0FE;\n",
              "      border: none;\n",
              "      border-radius: 50%;\n",
              "      cursor: pointer;\n",
              "      display: none;\n",
              "      fill: #1967D2;\n",
              "      height: 32px;\n",
              "      padding: 0 0 0 0;\n",
              "      width: 32px;\n",
              "    }\n",
              "\n",
              "    .colab-df-convert:hover {\n",
              "      background-color: #E2EBFA;\n",
              "      box-shadow: 0px 1px 2px rgba(60, 64, 67, 0.3), 0px 1px 3px 1px rgba(60, 64, 67, 0.15);\n",
              "      fill: #174EA6;\n",
              "    }\n",
              "\n",
              "    [theme=dark] .colab-df-convert {\n",
              "      background-color: #3B4455;\n",
              "      fill: #D2E3FC;\n",
              "    }\n",
              "\n",
              "    [theme=dark] .colab-df-convert:hover {\n",
              "      background-color: #434B5C;\n",
              "      box-shadow: 0px 1px 3px 1px rgba(0, 0, 0, 0.15);\n",
              "      filter: drop-shadow(0px 1px 2px rgba(0, 0, 0, 0.3));\n",
              "      fill: #FFFFFF;\n",
              "    }\n",
              "  </style>\n",
              "\n",
              "      <script>\n",
              "        const buttonEl =\n",
              "          document.querySelector('#df-a706b786-64d8-4c6d-a8dd-8f11c96a2357 button.colab-df-convert');\n",
              "        buttonEl.style.display =\n",
              "          google.colab.kernel.accessAllowed ? 'block' : 'none';\n",
              "\n",
              "        async function convertToInteractive(key) {\n",
              "          const element = document.querySelector('#df-a706b786-64d8-4c6d-a8dd-8f11c96a2357');\n",
              "          const dataTable =\n",
              "            await google.colab.kernel.invokeFunction('convertToInteractive',\n",
              "                                                     [key], {});\n",
              "          if (!dataTable) return;\n",
              "\n",
              "          const docLinkHtml = 'Like what you see? Visit the ' +\n",
              "            '<a target=\"_blank\" href=https://colab.research.google.com/notebooks/data_table.ipynb>data table notebook</a>'\n",
              "            + ' to learn more about interactive tables.';\n",
              "          element.innerHTML = '';\n",
              "          dataTable['output_type'] = 'display_data';\n",
              "          await google.colab.output.renderOutput(dataTable, element);\n",
              "          const docLink = document.createElement('div');\n",
              "          docLink.innerHTML = docLinkHtml;\n",
              "          element.appendChild(docLink);\n",
              "        }\n",
              "      </script>\n",
              "    </div>\n",
              "  </div>\n",
              "  "
            ]
          },
          "metadata": {},
          "execution_count": 13
        }
      ]
    },
    {
      "cell_type": "code",
      "source": [
        "n, bins, patches = plt.hist(customer['age'],bins=range(0,100,10),label='bins=10',rwidth = 0.8)\n",
        "plt.title('by age',size=20)\n",
        "plt.xlabel('age', size = 15)\n",
        "\n",
        "patches[4].set_facecolor('gold') # 구간 선택\n",
        "\n",
        "plt.show()"
      ],
      "metadata": {
        "colab": {
          "base_uri": "https://localhost:8080/",
          "height": 314
        },
        "id": "MqF5A3e9S_nv",
        "outputId": "d1e2b709-37b5-4fd0-b05e-e4cf77559706"
      },
      "execution_count": null,
      "outputs": [
        {
          "output_type": "display_data",
          "data": {
            "text/plain": [
              "<Figure size 432x288 with 1 Axes>"
            ],
            "image/png": "[encoded data removed]"
          },
          "metadata": {
            "needs_background": "light"
          }
        }
      ]
    },
    {
      "cell_type": "markdown",
      "source": [
        "### **Conclusion**\n",
        "> EDA를 통해 데이터를 탐색하여 얻은 인사이트를 종합해서 하나의 결론을 도출해보세요.\n",
        "- `인사이트 설명`\n",
        "  - `고객의 성비`\n",
        "  - `자동차를 소유한 고객 비율`\n",
        "  - `고객의 나이대`\n",
        "- `결론`\n",
        "  - `인사이트 종합의견`\n",
        "  - `주요 타겟 고객`\n",
        "\n",
        "\n",
        "\n",
        "\n"
      ],
      "metadata": {
        "id": "J3IpaZ18BvGP"
      }
    },
    {
      "cell_type": "markdown",
      "source": [
        "\n",
        "\n",
        "*   인사이트 설명\n",
        "    - 여자 52.11% 남자 47.89%로 여자 성비가 높음\n",
        "    - 자동차 소유 비율은 소유 51% 무소유 49%로 자동차 소유 비율이 근소하게 높음\n",
        "    - 나이는 40대~50대가 큰 차이로 많음\n",
        "\n",
        "*   결론\n",
        "    - 단순하게 4~50대인 자동차를 소유한 여자 고객층을 타겟으로 정할 수 있음. 하지만 각 항목(여자,자동차 소유 여부,나이)으로 구성된 새로운 분석이 필요해 보임. \n",
        "    - 문제 설명으로 보아 자전거 플랫폼에서 활용될 자료로 추정됨\n",
        "    - 자동차 소유 여부가 거의 차이가 없으므로 두 타겟군 모두 신경을 써야하고 집중을 위해 한 쪽만 타겟을 했을 경우 매출 상승률이 높지 않을 수 있음\n",
        "    - 높은 40-50대 비율이 성별, 자동차 소유 여부를 모두 포함함으로 가장 중요하다고 판단. 이러한 관점에서 40-50대가 편하게 쓸 수 있는 앱 UX/UI와 전기 자전거등을 고려해볼 수 있음\n",
        "\n",
        "\n"
      ],
      "metadata": {
        "id": "94nh9sva7krn"
      }
    },
    {
      "cell_type": "markdown",
      "source": [
        "#### **optional) 다른 column을 활용하여 고객의 특징을 추출해보세요.**\n",
        "> `customer` dataset에서 알아낼 수 있는 고객의 특징에는 어떤 것들이 있을지 논의하고, 이를 잘 설명할 수 있는 시각화를 만들어봅시다.\n",
        "\n",
        "- 🚨 해당 질문은 선택사항입니다. 원하는 조에서만 진행하시면 됩니다.\n"
      ],
      "metadata": {
        "id": "LRRcawVILkJ2"
      }
    },
    {
      "cell_type": "code",
      "source": [
        "`import pandas as pd\n",
        "\n",
        "transaction = pd.read_csv('https://raw.githubusercontent.com/YuriCha02/N11-4-/main/transaction.csv')"
      ],
      "metadata": {
        "id": "w1sejk-2OwkS"
      },
      "execution_count": null,
      "outputs": []
    },
    {
      "cell_type": "code",
      "source": [],
      "metadata": {
        "id": "gLuj8d8vLvuq"
      },
      "execution_count": null,
      "outputs": []
    },
    {
      "cell_type": "markdown",
      "source": [
        "## **N113**\n",
        "\n",
        "### 오늘의 목표\n",
        "- 품질의 문제와 구조적 문제에는 어떤 것이 있는지 설명할 수 있다.\n",
        "- 주어진 데이터셋에 대해 품질의 문제와 구조적 문제를 파악할 수 있다.\n",
        "- Tidy data의 특징을 이해할 수 있다.\n",
        "\n",
        "<br>\n",
        "\n",
        "> **transaction 데이터셋 설명 (description)** <br>\n",
        "우리 플랫폼에 등록된 2021년의 고객 거래 데이터\n",
        "\n",
        "- `transaction_id`: 거래 고유번호\n",
        "- `product_id`: 제품 고유번호\n",
        "- `customer_id`: 고객 고유번호\n",
        "- `transaction_date`: 거래일자\n",
        "- `online_transaction`: 온라인 거래 여부 \n",
        "  - T: 온라인 거래\n",
        "  - F: 오프라인 거래\n",
        "- `offline_transaction`: 오프라인 거래 여부\n",
        "  - T: 오프라인 거래\n",
        "  - F: 온라인 거래\n",
        "- `order_status`: 거래 상태\n",
        "- `brand`: 자전거 브랜드\n",
        "- `product_line`: 제품 라인\n",
        "- `product_class`: 제품 등급\n",
        "- `product_size`: 제품 사이즈\n",
        "- `standard_cost`: 제품 기본 판매 금액 (정가)\n",
        "- `address`: 고객 주소\n",
        "- `postcode`: 고객 주소 우편번호\n",
        "- `state`: 고객이 거주하는 주\n",
        "-  `country`: 고객이 거주하는 국가"
      ],
      "metadata": {
        "id": "50EMuW5kWkcN"
      }
    },
    {
      "cell_type": "markdown",
      "source": [
        "### `Topic 1`: 품질의 문제 확인"
      ],
      "metadata": {
        "id": "7YIjLkw0W85U"
      }
    },
    {
      "cell_type": "markdown",
      "source": [
        "#### **1-1. `customer` dataset에 어떤 품질의 문제가 있는지 확인해보세요.**\n",
        "> 원본 `customer_info.csv`를 다시 한 번 불러와 탐색을 진행합니다.\n",
        "\n",
        "- 시각적 탐색 혹은 프로그래매틱 탐색 방법을 활용하여 품질의 문제를 탐색 후 정리하세요."
      ],
      "metadata": {
        "id": "RvFWP9r-Xu3z"
      }
    },
    {
      "cell_type": "code",
      "source": [],
      "metadata": {
        "id": "5L9lJ3QlLNfC"
      },
      "execution_count": null,
      "outputs": []
    },
    {
      "cell_type": "markdown",
      "source": [
        "#### **1-2. `transaction` dataset에 어떤 품질의 문제가 있는지 확인해보세요.**\n",
        "- 시각적 탐색 혹은 프로그래매틱 탐색 방법을 활용하여 품질의 문제를 탐색 후 정리하세요."
      ],
      "metadata": {
        "id": "xox3uenFYYrJ"
      }
    },
    {
      "cell_type": "code",
      "source": [],
      "metadata": {
        "id": "ZwNDea_7LOyX"
      },
      "execution_count": null,
      "outputs": []
    },
    {
      "cell_type": "markdown",
      "source": [
        "### `Topic 2`: 구조적 문제 확인"
      ],
      "metadata": {
        "id": "CO2LZHZbX-zm"
      }
    },
    {
      "cell_type": "markdown",
      "source": [
        "#### **2-1. 전체 2개의 데이터프레임에 대해 어떤 구조적 문제가 있는지 확인해보세요.**\n",
        "- 시각적 탐색 혹은 프로그래매틱 탐색 방법을 활용하여 구조적 문제를 탐색 후 정리하세요."
      ],
      "metadata": {
        "id": "aSw249tLX-zu"
      }
    },
    {
      "cell_type": "code",
      "source": [],
      "metadata": {
        "id": "q8tw3ntKLQBh"
      },
      "execution_count": null,
      "outputs": []
    },
    {
      "cell_type": "markdown",
      "source": [
        "### **Conclusion**\n",
        "> `customer` 와 `transaction` dataset에서 확인한 `품질의 문제`와 `구조의 문제`를 정리해보세요.\n",
        "- 어떻게 위와 같은 문제를 해결할 수 있을지 추가로 논의해보셔도 좋습니다."
      ],
      "metadata": {
        "id": "_e2ytBSw6knO"
      }
    }
  ]
}