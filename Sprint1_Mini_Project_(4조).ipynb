{
  "nbformat": 4,
  "nbformat_minor": 0,
  "metadata": {
    "colab": {
      "provenance": [],
      "include_colab_link": true
    },
    "kernelspec": {
      "name": "python3",
      "display_name": "Python 3"
    },
    "language_info": {
      "name": "python"
    }
  },
  "cells": [
    {
      "cell_type": "markdown",
      "metadata": {
        "id": "view-in-github",
        "colab_type": "text"
      },
      "source": [
        "<a href=\"https://colab.research.google.com/github/Ryu4824/code-states/blob/main/Sprint1_Mini_Project_(4%E1%84%8C%E1%85%A9).ipynb\" target=\"_parent\"><img src=\"https://colab.research.google.com/assets/colab-badge.svg\" alt=\"Open In Colab\"/></a>"
      ]
    },
    {
      "cell_type": "markdown",
      "source": [
        "# **Sprint 1 Mini Project**\n"
      ],
      "metadata": {
        "id": "ozuNq4ntan5m"
      }
    },
    {
      "cell_type": "markdown",
      "source": [
        "## Sprint 학습 목표\n",
        "\n",
        "- EDA & Data Wrangling 과정을 코드로 구현할 수 있다.\n",
        "- 목적에 맞는 시각화를 활용하여 비지니스 인사이트를 도출할 수 있다."
      ],
      "metadata": {
        "id": "TNlVAZ15azaz"
      }
    },
    {
      "cell_type": "markdown",
      "source": [
        "## Project 문제 정의"
      ],
      "metadata": {
        "id": "Dt5KsBNbbN1B"
      }
    },
    {
      "cell_type": "markdown",
      "source": [
        "### 배경\n",
        "> 여러분은 웹사이트와 더불어 오프라인 매장을 함께 운영하고 있는 **자전거 거래 플랫폼 회사**에서 데이터 분석 업무를 담당하고 있습니다.<br>\n",
        "해당 회사의 주요 타겟 지역은 **호주**이며, 매출액을 늘리기 위해서는 자전거 거래 데이터를 분석하여 **인사이트를 도출**하는 작업이 필요합니다.<br>\n",
        "회사 Database에 적재 되어있는 데이터를 추출하여 확보한 **고객 데이터**와 **거래 데이터**를 분석에 용이한 형태로 정제하는 것이 이번 프로젝트의 주요 과제입니다.<br>\n",
        "가능하다면 데이터 분석을 통해 현재 상황과 매출액 증가를 위한 방안에 대한 **비즈니스 인사이트를 도출**하고 **실행 가능한 계획까지 수립**하는 프로젝트를 완성해보세요.\n",
        "\n",
        "\n"
      ],
      "metadata": {
        "id": "S_30oFfwbUUW"
      }
    },
    {
      "cell_type": "markdown",
      "source": [
        "### 목표\n",
        "\n",
        "#### 기본 과제\n",
        "> - 주어진 데이터셋을 **이해하고 분석**할 수 있다.\n",
        "- 주어진 질문에 대해 **시각화를 통해 설명**할 수 있다.\n",
        "- **품질의 문제와 구조적 문제**를 파악하여 **정제**할 수 있다.\n",
        "\n",
        "\n",
        "#### 도전 과제\n",
        "> - 현재 플랫폼 내 자전거 거래의 **동향(trend)**을 파악한다.<br>\n",
        "- **고객 세분화(Customer Segmentation)**를 통해 비슷한 특성을 가진 **고객군 각각의 특징을 파악**한다. <br>\n",
        "- 고객군 별로 매출을 증가시키기 위해 적용할 수 있는 마케팅 전략을 수립하고 **실행 계획(action plan)**을 제시할 수 있다."
      ],
      "metadata": {
        "id": "0YP8FV0IawBo"
      }
    },
    {
      "cell_type": "markdown",
      "source": [
        "## **N111**\n",
        "\n",
        "### 오늘의 목표\n",
        "- 주어진 데이터셋을 불러올 수 있다.\n",
        "- 데이터셋에 대해 pandas 메서드를 통해 기본 정보를 확인할 수 있다.\n"
      ],
      "metadata": {
        "id": "jtAQyTDKbuGH"
      }
    },
    {
      "cell_type": "markdown",
      "source": [
        "### `Topic 1`: 데이터셋 불러오기\n",
        "본격적인 분석에 앞서, 아래의 데이터셋 설명을 통해 어떤 정보를 가진 데이터셋인지 파악 후 코드를 통해 데이터셋을 불러오도록 합시다.\n",
        "\n",
        "<br>\n",
        "\n",
        "> **customer 데이터셋 설명 (description)** <br>\n",
        "우리 플랫폼에 등록된 고객 정보 데이터\n",
        "\n",
        "- `customer_id`: 고객 고유번호\n",
        "- `first_name`: 이름\n",
        "- `last_name`: 성\n",
        "- `gender`: 성별\n",
        "- `past_3_years_bike_related_purchases`: 자전거 관련 구매 이력 (3년)\n",
        "- `DOB`: 생년월일\n",
        "- `job_title`: 직업명\n",
        "- `job_industry_category`: 직무\n",
        "- `wealth_segment`: 재력\n",
        "- `deceased_indicator`: 사망 여부\n",
        "- `default`: 정보\n",
        "- `owns_car`: 차 소유 여부\n",
        "- `tenure`: 재직 기간\n"
      ],
      "metadata": {
        "id": "0vOrRMndLZuF"
      }
    },
    {
      "cell_type": "markdown",
      "source": [
        "#### **1-1. 라이브러리와 메서드는 무엇인가요?**\n",
        "> 앞으로 여러분은 다양한 라이브러리를 사용하여 분석, 모델링을 진행하시게 될 텐데요.\n",
        ">\n",
        "> 오늘 Lecture Note에서도 pandas라는 라이브러리를 활용하고 있습니다.\n",
        ">\n",
        "> 그렇다면 라이브러리는 무엇이며, 왜 사용을 하는 것일까요? 이와 더불어 라이브러리와 함께 자주 등장하는 개념인 메서드는 무엇인지에 대해서도 함께 찾아본 후 내용을 정리하여 노션의 **진행내용**에 남겨주세요."
      ],
      "metadata": {
        "id": "m6N8xdcIPiZp"
      }
    },
    {
      "cell_type": "markdown",
      "source": [
        "\n",
        "#### **1-2. pandas의 `read_csv` 함수를 활용하여 주어진 csv 파일(customer_info.csv)을 `customer`라는 이름으로 불러오세요.**\n"
      ],
      "metadata": {
        "id": "VmMqcS5HPZpP"
      }
    },
    {
      "cell_type": "code",
      "source": [
        "import pandas as pd\n",
        "import numpy as np\n",
        "customer = pd.read_csv('https://github.com/YuriCha02/N11-4-/raw/main/customer_info.csv')"
      ],
      "metadata": {
        "id": "EupkR7cfKorD"
      },
      "execution_count": null,
      "outputs": []
    },
    {
      "cell_type": "markdown",
      "source": [
        "### `Topic 2`: 기본 정보 확인\n",
        "> 위에서 불러온 데이터셋에 대해 pandas 메서드를 활용하여 기본 정보를 확인해봅시다."
      ],
      "metadata": {
        "id": "3hOs58uKQYa6"
      }
    },
    {
      "cell_type": "markdown",
      "source": [
        "#### **2-1. `customer`는 몇 개의 행과 열로 구성되어 있는지 확인해보세요.**\n",
        "\n",
        "> 💡 **Hint)** shape"
      ],
      "metadata": {
        "id": "9ve5Puc5QuKn"
      }
    },
    {
      "cell_type": "code",
      "source": [
        "customer.shape"
      ],
      "metadata": {
        "id": "wNHlRUG8KqAO",
        "outputId": "034dcfef-0b00-4719-de12-da275ee7b0b1",
        "colab": {
          "base_uri": "https://localhost:8080/"
        }
      },
      "execution_count": null,
      "outputs": [
        {
          "output_type": "execute_result",
          "data": {
            "text/plain": [
              "(4000, 14)"
            ]
          },
          "metadata": {},
          "execution_count": 2
        }
      ]
    },
    {
      "cell_type": "markdown",
      "source": [
        "#### **2-2. `customer`의 정보(column 이름, 결측치 개수, 데이터타입 ...)를 pandas 메서드를 활용하여 확인해보세요.**\n",
        "> 💡 **Hint)** info\n",
        "\n",
        "- 몇 개의 column을 가지고 있는 데이터셋인지 확인해보세요.\n",
        "  - 각 column에 어떤 정보가 들어있는지 확인한 뒤, 무의미한 데이터가 들어있는 column이 있는지도 함께 논의해보세요."
      ],
      "metadata": {
        "id": "T-qz3WCxRBje"
      }
    },
    {
      "cell_type": "code",
      "source": [
        "customer.info()"
      ],
      "metadata": {
        "id": "8fKPtj75OSfF",
        "colab": {
          "base_uri": "https://localhost:8080/"
        },
        "outputId": "75f1d0dc-bb9c-4137-f4ef-1dc7b8004b96"
      },
      "execution_count": null,
      "outputs": [
        {
          "output_type": "stream",
          "name": "stdout",
          "text": [
            "<class 'pandas.core.frame.DataFrame'>\n",
            "RangeIndex: 4000 entries, 0 to 3999\n",
            "Data columns (total 14 columns):\n",
            " #   Column                               Non-Null Count  Dtype  \n",
            "---  ------                               --------------  -----  \n",
            " 0   customer_id                          4000 non-null   int64  \n",
            " 1   first_name                           4000 non-null   object \n",
            " 2   last_name                            3875 non-null   object \n",
            " 3   gender                               4000 non-null   object \n",
            " 4   past_3_years_bike_related_purchases  4000 non-null   int64  \n",
            " 5   DOB                                  3913 non-null   object \n",
            " 6   job_title                            3494 non-null   object \n",
            " 7   job_industry_category                3344 non-null   object \n",
            " 8   wealth_segment                       4000 non-null   object \n",
            " 9   deceased_indicator                   4000 non-null   object \n",
            " 10  default                              2571 non-null   object \n",
            " 11  owns_car                             4000 non-null   object \n",
            " 12  tenure                               3913 non-null   float64\n",
            " 13  Unnamed: 13                          0 non-null      float64\n",
            "dtypes: float64(2), int64(2), object(10)\n",
            "memory usage: 437.6+ KB\n"
          ]
        }
      ]
    },
    {
      "cell_type": "markdown",
      "source": [
        "#### **2-3. `customer`에 결측치가 있는지 확인한 뒤, 어떻게 처리하는 것이 좋을지 생각해보세요.**\n",
        "> 💡 **Hint)** missing value, nan, isnull\n",
        "- 결측치 처리 방식에는 크게 두 가지가 있습니다.\n",
        "  - 결측치 대체: 특정 값으로 결측치를 채우는 것\n",
        "  - 결측치 제거: 결측치가 있는 행 또는 열을 제거하는 것\n",
        "\n",
        "- 결측치가 있는 column에는 어떤 것이 있는지 확인해보세요.\n",
        "- 각 column 별로 결측치를 어떻게 처리하는 것이 좋을지 생각해보세요.\n",
        "  - 결측치 처리에 무조건적인 정답은 없으며, 조에서 논의 후 내린 결론을 논리적으로 설명하는 것이 무엇보다 중요합니다."
      ],
      "metadata": {
        "id": "XoaORCSRSThK"
      }
    },
    {
      "cell_type": "code",
      "source": [
        "customer=customer.drop(['Unnamed: 13','default'], axis=1)\n",
        "customer.info()"
      ],
      "metadata": {
        "id": "FtPNqSJBKuUR",
        "colab": {
          "base_uri": "https://localhost:8080/"
        },
        "outputId": "3e914722-a4b3-427b-cf1a-bb54321f2d2e"
      },
      "execution_count": null,
      "outputs": [
        {
          "output_type": "stream",
          "name": "stdout",
          "text": [
            "<class 'pandas.core.frame.DataFrame'>\n",
            "RangeIndex: 4000 entries, 0 to 3999\n",
            "Data columns (total 12 columns):\n",
            " #   Column                               Non-Null Count  Dtype  \n",
            "---  ------                               --------------  -----  \n",
            " 0   customer_id                          4000 non-null   int64  \n",
            " 1   first_name                           4000 non-null   object \n",
            " 2   last_name                            3875 non-null   object \n",
            " 3   gender                               4000 non-null   object \n",
            " 4   past_3_years_bike_related_purchases  4000 non-null   int64  \n",
            " 5   DOB                                  3913 non-null   object \n",
            " 6   job_title                            3494 non-null   object \n",
            " 7   job_industry_category                3344 non-null   object \n",
            " 8   wealth_segment                       4000 non-null   object \n",
            " 9   deceased_indicator                   4000 non-null   object \n",
            " 10  owns_car                             4000 non-null   object \n",
            " 11  tenure                               3913 non-null   float64\n",
            "dtypes: float64(1), int64(2), object(9)\n",
            "memory usage: 375.1+ KB\n"
          ]
        }
      ]
    },
    {
      "cell_type": "code",
      "source": [
        "customer.iloc[:,0:11]=customer.iloc[:,0:11].fillna('missing')\n",
        "customer.loc[:,'tenure'] = customer.loc[:,'tenure'].fillna(np.nan)"
      ],
      "metadata": {
        "id": "8vZY87j_3uNF"
      },
      "execution_count": null,
      "outputs": []
    },
    {
      "cell_type": "markdown",
      "source": [
        "#### **2-4. `customer`에 중복값이 있는지 확인한 뒤, 있다면 제거하세요.**\n",
        "> 💡 **Hint)** duplicated"
      ],
      "metadata": {
        "id": "XXOy98uOSLyq"
      }
    },
    {
      "cell_type": "code",
      "source": [
        "customer.duplicated().sum()"
      ],
      "metadata": {
        "id": "FqObQ8pOKv0Y"
      },
      "execution_count": null,
      "outputs": []
    },
    {
      "cell_type": "markdown",
      "source": [
        "### **Conclusion**\n",
        "> 오늘 논의한 내용을 바탕으로 아래 항목에 대해 논의하고 답변을 정리해보세요.\n",
        "\n",
        " * 해당 데이터셋은 어떻게 구성되어 있는지 정리해보세요.\n",
        "  - 몇 개의 행과 열로 구성되어 있는 데이터셋인가요?\n",
        "  - 각 컬럼이 어떤 데이터 타입에 속해있나요?\n",
        " * 데이터 전처리 과정을 정리해보세요. (결측치 처리, 중복값 제거)\n",
        "  - 결측치는 몇 개가 있었나요? 어떤 기준으로 제거/대치하셨나요?\n",
        "  - 중복값은 몇 개가 있었나요? 어떤 메소드로 제거하셨나요?\n"
      ],
      "metadata": {
        "id": "uY2r6kx16ygH"
      }
    },
    {
      "cell_type": "code",
      "source": [],
      "metadata": {
        "id": "9GwWTV-6KsTn"
      },
      "execution_count": null,
      "outputs": []
    },
    {
      "cell_type": "markdown",
      "source": [
        "## **N112**\n",
        "\n",
        "### 오늘의 목표\n",
        "- EDA의 중요성에 대해 설명할 수 있다.\n",
        "- groupby 함수를 활용하여 특성별 고객의 특징을 확인할 수 있다.\n",
        "- 주어진 질문에 대한 답을 시각화를 통해 제시할 수 있다.\n",
        "  - 가독성 높은 시각화를 위해 다양한 파라미터를 조정할 수 있다."
      ],
      "metadata": {
        "id": "f8bGyTXNSkI-"
      }
    },
    {
      "cell_type": "markdown",
      "source": [
        "### `Topic 1`: EDA\n",
        "\n",
        "\n"
      ],
      "metadata": {
        "id": "8OpfvuBmTYbX"
      }
    },
    {
      "cell_type": "markdown",
      "source": [
        "#### **1-1. EDA란 무엇인가요?**\n",
        "> EDA에 대해 알아보고, EDA의 중요성에 대해 요약하여 정리해보세요."
      ],
      "metadata": {
        "id": "Ixv1M1snK7yi"
      }
    },
    {
      "cell_type": "markdown",
      "source": [
        "### `Topic 2`: 특성별 고객의 특징 파악하기\n",
        "> 우리에게 주어진 데이터셋은 고객의 정보를 담고 있습니다. (column에 대한 자세한 설명은 N111 - Topic 1을 참고하세요)\n",
        "\n",
        "* 데이터를 통해 우리 플랫폼을 이용하는 고객의 특징은 무엇인지 파악해보도록 합시다."
      ],
      "metadata": {
        "id": "xDAQxW8vWPPt"
      }
    },
    {
      "cell_type": "markdown",
      "source": [
        "#### **2-1. 고객의 성비는 어떻게 구성되어있나요?**\n",
        "> 고객 데이터 내 성비를 확인하여, 주요 타겟을 어떻게 설정할지에 대한 인사이트를 고민해봅시다.\n",
        "\n",
        "- `value_counts()`를 통해 `gender`별 고객 수를 계산해보세요.\n",
        "  - `gender` column 내 `Female`, `Male` 데이터만 사용하세요. (그 외 U, F, Femel, M 으로 표시된 데이터는 일단 제외합니다)\n",
        "- 해당 데이터를 시각화로 나타낼 때, 어떤 plot을 활용하는 것이 좋을지 논의해보세요.\n",
        "  - [seaborn 라이브러리 튜토리얼](http://seaborn.pydata.org/tutorial.html) 등의 자료를 참고해보셔도 좋습니다.\n",
        "- 시각화의 가독성을 높이기 위해 어떤 요소가 필요할지 논의 후 시각화를 코드로 구현해보세요.\n",
        "  - 예시) 제목, 축 이름, 색상 변경, 글자 크기...\n",
        "- `groupby`를 활용하여 성별에 따라 지난 3년간 자전거 관련 소비 횟수의 평균에 차이가 있는지도 함께 확인해보세요."
      ],
      "metadata": {
        "id": "EJqe8mkYUfiS"
      }
    },
    {
      "cell_type": "code",
      "source": [],
      "metadata": {
        "id": "qc-Zc-hfLHYJ"
      },
      "execution_count": null,
      "outputs": []
    },
    {
      "cell_type": "markdown",
      "source": [
        "#### **2-2. 자동차를 소유하고 있는 고객의 비중은 어느정도인가요?**\n",
        "> 자전거는 자동차의 대체 교통수단으로 자주 언급되는 만큼, 우리 플랫폼을 사용하는 고객 중 자동차 소유자의 비율이 어느정도 있는지 확인해봅시다."
      ],
      "metadata": {
        "id": "aWwuZICeWALK"
      }
    },
    {
      "cell_type": "code",
      "source": [],
      "metadata": {
        "id": "eLDLqHgTLHqG"
      },
      "execution_count": null,
      "outputs": []
    },
    {
      "cell_type": "markdown",
      "source": [
        "#### **2-3. 고객의 나이대 분포는 어떻게 되나요?**\n",
        "> 마케팅 전략을 세우기 위해서 고객의 나이대 분포를 파악해봅시다.\n",
        "\n",
        "- 현재 시점을 기준으로 고객의 나이를 나타내는 `age` column을 생성하세요.\n",
        "  - 날짜 계산을 용이하게 하기 위해, `DOB` column의 데이터타입을 변경해보셔도 좋습니다.\n",
        "  - 태어난 년도를 기준으로 구분합니다.\n",
        "    - 결측치(missing value)는 제외하고 진행합니다.\n",
        "    - 태어난 년도가 1800년대인 데이터는 이상치로 보고 제외합니다.\n",
        "- 나이대별 분포를 histogram으로 나타내보세요.\n",
        "  - 전체적인 분포를 확인하기 위해 10의 단위로 나눠서 분포를 표현해보세요.\n",
        "    - 목적에 따라 30대 이상, 30대 미만 등 보고자 하는 특정 기준을 중심으로 분포를 확인할 수도 있습니다.\n",
        "  - 어떤 나이대의 고객층이 가장 많은지 확인한 뒤, 해당 나이대의 부분을 강조할 수 있도록 색상을 변경해보셔도 좋습니다.\n",
        "    - 왜 해당 고객층의 비율이 높은지에 대한 근거도 생각해본다면 더욱 풍부한 인사이트를 도출할 수 있을 것입니다."
      ],
      "metadata": {
        "id": "CgegIFSdXH14"
      }
    },
    {
      "cell_type": "code",
      "source": [],
      "metadata": {
        "id": "SmSR93ydLJqP"
      },
      "execution_count": null,
      "outputs": []
    },
    {
      "cell_type": "markdown",
      "source": [
        "### **Conclusion**\n",
        "> EDA를 통해 데이터를 탐색하여 얻은 인사이트를 종합해서 하나의 결론을 도출해보세요.\n",
        "- `인사이트 설명`\n",
        "  - `고객의 성비`\n",
        "  - `자동차를 소유한 고객 비율`\n",
        "  - `고객의 나이대`\n",
        "- `결론`\n",
        "  - `인사이트 종합의견`\n",
        "  - `주요 타겟 고객`\n",
        "\n",
        "\n",
        "\n",
        "\n"
      ],
      "metadata": {
        "id": "J3IpaZ18BvGP"
      }
    },
    {
      "cell_type": "markdown",
      "source": [
        "#### **optional) 다른 column을 활용하여 고객의 특징을 추출해보세요.**\n",
        "> `customer` dataset에서 알아낼 수 있는 고객의 특징에는 어떤 것들이 있을지 논의하고, 이를 잘 설명할 수 있는 시각화를 만들어봅시다.\n",
        "\n",
        "- 🚨 해당 질문은 선택사항입니다. 원하는 조에서만 진행하시면 됩니다.\n"
      ],
      "metadata": {
        "id": "LRRcawVILkJ2"
      }
    },
    {
      "cell_type": "code",
      "source": [],
      "metadata": {
        "id": "gLuj8d8vLvuq"
      },
      "execution_count": null,
      "outputs": []
    }
  ]
}