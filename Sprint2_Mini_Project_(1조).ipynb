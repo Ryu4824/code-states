{
  "cells": [
    {
      "cell_type": "markdown",
      "metadata": {
        "id": "view-in-github",
        "colab_type": "text"
      },
      "source": [
        "<a href=\"https://colab.research.google.com/github/Ryu4824/code-states/blob/main/Sprint2_Mini_Project_(1%E1%84%8C%E1%85%A9).ipynb\" target=\"_parent\"><img src=\"https://colab.research.google.com/assets/colab-badge.svg\" alt=\"Open In Colab\"/></a>"
      ]
    },
    {
      "cell_type": "markdown",
      "metadata": {
        "id": "GJ6eMDD50mwb"
      },
      "source": [
        "# **Sprint 2 Mini Project**"
      ]
    },
    {
      "cell_type": "markdown",
      "metadata": {
        "id": "_8trhbxFYMru"
      },
      "source": [
        "## Sprint 학습 목표\n",
        "- 베이지안 정리를 활용하여 확률을 업데이트하는 과정을 이해한다.\n",
        "- 통계적 개념들을 학습하고, 데이터셋을 통해 확인할 수 있다.\n",
        "- 가설을 수립하고, 검정하여 통계적으로 유의한 인사이트를 도출할 수 있다."
      ]
    },
    {
      "cell_type": "markdown",
      "metadata": {
        "id": "pghaxZS5YVKc"
      },
      "source": [
        "## Project 문제 정의"
      ]
    },
    {
      "cell_type": "markdown",
      "metadata": {
        "id": "NrFhMEzuYY5x"
      },
      "source": [
        "### 배경\n",
        "> 여러분께서는 호텔 숙박업 중개 플랫폼 회사의 데이터 분석 업무 담당자입니다.<br>\n",
        "주요 타겟 지역은 **포르투갈**이며, 효율적으로 호텔을 중개하고 매출액을 늘리기 위해서는 가설을 세우고 검정하여 추론하는 과정이 필수입니다.<br>\n",
        "<br>\n",
        "프로젝트의 주요 과제는, 데이터셋을 바탕으로, 강의 노트에서 배운 통계적 지표를 연습해보고 인사이트를 도출하는 것입니다.\n",
        "<br>\n",
        "현재 상황 분석 및 예약 취소율 감소를 위한 다양한 가설을 수립하고 검정하여, 통계적으로 유의미한 비즈니스 인사이트를 도출하는 프로젝트를 진행해보세요."
      ]
    },
    {
      "cell_type": "markdown",
      "metadata": {
        "id": "7t1i27aeH8Se"
      },
      "source": [
        "### 목표\n",
        "\n",
        "> - 베이지안 정리를 활용하여, 확률을 업데이트하는 과정을 이해한다.\n",
        "- 데이터셋을 바탕으로, 다양한 통계 이론을 연습하고 학습한다.\n",
        "- 가설을 수립하고 검정하는 과정을 통해, 통계적으로 유의한지 확인한다."
      ]
    },
    {
      "cell_type": "markdown",
      "metadata": {
        "id": "GpOY9q8IJHEP"
      },
      "source": [
        "## **N121 Bayes Theorem**\n",
        "\n",
        "### 오늘의 목표\n",
        "- 베이지안 이론을 활용하여, 몬티홀 문제를 설명할 수 있다.\n",
        "- 주어진 데이터셋을 바탕으로, 베이지안 이론을 활용할 수 있다."
      ]
    },
    {
      "cell_type": "markdown",
      "metadata": {
        "id": "9t7zJvias44H"
      },
      "source": [
        "### `Topic 1` : 몬티홀 문제\n",
        "\n",
        "\n",
        "다음 [영상](https://www.youtube.com/watch?v=UexhMS_F5Qw)에서 등장하는 몬티홀 딜레마 문제를 베이지안 공식을 활용하여 해결해보세요.\n",
        "\n",
        "- 처음에 1번 문을 선택했다고 가정합니다. 진행자가 남은 두 개의 문 중 염소가 있는 문 하나를 공개한 상태에서 기존에 선택했던 문(1번문)에 자동차가 있을 확률을 구하세요. \n",
        "\n",
        "- 처음 선택을 유지하는 것이 유리한\b지, 아니면 선택을 바꾸는 것이 유리한지 생각해보세요."
      ]
    },
    {
      "cell_type": "markdown",
      "metadata": {
        "id": "Dq0rbD6ztRXa"
      },
      "source": [
        "```\n",
        "Hypothesis: 1번 문 뒤에 자동차가 있음\n",
        "Evidence: 진행자가 염소가 있는 문을 열어줌\n",
        "\n",
        "우리가 알고자 하는 것: P(H|E) -> 진행자가 염소가 있는 문을 열었을 때, 우리가 먼저 선택했던 문 안에 자동차가 있을 확률\n",
        "```\n"
      ]
    },
    {
      "cell_type": "markdown",
      "metadata": {
        "id": "B0azeT7CtYIS"
      },
      "source": [
        "#### **1-1. 진행자가 남은 두 개의 문 중 염소가 있는 문 하나를 공개한 상태에서 기존에 선택했던 문에 자동차가 있을 확률을 구하세요.**\n",
        "- 처음에 1번 문을 선택했다고 가정합니다."
      ]
    },
    {
      "cell_type": "code",
      "execution_count": null,
      "metadata": {
        "colab": {
          "base_uri": "https://localhost:8080/"
        },
        "id": "4IJAak6S-esC",
        "outputId": "9ca38503-e74f-4ed2-e399-b11ea86ec17b"
      },
      "outputs": [
        {
          "data": {
            "text/plain": [
              "0.3333333333333333"
            ]
          },
          "execution_count": 2,
          "metadata": {},
          "output_type": "execute_result"
        }
      ],
      "source": [
        "close_car = 1/3 #자동차가 있을 확률\n",
        "close_goat = 2/3 #염소가 있을 확률\n",
        "\n",
        "open_car = 1/2 #오픈 했을때 자동차가 있을 확률\n",
        "open_goat = 1/2 #오픈 했을때 염소가 있을 확률\n",
        "\n",
        "notchange = close_car * open_car / ((close_car * open_car) + (close_goat*open_goat))\n",
        "notchange"
      ]
    },
    {
      "cell_type": "markdown",
      "metadata": {
        "id": "ylbumjxutjPh"
      },
      "source": [
        "#### **1-2. 선택을 바꾸시겠습니까?**\n",
        "- 처음에 했던 선택을 유지하는 것이 유리할지, 아니면 선택을 바꾸는 것이 유리할지 생각해보세요."
      ]
    },
    {
      "cell_type": "markdown",
      "metadata": {
        "id": "TfWDLVGWnwXx"
      },
      "source": []
    },
    {
      "cell_type": "code",
      "execution_count": null,
      "metadata": {
        "colab": {
          "base_uri": "https://localhost:8080/"
        },
        "id": "TbB2lse7-f9y",
        "outputId": "582889a7-e05f-4746-eacd-23c4ef3d0ee3"
      },
      "outputs": [
        {
          "data": {
            "text/plain": [
              "0.6666666666666667"
            ]
          },
          "execution_count": 3,
          "metadata": {},
          "output_type": "execute_result"
        }
      ],
      "source": [
        "1 - notchange"
      ]
    },
    {
      "cell_type": "markdown",
      "metadata": {
        "id": "_m2XxOryJh00"
      },
      "source": [
        "### **데이터셋 불러오기 : Hotel 데이터셋**\n",
        "분석에 앞서, 아래의 데이터셋 설명을 통해 어떤 정보를 가진 데이터셋인지 파악 후 코드를 통해 데이터셋을 불러오세요.\n",
        "\n",
        "<br>\n",
        "\n",
        "> **hotel 데이터셋 설명 (Description)** <br>\n",
        "호텔 숙박 플랫폼에 등록된 예약 정보 데이터\n",
        "- 이전에 플랫폼을 사용하여 예약한 경험 + 취소 이력이 없는 사람으로 이루어진 데이터셋\n",
        "\n",
        "- `hotel` : 호텔 종류\n",
        "- `is_canceled` : 예매 취소 여부\n",
        "- `lead_time` : 예매한 날짜와 도착 날짜 사이에 경과된 일수\n",
        "- `arrival_date_year` : 도착 연도\n",
        "- `arrival_date_month` : 도착 월\n",
        "- `arrival_date_week_number` : 도착한 주 (e.g. 5주차)\n",
        "- `arrival_date_day_of_month` : 도착한 날짜(일)\n",
        "- `stays_in_weekend_nights` : 총 숙박 기간 중 주말 숙박의 개수\n",
        "\n",
        "- `stays_in_week_nights` : 총 숙박 기간 중 주중 숙박의 개수\n",
        "- `adults` : 숙박 고객 중 어른의 숫자\n",
        "- `children` : 숙박 고객 중 아이의 숫자\n",
        "- `deposit_type` : 보증금 종류\n",
        "- `days_in_waiting_list` : 고객이 예약을 확정하기 전 대기 리스트에 있던 일수\n",
        "- `adr` : 일일 평균 객실료 (모든 숙박 거래의 합계를 총 숙박 일수로 나눈 평균 일 요금)\n",
        "- `arrival_date` : 도착 날짜\n",
        "- `arrival_day` : 도착 요일\n",
        "- `reservation_status` : 예약 상태\n",
        "- `reservation_status_date` : 예약 상태가 변화한 날짜\n",
        "- `status_changed_day` : 예약 상태가 변화한 요일"
      ]
    },
    {
      "cell_type": "code",
      "execution_count": null,
      "metadata": {
        "id": "Kdo7zyZvqWXt"
      },
      "outputs": [],
      "source": [
        "import math\n",
        "import pandas as pd"
      ]
    },
    {
      "cell_type": "code",
      "execution_count": null,
      "metadata": {
        "colab": {
          "base_uri": "https://localhost:8080/",
          "height": 41
        },
        "id": "TO02Znh7-jJv",
        "outputId": "384a965c-b0c0-46cd-c94b-1fcaf77c1939"
      },
      "outputs": [
        {
          "output_type": "display_data",
          "data": {
            "text/plain": [
              "<IPython.core.display.HTML object>"
            ],
            "text/html": [
              "\n",
              "     <input type=\"file\" id=\"files-43c48bd0-d0d5-4e6c-9705-31e28208e505\" name=\"files[]\" multiple disabled\n",
              "        style=\"border:none\" />\n",
              "     <output id=\"result-43c48bd0-d0d5-4e6c-9705-31e28208e505\">\n",
              "      Upload widget is only available when the cell has been executed in the\n",
              "      current browser session. Please rerun this cell to enable.\n",
              "      </output>\n",
              "      <script>// Copyright 2017 Google LLC\n",
              "//\n",
              "// Licensed under the Apache License, Version 2.0 (the \"License\");\n",
              "// you may not use this file except in compliance with the License.\n",
              "// You may obtain a copy of the License at\n",
              "//\n",
              "//      http://www.apache.org/licenses/LICENSE-2.0\n",
              "//\n",
              "// Unless required by applicable law or agreed to in writing, software\n",
              "// distributed under the License is distributed on an \"AS IS\" BASIS,\n",
              "// WITHOUT WARRANTIES OR CONDITIONS OF ANY KIND, either express or implied.\n",
              "// See the License for the specific language governing permissions and\n",
              "// limitations under the License.\n",
              "\n",
              "/**\n",
              " * @fileoverview Helpers for google.colab Python module.\n",
              " */\n",
              "(function(scope) {\n",
              "function span(text, styleAttributes = {}) {\n",
              "  const element = document.createElement('span');\n",
              "  element.textContent = text;\n",
              "  for (const key of Object.keys(styleAttributes)) {\n",
              "    element.style[key] = styleAttributes[key];\n",
              "  }\n",
              "  return element;\n",
              "}\n",
              "\n",
              "// Max number of bytes which will be uploaded at a time.\n",
              "const MAX_PAYLOAD_SIZE = 100 * 1024;\n",
              "\n",
              "function _uploadFiles(inputId, outputId) {\n",
              "  const steps = uploadFilesStep(inputId, outputId);\n",
              "  const outputElement = document.getElementById(outputId);\n",
              "  // Cache steps on the outputElement to make it available for the next call\n",
              "  // to uploadFilesContinue from Python.\n",
              "  outputElement.steps = steps;\n",
              "\n",
              "  return _uploadFilesContinue(outputId);\n",
              "}\n",
              "\n",
              "// This is roughly an async generator (not supported in the browser yet),\n",
              "// where there are multiple asynchronous steps and the Python side is going\n",
              "// to poll for completion of each step.\n",
              "// This uses a Promise to block the python side on completion of each step,\n",
              "// then passes the result of the previous step as the input to the next step.\n",
              "function _uploadFilesContinue(outputId) {\n",
              "  const outputElement = document.getElementById(outputId);\n",
              "  const steps = outputElement.steps;\n",
              "\n",
              "  const next = steps.next(outputElement.lastPromiseValue);\n",
              "  return Promise.resolve(next.value.promise).then((value) => {\n",
              "    // Cache the last promise value to make it available to the next\n",
              "    // step of the generator.\n",
              "    outputElement.lastPromiseValue = value;\n",
              "    return next.value.response;\n",
              "  });\n",
              "}\n",
              "\n",
              "/**\n",
              " * Generator function which is called between each async step of the upload\n",
              " * process.\n",
              " * @param {string} inputId Element ID of the input file picker element.\n",
              " * @param {string} outputId Element ID of the output display.\n",
              " * @return {!Iterable<!Object>} Iterable of next steps.\n",
              " */\n",
              "function* uploadFilesStep(inputId, outputId) {\n",
              "  const inputElement = document.getElementById(inputId);\n",
              "  inputElement.disabled = false;\n",
              "\n",
              "  const outputElement = document.getElementById(outputId);\n",
              "  outputElement.innerHTML = '';\n",
              "\n",
              "  const pickedPromise = new Promise((resolve) => {\n",
              "    inputElement.addEventListener('change', (e) => {\n",
              "      resolve(e.target.files);\n",
              "    });\n",
              "  });\n",
              "\n",
              "  const cancel = document.createElement('button');\n",
              "  inputElement.parentElement.appendChild(cancel);\n",
              "  cancel.textContent = 'Cancel upload';\n",
              "  const cancelPromise = new Promise((resolve) => {\n",
              "    cancel.onclick = () => {\n",
              "      resolve(null);\n",
              "    };\n",
              "  });\n",
              "\n",
              "  // Wait for the user to pick the files.\n",
              "  const files = yield {\n",
              "    promise: Promise.race([pickedPromise, cancelPromise]),\n",
              "    response: {\n",
              "      action: 'starting',\n",
              "    }\n",
              "  };\n",
              "\n",
              "  cancel.remove();\n",
              "\n",
              "  // Disable the input element since further picks are not allowed.\n",
              "  inputElement.disabled = true;\n",
              "\n",
              "  if (!files) {\n",
              "    return {\n",
              "      response: {\n",
              "        action: 'complete',\n",
              "      }\n",
              "    };\n",
              "  }\n",
              "\n",
              "  for (const file of files) {\n",
              "    const li = document.createElement('li');\n",
              "    li.append(span(file.name, {fontWeight: 'bold'}));\n",
              "    li.append(span(\n",
              "        `(${file.type || 'n/a'}) - ${file.size} bytes, ` +\n",
              "        `last modified: ${\n",
              "            file.lastModifiedDate ? file.lastModifiedDate.toLocaleDateString() :\n",
              "                                    'n/a'} - `));\n",
              "    const percent = span('0% done');\n",
              "    li.appendChild(percent);\n",
              "\n",
              "    outputElement.appendChild(li);\n",
              "\n",
              "    const fileDataPromise = new Promise((resolve) => {\n",
              "      const reader = new FileReader();\n",
              "      reader.onload = (e) => {\n",
              "        resolve(e.target.result);\n",
              "      };\n",
              "      reader.readAsArrayBuffer(file);\n",
              "    });\n",
              "    // Wait for the data to be ready.\n",
              "    let fileData = yield {\n",
              "      promise: fileDataPromise,\n",
              "      response: {\n",
              "        action: 'continue',\n",
              "      }\n",
              "    };\n",
              "\n",
              "    // Use a chunked sending to avoid message size limits. See b/62115660.\n",
              "    let position = 0;\n",
              "    do {\n",
              "      const length = Math.min(fileData.byteLength - position, MAX_PAYLOAD_SIZE);\n",
              "      const chunk = new Uint8Array(fileData, position, length);\n",
              "      position += length;\n",
              "\n",
              "      const base64 = btoa(String.fromCharCode.apply(null, chunk));\n",
              "      yield {\n",
              "        response: {\n",
              "          action: 'append',\n",
              "          file: file.name,\n",
              "          data: base64,\n",
              "        },\n",
              "      };\n",
              "\n",
              "      let percentDone = fileData.byteLength === 0 ?\n",
              "          100 :\n",
              "          Math.round((position / fileData.byteLength) * 100);\n",
              "      percent.textContent = `${percentDone}% done`;\n",
              "\n",
              "    } while (position < fileData.byteLength);\n",
              "  }\n",
              "\n",
              "  // All done.\n",
              "  yield {\n",
              "    response: {\n",
              "      action: 'complete',\n",
              "    }\n",
              "  };\n",
              "}\n",
              "\n",
              "scope.google = scope.google || {};\n",
              "scope.google.colab = scope.google.colab || {};\n",
              "scope.google.colab._files = {\n",
              "  _uploadFiles,\n",
              "  _uploadFilesContinue,\n",
              "};\n",
              "})(self);\n",
              "</script> "
            ]
          },
          "metadata": {}
        }
      ],
      "source": [
        "from google.colab import files \n",
        "uploaded = files.upload()"
      ]
    },
    {
      "cell_type": "code",
      "execution_count": null,
      "metadata": {
        "colab": {
          "base_uri": "https://localhost:8080/",
          "height": 193
        },
        "id": "qtom9QhuqImf",
        "outputId": "5270d8fa-6171-4a30-e176-577c466f8c61"
      },
      "outputs": [
        {
          "output_type": "error",
          "ename": "NameError",
          "evalue": "ignored",
          "traceback": [
            "\u001b[0;31m---------------------------------------------------------------------------\u001b[0m",
            "\u001b[0;31mNameError\u001b[0m                                 Traceback (most recent call last)",
            "\u001b[0;32m<ipython-input-1-78546455bb46>\u001b[0m in \u001b[0;36m<module>\u001b[0;34m\u001b[0m\n\u001b[0;32m----> 1\u001b[0;31m \u001b[0mhotel\u001b[0m \u001b[0;34m=\u001b[0m \u001b[0mpd\u001b[0m\u001b[0;34m.\u001b[0m\u001b[0mread_csv\u001b[0m\u001b[0;34m(\u001b[0m\u001b[0;34m'서울시_기간별_시간평균_대기환경_정보_2020.03.csv'\u001b[0m\u001b[0;34m)\u001b[0m\u001b[0;34m\u001b[0m\u001b[0;34m\u001b[0m\u001b[0m\n\u001b[0m\u001b[1;32m      2\u001b[0m \u001b[0mhotel\u001b[0m\u001b[0;34m.\u001b[0m\u001b[0mhead\u001b[0m\u001b[0;34m(\u001b[0m\u001b[0;34m)\u001b[0m\u001b[0;34m\u001b[0m\u001b[0;34m\u001b[0m\u001b[0m\n",
            "\u001b[0;31mNameError\u001b[0m: name 'pd' is not defined"
          ]
        }
      ],
      "source": [
        "hotel = pd.read_csv('hotel.csv')\n",
        "hotel.head()"
      ]
    },
    {
      "cell_type": "markdown",
      "metadata": {
        "id": "V4Kp76fwCFsy"
      },
      "source": [
        "### `Topic 2` : 베이지안 정리 적용"
      ]
    },
    {
      "cell_type": "markdown",
      "metadata": {
        "id": "cKc8FRwbCR7d"
      },
      "source": [
        "#### **2-1. 고객이 리조트 호텔을 예약했을 때, 예약을 취소할 확률은 어떻게 변하나요?**\n",
        "> Bayesian Theorem의 공식을 대입해보면 아래와 같습니다. <br>\n",
        "<br>\n",
        "> $P(cancel|resort) = P(cancel \\cap resort) / P(resort) = P(resort|cancel)P(cancel) / P(resort)$\n",
        "<br>\n",
        "\n",
        "- 예약을 취소하는 사전 확률($P(cancel)$)은 **이유 불충분의 원리**에 따라 `0.5`로 설정합니다.\n",
        "- 데이터셋을 바탕으로, 아래의 확률을 도출해보세요.\n",
        "  - 예매를 취소했는데, Resort Hotel을 예약한 경우 ($P(resort|cancel)$) : `resort_yes_cancel`\n",
        "  - 예매를 취소하지 않았는데, Resort Hotel을 예약한 경우 ($P(resort|not \\; cancel)$) : `resort_no_cancel`\n",
        "- 상기한 경우들을 바탕으로, 베이지안 정리를 통해 사전 확률을 업데이트하는 함수를 완성해보세요.\n",
        "   - 다음 `bayesian_hotel` 함수를 완성하여 사후확률을 구하는 것이 어렵다면, warm-up 영상에서 나온 사각형 방식으로 사후확률을 계산해보세요.\n",
        "\n"
      ]
    },
    {
      "cell_type": "code",
      "execution_count": null,
      "metadata": {
        "id": "iCThClO1d4TA"
      },
      "outputs": [],
      "source": [
        "# Resort Hotel을 예약했을 때, 예매를 취소할 확률 = posterior (사후 확률)\n",
        "\n",
        "def bayesian_hotel(prior, resort_yes_cancel, resort_no_cancel):\n",
        "  '''\n",
        "  parameters:\n",
        "    - prior: 사전 확률 (예약을 취소할 확률)\n",
        "    - resort_yes_cancel: 예매를 취소했는데 resort hotel을 예약한 경우\n",
        "    - resort_no_cancel: 예매를 취소하지 않았는데 resort hotel을 예약한 경우\n",
        "  \n",
        "  return:\n",
        "    - posterior: 사후 확률\n",
        "\n",
        "  '''\n",
        "  # 이곳에 코드를 작성하세요\n",
        "\n",
        "  nprior = 1 - prior\n",
        "  posterior = prior*resort_yes_cancel / ((prior*resort_yes_cancel) + (nprior*resort_no_cancel))\n",
        "  \n",
        "  return posterior\n",
        "\n",
        "#P(resort|cancel)P(cancel)/P(resort)"
      ]
    },
    {
      "cell_type": "markdown",
      "metadata": {
        "id": "MBrrY0aZnULE"
      },
      "source": [
        "### **Conclusion**\n",
        "> * 고객이 리조트 호텔을 예약했을 때, 예약을 취소할 확률은 어떻게 변하는지 설명해주세요.\n",
        "* 베이지안 정리에 대해 정의해보고 실생활에서 사용되는 예시를 찾아보세요."
      ]
    },
    {
      "cell_type": "code",
      "execution_count": null,
      "metadata": {
        "colab": {
          "base_uri": "https://localhost:8080/",
          "height": 423
        },
        "id": "dxg3dm_Zzfnu",
        "outputId": "77ac95c4-f735-4e96-8246-4ba57b48b36a"
      },
      "outputs": [
        {
          "output_type": "execute_result",
          "data": {
            "text/plain": [
              "               hotel  is_canceled\n",
              "0       Resort Hotel            0\n",
              "1       Resort Hotel            0\n",
              "2       Resort Hotel            0\n",
              "3       Resort Hotel            0\n",
              "4       Resort Hotel            0\n",
              "...              ...          ...\n",
              "110018    City Hotel            0\n",
              "110019    City Hotel            0\n",
              "110020    City Hotel            0\n",
              "110021    City Hotel            0\n",
              "110022    City Hotel            0\n",
              "\n",
              "[110023 rows x 2 columns]"
            ],
            "text/html": [
              "\n",
              "  <div id=\"df-ca635d43-6fea-4ca9-9589-bffa24cc2bd7\">\n",
              "    <div class=\"colab-df-container\">\n",
              "      <div>\n",
              "<style scoped>\n",
              "    .dataframe tbody tr th:only-of-type {\n",
              "        vertical-align: middle;\n",
              "    }\n",
              "\n",
              "    .dataframe tbody tr th {\n",
              "        vertical-align: top;\n",
              "    }\n",
              "\n",
              "    .dataframe thead th {\n",
              "        text-align: right;\n",
              "    }\n",
              "</style>\n",
              "<table border=\"1\" class=\"dataframe\">\n",
              "  <thead>\n",
              "    <tr style=\"text-align: right;\">\n",
              "      <th></th>\n",
              "      <th>hotel</th>\n",
              "      <th>is_canceled</th>\n",
              "    </tr>\n",
              "  </thead>\n",
              "  <tbody>\n",
              "    <tr>\n",
              "      <th>0</th>\n",
              "      <td>Resort Hotel</td>\n",
              "      <td>0</td>\n",
              "    </tr>\n",
              "    <tr>\n",
              "      <th>1</th>\n",
              "      <td>Resort Hotel</td>\n",
              "      <td>0</td>\n",
              "    </tr>\n",
              "    <tr>\n",
              "      <th>2</th>\n",
              "      <td>Resort Hotel</td>\n",
              "      <td>0</td>\n",
              "    </tr>\n",
              "    <tr>\n",
              "      <th>3</th>\n",
              "      <td>Resort Hotel</td>\n",
              "      <td>0</td>\n",
              "    </tr>\n",
              "    <tr>\n",
              "      <th>4</th>\n",
              "      <td>Resort Hotel</td>\n",
              "      <td>0</td>\n",
              "    </tr>\n",
              "    <tr>\n",
              "      <th>...</th>\n",
              "      <td>...</td>\n",
              "      <td>...</td>\n",
              "    </tr>\n",
              "    <tr>\n",
              "      <th>110018</th>\n",
              "      <td>City Hotel</td>\n",
              "      <td>0</td>\n",
              "    </tr>\n",
              "    <tr>\n",
              "      <th>110019</th>\n",
              "      <td>City Hotel</td>\n",
              "      <td>0</td>\n",
              "    </tr>\n",
              "    <tr>\n",
              "      <th>110020</th>\n",
              "      <td>City Hotel</td>\n",
              "      <td>0</td>\n",
              "    </tr>\n",
              "    <tr>\n",
              "      <th>110021</th>\n",
              "      <td>City Hotel</td>\n",
              "      <td>0</td>\n",
              "    </tr>\n",
              "    <tr>\n",
              "      <th>110022</th>\n",
              "      <td>City Hotel</td>\n",
              "      <td>0</td>\n",
              "    </tr>\n",
              "  </tbody>\n",
              "</table>\n",
              "<p>110023 rows × 2 columns</p>\n",
              "</div>\n",
              "      <button class=\"colab-df-convert\" onclick=\"convertToInteractive('df-ca635d43-6fea-4ca9-9589-bffa24cc2bd7')\"\n",
              "              title=\"Convert this dataframe to an interactive table.\"\n",
              "              style=\"display:none;\">\n",
              "        \n",
              "  <svg xmlns=\"http://www.w3.org/2000/svg\" height=\"24px\"viewBox=\"0 0 24 24\"\n",
              "       width=\"24px\">\n",
              "    <path d=\"M0 0h24v24H0V0z\" fill=\"none\"/>\n",
              "    <path d=\"M18.56 5.44l.94 2.06.94-2.06 2.06-.94-2.06-.94-.94-2.06-.94 2.06-2.06.94zm-11 1L8.5 8.5l.94-2.06 2.06-.94-2.06-.94L8.5 2.5l-.94 2.06-2.06.94zm10 10l.94 2.06.94-2.06 2.06-.94-2.06-.94-.94-2.06-.94 2.06-2.06.94z\"/><path d=\"M17.41 7.96l-1.37-1.37c-.4-.4-.92-.59-1.43-.59-.52 0-1.04.2-1.43.59L10.3 9.45l-7.72 7.72c-.78.78-.78 2.05 0 2.83L4 21.41c.39.39.9.59 1.41.59.51 0 1.02-.2 1.41-.59l7.78-7.78 2.81-2.81c.8-.78.8-2.07 0-2.86zM5.41 20L4 18.59l7.72-7.72 1.47 1.35L5.41 20z\"/>\n",
              "  </svg>\n",
              "      </button>\n",
              "      \n",
              "  <style>\n",
              "    .colab-df-container {\n",
              "      display:flex;\n",
              "      flex-wrap:wrap;\n",
              "      gap: 12px;\n",
              "    }\n",
              "\n",
              "    .colab-df-convert {\n",
              "      background-color: #E8F0FE;\n",
              "      border: none;\n",
              "      border-radius: 50%;\n",
              "      cursor: pointer;\n",
              "      display: none;\n",
              "      fill: #1967D2;\n",
              "      height: 32px;\n",
              "      padding: 0 0 0 0;\n",
              "      width: 32px;\n",
              "    }\n",
              "\n",
              "    .colab-df-convert:hover {\n",
              "      background-color: #E2EBFA;\n",
              "      box-shadow: 0px 1px 2px rgba(60, 64, 67, 0.3), 0px 1px 3px 1px rgba(60, 64, 67, 0.15);\n",
              "      fill: #174EA6;\n",
              "    }\n",
              "\n",
              "    [theme=dark] .colab-df-convert {\n",
              "      background-color: #3B4455;\n",
              "      fill: #D2E3FC;\n",
              "    }\n",
              "\n",
              "    [theme=dark] .colab-df-convert:hover {\n",
              "      background-color: #434B5C;\n",
              "      box-shadow: 0px 1px 3px 1px rgba(0, 0, 0, 0.15);\n",
              "      filter: drop-shadow(0px 1px 2px rgba(0, 0, 0, 0.3));\n",
              "      fill: #FFFFFF;\n",
              "    }\n",
              "  </style>\n",
              "\n",
              "      <script>\n",
              "        const buttonEl =\n",
              "          document.querySelector('#df-ca635d43-6fea-4ca9-9589-bffa24cc2bd7 button.colab-df-convert');\n",
              "        buttonEl.style.display =\n",
              "          google.colab.kernel.accessAllowed ? 'block' : 'none';\n",
              "\n",
              "        async function convertToInteractive(key) {\n",
              "          const element = document.querySelector('#df-ca635d43-6fea-4ca9-9589-bffa24cc2bd7');\n",
              "          const dataTable =\n",
              "            await google.colab.kernel.invokeFunction('convertToInteractive',\n",
              "                                                     [key], {});\n",
              "          if (!dataTable) return;\n",
              "\n",
              "          const docLinkHtml = 'Like what you see? Visit the ' +\n",
              "            '<a target=\"_blank\" href=https://colab.research.google.com/notebooks/data_table.ipynb>data table notebook</a>'\n",
              "            + ' to learn more about interactive tables.';\n",
              "          element.innerHTML = '';\n",
              "          dataTable['output_type'] = 'display_data';\n",
              "          await google.colab.output.renderOutput(dataTable, element);\n",
              "          const docLink = document.createElement('div');\n",
              "          docLink.innerHTML = docLinkHtml;\n",
              "          element.appendChild(docLink);\n",
              "        }\n",
              "      </script>\n",
              "    </div>\n",
              "  </div>\n",
              "  "
            ]
          },
          "metadata": {},
          "execution_count": 33
        }
      ],
      "source": [
        "hotel_canceled = hotel[['hotel', 'is_canceled']]\n",
        "hotel_canceled"
      ]
    },
    {
      "cell_type": "code",
      "execution_count": null,
      "metadata": {
        "colab": {
          "base_uri": "https://localhost:8080/"
        },
        "id": "09mbBs3oM0Ue",
        "outputId": "4e985b95-47ef-4a39-957b-9c8f6b3c6686"
      },
      "outputs": [
        {
          "output_type": "execute_result",
          "data": {
            "text/plain": [
              "hotel          0\n",
              "is_canceled    0\n",
              "dtype: int64"
            ]
          },
          "metadata": {},
          "execution_count": 34
        }
      ],
      "source": [
        "hotel_canceled.isnull().sum()"
      ]
    },
    {
      "cell_type": "code",
      "execution_count": null,
      "metadata": {
        "colab": {
          "base_uri": "https://localhost:8080/"
        },
        "id": "I0_-qgHkO888",
        "outputId": "2fa5d2e8-8e96-485f-a7c7-2c3d1d486f3b"
      },
      "outputs": [
        {
          "output_type": "stream",
          "name": "stdout",
          "text": [
            "0.2664694176790951 0.37859698458882657\n"
          ]
        }
      ],
      "source": [
        "prior = 0.5\n",
        "\n",
        "resort_yes_cancel = hotel[hotel[\"is_canceled\"]==1][\"hotel\"].value_counts(normalize=True)[\"Resort Hotel\"]\n",
        "resort_no_cancel = hotel[hotel[\"is_canceled\"]==0][\"hotel\"].value_counts(normalize=True)[\"Resort Hotel\"]\n",
        "print(resort_yes_cancel,resort_no_cancel)"
      ]
    },
    {
      "cell_type": "code",
      "execution_count": null,
      "metadata": {
        "colab": {
          "base_uri": "https://localhost:8080/"
        },
        "id": "HNdnhbc426rN",
        "outputId": "53e66cee-3f2c-4077-c588-63fa6eb59992"
      },
      "outputs": [
        {
          "output_type": "execute_result",
          "data": {
            "text/plain": [
              "0.41308835298543384"
            ]
          },
          "metadata": {},
          "execution_count": 38
        }
      ],
      "source": [
        "bayesian_hotel(prior, resort_yes_cancel, resort_no_cancel)"
      ]
    },
    {
      "cell_type": "code",
      "source": [
        "#박희영 풀이\n",
        "\n",
        "'''\n",
        "[!] 구해야할 것\n",
        "예매를 취소했는데, Resort Hotel을 예약한 경우 ( P(resort|cancel) ) : resort_yes_cancel\n",
        "예매를 취소하지 않았는데, Resort Hotel을 예약한 경우 ( P(resort|notcancel) ) : resort_no_cancel\n",
        "'''\n",
        "\n",
        "#리조트를 예약한 사람 중 예약 유지-취소 비율\n",
        "hotel[hotel[\"hotel\"]==\"Resort Hotel\"]['is_canceled'].value_counts(normalize=True)"
      ],
      "metadata": {
        "colab": {
          "base_uri": "https://localhost:8080/"
        },
        "id": "yS1dmdKddkt3",
        "outputId": "777aa5cb-000a-4584-d259-aa94a858d24e"
      },
      "execution_count": null,
      "outputs": [
        {
          "output_type": "execute_result",
          "data": {
            "text/plain": [
              "0    0.727684\n",
              "1    0.272316\n",
              "Name: is_canceled, dtype: float64"
            ]
          },
          "metadata": {},
          "execution_count": 31
        }
      ]
    },
    {
      "cell_type": "code",
      "source": [
        "#호텔을 예약한 사람 중 예약 유지-취소 비율\n",
        "hotel[hotel[\"hotel\"]==\"City Hotel\"]['is_canceled'].value_counts(normalize=True)"
      ],
      "metadata": {
        "colab": {
          "base_uri": "https://localhost:8080/"
        },
        "id": "ft0sUl5WdrQC",
        "outputId": "da59cef3-6bc8-44cc-dfcb-297bc682175b"
      },
      "execution_count": null,
      "outputs": [
        {
          "output_type": "execute_result",
          "data": {
            "text/plain": [
              "0    0.614389\n",
              "1    0.385611\n",
              "Name: is_canceled, dtype: float64"
            ]
          },
          "metadata": {},
          "execution_count": 32
        }
      ]
    },
    {
      "cell_type": "code",
      "source": [
        "#함수에 들어갈 변수 지정\n",
        "resort_cancel = hotel[hotel[\"hotel\"]==\"Resort Hotel\"]['is_canceled'].value_counts(normalize=True)[1]\n",
        "city_cancel = hotel[hotel[\"hotel\"]==\"City Hotel\"]['is_canceled'].value_counts(normalize=True)[1]\n",
        "\n",
        "print(resort_cancel, city_cancel)"
      ],
      "metadata": {
        "colab": {
          "base_uri": "https://localhost:8080/"
        },
        "id": "EYrS8QmTduG_",
        "outputId": "c8d5ade4-3778-41ef-b654-caf58cf76398"
      },
      "execution_count": null,
      "outputs": [
        {
          "output_type": "stream",
          "name": "stdout",
          "text": [
            "0.27231617253558815 0.38561065917881376\n"
          ]
        }
      ]
    },
    {
      "cell_type": "code",
      "source": [
        "def hohotel(prior, resort_cancel, city_cancel):\n",
        "  resort_yes_cancel = prior*resort_cancel / ( prior*resort_cancel + prior*city_cancel )\n",
        "  resort_no_cancel =  (1 - prior) * (1 - resort_cancel) / ( (1 - prior)*(1 - resort_cancel) + (1 - prior)*(1 - city_cancel) )\n",
        "  print(\"resort_yes_cancel:\", resort_yes_cancel, \", resort_no_cancel:\", resort_no_cancel)\n",
        "\n",
        "hohotel(prior, resort_cancel, city_cancel)"
      ],
      "metadata": {
        "colab": {
          "base_uri": "https://localhost:8080/"
        },
        "id": "eyo2dSlHd13h",
        "outputId": "2ec18154-db5e-4352-9971-5ba6873d29e6"
      },
      "execution_count": null,
      "outputs": [
        {
          "output_type": "stream",
          "name": "stdout",
          "text": [
            "resort_yes_cancel: 0.4139003904522278 , resort_no_cancel: 0.5422087592988508\n"
          ]
        }
      ]
    },
    {
      "cell_type": "markdown",
      "metadata": {
        "id": "zf9WQrm_Fhmr"
      },
      "source": [
        "#### **Optional. 예약한 호텔 종류 외에, 다양한 데이터를 바탕으로 위에서 구한 확률을 업데이트 해보세요.**\n",
        "- 다양한 column의 데이터를 활용하여, 위에서 구한 확률을 사전확률로 설정하고 베이지안 정리를 통해 업데이트 해보세요."
      ]
    },
    {
      "cell_type": "code",
      "execution_count": null,
      "metadata": {
        "id": "2hsKj0g4BxKJ"
      },
      "outputs": [],
      "source": []
    },
    {
      "cell_type": "markdown",
      "source": [],
      "metadata": {
        "id": "JjLGohw1wQrJ"
      }
    },
    {
      "cell_type": "markdown",
      "metadata": {
        "id": "RvMPBZh8I8T2"
      },
      "source": [
        "## **N122 CLT**\n",
        "\n",
        "### 오늘의 목표\n",
        "- 큰 수의 법칙, 중심극한정리, 부트스트래핑, 신뢰구간에 대해 설명할 수 있다.\n",
        "- 주어진 데이터셋에서, 통계적 개념을 직접 적용하고 시각화를 통해 확인할 수 있다."
      ]
    },
    {
      "cell_type": "markdown",
      "metadata": {
        "id": "IW3e7cnrAxOV"
      },
      "source": [
        "### `Topic 1` : 통계적 개념 정리하기\n",
        "> 큰 수의 법칙, 중심극한정리, 부트스트래핑, 신뢰구간에 대해 요약하여 정리해보세요."
      ]
    },
    {
      "cell_type": "code",
      "source": [],
      "metadata": {
        "id": "GgN6W25OCzVU"
      },
      "execution_count": null,
      "outputs": []
    },
    {
      "cell_type": "markdown",
      "metadata": {
        "id": "svRBSREXCyQT"
      },
      "source": [
        "### `Topic 2` : 통계적 개념 적용하기\n",
        "> `hotel` 데이터셋의 column들을 활용하여, N122의 통계적 개념 `(큰 수의 법칙, 중심극한정리, 신뢰 구간)`을 적용하고 시각화해보세요.\n",
        "- `hotel` 데이터셋 내 다양한 column의 분포를 확인해보세요.\n",
        "- `N122` 강의 노트의 코드를 참고하여, 데이터셋의 column에서 확인할 수 있는 통계적 개념을 시각화를 통해 나타내보세요.\n"
      ]
    },
    {
      "cell_type": "code",
      "source": [
        "import pandas as pd\n",
        "\n",
        "hotel = pd.read_csv('hotel.csv')\n",
        "hotel"
      ],
      "metadata": {
        "colab": {
          "base_uri": "https://localhost:8080/",
          "height": 661
        },
        "id": "GqrH-7n0zEC7",
        "outputId": "98718361-d68a-4f9f-e9b3-bdcfbe61ddce"
      },
      "execution_count": null,
      "outputs": [
        {
          "output_type": "execute_result",
          "data": {
            "text/plain": [
              "               hotel  is_canceled  lead_time  arrival_date_year  \\\n",
              "0       Resort Hotel            0        342               2015   \n",
              "1       Resort Hotel            0        737               2015   \n",
              "2       Resort Hotel            0          7               2015   \n",
              "3       Resort Hotel            0         13               2015   \n",
              "4       Resort Hotel            0         14               2015   \n",
              "...              ...          ...        ...                ...   \n",
              "110018    City Hotel            0         23               2017   \n",
              "110019    City Hotel            0        102               2017   \n",
              "110020    City Hotel            0         34               2017   \n",
              "110021    City Hotel            0        109               2017   \n",
              "110022    City Hotel            0        205               2017   \n",
              "\n",
              "        arrival_date_month  arrival_date_week_number  \\\n",
              "0                        7                        27   \n",
              "1                        7                        27   \n",
              "2                        7                        27   \n",
              "3                        7                        27   \n",
              "4                        7                        27   \n",
              "...                    ...                       ...   \n",
              "110018                   8                        35   \n",
              "110019                   8                        35   \n",
              "110020                   8                        35   \n",
              "110021                   8                        35   \n",
              "110022                   8                        35   \n",
              "\n",
              "        arrival_date_day_of_month  stays_in_weekend_nights  \\\n",
              "0                               1                        0   \n",
              "1                               1                        0   \n",
              "2                               1                        0   \n",
              "3                               1                        0   \n",
              "4                               1                        0   \n",
              "...                           ...                      ...   \n",
              "110018                         30                        2   \n",
              "110019                         31                        2   \n",
              "110020                         31                        2   \n",
              "110021                         31                        2   \n",
              "110022                         29                        2   \n",
              "\n",
              "        stays_in_week_nights  adults  children deposit_type  \\\n",
              "0                          0       2       0.0   No Deposit   \n",
              "1                          0       2       0.0   No Deposit   \n",
              "2                          1       1       0.0   No Deposit   \n",
              "3                          1       1       0.0   No Deposit   \n",
              "4                          2       2       0.0   No Deposit   \n",
              "...                      ...     ...       ...          ...   \n",
              "110018                     5       2       0.0   No Deposit   \n",
              "110019                     5       3       0.0   No Deposit   \n",
              "110020                     5       2       0.0   No Deposit   \n",
              "110021                     5       2       0.0   No Deposit   \n",
              "110022                     7       2       0.0   No Deposit   \n",
              "\n",
              "        days_in_waiting_list     adr arrival_date arrival_day  \\\n",
              "0                          0    0.00   2015-07-01   Wednesday   \n",
              "1                          0    0.00   2015-07-01   Wednesday   \n",
              "2                          0   75.00   2015-07-01   Wednesday   \n",
              "3                          0   75.00   2015-07-01   Wednesday   \n",
              "4                          0   98.00   2015-07-01   Wednesday   \n",
              "...                      ...     ...          ...         ...   \n",
              "110018                     0   96.14   2017-08-30   Wednesday   \n",
              "110019                     0  225.43   2017-08-31    Thursday   \n",
              "110020                     0  157.71   2017-08-31    Thursday   \n",
              "110021                     0  104.40   2017-08-31    Thursday   \n",
              "110022                     0  151.20   2017-08-29     Tuesday   \n",
              "\n",
              "       reservation_status reservation_status_date status_changed_day  \n",
              "0               Check-Out              2015-07-01          Wednesday  \n",
              "1               Check-Out              2015-07-01          Wednesday  \n",
              "2               Check-Out              2015-07-02           Thursday  \n",
              "3               Check-Out              2015-07-02           Thursday  \n",
              "4               Check-Out              2015-07-03             Friday  \n",
              "...                   ...                     ...                ...  \n",
              "110018          Check-Out              2017-09-06          Wednesday  \n",
              "110019          Check-Out              2017-09-07           Thursday  \n",
              "110020          Check-Out              2017-09-07           Thursday  \n",
              "110021          Check-Out              2017-09-07           Thursday  \n",
              "110022          Check-Out              2017-09-07           Thursday  \n",
              "\n",
              "[110023 rows x 19 columns]"
            ],
            "text/html": [
              "\n",
              "  <div id=\"df-4ab6f7cb-aa18-45d6-b135-7e45548b0e04\">\n",
              "    <div class=\"colab-df-container\">\n",
              "      <div>\n",
              "<style scoped>\n",
              "    .dataframe tbody tr th:only-of-type {\n",
              "        vertical-align: middle;\n",
              "    }\n",
              "\n",
              "    .dataframe tbody tr th {\n",
              "        vertical-align: top;\n",
              "    }\n",
              "\n",
              "    .dataframe thead th {\n",
              "        text-align: right;\n",
              "    }\n",
              "</style>\n",
              "<table border=\"1\" class=\"dataframe\">\n",
              "  <thead>\n",
              "    <tr style=\"text-align: right;\">\n",
              "      <th></th>\n",
              "      <th>hotel</th>\n",
              "      <th>is_canceled</th>\n",
              "      <th>lead_time</th>\n",
              "      <th>arrival_date_year</th>\n",
              "      <th>arrival_date_month</th>\n",
              "      <th>arrival_date_week_number</th>\n",
              "      <th>arrival_date_day_of_month</th>\n",
              "      <th>stays_in_weekend_nights</th>\n",
              "      <th>stays_in_week_nights</th>\n",
              "      <th>adults</th>\n",
              "      <th>children</th>\n",
              "      <th>deposit_type</th>\n",
              "      <th>days_in_waiting_list</th>\n",
              "      <th>adr</th>\n",
              "      <th>arrival_date</th>\n",
              "      <th>arrival_day</th>\n",
              "      <th>reservation_status</th>\n",
              "      <th>reservation_status_date</th>\n",
              "      <th>status_changed_day</th>\n",
              "    </tr>\n",
              "  </thead>\n",
              "  <tbody>\n",
              "    <tr>\n",
              "      <th>0</th>\n",
              "      <td>Resort Hotel</td>\n",
              "      <td>0</td>\n",
              "      <td>342</td>\n",
              "      <td>2015</td>\n",
              "      <td>7</td>\n",
              "      <td>27</td>\n",
              "      <td>1</td>\n",
              "      <td>0</td>\n",
              "      <td>0</td>\n",
              "      <td>2</td>\n",
              "      <td>0.0</td>\n",
              "      <td>No Deposit</td>\n",
              "      <td>0</td>\n",
              "      <td>0.00</td>\n",
              "      <td>2015-07-01</td>\n",
              "      <td>Wednesday</td>\n",
              "      <td>Check-Out</td>\n",
              "      <td>2015-07-01</td>\n",
              "      <td>Wednesday</td>\n",
              "    </tr>\n",
              "    <tr>\n",
              "      <th>1</th>\n",
              "      <td>Resort Hotel</td>\n",
              "      <td>0</td>\n",
              "      <td>737</td>\n",
              "      <td>2015</td>\n",
              "      <td>7</td>\n",
              "      <td>27</td>\n",
              "      <td>1</td>\n",
              "      <td>0</td>\n",
              "      <td>0</td>\n",
              "      <td>2</td>\n",
              "      <td>0.0</td>\n",
              "      <td>No Deposit</td>\n",
              "      <td>0</td>\n",
              "      <td>0.00</td>\n",
              "      <td>2015-07-01</td>\n",
              "      <td>Wednesday</td>\n",
              "      <td>Check-Out</td>\n",
              "      <td>2015-07-01</td>\n",
              "      <td>Wednesday</td>\n",
              "    </tr>\n",
              "    <tr>\n",
              "      <th>2</th>\n",
              "      <td>Resort Hotel</td>\n",
              "      <td>0</td>\n",
              "      <td>7</td>\n",
              "      <td>2015</td>\n",
              "      <td>7</td>\n",
              "      <td>27</td>\n",
              "      <td>1</td>\n",
              "      <td>0</td>\n",
              "      <td>1</td>\n",
              "      <td>1</td>\n",
              "      <td>0.0</td>\n",
              "      <td>No Deposit</td>\n",
              "      <td>0</td>\n",
              "      <td>75.00</td>\n",
              "      <td>2015-07-01</td>\n",
              "      <td>Wednesday</td>\n",
              "      <td>Check-Out</td>\n",
              "      <td>2015-07-02</td>\n",
              "      <td>Thursday</td>\n",
              "    </tr>\n",
              "    <tr>\n",
              "      <th>3</th>\n",
              "      <td>Resort Hotel</td>\n",
              "      <td>0</td>\n",
              "      <td>13</td>\n",
              "      <td>2015</td>\n",
              "      <td>7</td>\n",
              "      <td>27</td>\n",
              "      <td>1</td>\n",
              "      <td>0</td>\n",
              "      <td>1</td>\n",
              "      <td>1</td>\n",
              "      <td>0.0</td>\n",
              "      <td>No Deposit</td>\n",
              "      <td>0</td>\n",
              "      <td>75.00</td>\n",
              "      <td>2015-07-01</td>\n",
              "      <td>Wednesday</td>\n",
              "      <td>Check-Out</td>\n",
              "      <td>2015-07-02</td>\n",
              "      <td>Thursday</td>\n",
              "    </tr>\n",
              "    <tr>\n",
              "      <th>4</th>\n",
              "      <td>Resort Hotel</td>\n",
              "      <td>0</td>\n",
              "      <td>14</td>\n",
              "      <td>2015</td>\n",
              "      <td>7</td>\n",
              "      <td>27</td>\n",
              "      <td>1</td>\n",
              "      <td>0</td>\n",
              "      <td>2</td>\n",
              "      <td>2</td>\n",
              "      <td>0.0</td>\n",
              "      <td>No Deposit</td>\n",
              "      <td>0</td>\n",
              "      <td>98.00</td>\n",
              "      <td>2015-07-01</td>\n",
              "      <td>Wednesday</td>\n",
              "      <td>Check-Out</td>\n",
              "      <td>2015-07-03</td>\n",
              "      <td>Friday</td>\n",
              "    </tr>\n",
              "    <tr>\n",
              "      <th>...</th>\n",
              "      <td>...</td>\n",
              "      <td>...</td>\n",
              "      <td>...</td>\n",
              "      <td>...</td>\n",
              "      <td>...</td>\n",
              "      <td>...</td>\n",
              "      <td>...</td>\n",
              "      <td>...</td>\n",
              "      <td>...</td>\n",
              "      <td>...</td>\n",
              "      <td>...</td>\n",
              "      <td>...</td>\n",
              "      <td>...</td>\n",
              "      <td>...</td>\n",
              "      <td>...</td>\n",
              "      <td>...</td>\n",
              "      <td>...</td>\n",
              "      <td>...</td>\n",
              "      <td>...</td>\n",
              "    </tr>\n",
              "    <tr>\n",
              "      <th>110018</th>\n",
              "      <td>City Hotel</td>\n",
              "      <td>0</td>\n",
              "      <td>23</td>\n",
              "      <td>2017</td>\n",
              "      <td>8</td>\n",
              "      <td>35</td>\n",
              "      <td>30</td>\n",
              "      <td>2</td>\n",
              "      <td>5</td>\n",
              "      <td>2</td>\n",
              "      <td>0.0</td>\n",
              "      <td>No Deposit</td>\n",
              "      <td>0</td>\n",
              "      <td>96.14</td>\n",
              "      <td>2017-08-30</td>\n",
              "      <td>Wednesday</td>\n",
              "      <td>Check-Out</td>\n",
              "      <td>2017-09-06</td>\n",
              "      <td>Wednesday</td>\n",
              "    </tr>\n",
              "    <tr>\n",
              "      <th>110019</th>\n",
              "      <td>City Hotel</td>\n",
              "      <td>0</td>\n",
              "      <td>102</td>\n",
              "      <td>2017</td>\n",
              "      <td>8</td>\n",
              "      <td>35</td>\n",
              "      <td>31</td>\n",
              "      <td>2</td>\n",
              "      <td>5</td>\n",
              "      <td>3</td>\n",
              "      <td>0.0</td>\n",
              "      <td>No Deposit</td>\n",
              "      <td>0</td>\n",
              "      <td>225.43</td>\n",
              "      <td>2017-08-31</td>\n",
              "      <td>Thursday</td>\n",
              "      <td>Check-Out</td>\n",
              "      <td>2017-09-07</td>\n",
              "      <td>Thursday</td>\n",
              "    </tr>\n",
              "    <tr>\n",
              "      <th>110020</th>\n",
              "      <td>City Hotel</td>\n",
              "      <td>0</td>\n",
              "      <td>34</td>\n",
              "      <td>2017</td>\n",
              "      <td>8</td>\n",
              "      <td>35</td>\n",
              "      <td>31</td>\n",
              "      <td>2</td>\n",
              "      <td>5</td>\n",
              "      <td>2</td>\n",
              "      <td>0.0</td>\n",
              "      <td>No Deposit</td>\n",
              "      <td>0</td>\n",
              "      <td>157.71</td>\n",
              "      <td>2017-08-31</td>\n",
              "      <td>Thursday</td>\n",
              "      <td>Check-Out</td>\n",
              "      <td>2017-09-07</td>\n",
              "      <td>Thursday</td>\n",
              "    </tr>\n",
              "    <tr>\n",
              "      <th>110021</th>\n",
              "      <td>City Hotel</td>\n",
              "      <td>0</td>\n",
              "      <td>109</td>\n",
              "      <td>2017</td>\n",
              "      <td>8</td>\n",
              "      <td>35</td>\n",
              "      <td>31</td>\n",
              "      <td>2</td>\n",
              "      <td>5</td>\n",
              "      <td>2</td>\n",
              "      <td>0.0</td>\n",
              "      <td>No Deposit</td>\n",
              "      <td>0</td>\n",
              "      <td>104.40</td>\n",
              "      <td>2017-08-31</td>\n",
              "      <td>Thursday</td>\n",
              "      <td>Check-Out</td>\n",
              "      <td>2017-09-07</td>\n",
              "      <td>Thursday</td>\n",
              "    </tr>\n",
              "    <tr>\n",
              "      <th>110022</th>\n",
              "      <td>City Hotel</td>\n",
              "      <td>0</td>\n",
              "      <td>205</td>\n",
              "      <td>2017</td>\n",
              "      <td>8</td>\n",
              "      <td>35</td>\n",
              "      <td>29</td>\n",
              "      <td>2</td>\n",
              "      <td>7</td>\n",
              "      <td>2</td>\n",
              "      <td>0.0</td>\n",
              "      <td>No Deposit</td>\n",
              "      <td>0</td>\n",
              "      <td>151.20</td>\n",
              "      <td>2017-08-29</td>\n",
              "      <td>Tuesday</td>\n",
              "      <td>Check-Out</td>\n",
              "      <td>2017-09-07</td>\n",
              "      <td>Thursday</td>\n",
              "    </tr>\n",
              "  </tbody>\n",
              "</table>\n",
              "<p>110023 rows × 19 columns</p>\n",
              "</div>\n",
              "      <button class=\"colab-df-convert\" onclick=\"convertToInteractive('df-4ab6f7cb-aa18-45d6-b135-7e45548b0e04')\"\n",
              "              title=\"Convert this dataframe to an interactive table.\"\n",
              "              style=\"display:none;\">\n",
              "        \n",
              "  <svg xmlns=\"http://www.w3.org/2000/svg\" height=\"24px\"viewBox=\"0 0 24 24\"\n",
              "       width=\"24px\">\n",
              "    <path d=\"M0 0h24v24H0V0z\" fill=\"none\"/>\n",
              "    <path d=\"M18.56 5.44l.94 2.06.94-2.06 2.06-.94-2.06-.94-.94-2.06-.94 2.06-2.06.94zm-11 1L8.5 8.5l.94-2.06 2.06-.94-2.06-.94L8.5 2.5l-.94 2.06-2.06.94zm10 10l.94 2.06.94-2.06 2.06-.94-2.06-.94-.94-2.06-.94 2.06-2.06.94z\"/><path d=\"M17.41 7.96l-1.37-1.37c-.4-.4-.92-.59-1.43-.59-.52 0-1.04.2-1.43.59L10.3 9.45l-7.72 7.72c-.78.78-.78 2.05 0 2.83L4 21.41c.39.39.9.59 1.41.59.51 0 1.02-.2 1.41-.59l7.78-7.78 2.81-2.81c.8-.78.8-2.07 0-2.86zM5.41 20L4 18.59l7.72-7.72 1.47 1.35L5.41 20z\"/>\n",
              "  </svg>\n",
              "      </button>\n",
              "      \n",
              "  <style>\n",
              "    .colab-df-container {\n",
              "      display:flex;\n",
              "      flex-wrap:wrap;\n",
              "      gap: 12px;\n",
              "    }\n",
              "\n",
              "    .colab-df-convert {\n",
              "      background-color: #E8F0FE;\n",
              "      border: none;\n",
              "      border-radius: 50%;\n",
              "      cursor: pointer;\n",
              "      display: none;\n",
              "      fill: #1967D2;\n",
              "      height: 32px;\n",
              "      padding: 0 0 0 0;\n",
              "      width: 32px;\n",
              "    }\n",
              "\n",
              "    .colab-df-convert:hover {\n",
              "      background-color: #E2EBFA;\n",
              "      box-shadow: 0px 1px 2px rgba(60, 64, 67, 0.3), 0px 1px 3px 1px rgba(60, 64, 67, 0.15);\n",
              "      fill: #174EA6;\n",
              "    }\n",
              "\n",
              "    [theme=dark] .colab-df-convert {\n",
              "      background-color: #3B4455;\n",
              "      fill: #D2E3FC;\n",
              "    }\n",
              "\n",
              "    [theme=dark] .colab-df-convert:hover {\n",
              "      background-color: #434B5C;\n",
              "      box-shadow: 0px 1px 3px 1px rgba(0, 0, 0, 0.15);\n",
              "      filter: drop-shadow(0px 1px 2px rgba(0, 0, 0, 0.3));\n",
              "      fill: #FFFFFF;\n",
              "    }\n",
              "  </style>\n",
              "\n",
              "      <script>\n",
              "        const buttonEl =\n",
              "          document.querySelector('#df-4ab6f7cb-aa18-45d6-b135-7e45548b0e04 button.colab-df-convert');\n",
              "        buttonEl.style.display =\n",
              "          google.colab.kernel.accessAllowed ? 'block' : 'none';\n",
              "\n",
              "        async function convertToInteractive(key) {\n",
              "          const element = document.querySelector('#df-4ab6f7cb-aa18-45d6-b135-7e45548b0e04');\n",
              "          const dataTable =\n",
              "            await google.colab.kernel.invokeFunction('convertToInteractive',\n",
              "                                                     [key], {});\n",
              "          if (!dataTable) return;\n",
              "\n",
              "          const docLinkHtml = 'Like what you see? Visit the ' +\n",
              "            '<a target=\"_blank\" href=https://colab.research.google.com/notebooks/data_table.ipynb>data table notebook</a>'\n",
              "            + ' to learn more about interactive tables.';\n",
              "          element.innerHTML = '';\n",
              "          dataTable['output_type'] = 'display_data';\n",
              "          await google.colab.output.renderOutput(dataTable, element);\n",
              "          const docLink = document.createElement('div');\n",
              "          docLink.innerHTML = docLinkHtml;\n",
              "          element.appendChild(docLink);\n",
              "        }\n",
              "      </script>\n",
              "    </div>\n",
              "  </div>\n",
              "  "
            ]
          },
          "metadata": {},
          "execution_count": 2
        }
      ]
    },
    {
      "cell_type": "markdown",
      "metadata": {
        "id": "ZSdfNOzpJ_Xb"
      },
      "source": [
        "#### **2-1. 큰 수의 법칙 (Law of Large Numbers)**\n",
        "- 무작위 column을 한 가지 선택하여, 분포를 확인하고 큰 수의 법칙을 시각화 해보세요.\n",
        "  - sample의 갯수가 3, 10, 30 일 때의 평균값이 어떻게 변화하는지 확인해보세요.\n",
        "  - 어떤 경우에, 전체 데이터의 평균값과 가장 유사한 평균값을 가지게 되나요?"
      ]
    },
    {
      "cell_type": "code",
      "source": [],
      "metadata": {
        "id": "4NUTW1QSC62T"
      },
      "execution_count": null,
      "outputs": []
    },
    {
      "cell_type": "markdown",
      "metadata": {
        "id": "VniH6OU1PI9g"
      },
      "source": [
        "#### **2-2. 중심극한정리 (Central Limit Theorem)**\n",
        "- 무작위 column 2개를 선택하여, 분포를 확인하고 부트스트랩을 활용하여 중심극한정리를 시각화 해보세요.\n",
        "  - 선택한 column을 모집단이라고 가정한 후, 부트스트랩을 활용하여 표본 평균 분포의 모양을 확인해보세요.\n",
        "  - 부트스트랩 횟수는 10000회로 지정하세요.\n",
        "  - 다양한 모양의 분포를 갖는 column들로 표본 평균의 분포를 시각화 해보시는 것을 추천드립니다."
      ]
    },
    {
      "cell_type": "code",
      "source": [],
      "metadata": {
        "id": "2Fr0FMSGC7Jz"
      },
      "execution_count": null,
      "outputs": []
    },
    {
      "cell_type": "markdown",
      "metadata": {
        "id": "uQ7TmdE8flE2"
      },
      "source": [
        "#### **2-3. 신뢰구간 (Confidence Interval)**\n",
        "- 2-2. 중심극한정리에서 사용한 column 중 하나를 골라, 표본 평균의 분포를 그리고 신뢰 구간을 표시해보세요.\n",
        "  - 신뢰 수준 90%, 95%, 99%를 갖는 신뢰구간을 그려보고 구간의 크기가 어떻게 변하는지 확인해보세요.\n",
        "  - 신뢰구간이 넓어지거나 좁아졌을 때의 장단점에 대해 생각해보세요. (e.g. 어떤 경우에는 신뢰구간을 넓게 설정하는 것이 좋을까요?)"
      ]
    },
    {
      "cell_type": "code",
      "source": [],
      "metadata": {
        "id": "ufp5oKJIC8yz"
      },
      "execution_count": null,
      "outputs": []
    },
    {
      "cell_type": "markdown",
      "source": [
        "### **Conclusion**\n",
        "> * 위의 코드를 실행한 결과를 통해 배운 오늘 배운 내용에 대해 요약해서 정리해보세요.\n",
        "  - 큰 수의 법칙 (Law of Large Numbers)\n",
        "  - 중심극한정리 (Central Limit Theorem)\n",
        "  - 부트스트래핑 (Bootstraping)\n",
        "  - 신뢰구간 (Confidence Interval)"
      ],
      "metadata": {
        "id": "eM82T4vehZmY"
      }
    }
  ],
  "metadata": {
    "colab": {
      "provenance": [],
      "include_colab_link": true
    },
    "kernelspec": {
      "display_name": "Python 3",
      "name": "python3"
    },
    "language_info": {
      "name": "python"
    }
  },
  "nbformat": 4,
  "nbformat_minor": 0
}