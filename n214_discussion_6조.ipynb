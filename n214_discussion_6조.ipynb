{
  "nbformat": 4,
  "nbformat_minor": 0,
  "metadata": {
    "colab": {
      "provenance": [],
      "toc_visible": true,
      "include_colab_link": true
    },
    "kernelspec": {
      "name": "python3",
      "display_name": "Python 3"
    },
    "language_info": {
      "name": "python"
    }
  },
  "cells": [
    {
      "cell_type": "markdown",
      "metadata": {
        "id": "view-in-github",
        "colab_type": "text"
      },
      "source": [
        "<a href=\"https://colab.research.google.com/github/Ryu4824/code-states/blob/main/n214_discussion_6%EC%A1%B0.ipynb\" target=\"_parent\"><img src=\"https://colab.research.google.com/assets/colab-badge.svg\" alt=\"Open In Colab\"/></a>"
      ]
    },
    {
      "cell_type": "markdown",
      "source": [
        "# **N214 Logistic Regression**\n",
        "\n",
        "## 오늘의 목표\n",
        "- scikit-learn을 이용해 로지스틱 회귀 모델을 만들어 학습하고 해석할 수 있습니다.\n",
        "- 분류 평가지표를 이해하고 사용할 수 있습니다.  \n"
      ],
      "metadata": {
        "id": "wdRsa5-rpDa2"
      }
    },
    {
      "cell_type": "markdown",
      "source": [
        "## **개념 Topic**\n",
        "> 오늘은 분류 모델인 로지스틱 회귀(Logistic Regression) 모델에 대해 배웠습니다. \n",
        "\n",
        "- 로지스틱 회귀를 한 문장으로 요약하여 설명해보세요.\n",
        "  - `로지스틱 회귀모델은 0과 1 사이의 값을 출력하며 출력값이 0.5 이상일 경우는 Class1로 0.5 미만일 경우는 Class0으로 분류합니다.`를 제외한 문장이어야 합니다.\n",
        "  - 어떤 키워드가 포함되어야할지 키워드 위주로 고민해보세요.\n",
        "  - 만약 설명이 어렵다면 어느 부분이 이해가 안 되는지 구체적인 질문을 동기들과 나눠보세요.\n",
        "- **Discussion** 표의 `정리` 탭에 답변을 정리하여 적어 주세요. "
      ],
      "metadata": {
        "id": "r-hkgLBp2D6J"
      }
    },
    {
      "cell_type": "markdown",
      "source": [
        "## **코딩 Topic**"
      ],
      "metadata": {
        "id": "BrJenoJer8dj"
      }
    },
    {
      "cell_type": "markdown",
      "source": [
        "### **Part.1 : 데이터 준비**\n",
        "통신사 고객의 계약 해지 데이터셋인 [Telco Customer Churn](https://www.kaggle.com/datasets/blastchar/telco-customer-churn)를 사용해서 해지 여부를 예측하는 분류 문제를 풀어보겠습니다.\n",
        "\n",
        "데이터에 대한 더 자세한 설명은 위의 링크를 참고하세요.\n",
        "> **Data Description**\n",
        "\n",
        "- customerID : Customer ID\n",
        "- gender : Whether the customer is a male or a female\n",
        "- SeniorCitizen : Whether the customer is a senior citizen or not (1, 0)\n",
        "- Partner : Whether the customer has a partner or not (Yes, No)\n",
        "- Dependents : Whether the customer has dependents or not (Yes, No)\n",
        "- tenure : Number of months the customer has stayed with the company\n",
        "- PhoneService : Whether the customer has a phone service or not (Yes, No)\n",
        "- MultipleLines : Whether the customer has multiple lines or not (Yes, No, No phone service)\n",
        "- InternetService : Customer’s internet service provider (DSL, Fiber optic, No)\n",
        "- OnlineSecurity : Whether the customer has online security or not (Yes, No, No internet service)\n",
        "- OnlineBackup : Whether the customer has online backup or not (Yes, No, No internet service)\n",
        "- DeviceProtection : Whether the customer has device protection or not (Yes, No, No internet service)\n",
        "- TechSupport : Whether the customer has tech support or not (Yes, No, No internet service)\n",
        "- StreamingTV : Whether the customer has streaming TV or not (Yes, No, No internet service)\n",
        "- StreamingMovies : Whether the customer has streaming movies or not (Yes, No, No internet service)\n",
        "- Contract : The contract term of the customer (Month-to-month, One year, Two year)\n",
        "- PaperlessBilling : Whether the customer has paperless billing or not (Yes, No)\n",
        "- PaymentMethod : The customer’s payment method (Electronic check, Mailed check, Bank transfer (automatic), Credit card (automatic))\n",
        "- MonthlyCharges : The amount charged to the customer monthly\n",
        "- TotalCharges : The total amount charged to the customer\n",
        "- Churn : Whether the customer churned or not (Yes or No)"
      ],
      "metadata": {
        "id": "Igc38GuksgtT"
      }
    },
    {
      "cell_type": "code",
      "source": [
        "#해당 라이브러리 설치 후 런타임 다시 시작 -> 이후 셀 진행\n",
        "!pip install scikit-learn==1.1.3"
      ],
      "metadata": {
        "id": "0609UoqR9nmT",
        "colab": {
          "base_uri": "https://localhost:8080/"
        },
        "outputId": "9d1b8e08-71d5-4684-e3cd-f2256065d300"
      },
      "execution_count": null,
      "outputs": [
        {
          "output_type": "stream",
          "name": "stdout",
          "text": [
            "Looking in indexes: https://pypi.org/simple, https://us-python.pkg.dev/colab-wheels/public/simple/\n",
            "Collecting scikit-learn==1.1.3\n",
            "  Downloading scikit_learn-1.1.3-cp39-cp39-manylinux_2_17_x86_64.manylinux2014_x86_64.whl (30.8 MB)\n",
            "\u001b[2K     \u001b[90m━━━━━━━━━━━━━━━━━━━━━━━━━━━━━━━━━━━━━━━━\u001b[0m \u001b[32m30.8/30.8 MB\u001b[0m \u001b[31m23.9 MB/s\u001b[0m eta \u001b[36m0:00:00\u001b[0m\n",
            "\u001b[?25hRequirement already satisfied: joblib>=1.0.0 in /usr/local/lib/python3.9/dist-packages (from scikit-learn==1.1.3) (1.1.1)\n",
            "Requirement already satisfied: threadpoolctl>=2.0.0 in /usr/local/lib/python3.9/dist-packages (from scikit-learn==1.1.3) (3.1.0)\n",
            "Requirement already satisfied: scipy>=1.3.2 in /usr/local/lib/python3.9/dist-packages (from scikit-learn==1.1.3) (1.10.1)\n",
            "Requirement already satisfied: numpy>=1.17.3 in /usr/local/lib/python3.9/dist-packages (from scikit-learn==1.1.3) (1.22.4)\n",
            "Installing collected packages: scikit-learn\n",
            "  Attempting uninstall: scikit-learn\n",
            "    Found existing installation: scikit-learn 1.2.2\n",
            "    Uninstalling scikit-learn-1.2.2:\n",
            "      Successfully uninstalled scikit-learn-1.2.2\n",
            "Successfully installed scikit-learn-1.1.3\n"
          ]
        }
      ]
    },
    {
      "cell_type": "code",
      "source": [
        "!pip install category_encoders"
      ],
      "metadata": {
        "id": "aXmd2vUI5838",
        "colab": {
          "base_uri": "https://localhost:8080/"
        },
        "outputId": "5cdece97-8808-487a-8caf-a8aa645791dc"
      },
      "execution_count": null,
      "outputs": [
        {
          "output_type": "stream",
          "name": "stdout",
          "text": [
            "Looking in indexes: https://pypi.org/simple, https://us-python.pkg.dev/colab-wheels/public/simple/\n",
            "Collecting category_encoders\n",
            "  Downloading category_encoders-2.6.0-py2.py3-none-any.whl (81 kB)\n",
            "\u001b[2K     \u001b[90m━━━━━━━━━━━━━━━━━━━━━━━━━━━━━━━━━━━━━━━━\u001b[0m \u001b[32m81.2/81.2 KB\u001b[0m \u001b[31m2.2 MB/s\u001b[0m eta \u001b[36m0:00:00\u001b[0m\n",
            "\u001b[?25hRequirement already satisfied: scikit-learn>=0.20.0 in /usr/local/lib/python3.9/dist-packages (from category_encoders) (1.1.3)\n",
            "Requirement already satisfied: pandas>=1.0.5 in /usr/local/lib/python3.9/dist-packages (from category_encoders) (1.4.4)\n",
            "Requirement already satisfied: numpy>=1.14.0 in /usr/local/lib/python3.9/dist-packages (from category_encoders) (1.22.4)\n",
            "Requirement already satisfied: scipy>=1.0.0 in /usr/local/lib/python3.9/dist-packages (from category_encoders) (1.10.1)\n",
            "Requirement already satisfied: statsmodels>=0.9.0 in /usr/local/lib/python3.9/dist-packages (from category_encoders) (0.13.5)\n",
            "Requirement already satisfied: patsy>=0.5.1 in /usr/local/lib/python3.9/dist-packages (from category_encoders) (0.5.3)\n",
            "Requirement already satisfied: python-dateutil>=2.8.1 in /usr/local/lib/python3.9/dist-packages (from pandas>=1.0.5->category_encoders) (2.8.2)\n",
            "Requirement already satisfied: pytz>=2020.1 in /usr/local/lib/python3.9/dist-packages (from pandas>=1.0.5->category_encoders) (2022.7.1)\n",
            "Requirement already satisfied: six in /usr/local/lib/python3.9/dist-packages (from patsy>=0.5.1->category_encoders) (1.16.0)\n",
            "Requirement already satisfied: joblib>=1.0.0 in /usr/local/lib/python3.9/dist-packages (from scikit-learn>=0.20.0->category_encoders) (1.1.1)\n",
            "Requirement already satisfied: threadpoolctl>=2.0.0 in /usr/local/lib/python3.9/dist-packages (from scikit-learn>=0.20.0->category_encoders) (3.1.0)\n",
            "Requirement already satisfied: packaging>=21.3 in /usr/local/lib/python3.9/dist-packages (from statsmodels>=0.9.0->category_encoders) (23.0)\n",
            "Installing collected packages: category_encoders\n",
            "Successfully installed category_encoders-2.6.0\n"
          ]
        }
      ]
    },
    {
      "cell_type": "markdown",
      "source": [
        "#### **1-1. 데이터 불러오기 및 전처리**\n",
        "- 데이터셋을 불러오세요. \n",
        "- `customerID` colulmn을 제거하세요. \n",
        "- 결측치 및 중복인 샘플(row)을 제거하세요. \n",
        "- `TotalCharges` column에서 공란인 데이터는 모두 0으로 바꾼 후, `TotalCharges` 데이터 타입을 `float`으로 변환하세요. \n",
        "- 타겟 클래스 비율을 확인해 보세요. \n",
        "  - 타겟 변수는 `Churn`입니다. "
      ],
      "metadata": {
        "id": "qu-wZcb_uWQg"
      }
    },
    {
      "cell_type": "code",
      "source": [
        "# 데이터셋 불러오기 \n",
        "import pandas as pd\n",
        "df = pd.read_csv('https://ds-lecture-data.s3.ap-northeast-2.amazonaws.com/renewal/mldl/Customer_Churn.csv')\n",
        "df.head()"
      ],
      "metadata": {
        "id": "ZHAjxdOEAHL9",
        "colab": {
          "base_uri": "https://localhost:8080/",
          "height": 386
        },
        "outputId": "2c32d4b9-b9b3-4b72-ba51-235337ea67a5"
      },
      "execution_count": null,
      "outputs": [
        {
          "output_type": "execute_result",
          "data": {
            "text/plain": [
              "   customerID  gender  SeniorCitizen Partner Dependents  tenure PhoneService  \\\n",
              "0  7590-VHVEG  Female              0     Yes         No       1           No   \n",
              "1  5575-GNVDE    Male              0      No         No      34          Yes   \n",
              "2  3668-QPYBK    Male              0      No         No       2          Yes   \n",
              "3  7795-CFOCW    Male              0      No         No      45           No   \n",
              "4  9237-HQITU  Female              0      No         No       2          Yes   \n",
              "\n",
              "      MultipleLines InternetService OnlineSecurity  ... DeviceProtection  \\\n",
              "0  No phone service             DSL             No  ...               No   \n",
              "1                No             DSL            Yes  ...              Yes   \n",
              "2                No             DSL            Yes  ...               No   \n",
              "3  No phone service             DSL            Yes  ...              Yes   \n",
              "4                No     Fiber optic             No  ...               No   \n",
              "\n",
              "  TechSupport StreamingTV StreamingMovies        Contract PaperlessBilling  \\\n",
              "0          No          No              No  Month-to-month              Yes   \n",
              "1          No          No              No        One year               No   \n",
              "2          No          No              No  Month-to-month              Yes   \n",
              "3         Yes          No              No        One year               No   \n",
              "4          No          No              No  Month-to-month              Yes   \n",
              "\n",
              "               PaymentMethod MonthlyCharges  TotalCharges Churn  \n",
              "0           Electronic check          29.85         29.85    No  \n",
              "1               Mailed check          56.95        1889.5    No  \n",
              "2               Mailed check          53.85        108.15   Yes  \n",
              "3  Bank transfer (automatic)          42.30       1840.75    No  \n",
              "4           Electronic check          70.70        151.65   Yes  \n",
              "\n",
              "[5 rows x 21 columns]"
            ],
            "text/html": [
              "\n",
              "  <div id=\"df-b8c30233-3f8d-416e-bed9-5ecb460236d8\">\n",
              "    <div class=\"colab-df-container\">\n",
              "      <div>\n",
              "<style scoped>\n",
              "    .dataframe tbody tr th:only-of-type {\n",
              "        vertical-align: middle;\n",
              "    }\n",
              "\n",
              "    .dataframe tbody tr th {\n",
              "        vertical-align: top;\n",
              "    }\n",
              "\n",
              "    .dataframe thead th {\n",
              "        text-align: right;\n",
              "    }\n",
              "</style>\n",
              "<table border=\"1\" class=\"dataframe\">\n",
              "  <thead>\n",
              "    <tr style=\"text-align: right;\">\n",
              "      <th></th>\n",
              "      <th>customerID</th>\n",
              "      <th>gender</th>\n",
              "      <th>SeniorCitizen</th>\n",
              "      <th>Partner</th>\n",
              "      <th>Dependents</th>\n",
              "      <th>tenure</th>\n",
              "      <th>PhoneService</th>\n",
              "      <th>MultipleLines</th>\n",
              "      <th>InternetService</th>\n",
              "      <th>OnlineSecurity</th>\n",
              "      <th>...</th>\n",
              "      <th>DeviceProtection</th>\n",
              "      <th>TechSupport</th>\n",
              "      <th>StreamingTV</th>\n",
              "      <th>StreamingMovies</th>\n",
              "      <th>Contract</th>\n",
              "      <th>PaperlessBilling</th>\n",
              "      <th>PaymentMethod</th>\n",
              "      <th>MonthlyCharges</th>\n",
              "      <th>TotalCharges</th>\n",
              "      <th>Churn</th>\n",
              "    </tr>\n",
              "  </thead>\n",
              "  <tbody>\n",
              "    <tr>\n",
              "      <th>0</th>\n",
              "      <td>7590-VHVEG</td>\n",
              "      <td>Female</td>\n",
              "      <td>0</td>\n",
              "      <td>Yes</td>\n",
              "      <td>No</td>\n",
              "      <td>1</td>\n",
              "      <td>No</td>\n",
              "      <td>No phone service</td>\n",
              "      <td>DSL</td>\n",
              "      <td>No</td>\n",
              "      <td>...</td>\n",
              "      <td>No</td>\n",
              "      <td>No</td>\n",
              "      <td>No</td>\n",
              "      <td>No</td>\n",
              "      <td>Month-to-month</td>\n",
              "      <td>Yes</td>\n",
              "      <td>Electronic check</td>\n",
              "      <td>29.85</td>\n",
              "      <td>29.85</td>\n",
              "      <td>No</td>\n",
              "    </tr>\n",
              "    <tr>\n",
              "      <th>1</th>\n",
              "      <td>5575-GNVDE</td>\n",
              "      <td>Male</td>\n",
              "      <td>0</td>\n",
              "      <td>No</td>\n",
              "      <td>No</td>\n",
              "      <td>34</td>\n",
              "      <td>Yes</td>\n",
              "      <td>No</td>\n",
              "      <td>DSL</td>\n",
              "      <td>Yes</td>\n",
              "      <td>...</td>\n",
              "      <td>Yes</td>\n",
              "      <td>No</td>\n",
              "      <td>No</td>\n",
              "      <td>No</td>\n",
              "      <td>One year</td>\n",
              "      <td>No</td>\n",
              "      <td>Mailed check</td>\n",
              "      <td>56.95</td>\n",
              "      <td>1889.5</td>\n",
              "      <td>No</td>\n",
              "    </tr>\n",
              "    <tr>\n",
              "      <th>2</th>\n",
              "      <td>3668-QPYBK</td>\n",
              "      <td>Male</td>\n",
              "      <td>0</td>\n",
              "      <td>No</td>\n",
              "      <td>No</td>\n",
              "      <td>2</td>\n",
              "      <td>Yes</td>\n",
              "      <td>No</td>\n",
              "      <td>DSL</td>\n",
              "      <td>Yes</td>\n",
              "      <td>...</td>\n",
              "      <td>No</td>\n",
              "      <td>No</td>\n",
              "      <td>No</td>\n",
              "      <td>No</td>\n",
              "      <td>Month-to-month</td>\n",
              "      <td>Yes</td>\n",
              "      <td>Mailed check</td>\n",
              "      <td>53.85</td>\n",
              "      <td>108.15</td>\n",
              "      <td>Yes</td>\n",
              "    </tr>\n",
              "    <tr>\n",
              "      <th>3</th>\n",
              "      <td>7795-CFOCW</td>\n",
              "      <td>Male</td>\n",
              "      <td>0</td>\n",
              "      <td>No</td>\n",
              "      <td>No</td>\n",
              "      <td>45</td>\n",
              "      <td>No</td>\n",
              "      <td>No phone service</td>\n",
              "      <td>DSL</td>\n",
              "      <td>Yes</td>\n",
              "      <td>...</td>\n",
              "      <td>Yes</td>\n",
              "      <td>Yes</td>\n",
              "      <td>No</td>\n",
              "      <td>No</td>\n",
              "      <td>One year</td>\n",
              "      <td>No</td>\n",
              "      <td>Bank transfer (automatic)</td>\n",
              "      <td>42.30</td>\n",
              "      <td>1840.75</td>\n",
              "      <td>No</td>\n",
              "    </tr>\n",
              "    <tr>\n",
              "      <th>4</th>\n",
              "      <td>9237-HQITU</td>\n",
              "      <td>Female</td>\n",
              "      <td>0</td>\n",
              "      <td>No</td>\n",
              "      <td>No</td>\n",
              "      <td>2</td>\n",
              "      <td>Yes</td>\n",
              "      <td>No</td>\n",
              "      <td>Fiber optic</td>\n",
              "      <td>No</td>\n",
              "      <td>...</td>\n",
              "      <td>No</td>\n",
              "      <td>No</td>\n",
              "      <td>No</td>\n",
              "      <td>No</td>\n",
              "      <td>Month-to-month</td>\n",
              "      <td>Yes</td>\n",
              "      <td>Electronic check</td>\n",
              "      <td>70.70</td>\n",
              "      <td>151.65</td>\n",
              "      <td>Yes</td>\n",
              "    </tr>\n",
              "  </tbody>\n",
              "</table>\n",
              "<p>5 rows × 21 columns</p>\n",
              "</div>\n",
              "      <button class=\"colab-df-convert\" onclick=\"convertToInteractive('df-b8c30233-3f8d-416e-bed9-5ecb460236d8')\"\n",
              "              title=\"Convert this dataframe to an interactive table.\"\n",
              "              style=\"display:none;\">\n",
              "        \n",
              "  <svg xmlns=\"http://www.w3.org/2000/svg\" height=\"24px\"viewBox=\"0 0 24 24\"\n",
              "       width=\"24px\">\n",
              "    <path d=\"M0 0h24v24H0V0z\" fill=\"none\"/>\n",
              "    <path d=\"M18.56 5.44l.94 2.06.94-2.06 2.06-.94-2.06-.94-.94-2.06-.94 2.06-2.06.94zm-11 1L8.5 8.5l.94-2.06 2.06-.94-2.06-.94L8.5 2.5l-.94 2.06-2.06.94zm10 10l.94 2.06.94-2.06 2.06-.94-2.06-.94-.94-2.06-.94 2.06-2.06.94z\"/><path d=\"M17.41 7.96l-1.37-1.37c-.4-.4-.92-.59-1.43-.59-.52 0-1.04.2-1.43.59L10.3 9.45l-7.72 7.72c-.78.78-.78 2.05 0 2.83L4 21.41c.39.39.9.59 1.41.59.51 0 1.02-.2 1.41-.59l7.78-7.78 2.81-2.81c.8-.78.8-2.07 0-2.86zM5.41 20L4 18.59l7.72-7.72 1.47 1.35L5.41 20z\"/>\n",
              "  </svg>\n",
              "      </button>\n",
              "      \n",
              "  <style>\n",
              "    .colab-df-container {\n",
              "      display:flex;\n",
              "      flex-wrap:wrap;\n",
              "      gap: 12px;\n",
              "    }\n",
              "\n",
              "    .colab-df-convert {\n",
              "      background-color: #E8F0FE;\n",
              "      border: none;\n",
              "      border-radius: 50%;\n",
              "      cursor: pointer;\n",
              "      display: none;\n",
              "      fill: #1967D2;\n",
              "      height: 32px;\n",
              "      padding: 0 0 0 0;\n",
              "      width: 32px;\n",
              "    }\n",
              "\n",
              "    .colab-df-convert:hover {\n",
              "      background-color: #E2EBFA;\n",
              "      box-shadow: 0px 1px 2px rgba(60, 64, 67, 0.3), 0px 1px 3px 1px rgba(60, 64, 67, 0.15);\n",
              "      fill: #174EA6;\n",
              "    }\n",
              "\n",
              "    [theme=dark] .colab-df-convert {\n",
              "      background-color: #3B4455;\n",
              "      fill: #D2E3FC;\n",
              "    }\n",
              "\n",
              "    [theme=dark] .colab-df-convert:hover {\n",
              "      background-color: #434B5C;\n",
              "      box-shadow: 0px 1px 3px 1px rgba(0, 0, 0, 0.15);\n",
              "      filter: drop-shadow(0px 1px 2px rgba(0, 0, 0, 0.3));\n",
              "      fill: #FFFFFF;\n",
              "    }\n",
              "  </style>\n",
              "\n",
              "      <script>\n",
              "        const buttonEl =\n",
              "          document.querySelector('#df-b8c30233-3f8d-416e-bed9-5ecb460236d8 button.colab-df-convert');\n",
              "        buttonEl.style.display =\n",
              "          google.colab.kernel.accessAllowed ? 'block' : 'none';\n",
              "\n",
              "        async function convertToInteractive(key) {\n",
              "          const element = document.querySelector('#df-b8c30233-3f8d-416e-bed9-5ecb460236d8');\n",
              "          const dataTable =\n",
              "            await google.colab.kernel.invokeFunction('convertToInteractive',\n",
              "                                                     [key], {});\n",
              "          if (!dataTable) return;\n",
              "\n",
              "          const docLinkHtml = 'Like what you see? Visit the ' +\n",
              "            '<a target=\"_blank\" href=https://colab.research.google.com/notebooks/data_table.ipynb>data table notebook</a>'\n",
              "            + ' to learn more about interactive tables.';\n",
              "          element.innerHTML = '';\n",
              "          dataTable['output_type'] = 'display_data';\n",
              "          await google.colab.output.renderOutput(dataTable, element);\n",
              "          const docLink = document.createElement('div');\n",
              "          docLink.innerHTML = docLinkHtml;\n",
              "          element.appendChild(docLink);\n",
              "        }\n",
              "      </script>\n",
              "    </div>\n",
              "  </div>\n",
              "  "
            ]
          },
          "metadata": {},
          "execution_count": 11
        }
      ]
    },
    {
      "cell_type": "code",
      "source": [
        "# customer ID column 제거\n",
        "df.drop('customerID', axis = 1, inplace = True)"
      ],
      "metadata": {
        "id": "zhrpOHqG6zHE"
      },
      "execution_count": null,
      "outputs": []
    },
    {
      "cell_type": "code",
      "source": [
        "# 결측값 확인\n",
        "# df.isnull().sum()\n",
        "# 중복값 확인(22개) 후 제거\n",
        "# df.duplicated().sum()\n",
        "df.drop_duplicates(inplace = True)\n",
        "# index 초기화\n",
        "df.reset_index(drop = True, inplace = True)"
      ],
      "metadata": {
        "id": "AFTV2w961S5a"
      },
      "execution_count": null,
      "outputs": []
    },
    {
      "cell_type": "code",
      "source": [
        "# TotalCharges column 공란 0으로 변경\n",
        "df['TotalCharges'] = df['TotalCharges'].replace({' ' : '0'})\n",
        "# TotalCharges data type str to float\n",
        "df['TotalCharges'] = df['TotalCharges'].astype('float')"
      ],
      "metadata": {
        "id": "JK-iCf7T1qwe"
      },
      "execution_count": null,
      "outputs": []
    },
    {
      "cell_type": "code",
      "source": [
        "# Target class 비율 확인\n",
        "# No : 73% / Yes : 27%\n",
        "df['Churn'].value_counts(normalize = True)"
      ],
      "metadata": {
        "colab": {
          "base_uri": "https://localhost:8080/"
        },
        "id": "O_9AgzzW3Frb",
        "outputId": "524f8ae0-5797-484c-ba24-b40fa4bf6949"
      },
      "execution_count": null,
      "outputs": [
        {
          "output_type": "execute_result",
          "data": {
            "text/plain": [
              "No     0.73463\n",
              "Yes    0.26537\n",
              "Name: Churn, dtype: float64"
            ]
          },
          "metadata": {},
          "execution_count": 29
        }
      ]
    },
    {
      "cell_type": "code",
      "source": [
        "df['TotalCharges']"
      ],
      "metadata": {
        "colab": {
          "base_uri": "https://localhost:8080/"
        },
        "id": "Ok8exG8c3Mf4",
        "outputId": "53b40355-6837-4eee-fca0-f5e45399a783"
      },
      "execution_count": null,
      "outputs": [
        {
          "output_type": "execute_result",
          "data": {
            "text/plain": [
              "0         29.85\n",
              "1        1889.5\n",
              "2        108.15\n",
              "3       1840.75\n",
              "4        151.65\n",
              "         ...   \n",
              "7038     1990.5\n",
              "7039     7362.9\n",
              "7040     346.45\n",
              "7041      306.6\n",
              "7042     6844.5\n",
              "Name: TotalCharges, Length: 7043, dtype: object"
            ]
          },
          "metadata": {},
          "execution_count": 23
        }
      ]
    },
    {
      "cell_type": "code",
      "source": [
        "df.TotalCharges[488]"
      ],
      "metadata": {
        "colab": {
          "base_uri": "https://localhost:8080/",
          "height": 35
        },
        "id": "5g5nLXWz2ty5",
        "outputId": "14ba16e8-bb4a-4990-85ce-0c152eb13632"
      },
      "execution_count": null,
      "outputs": [
        {
          "output_type": "execute_result",
          "data": {
            "text/plain": [
              "' '"
            ],
            "application/vnd.google.colaboratory.intrinsic+json": {
              "type": "string"
            }
          },
          "metadata": {},
          "execution_count": 18
        }
      ]
    },
    {
      "cell_type": "code",
      "source": [],
      "metadata": {
        "colab": {
          "base_uri": "https://localhost:8080/",
          "height": 35
        },
        "id": "LIlA-Lgo2y6L",
        "outputId": "c7148c93-3103-40ea-8d68-4b6d325c6569"
      },
      "execution_count": null,
      "outputs": [
        {
          "output_type": "execute_result",
          "data": {
            "text/plain": [
              "'29.85'"
            ],
            "application/vnd.google.colaboratory.intrinsic+json": {
              "type": "string"
            }
          },
          "metadata": {},
          "execution_count": 21
        }
      ]
    },
    {
      "cell_type": "markdown",
      "source": [
        "#### **1-2. 데이터셋 분리**\n",
        "- 특성 X와 타겟 y를 지정하세요.\n",
        "  - 타겟 데이터를 `No`는 0으로, `Yes`는 1로 변환하세요.\n",
        "- X와 y 모두 train/test set으로 분리하세요.\n",
        "  - train : test 비는 8:2로 설정하세요.\n",
        "  - `random_state`를 설정하여 고정된 결과가 나오도록 해 보세요.\n",
        "  - 타겟 클래스 비율이 유지되도록 분리하세요.\n",
        "    - [공식문서](https://scikit-learn.org/stable/modules/generated/sklearn.model_selection.train_test_split.html)를 참고하여 어떤 옵션을 설정하면 되는지 찾아보세요. "
      ],
      "metadata": {
        "id": "HGK7uOevvmfZ"
      }
    },
    {
      "cell_type": "code",
      "source": [],
      "metadata": {
        "id": "oLnaVMAE64Pa"
      },
      "execution_count": null,
      "outputs": []
    },
    {
      "cell_type": "markdown",
      "source": [
        "#### **1-3. Scaling 후 데이터를 확인합니다.**\n",
        "- 수치형 변수에 `StandardScaler()`를 적용하세요."
      ],
      "metadata": {
        "id": "lnh3K3hH6LN6"
      }
    },
    {
      "cell_type": "code",
      "source": [],
      "metadata": {
        "id": "0a5mh_6nylnk"
      },
      "execution_count": null,
      "outputs": []
    },
    {
      "cell_type": "markdown",
      "source": [
        "#### **1-4. Encoding 후 데이터를 확인합니다.**\n",
        "- 범주형 변수에 `OneHotEncoder()`를 적용하세요. \n",
        "  - [공식문서](https://contrib.scikit-learn.org/category_encoders/onehot.html)를 참고하여 필요한 파라미터들을 설정해 볼 수 있습니다. "
      ],
      "metadata": {
        "id": "o79WR15U6YcE"
      }
    },
    {
      "cell_type": "code",
      "source": [],
      "metadata": {
        "id": "avuGM2g07DN6"
      },
      "execution_count": null,
      "outputs": []
    },
    {
      "cell_type": "markdown",
      "source": [
        "### **Part.2 : 모델 학습 및 예측**"
      ],
      "metadata": {
        "id": "qJOdzTmD6z1M"
      }
    },
    {
      "cell_type": "markdown",
      "source": [
        "#### **2-1. 기준모델**\n",
        "- 최빈값을 이용하여 기준모델을 만들고, accuracy 값을 확인하세요. \n",
        "  - 기준모델은 train set에 대하여 생성합니다. "
      ],
      "metadata": {
        "id": "aZ4NQ3QA7Ikw"
      }
    },
    {
      "cell_type": "code",
      "source": [],
      "metadata": {
        "id": "d2iymuNM8GUd"
      },
      "execution_count": null,
      "outputs": []
    },
    {
      "cell_type": "markdown",
      "source": [
        "#### **2-2. 로지스틱 회귀**\n",
        "- 로지스틱 회귀 모델을 학습하고, train 및 test set에 대하여 accuracy 값을 확인하세요. \n",
        "  - 타겟 클래스 비율이 불균형하므로 `class_weight='balanced'`로 설정하세요. \n",
        "- test set에 `.predict()`와 `.predict_proba()`를 적용하여 결과를 비교해 보세요. \n",
        "  - 10개의 데이터만 확인해 보세요."
      ],
      "metadata": {
        "id": "vgW20H-98rWG"
      }
    },
    {
      "cell_type": "code",
      "source": [],
      "metadata": {
        "id": "5a_4mzKu8Hl6"
      },
      "execution_count": null,
      "outputs": []
    },
    {
      "cell_type": "markdown",
      "source": [
        "#### **2-3. 회귀계수 해석**\n",
        "- 회귀계수가 양수인 상위 3개 특성을 확인해 보세요. \n",
        "- 회귀계수가 음수인 하위 3개 특성을 확인해 보세요. "
      ],
      "metadata": {
        "id": "pooHczOG-eQJ"
      }
    },
    {
      "cell_type": "code",
      "source": [],
      "metadata": {
        "id": "UEGCQR9D8JPA"
      },
      "execution_count": null,
      "outputs": []
    },
    {
      "cell_type": "markdown",
      "source": [
        "### **Part.3 : 성능 평가**"
      ],
      "metadata": {
        "id": "l6jTcKc6Btb2"
      }
    },
    {
      "cell_type": "markdown",
      "source": [
        "#### **3-1. Confusion Matrix**\n",
        "- test set에 대한 예측값을 바탕으로 confusion matrix를 나타내 보세요."
      ],
      "metadata": {
        "id": "gEYonzDRBxkl"
      }
    },
    {
      "cell_type": "code",
      "source": [],
      "metadata": {
        "id": "mnNUzoC18KeP"
      },
      "execution_count": null,
      "outputs": []
    },
    {
      "cell_type": "markdown",
      "source": [
        "#### **3-2. 분류 평가지표**\n",
        "- test set에 대하여 precision, recall, f1 score 값을 확인하세요."
      ],
      "metadata": {
        "id": "jVlI0JSLC35w"
      }
    },
    {
      "cell_type": "code",
      "source": [],
      "metadata": {
        "id": "AYQtCKte8LYA"
      },
      "execution_count": null,
      "outputs": []
    },
    {
      "cell_type": "markdown",
      "source": [
        "#### **3-3. AUC Score**\n",
        "- test set에 대하여 AUC Score 값을 확인하세요. "
      ],
      "metadata": {
        "id": "EDqjj7U3EXsz"
      }
    },
    {
      "cell_type": "code",
      "source": [],
      "metadata": {
        "id": "ekkKMS428MNR"
      },
      "execution_count": null,
      "outputs": []
    },
    {
      "cell_type": "markdown",
      "source": [
        "### **Conclusion**\n",
        "> 오늘 Topic을 수행한 결과를 바탕으로, 다음 사항에 대해 발표해 주세요.\n",
        "\n",
        "1. 회귀계수가 양수인 상위 3개 특성을 바탕으로 결과를 해석해 보세요. \n",
        "2. 회귀계수가 음수인 하위 3개 특성을 바탕으로 결과를 해석해 보세요. \n",
        "3. 기준모델과 로지스틱 회귀 모델의 accuracy 값을 비교해 보세요. 평가지표로 accuracy를 사용하기에 적절한가요? \n",
        "4. Confusion Matrix 및 적절한 분류 평가지표를 선택하여 결과를 해석해 보세요. \n",
        "- **Discussion** 표의 `정리` 탭에 답변을 정리하여 적어 주세요. "
      ],
      "metadata": {
        "id": "eXnVwkAJ9Pro"
      }
    },
    {
      "cell_type": "markdown",
      "source": [
        "## **심화 Topic**\n",
        "- 주변에서 찾아볼 수 있는 분류 문제는 무엇이 있을까요? 여러분이 실제로 프로젝트를 한다고 생각하고 관심 도메인에서 구체적으로 어떤 예시가 있을지 생각해보세요.\n",
        "  - 여러분들은 어떤 프로젝트가 하고 싶으세요? 서로 아이디어를 나눠보세요.\n",
        "  - 해당 문제를 풀었을 때 비즈니스적으로 어떤 가치있는 결론을 도출할 수 있을지도 함께 생각해 보세요. "
      ],
      "metadata": {
        "id": "YjF4Nzefg9vT"
      }
    }
  ]
}