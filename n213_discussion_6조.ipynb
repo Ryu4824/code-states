{
  "nbformat": 4,
  "nbformat_minor": 0,
  "metadata": {
    "colab": {
      "provenance": [],
      "include_colab_link": true
    },
    "kernelspec": {
      "name": "python3",
      "display_name": "Python 3"
    },
    "language_info": {
      "name": "python"
    }
  },
  "cells": [
    {
      "cell_type": "markdown",
      "metadata": {
        "id": "view-in-github",
        "colab_type": "text"
      },
      "source": [
        "<a href=\"https://colab.research.google.com/github/Ryu4824/code-states/blob/main/n213_discussion_6%EC%A1%B0.ipynb\" target=\"_parent\"><img src=\"https://colab.research.google.com/assets/colab-badge.svg\" alt=\"Open In Colab\"/></a>"
      ]
    },
    {
      "cell_type": "markdown",
      "source": [
        "# **N213 Regularized Regression**\n",
        "\n",
        "## 오늘의 목표\n",
        "- scikit-learn을 이용해 정규화 회귀 모델을 만들어 학습하고 해석할 수 있습니다.\n",
        "- 정규화 회귀 모델에서 최적의 알파값을 찾을 수 있습니다. \n",
        "- 정규화 회귀 모델을 통해 과적합을 해소할 수 있습니다. "
      ],
      "metadata": {
        "id": "VPGhfU_ooM-y"
      }
    },
    {
      "cell_type": "markdown",
      "source": [
        "## **개념 Topic**\n",
        "> 오늘은 정규화 회귀(Regularized Regression)에 대해 배웠습니다. \n",
        "\n",
        "- 정규화 회귀를 한 문장으로 요약하여 설명해보세요.\n",
        "  - `정규화 회귀모델은 선형모델에 규제항을 더해 과적합을 방지하는 방법입니다.` 를 제외한 문장이어야 합니다.\n",
        "  - 어떤 키워드가 포함되어야할지 키워드 위주로 고민해보세요.\n",
        "  - 만약 설명이 어렵다면 어느 부분이 이해가 안 되는지 구체적인 질문을 동기들과 나눠보세요.\n",
        "- 정규화 회귀에 대해 초등학생도 이해할 수 있는 쉬운 비유를 함께 만들어보세요.\n",
        "\n",
        "  ```\n",
        "  e.g. 빙판길 사고를 방지하기 위해 자동차 타이어에 체인을 감아 속도를 낮춘다.\n",
        "  - 빙판길 → 너무 복잡한 모델\n",
        "  - 사고 위험 → 과적합 발생 가능성\n",
        "  - 자동차 타이어 → 선형 모델\n",
        "  - 체인 → 규제항\n",
        "  - 속도 감소 → 선형모델에서 파라미터 감소\n",
        "  ```\n",
        "  - 체크리스트\n",
        "    - 과적합과 규제항에 대한 비유가 올바른가?\n",
        "    - 파라미터가 감소한다는 결론이 포함되었는가?\n",
        "- **Discussion** 표의 `정리` 탭에 답변을 정리하여 적어 주세요. "
      ],
      "metadata": {
        "id": "SrSrW3OSVzz6"
      }
    },
    {
      "cell_type": "markdown",
      "source": [
        "- 정규화 회귀란 : 선형회귀 계수에 대한 제약 조건을 추가함으로써 <br>\n",
        "훈련 모델의 가중치의 크기에 대한 패널티를 부여하여, 복잡도를 줄이고 훈련 모델에 과도하게 최적화되는 현상을 방지하는 방법"
      ],
      "metadata": {
        "id": "39xwLqcQrgPs"
      }
    },
    {
      "cell_type": "markdown",
      "source": [
        "\n",
        "클라이밍 할 때 손에 초크 가루를 묻혀 미끄러지지 않게 한다\n",
        "- 홀드 : 너무 복잡한 모델\n",
        "- 추락 위험 : 과접합 발생 가능성\n",
        "- 악력 : 선형 모델\n",
        "- 초크 가루 : 규제항\n",
        "- 마찰력 상승 : 선형모델에서 파라미터 감소"
      ],
      "metadata": {
        "id": "hEFQMt_V6D4W"
      }
    },
    {
      "cell_type": "markdown",
      "source": [
        "## **코딩 Topic**"
      ],
      "metadata": {
        "id": "BRSv9NneX1cb"
      }
    },
    {
      "cell_type": "markdown",
      "source": [
        "### **Part.1 : 데이터 준비**\n",
        "지난 노트에서도 사용했던 인도의 한 도시인 [Begaluru의 집값 데이터](https://www.kaggle.com/datasets/amitabhajoy/bengaluru-house-price-data)를 사용해서 집값을 예측하는 회귀 문제를 풀어보겠습니다.\n",
        "\n",
        "> **Data Description**\n",
        "\n",
        "- Area_type : Description of the area\n",
        "- Availability : When it can be possessed or when it is ready\n",
        "- Location : Where it is located in Bengaluru\n",
        "- Size : BHK or Bedrooms\n",
        "- Society : To which society it belongs\n",
        "- Total_sqft : Size of the property in sq.ft\n",
        "- Bath : No. of Bathrooms\n",
        "- Balcony : No. of the Balcony\n",
        "- Price : Value of the property in lakhs (Indian Rupee - ₹)\n"
      ],
      "metadata": {
        "id": "WUVBRDjUr5Rh"
      }
    },
    {
      "cell_type": "code",
      "source": [
        "!pip install category_encoders"
      ],
      "metadata": {
        "id": "aXmd2vUI5838",
        "colab": {
          "base_uri": "https://localhost:8080/"
        },
        "outputId": "9f954b4a-7c16-4a06-90bf-5b94afb5a198"
      },
      "execution_count": 1,
      "outputs": [
        {
          "output_type": "stream",
          "name": "stdout",
          "text": [
            "Looking in indexes: https://pypi.org/simple, https://us-python.pkg.dev/colab-wheels/public/simple/\n",
            "Collecting category_encoders\n",
            "  Downloading category_encoders-2.6.0-py2.py3-none-any.whl (81 kB)\n",
            "\u001b[2K     \u001b[90m━━━━━━━━━━━━━━━━━━━━━━━━━━━━━━━━━━━━━━━━\u001b[0m \u001b[32m81.2/81.2 KB\u001b[0m \u001b[31m3.7 MB/s\u001b[0m eta \u001b[36m0:00:00\u001b[0m\n",
            "\u001b[?25hRequirement already satisfied: scikit-learn>=0.20.0 in /usr/local/lib/python3.9/dist-packages (from category_encoders) (1.2.2)\n",
            "Requirement already satisfied: pandas>=1.0.5 in /usr/local/lib/python3.9/dist-packages (from category_encoders) (1.4.4)\n",
            "Requirement already satisfied: statsmodels>=0.9.0 in /usr/local/lib/python3.9/dist-packages (from category_encoders) (0.13.5)\n",
            "Requirement already satisfied: numpy>=1.14.0 in /usr/local/lib/python3.9/dist-packages (from category_encoders) (1.22.4)\n",
            "Requirement already satisfied: scipy>=1.0.0 in /usr/local/lib/python3.9/dist-packages (from category_encoders) (1.10.1)\n",
            "Requirement already satisfied: patsy>=0.5.1 in /usr/local/lib/python3.9/dist-packages (from category_encoders) (0.5.3)\n",
            "Requirement already satisfied: python-dateutil>=2.8.1 in /usr/local/lib/python3.9/dist-packages (from pandas>=1.0.5->category_encoders) (2.8.2)\n",
            "Requirement already satisfied: pytz>=2020.1 in /usr/local/lib/python3.9/dist-packages (from pandas>=1.0.5->category_encoders) (2022.7.1)\n",
            "Requirement already satisfied: six in /usr/local/lib/python3.9/dist-packages (from patsy>=0.5.1->category_encoders) (1.15.0)\n",
            "Requirement already satisfied: threadpoolctl>=2.0.0 in /usr/local/lib/python3.9/dist-packages (from scikit-learn>=0.20.0->category_encoders) (3.1.0)\n",
            "Requirement already satisfied: joblib>=1.1.1 in /usr/local/lib/python3.9/dist-packages (from scikit-learn>=0.20.0->category_encoders) (1.1.1)\n",
            "Requirement already satisfied: packaging>=21.3 in /usr/local/lib/python3.9/dist-packages (from statsmodels>=0.9.0->category_encoders) (23.0)\n",
            "Installing collected packages: category_encoders\n",
            "Successfully installed category_encoders-2.6.0\n"
          ]
        }
      ]
    },
    {
      "cell_type": "code",
      "source": [
        "import re\n",
        "import math\n",
        "import random\n",
        "import numpy as np\n",
        "import pandas as pd\n",
        "import matplotlib.pyplot as plt\n",
        "\n",
        "import seaborn as sns\n",
        "\n",
        "from sklearn.model_selection import train_test_split, KFold, cross_val_score\n",
        "from sklearn.linear_model import LinearRegression\n",
        "from sklearn.pipeline import make_pipeline\n",
        "from sklearn.preprocessing import PolynomialFeatures\n",
        "from sklearn.metrics import r2_score, mean_absolute_error, mean_squared_error"
      ],
      "metadata": {
        "id": "Wiz6T_DD2Dfu"
      },
      "execution_count": 2,
      "outputs": []
    },
    {
      "cell_type": "markdown",
      "source": [
        "#### **1-1. 데이터셋 불러오기 및 전처리**\n",
        "- 데이터셋을 불러오세요.\n",
        "- 결측치가 30% 이상인 column은 제거하세요. \n",
        "- 결측치인 샘플(row)도 제거 후, index를 재정렬하세요. \n",
        "  - 결측치를 모두 제거한 데이터프레임의 shape은 (12710, 8)입니다. \n",
        "- 지난 디스커션에서와 마찬가지로 `total_sqft` column을 수치형으로 변환하세요. "
      ],
      "metadata": {
        "id": "rCnbgHnzvfr6"
      }
    },
    {
      "cell_type": "code",
      "source": [
        "# 데이터셋 불러오기\n",
        "import pandas as pd\n",
        "df = pd.read_csv('https://ds-lecture-data.s3.ap-northeast-2.amazonaws.com/renewal/mldl/House_Data.csv')\n",
        "df.head()"
      ],
      "metadata": {
        "colab": {
          "base_uri": "https://localhost:8080/",
          "height": 206
        },
        "id": "_x0NL4hmUhVr",
        "outputId": "0d5d4600-2053-431a-b947-c3dfe16bfd00"
      },
      "execution_count": 3,
      "outputs": [
        {
          "output_type": "execute_result",
          "data": {
            "text/plain": [
              "              area_type   availability                  location       size  \\\n",
              "0  Super built-up  Area         19-Dec  Electronic City Phase II      2 BHK   \n",
              "1            Plot  Area  Ready To Move          Chikka Tirupathi  4 Bedroom   \n",
              "2        Built-up  Area  Ready To Move               Uttarahalli      3 BHK   \n",
              "3  Super built-up  Area  Ready To Move        Lingadheeranahalli      3 BHK   \n",
              "4  Super built-up  Area  Ready To Move                  Kothanur      2 BHK   \n",
              "\n",
              "   society total_sqft  bath  balcony   price  \n",
              "0  Coomee        1056   2.0      1.0   39.07  \n",
              "1  Theanmp       2600   5.0      3.0  120.00  \n",
              "2      NaN       1440   2.0      3.0   62.00  \n",
              "3  Soiewre       1521   3.0      1.0   95.00  \n",
              "4      NaN       1200   2.0      1.0   51.00  "
            ],
            "text/html": [
              "\n",
              "  <div id=\"df-47c45451-a6f0-428c-a826-93a354da86a8\">\n",
              "    <div class=\"colab-df-container\">\n",
              "      <div>\n",
              "<style scoped>\n",
              "    .dataframe tbody tr th:only-of-type {\n",
              "        vertical-align: middle;\n",
              "    }\n",
              "\n",
              "    .dataframe tbody tr th {\n",
              "        vertical-align: top;\n",
              "    }\n",
              "\n",
              "    .dataframe thead th {\n",
              "        text-align: right;\n",
              "    }\n",
              "</style>\n",
              "<table border=\"1\" class=\"dataframe\">\n",
              "  <thead>\n",
              "    <tr style=\"text-align: right;\">\n",
              "      <th></th>\n",
              "      <th>area_type</th>\n",
              "      <th>availability</th>\n",
              "      <th>location</th>\n",
              "      <th>size</th>\n",
              "      <th>society</th>\n",
              "      <th>total_sqft</th>\n",
              "      <th>bath</th>\n",
              "      <th>balcony</th>\n",
              "      <th>price</th>\n",
              "    </tr>\n",
              "  </thead>\n",
              "  <tbody>\n",
              "    <tr>\n",
              "      <th>0</th>\n",
              "      <td>Super built-up  Area</td>\n",
              "      <td>19-Dec</td>\n",
              "      <td>Electronic City Phase II</td>\n",
              "      <td>2 BHK</td>\n",
              "      <td>Coomee</td>\n",
              "      <td>1056</td>\n",
              "      <td>2.0</td>\n",
              "      <td>1.0</td>\n",
              "      <td>39.07</td>\n",
              "    </tr>\n",
              "    <tr>\n",
              "      <th>1</th>\n",
              "      <td>Plot  Area</td>\n",
              "      <td>Ready To Move</td>\n",
              "      <td>Chikka Tirupathi</td>\n",
              "      <td>4 Bedroom</td>\n",
              "      <td>Theanmp</td>\n",
              "      <td>2600</td>\n",
              "      <td>5.0</td>\n",
              "      <td>3.0</td>\n",
              "      <td>120.00</td>\n",
              "    </tr>\n",
              "    <tr>\n",
              "      <th>2</th>\n",
              "      <td>Built-up  Area</td>\n",
              "      <td>Ready To Move</td>\n",
              "      <td>Uttarahalli</td>\n",
              "      <td>3 BHK</td>\n",
              "      <td>NaN</td>\n",
              "      <td>1440</td>\n",
              "      <td>2.0</td>\n",
              "      <td>3.0</td>\n",
              "      <td>62.00</td>\n",
              "    </tr>\n",
              "    <tr>\n",
              "      <th>3</th>\n",
              "      <td>Super built-up  Area</td>\n",
              "      <td>Ready To Move</td>\n",
              "      <td>Lingadheeranahalli</td>\n",
              "      <td>3 BHK</td>\n",
              "      <td>Soiewre</td>\n",
              "      <td>1521</td>\n",
              "      <td>3.0</td>\n",
              "      <td>1.0</td>\n",
              "      <td>95.00</td>\n",
              "    </tr>\n",
              "    <tr>\n",
              "      <th>4</th>\n",
              "      <td>Super built-up  Area</td>\n",
              "      <td>Ready To Move</td>\n",
              "      <td>Kothanur</td>\n",
              "      <td>2 BHK</td>\n",
              "      <td>NaN</td>\n",
              "      <td>1200</td>\n",
              "      <td>2.0</td>\n",
              "      <td>1.0</td>\n",
              "      <td>51.00</td>\n",
              "    </tr>\n",
              "  </tbody>\n",
              "</table>\n",
              "</div>\n",
              "      <button class=\"colab-df-convert\" onclick=\"convertToInteractive('df-47c45451-a6f0-428c-a826-93a354da86a8')\"\n",
              "              title=\"Convert this dataframe to an interactive table.\"\n",
              "              style=\"display:none;\">\n",
              "        \n",
              "  <svg xmlns=\"http://www.w3.org/2000/svg\" height=\"24px\"viewBox=\"0 0 24 24\"\n",
              "       width=\"24px\">\n",
              "    <path d=\"M0 0h24v24H0V0z\" fill=\"none\"/>\n",
              "    <path d=\"M18.56 5.44l.94 2.06.94-2.06 2.06-.94-2.06-.94-.94-2.06-.94 2.06-2.06.94zm-11 1L8.5 8.5l.94-2.06 2.06-.94-2.06-.94L8.5 2.5l-.94 2.06-2.06.94zm10 10l.94 2.06.94-2.06 2.06-.94-2.06-.94-.94-2.06-.94 2.06-2.06.94z\"/><path d=\"M17.41 7.96l-1.37-1.37c-.4-.4-.92-.59-1.43-.59-.52 0-1.04.2-1.43.59L10.3 9.45l-7.72 7.72c-.78.78-.78 2.05 0 2.83L4 21.41c.39.39.9.59 1.41.59.51 0 1.02-.2 1.41-.59l7.78-7.78 2.81-2.81c.8-.78.8-2.07 0-2.86zM5.41 20L4 18.59l7.72-7.72 1.47 1.35L5.41 20z\"/>\n",
              "  </svg>\n",
              "      </button>\n",
              "      \n",
              "  <style>\n",
              "    .colab-df-container {\n",
              "      display:flex;\n",
              "      flex-wrap:wrap;\n",
              "      gap: 12px;\n",
              "    }\n",
              "\n",
              "    .colab-df-convert {\n",
              "      background-color: #E8F0FE;\n",
              "      border: none;\n",
              "      border-radius: 50%;\n",
              "      cursor: pointer;\n",
              "      display: none;\n",
              "      fill: #1967D2;\n",
              "      height: 32px;\n",
              "      padding: 0 0 0 0;\n",
              "      width: 32px;\n",
              "    }\n",
              "\n",
              "    .colab-df-convert:hover {\n",
              "      background-color: #E2EBFA;\n",
              "      box-shadow: 0px 1px 2px rgba(60, 64, 67, 0.3), 0px 1px 3px 1px rgba(60, 64, 67, 0.15);\n",
              "      fill: #174EA6;\n",
              "    }\n",
              "\n",
              "    [theme=dark] .colab-df-convert {\n",
              "      background-color: #3B4455;\n",
              "      fill: #D2E3FC;\n",
              "    }\n",
              "\n",
              "    [theme=dark] .colab-df-convert:hover {\n",
              "      background-color: #434B5C;\n",
              "      box-shadow: 0px 1px 3px 1px rgba(0, 0, 0, 0.15);\n",
              "      filter: drop-shadow(0px 1px 2px rgba(0, 0, 0, 0.3));\n",
              "      fill: #FFFFFF;\n",
              "    }\n",
              "  </style>\n",
              "\n",
              "      <script>\n",
              "        const buttonEl =\n",
              "          document.querySelector('#df-47c45451-a6f0-428c-a826-93a354da86a8 button.colab-df-convert');\n",
              "        buttonEl.style.display =\n",
              "          google.colab.kernel.accessAllowed ? 'block' : 'none';\n",
              "\n",
              "        async function convertToInteractive(key) {\n",
              "          const element = document.querySelector('#df-47c45451-a6f0-428c-a826-93a354da86a8');\n",
              "          const dataTable =\n",
              "            await google.colab.kernel.invokeFunction('convertToInteractive',\n",
              "                                                     [key], {});\n",
              "          if (!dataTable) return;\n",
              "\n",
              "          const docLinkHtml = 'Like what you see? Visit the ' +\n",
              "            '<a target=\"_blank\" href=https://colab.research.google.com/notebooks/data_table.ipynb>data table notebook</a>'\n",
              "            + ' to learn more about interactive tables.';\n",
              "          element.innerHTML = '';\n",
              "          dataTable['output_type'] = 'display_data';\n",
              "          await google.colab.output.renderOutput(dataTable, element);\n",
              "          const docLink = document.createElement('div');\n",
              "          docLink.innerHTML = docLinkHtml;\n",
              "          element.appendChild(docLink);\n",
              "        }\n",
              "      </script>\n",
              "    </div>\n",
              "  </div>\n",
              "  "
            ]
          },
          "metadata": {},
          "execution_count": 3
        }
      ]
    },
    {
      "cell_type": "code",
      "source": [
        "# 결측치 확인\n",
        "df.isna().sum()[df.isna().sum() !=0]/len(df)"
      ],
      "metadata": {
        "colab": {
          "base_uri": "https://localhost:8080/"
        },
        "id": "7xceZ9OFtE4r",
        "outputId": "6386b316-0863-4d8a-e5a7-b9f83aaa8fc8"
      },
      "execution_count": 4,
      "outputs": [
        {
          "output_type": "execute_result",
          "data": {
            "text/plain": [
              "location    0.000075\n",
              "size        0.001201\n",
              "society     0.413063\n",
              "bath        0.005480\n",
              "balcony     0.045721\n",
              "dtype: float64"
            ]
          },
          "metadata": {},
          "execution_count": 4
        }
      ]
    },
    {
      "cell_type": "code",
      "source": [
        "#결측치 30% 이상인 컬럼 제거\n",
        "df.drop('society', axis=1, inplace=True)"
      ],
      "metadata": {
        "id": "cxEc2RdByjJs"
      },
      "execution_count": 5,
      "outputs": []
    },
    {
      "cell_type": "code",
      "source": [
        "'''\n",
        "drop_c = df.columns[df.isna().mean() >= 0.3]\n",
        "df.drop(drop_c, axis=1, inplace=True)\n",
        "df\n",
        "'''"
      ],
      "metadata": {
        "colab": {
          "base_uri": "https://localhost:8080/",
          "height": 35
        },
        "id": "4q-3DasQuc3R",
        "outputId": "c3bb8a6b-27ec-422c-957e-fa46df8ce045"
      },
      "execution_count": 6,
      "outputs": [
        {
          "output_type": "execute_result",
          "data": {
            "text/plain": [
              "'\\ndrop_c = df.columns[df.isna().mean() >= 0.3]\\ndf.drop(drop_c, axis=1, inplace=True)\\ndf\\n'"
            ],
            "application/vnd.google.colaboratory.intrinsic+json": {
              "type": "string"
            }
          },
          "metadata": {},
          "execution_count": 6
        }
      ]
    },
    {
      "cell_type": "code",
      "source": [
        "df.dropna(axis=0, inplace = True)"
      ],
      "metadata": {
        "id": "S2SvyuyutS6Y"
      },
      "execution_count": 7,
      "outputs": []
    },
    {
      "cell_type": "code",
      "source": [
        "df.reset_index(drop=True, inplace = True)"
      ],
      "metadata": {
        "id": "qnVWs9YvtmzR"
      },
      "execution_count": 8,
      "outputs": []
    },
    {
      "cell_type": "code",
      "source": [
        "# 수치로 변환되지 않는 데이터 index 추출\n",
        "idx = []\n",
        "for i in range(len(df.total_sqft)):\n",
        "  try:\n",
        "    float(df.total_sqft[i])\n",
        "  except:\n",
        "    idx.append(i)"
      ],
      "metadata": {
        "id": "jzoES3uZt8z2"
      },
      "execution_count": 9,
      "outputs": []
    },
    {
      "cell_type": "code",
      "source": [
        "df.drop(idx, inplace = True)"
      ],
      "metadata": {
        "id": "bh5sxOfq8XOM"
      },
      "execution_count": 10,
      "outputs": []
    },
    {
      "cell_type": "code",
      "source": [
        "df.dtypes"
      ],
      "metadata": {
        "colab": {
          "base_uri": "https://localhost:8080/"
        },
        "id": "fJyqE6iV2Wsu",
        "outputId": "6177ed55-9473-4a1c-9c74-8a92d8d50197"
      },
      "execution_count": 11,
      "outputs": [
        {
          "output_type": "execute_result",
          "data": {
            "text/plain": [
              "area_type        object\n",
              "availability     object\n",
              "location         object\n",
              "size             object\n",
              "total_sqft       object\n",
              "bath            float64\n",
              "balcony         float64\n",
              "price           float64\n",
              "dtype: object"
            ]
          },
          "metadata": {},
          "execution_count": 11
        }
      ]
    },
    {
      "cell_type": "code",
      "source": [
        "df['total_sqft']  = df['total_sqft'].astype(float)"
      ],
      "metadata": {
        "id": "0ov71NPfuWuQ"
      },
      "execution_count": 12,
      "outputs": []
    },
    {
      "cell_type": "markdown",
      "source": [
        "#### **1-2. 데이터셋 분리**\n",
        "- 특성 X와 타겟 y를 지정하세요.\n",
        "  - 타겟은 `price`입니다.\n",
        "- X와 y 모두 train/test set으로 분리하세요. \n",
        "  - train : test 비를 적절히 설정합니다.\n",
        "  - `random_state`를 설정하여 고정된 결과가 나오도록 해 보세요.\n",
        "- train set을 train/val set으로 분리하세요.\n",
        "  - train : val 비를 적절히 설정합니다.\n",
        "  - `random_state`를 설정하여 고정된 결과가 나오도록 해 보세요."
      ],
      "metadata": {
        "id": "zENIZvtOxcrb"
      }
    },
    {
      "cell_type": "code",
      "source": [
        "#특성 타겟 X, y 지정\n",
        "target = 'price'\n",
        "features = ['area_type',\t'availability',\t'location', 'size',\t'total_sqft',\t'bath',\t'balcony'\t]\n",
        "X = df[features]\n",
        "y = df[target]"
      ],
      "metadata": {
        "id": "0a5mh_6nylnk"
      },
      "execution_count": 13,
      "outputs": []
    },
    {
      "cell_type": "code",
      "source": [
        "#데이터 나누기\n",
        "from sklearn.model_selection import train_test_split\n",
        "X_train, X_test, y_train, y_test = train_test_split(X, y, test_size=0.2, random_state = 42)\n",
        "X_train, X_val, y_train, y_val = train_test_split(X_train, y_train, test_size=0.2, random_state = 42)"
      ],
      "metadata": {
        "id": "_1l3Ey-_vrtj"
      },
      "execution_count": 14,
      "outputs": []
    },
    {
      "cell_type": "code",
      "source": [
        "'''\n",
        "target = 'Price'\n",
        "X = df.drop(target,axis=1)\n",
        "y = df[target]\n",
        "\n",
        "X_train, X_test, y_train, y_test = train_test_split(X,y,test_size=0.2, random_state=2)\n",
        "X_train, X_val, y_train, y_val = train_test_split(X_train,y_train,test_size=0.2, random_state=2)\n",
        "'''"
      ],
      "metadata": {
        "colab": {
          "base_uri": "https://localhost:8080/",
          "height": 35
        },
        "id": "QK_VUmquYqvj",
        "outputId": "e20b95a3-5666-4a79-922a-1bce4c0446d2"
      },
      "execution_count": 15,
      "outputs": [
        {
          "output_type": "execute_result",
          "data": {
            "text/plain": [
              "\"\\ntarget = 'Price'\\nX = df.drop(target,axis=1)\\ny = df[target]\\n\\nX_train, X_test, y_train, y_test = train_test_split(X,y,test_size=0.2, random_state=2)\\nX_train, X_val, y_train, y_val = train_test_split(X_train,y_train,test_size=0.2, random_state=2)\\n\""
            ],
            "application/vnd.google.colaboratory.intrinsic+json": {
              "type": "string"
            }
          },
          "metadata": {},
          "execution_count": 15
        }
      ]
    },
    {
      "cell_type": "markdown",
      "source": [
        "#### **1-3. Scaling 후 데이터를 확인합니다.**\n",
        "- 수치형 변수에 `StandardScaler()`를 적용하세요. "
      ],
      "metadata": {
        "id": "xcRzdDE2sMEN"
      }
    },
    {
      "cell_type": "code",
      "source": [
        "#수치형 변수 스케일링 조정\n",
        "from sklearn.preprocessing import StandardScaler\n",
        "\n",
        "numeric_feats = X_train.dtypes[X_train.dtypes != \"object\"].index\n",
        "\n",
        "scaler = StandardScaler()\n",
        "X_train[numeric_feats] = scaler.fit_transform(X_train[numeric_feats])\n",
        "X_val[numeric_feats] = scaler.transform(X_val[numeric_feats])\n",
        "X_test[numeric_feats] = scaler.transform(X_test[numeric_feats])"
      ],
      "metadata": {
        "id": "kxJNW56Eyn0h"
      },
      "execution_count": 16,
      "outputs": []
    },
    {
      "cell_type": "code",
      "source": [
        "#수치형 컬럼 변환 확인\n",
        "X_train[numeric_feats].describe().T[['mean', 'std']]"
      ],
      "metadata": {
        "id": "93IXXZ90wkYD",
        "colab": {
          "base_uri": "https://localhost:8080/",
          "height": 143
        },
        "outputId": "65c12000-ddf2-45ab-c3e8-fb753927820f"
      },
      "execution_count": 17,
      "outputs": [
        {
          "output_type": "execute_result",
          "data": {
            "text/plain": [
              "                    mean       std\n",
              "total_sqft -1.759735e-16  1.000062\n",
              "bath       -1.267718e-16  1.000062\n",
              "balcony     8.421904e-17  1.000062"
            ],
            "text/html": [
              "\n",
              "  <div id=\"df-24c097ac-2e97-4c48-9293-a5862bc3295e\">\n",
              "    <div class=\"colab-df-container\">\n",
              "      <div>\n",
              "<style scoped>\n",
              "    .dataframe tbody tr th:only-of-type {\n",
              "        vertical-align: middle;\n",
              "    }\n",
              "\n",
              "    .dataframe tbody tr th {\n",
              "        vertical-align: top;\n",
              "    }\n",
              "\n",
              "    .dataframe thead th {\n",
              "        text-align: right;\n",
              "    }\n",
              "</style>\n",
              "<table border=\"1\" class=\"dataframe\">\n",
              "  <thead>\n",
              "    <tr style=\"text-align: right;\">\n",
              "      <th></th>\n",
              "      <th>mean</th>\n",
              "      <th>std</th>\n",
              "    </tr>\n",
              "  </thead>\n",
              "  <tbody>\n",
              "    <tr>\n",
              "      <th>total_sqft</th>\n",
              "      <td>-1.759735e-16</td>\n",
              "      <td>1.000062</td>\n",
              "    </tr>\n",
              "    <tr>\n",
              "      <th>bath</th>\n",
              "      <td>-1.267718e-16</td>\n",
              "      <td>1.000062</td>\n",
              "    </tr>\n",
              "    <tr>\n",
              "      <th>balcony</th>\n",
              "      <td>8.421904e-17</td>\n",
              "      <td>1.000062</td>\n",
              "    </tr>\n",
              "  </tbody>\n",
              "</table>\n",
              "</div>\n",
              "      <button class=\"colab-df-convert\" onclick=\"convertToInteractive('df-24c097ac-2e97-4c48-9293-a5862bc3295e')\"\n",
              "              title=\"Convert this dataframe to an interactive table.\"\n",
              "              style=\"display:none;\">\n",
              "        \n",
              "  <svg xmlns=\"http://www.w3.org/2000/svg\" height=\"24px\"viewBox=\"0 0 24 24\"\n",
              "       width=\"24px\">\n",
              "    <path d=\"M0 0h24v24H0V0z\" fill=\"none\"/>\n",
              "    <path d=\"M18.56 5.44l.94 2.06.94-2.06 2.06-.94-2.06-.94-.94-2.06-.94 2.06-2.06.94zm-11 1L8.5 8.5l.94-2.06 2.06-.94-2.06-.94L8.5 2.5l-.94 2.06-2.06.94zm10 10l.94 2.06.94-2.06 2.06-.94-2.06-.94-.94-2.06-.94 2.06-2.06.94z\"/><path d=\"M17.41 7.96l-1.37-1.37c-.4-.4-.92-.59-1.43-.59-.52 0-1.04.2-1.43.59L10.3 9.45l-7.72 7.72c-.78.78-.78 2.05 0 2.83L4 21.41c.39.39.9.59 1.41.59.51 0 1.02-.2 1.41-.59l7.78-7.78 2.81-2.81c.8-.78.8-2.07 0-2.86zM5.41 20L4 18.59l7.72-7.72 1.47 1.35L5.41 20z\"/>\n",
              "  </svg>\n",
              "      </button>\n",
              "      \n",
              "  <style>\n",
              "    .colab-df-container {\n",
              "      display:flex;\n",
              "      flex-wrap:wrap;\n",
              "      gap: 12px;\n",
              "    }\n",
              "\n",
              "    .colab-df-convert {\n",
              "      background-color: #E8F0FE;\n",
              "      border: none;\n",
              "      border-radius: 50%;\n",
              "      cursor: pointer;\n",
              "      display: none;\n",
              "      fill: #1967D2;\n",
              "      height: 32px;\n",
              "      padding: 0 0 0 0;\n",
              "      width: 32px;\n",
              "    }\n",
              "\n",
              "    .colab-df-convert:hover {\n",
              "      background-color: #E2EBFA;\n",
              "      box-shadow: 0px 1px 2px rgba(60, 64, 67, 0.3), 0px 1px 3px 1px rgba(60, 64, 67, 0.15);\n",
              "      fill: #174EA6;\n",
              "    }\n",
              "\n",
              "    [theme=dark] .colab-df-convert {\n",
              "      background-color: #3B4455;\n",
              "      fill: #D2E3FC;\n",
              "    }\n",
              "\n",
              "    [theme=dark] .colab-df-convert:hover {\n",
              "      background-color: #434B5C;\n",
              "      box-shadow: 0px 1px 3px 1px rgba(0, 0, 0, 0.15);\n",
              "      filter: drop-shadow(0px 1px 2px rgba(0, 0, 0, 0.3));\n",
              "      fill: #FFFFFF;\n",
              "    }\n",
              "  </style>\n",
              "\n",
              "      <script>\n",
              "        const buttonEl =\n",
              "          document.querySelector('#df-24c097ac-2e97-4c48-9293-a5862bc3295e button.colab-df-convert');\n",
              "        buttonEl.style.display =\n",
              "          google.colab.kernel.accessAllowed ? 'block' : 'none';\n",
              "\n",
              "        async function convertToInteractive(key) {\n",
              "          const element = document.querySelector('#df-24c097ac-2e97-4c48-9293-a5862bc3295e');\n",
              "          const dataTable =\n",
              "            await google.colab.kernel.invokeFunction('convertToInteractive',\n",
              "                                                     [key], {});\n",
              "          if (!dataTable) return;\n",
              "\n",
              "          const docLinkHtml = 'Like what you see? Visit the ' +\n",
              "            '<a target=\"_blank\" href=https://colab.research.google.com/notebooks/data_table.ipynb>data table notebook</a>'\n",
              "            + ' to learn more about interactive tables.';\n",
              "          element.innerHTML = '';\n",
              "          dataTable['output_type'] = 'display_data';\n",
              "          await google.colab.output.renderOutput(dataTable, element);\n",
              "          const docLink = document.createElement('div');\n",
              "          docLink.innerHTML = docLinkHtml;\n",
              "          element.appendChild(docLink);\n",
              "        }\n",
              "      </script>\n",
              "    </div>\n",
              "  </div>\n",
              "  "
            ]
          },
          "metadata": {},
          "execution_count": 17
        }
      ]
    },
    {
      "cell_type": "markdown",
      "source": [
        "#### **1-4. Encoding 후 데이터를 확인합니다.**\n",
        "- 범주형 변수에 `OneHotEncoder()`를 적용하세요. "
      ],
      "metadata": {
        "id": "ERjR4tF-sHRr"
      }
    },
    {
      "cell_type": "code",
      "source": [
        "# One-Hot encoding\n",
        "from category_encoders import OneHotEncoder\n",
        "\n",
        "ohe = OneHotEncoder()\n",
        "\n",
        "X_train_ohe = ohe.fit_transform(X_train) #train에 fit을 적용하여 틀을 만듬\n",
        "X_val_ohe = ohe.transform(X_val) #train 틀에 val을 맞춤\n",
        "X_test_ohe = ohe.transform(X_test) #train 틀에 val을 맞춤"
      ],
      "metadata": {
        "id": "pVSSA2IoyqMJ"
      },
      "execution_count": 18,
      "outputs": []
    },
    {
      "cell_type": "code",
      "source": [
        "X_train['size'].unique()"
      ],
      "metadata": {
        "id": "OyKN1xR6wmdj",
        "colab": {
          "base_uri": "https://localhost:8080/"
        },
        "outputId": "ef6f1f81-6539-4992-9ba1-495cda691b8d"
      },
      "execution_count": 19,
      "outputs": [
        {
          "output_type": "execute_result",
          "data": {
            "text/plain": [
              "array(['3 BHK', '2 BHK', '1 BHK', '4 Bedroom', '4 BHK', '8 Bedroom',\n",
              "       '2 Bedroom', '3 Bedroom', '5 Bedroom', '6 Bedroom', '1 Bedroom',\n",
              "       '8 BHK', '7 Bedroom', '9 Bedroom', '5 BHK', '7 BHK', '13 BHK',\n",
              "       '6 BHK', '1 RK', '11 BHK', '10 Bedroom', '43 Bedroom',\n",
              "       '11 Bedroom', '12 Bedroom', '9 BHK', '14 BHK', '27 BHK'],\n",
              "      dtype=object)"
            ]
          },
          "metadata": {},
          "execution_count": 19
        }
      ]
    },
    {
      "cell_type": "markdown",
      "source": [
        "### **Part.2 : 모델 학습 및 평가**"
      ],
      "metadata": {
        "id": "a9UkuD3_sOxh"
      }
    },
    {
      "cell_type": "markdown",
      "source": [
        "#### **2-1. 기준모델**\n",
        "- 평균을 사용하여 기준모델을 만들고, $R^2$와 MAE 값을 확인하세요.\n",
        "  - 기준모델은 train set에 대하여 생성합니다."
      ],
      "metadata": {
        "id": "zwoA6OozeuZ9"
      }
    },
    {
      "cell_type": "code",
      "source": [
        "## 기준모델\n",
        "from sklearn.metrics import r2_score, mean_absolute_error\n",
        "baseline = [y_train.mean()] * len(y_train)\n",
        "baseline_r2 = r2_score(y_train, baseline)\n",
        "baseline_mae = mean_absolute_error(y_train, baseline)\n",
        "print(baseline_r2, baseline_mae)"
      ],
      "metadata": {
        "id": "CS73ITo4ytHZ",
        "colab": {
          "base_uri": "https://localhost:8080/"
        },
        "outputId": "a808ab65-8ca3-40eb-d4be-3b170ee68cf7"
      },
      "execution_count": 20,
      "outputs": [
        {
          "output_type": "stream",
          "name": "stdout",
          "text": [
            "0.0 65.17387978949326\n"
          ]
        }
      ]
    },
    {
      "cell_type": "code",
      "source": [
        "import numpy as np\n",
        "\n",
        "def print_R2(model, X_train, y_train, X_test, y_test) :\n",
        "\n",
        "    train_R2 = np.round(model.score(X_train, y_train) , 3)\n",
        "    test_R2 = np.round(model.score(X_test, y_test),3)\n",
        "    \n",
        "    print(f'학습 세트 r2_score : {train_R2}')\n",
        "    print(f'테스트 세트 r2_score : {test_R2}')\n",
        "    \n",
        "    return train_R2, test_R2"
      ],
      "metadata": {
        "id": "MaoSNZNnw8z1"
      },
      "execution_count": 21,
      "outputs": []
    },
    {
      "cell_type": "code",
      "source": [
        "def print_MAE(model, X_train, y_train, X_test, y_test) :\n",
        "  y_pred_train = model.predict(X_train)\n",
        "  y_pred_test = model.predict(X_test)\n",
        "  \n",
        "  train_mae = mean_absolute_error(y_train, y_pred_train).round(3)\n",
        "  test_mae = mean_absolute_error(y_test, y_pred_test).round(3)\n",
        "  \n",
        "  print(f'학습 세트 MAE : {train_mae}')\n",
        "  print(f'테스트 세트 MAE : {test_mae}')\n",
        "\n",
        "  return train_mae, test_mae"
      ],
      "metadata": {
        "id": "UnEnJ2_8w-_r"
      },
      "execution_count": 22,
      "outputs": []
    },
    {
      "cell_type": "markdown",
      "source": [
        "#### **2-2. 일반 선형 회귀**\n",
        "- 일반(다중) 선형 회귀 모델을 학습하고, train 및 val set에 대하여 $R^2$와 MAE 값을 확인하세요.\n",
        "- 상위 10개의 회귀계수 값을 확인하세요. "
      ],
      "metadata": {
        "id": "tlZl-JmdGCee"
      }
    },
    {
      "cell_type": "code",
      "source": [
        "#OLS 모델\n",
        "from sklearn.linear_model import LinearRegression\n",
        "from sklearn.model_selection import cross_val_score\n",
        "ols = LinearRegression()\n",
        "#학습\n",
        "ols.fit(X_train_ohe, y_train)"
      ],
      "metadata": {
        "id": "pwDczVVgyvji",
        "colab": {
          "base_uri": "https://localhost:8080/",
          "height": 75
        },
        "outputId": "23574cb2-8fc1-4800-f660-15a2eb2e2abc"
      },
      "execution_count": 23,
      "outputs": [
        {
          "output_type": "execute_result",
          "data": {
            "text/plain": [
              "LinearRegression()"
            ],
            "text/html": [
              "<style>#sk-container-id-1 {color: black;background-color: white;}#sk-container-id-1 pre{padding: 0;}#sk-container-id-1 div.sk-toggleable {background-color: white;}#sk-container-id-1 label.sk-toggleable__label {cursor: pointer;display: block;width: 100%;margin-bottom: 0;padding: 0.3em;box-sizing: border-box;text-align: center;}#sk-container-id-1 label.sk-toggleable__label-arrow:before {content: \"▸\";float: left;margin-right: 0.25em;color: #696969;}#sk-container-id-1 label.sk-toggleable__label-arrow:hover:before {color: black;}#sk-container-id-1 div.sk-estimator:hover label.sk-toggleable__label-arrow:before {color: black;}#sk-container-id-1 div.sk-toggleable__content {max-height: 0;max-width: 0;overflow: hidden;text-align: left;background-color: #f0f8ff;}#sk-container-id-1 div.sk-toggleable__content pre {margin: 0.2em;color: black;border-radius: 0.25em;background-color: #f0f8ff;}#sk-container-id-1 input.sk-toggleable__control:checked~div.sk-toggleable__content {max-height: 200px;max-width: 100%;overflow: auto;}#sk-container-id-1 input.sk-toggleable__control:checked~label.sk-toggleable__label-arrow:before {content: \"▾\";}#sk-container-id-1 div.sk-estimator input.sk-toggleable__control:checked~label.sk-toggleable__label {background-color: #d4ebff;}#sk-container-id-1 div.sk-label input.sk-toggleable__control:checked~label.sk-toggleable__label {background-color: #d4ebff;}#sk-container-id-1 input.sk-hidden--visually {border: 0;clip: rect(1px 1px 1px 1px);clip: rect(1px, 1px, 1px, 1px);height: 1px;margin: -1px;overflow: hidden;padding: 0;position: absolute;width: 1px;}#sk-container-id-1 div.sk-estimator {font-family: monospace;background-color: #f0f8ff;border: 1px dotted black;border-radius: 0.25em;box-sizing: border-box;margin-bottom: 0.5em;}#sk-container-id-1 div.sk-estimator:hover {background-color: #d4ebff;}#sk-container-id-1 div.sk-parallel-item::after {content: \"\";width: 100%;border-bottom: 1px solid gray;flex-grow: 1;}#sk-container-id-1 div.sk-label:hover label.sk-toggleable__label {background-color: #d4ebff;}#sk-container-id-1 div.sk-serial::before {content: \"\";position: absolute;border-left: 1px solid gray;box-sizing: border-box;top: 0;bottom: 0;left: 50%;z-index: 0;}#sk-container-id-1 div.sk-serial {display: flex;flex-direction: column;align-items: center;background-color: white;padding-right: 0.2em;padding-left: 0.2em;position: relative;}#sk-container-id-1 div.sk-item {position: relative;z-index: 1;}#sk-container-id-1 div.sk-parallel {display: flex;align-items: stretch;justify-content: center;background-color: white;position: relative;}#sk-container-id-1 div.sk-item::before, #sk-container-id-1 div.sk-parallel-item::before {content: \"\";position: absolute;border-left: 1px solid gray;box-sizing: border-box;top: 0;bottom: 0;left: 50%;z-index: -1;}#sk-container-id-1 div.sk-parallel-item {display: flex;flex-direction: column;z-index: 1;position: relative;background-color: white;}#sk-container-id-1 div.sk-parallel-item:first-child::after {align-self: flex-end;width: 50%;}#sk-container-id-1 div.sk-parallel-item:last-child::after {align-self: flex-start;width: 50%;}#sk-container-id-1 div.sk-parallel-item:only-child::after {width: 0;}#sk-container-id-1 div.sk-dashed-wrapped {border: 1px dashed gray;margin: 0 0.4em 0.5em 0.4em;box-sizing: border-box;padding-bottom: 0.4em;background-color: white;}#sk-container-id-1 div.sk-label label {font-family: monospace;font-weight: bold;display: inline-block;line-height: 1.2em;}#sk-container-id-1 div.sk-label-container {text-align: center;}#sk-container-id-1 div.sk-container {/* jupyter's `normalize.less` sets `[hidden] { display: none; }` but bootstrap.min.css set `[hidden] { display: none !important; }` so we also need the `!important` here to be able to override the default hidden behavior on the sphinx rendered scikit-learn.org. See: https://github.com/scikit-learn/scikit-learn/issues/21755 */display: inline-block !important;position: relative;}#sk-container-id-1 div.sk-text-repr-fallback {display: none;}</style><div id=\"sk-container-id-1\" class=\"sk-top-container\"><div class=\"sk-text-repr-fallback\"><pre>LinearRegression()</pre><b>In a Jupyter environment, please rerun this cell to show the HTML representation or trust the notebook. <br />On GitHub, the HTML representation is unable to render, please try loading this page with nbviewer.org.</b></div><div class=\"sk-container\" hidden><div class=\"sk-item\"><div class=\"sk-estimator sk-toggleable\"><input class=\"sk-toggleable__control sk-hidden--visually\" id=\"sk-estimator-id-1\" type=\"checkbox\" checked><label for=\"sk-estimator-id-1\" class=\"sk-toggleable__label sk-toggleable__label-arrow\">LinearRegression</label><div class=\"sk-toggleable__content\"><pre>LinearRegression()</pre></div></div></div></div></div>"
            ]
          },
          "metadata": {},
          "execution_count": 23
        }
      ]
    },
    {
      "cell_type": "code",
      "source": [
        "#성능 비교 R2\n",
        "ols_R2_t, ols_R2_tt, = print_R2(ols, X_train_ohe, y_train, X_val_ohe, y_val)"
      ],
      "metadata": {
        "id": "Zy-uT_FyxDem",
        "colab": {
          "base_uri": "https://localhost:8080/"
        },
        "outputId": "26ce024a-c7e8-4fe3-f97d-4e5a066d9c02"
      },
      "execution_count": 24,
      "outputs": [
        {
          "output_type": "stream",
          "name": "stdout",
          "text": [
            "학습 세트 r2_score : 0.708\n",
            "테스트 세트 r2_score : -7.0627721870905475e+19\n"
          ]
        }
      ]
    },
    {
      "cell_type": "code",
      "source": [
        "#성능 비교 MAE\n",
        "ols_MAE_t, ols_MAE_tt, = print_MAE(ols, X_train_ohe, y_train, X_val_ohe, y_val)"
      ],
      "metadata": {
        "id": "OntPIk87xEy8",
        "colab": {
          "base_uri": "https://localhost:8080/"
        },
        "outputId": "223f7f47-62fc-4639-d15a-441c22ea366e"
      },
      "execution_count": 25,
      "outputs": [
        {
          "output_type": "stream",
          "name": "stdout",
          "text": [
            "학습 세트 MAE : 29.938\n",
            "테스트 세트 MAE : 243344786589.962\n"
          ]
        }
      ]
    },
    {
      "cell_type": "code",
      "source": [
        "ols_coef = pd.Series(ols.coef_, X_train_ohe.columns)\n",
        "ols_coef.sort_values(ascending=False).head(10)"
      ],
      "metadata": {
        "id": "R9lBKnwWxIuu",
        "colab": {
          "base_uri": "https://localhost:8080/"
        },
        "outputId": "b29cd4e7-562f-4296-d0fd-f0257bda54a9"
      },
      "execution_count": 26,
      "outputs": [
        {
          "output_type": "execute_result",
          "data": {
            "text/plain": [
              "size_23         6.491012e+13\n",
              "location_980    1.964503e+13\n",
              "size_17         1.544568e+13\n",
              "size_15         1.109444e+13\n",
              "size_16         1.109444e+13\n",
              "size_24         1.109444e+13\n",
              "size_4          1.109444e+13\n",
              "size_5          1.109444e+13\n",
              "size_9          1.109444e+13\n",
              "size_18         1.109444e+13\n",
              "dtype: float64"
            ]
          },
          "metadata": {},
          "execution_count": 26
        }
      ]
    },
    {
      "cell_type": "markdown",
      "source": [
        "#### **2-3. Ridge 회귀**\n",
        "- `RidgeCV`를 통해 Ridge 회귀 모델을 학습하고, 최적의 alpha 값을 찾으세요.\n",
        "  - alpha의 범위는 자유롭게 설정해 보세요. \n",
        "  - 학습 시간이 너무 길어지지 않도록 cv는 5 이하로 설정하세요. \n",
        "- train 및 val set에 대하여 $R^2$와 MAE 값을 구하세요. \n",
        "- 상위 10개의 회귀계수 값을 확인하세요."
      ],
      "metadata": {
        "id": "3wQ3LGQtGE2n"
      }
    },
    {
      "cell_type": "code",
      "source": [
        "from sklearn.linear_model import Ridge, Lasso\n",
        "import warnings\n",
        "warnings.filterwarnings(action='ignore')"
      ],
      "metadata": {
        "id": "9tDS3OlwxMQx"
      },
      "execution_count": 27,
      "outputs": []
    },
    {
      "cell_type": "code",
      "source": [
        "import matplotlib.pyplot as plt\n",
        "import seaborn as sns"
      ],
      "metadata": {
        "id": "sBwSJSS_xRpA"
      },
      "execution_count": 28,
      "outputs": []
    },
    {
      "cell_type": "code",
      "source": [
        "from sklearn.linear_model import RidgeCV, LassoCV\n",
        "\n",
        "# ridgecv로 학습\n",
        "alphas = np.arange(1, 15, 1)\n",
        "ridge = RidgeCV(alphas=alphas, cv=5)\n",
        "ridge.fit(X_train_ohe, y_train)\n",
        "\n",
        "print(\"alpha: \", ridge.alpha_)\n",
        "\n",
        "\n",
        "# 성능 확인\n",
        "ridge_train, ridge_val = print_R2(ridge, X_train_ohe, y_train, X_val_ohe, y_val)\n",
        "ridge_train, ridge_val = print_MAE(ridge, X_train_ohe, y_train, X_val_ohe, y_val)"
      ],
      "metadata": {
        "colab": {
          "base_uri": "https://localhost:8080/"
        },
        "id": "Vnow1Z7XDPgF",
        "outputId": "ad4f8b6c-79aa-4822-a6ad-1856a87b3115"
      },
      "execution_count": 29,
      "outputs": [
        {
          "output_type": "stream",
          "name": "stdout",
          "text": [
            "alpha:  4\n",
            "학습 세트 r2_score : 0.613\n",
            "테스트 세트 r2_score : 0.494\n",
            "학습 세트 MAE : 32.774\n",
            "테스트 세트 MAE : 36.201\n"
          ]
        }
      ]
    },
    {
      "cell_type": "code",
      "source": [
        "ridge_coef = pd.Series(ridge.coef_, ridge.feature_names_in_)\n",
        "ridge_coef.sort_values(ascending=False).head(10)"
      ],
      "metadata": {
        "id": "LLK0LAgvxyvr",
        "colab": {
          "base_uri": "https://localhost:8080/"
        },
        "outputId": "6cfdfec9-00c2-4ff3-8094-93aaf2f3f498"
      },
      "execution_count": 30,
      "outputs": [
        {
          "output_type": "execute_result",
          "data": {
            "text/plain": [
              "location_837    478.103282\n",
              "location_682    427.342952\n",
              "location_573    378.169113\n",
              "location_665    285.155182\n",
              "location_403    285.074052\n",
              "location_97     211.508792\n",
              "location_31     184.796026\n",
              "size_15         164.646591\n",
              "location_822    159.811400\n",
              "location_713    156.279903\n",
              "dtype: float64"
            ]
          },
          "metadata": {},
          "execution_count": 30
        }
      ]
    },
    {
      "cell_type": "markdown",
      "source": [
        "#### **2-4. Lasso 회귀**\n",
        "- `LassoCV`를 통해 Lasso 회귀 모델을 학습하고, 최적의 alpha 값을 찾으세요.\n",
        "  - alpha의 범위는 자유롭게 설정해 보세요. \n",
        "  - 학습 시간이 너무 길어지지 않도록 cv는 5 이하로 설정하세요. \n",
        "- train 및 val set에 대하여 $R^2$와 MAE 값을 구하세요. \n",
        "- 상위 10개의 회귀계수 값을 확인하세요."
      ],
      "metadata": {
        "id": "6ut1drKeGISc"
      }
    },
    {
      "cell_type": "code",
      "source": [
        "from sklearn.linear_model import LassoCV\n",
        "\n",
        "# lassocv로 학습\n",
        "alphas = np.arange(0.0001, 0.01, 0.0001)\n",
        "lasso = LassoCV(alphas=alphas, cv=5, random_state=42)\n",
        "lasso.fit(X_train_ohe, y_train)\n",
        "\n",
        "print(\"alpha: \", lasso.alpha_)\n",
        "\n",
        "# 성능 확인\n",
        "lasso_train, lasso_val = print_R2(lasso, X_train_ohe, y_train, X_val_ohe, y_val) #Validation\n",
        "lasso_train, lasso_val = print_MAE(lasso, X_train_ohe, y_train, X_val_ohe, y_val) #Validation"
      ],
      "metadata": {
        "id": "yrKO0TeVx4VW",
        "colab": {
          "base_uri": "https://localhost:8080/"
        },
        "outputId": "c0d510d2-1152-46a2-c7d8-dda6b8bb805b"
      },
      "execution_count": 31,
      "outputs": [
        {
          "output_type": "stream",
          "name": "stdout",
          "text": [
            "alpha:  0.009899999999999999\n",
            "학습 세트 r2_score : 0.695\n",
            "테스트 세트 r2_score : 0.279\n",
            "학습 세트 MAE : 31.5\n",
            "테스트 세트 MAE : 37.96\n"
          ]
        }
      ]
    },
    {
      "cell_type": "code",
      "source": [
        "print('회귀계수가 0이 아닌 특성의 수:', (lasso.coef_!=0).sum())\n",
        "\n",
        "lasso_coef = pd.Series(lasso.coef_, ridge.feature_names_in_)\n",
        "lasso_coef[lasso_coef!=0].sort_values(ascending=False)"
      ],
      "metadata": {
        "id": "Bl0qS24JyNRa",
        "colab": {
          "base_uri": "https://localhost:8080/"
        },
        "outputId": "869f860e-34d3-40e6-a600-e43f9a671fb3"
      },
      "execution_count": 32,
      "outputs": [
        {
          "output_type": "stream",
          "name": "stdout",
          "text": [
            "회귀계수가 0이 아닌 특성의 수: 495\n"
          ]
        },
        {
          "output_type": "execute_result",
          "data": {
            "text/plain": [
              "location_837    2409.093477\n",
              "location_573    1113.165465\n",
              "location_713     720.071074\n",
              "location_403     656.891380\n",
              "location_961     637.100578\n",
              "                   ...     \n",
              "location_493    -258.114505\n",
              "location_678    -378.902533\n",
              "location_172    -397.007562\n",
              "location_982    -430.201965\n",
              "size_25         -577.448495\n",
              "Length: 495, dtype: float64"
            ]
          },
          "metadata": {},
          "execution_count": 32
        }
      ]
    },
    {
      "cell_type": "markdown",
      "source": [
        "#### **2-5. 최종 모델**\n",
        "- 일반 선형 회귀 / Ridge 회귀 / Lasso 회귀 중 가장 성능이 좋다고 판단되는 모델을 최종 모델로 선택하세요.\n",
        "- test set에 대하여 최종 모델의 $R^2$와 MAE 값을 구하세요. "
      ],
      "metadata": {
        "id": "WVbVIJ4i7edz"
      }
    },
    {
      "cell_type": "code",
      "source": [
        "# Ridge 학습\n",
        "alpha = 4\n",
        "ridge = Ridge(alpha=alpha)  \n",
        "ridge.fit(X_train_ohe, y_train)\n",
        "\n",
        "print(\"alpha: \", ridge.alpha)\n",
        "\n",
        "# 성능 확인\n",
        "ridge_train, ridge_test = print_R2(ridge, X_train_ohe, y_train, X_val_ohe, y_val) #validation\n",
        "ridge_train, ridge_test = print_MAE(ridge, X_train_ohe, y_train, X_val_ohe, y_val) #validation"
      ],
      "metadata": {
        "colab": {
          "base_uri": "https://localhost:8080/"
        },
        "id": "BFfDknMQDoPv",
        "outputId": "3b2a2286-edf7-4196-938a-0d41b51d9fb3"
      },
      "execution_count": 33,
      "outputs": [
        {
          "output_type": "stream",
          "name": "stdout",
          "text": [
            "alpha:  4\n",
            "학습 세트 r2_score : 0.613\n",
            "테스트 세트 r2_score : 0.494\n",
            "학습 세트 MAE : 32.774\n",
            "테스트 세트 MAE : 36.201\n"
          ]
        }
      ]
    },
    {
      "cell_type": "code",
      "source": [
        "# Lasso 학습\n",
        "alpha = 0.01\n",
        "lasso = Lasso(alpha=alpha)\n",
        "lasso.fit(X_train_ohe, y_train)\n",
        "\n",
        "print(\"alpha: \", lasso.alpha)\n",
        "\n",
        "# 성능 확인\n",
        "lasso_train, lasso_val = print_R2(lasso, X_train_ohe, y_train, X_val_ohe, y_val) #Validation\n",
        "lasso_train, lasso_val = print_MAE(lasso, X_train_ohe, y_train, X_val_ohe, y_val) #Validation"
      ],
      "metadata": {
        "colab": {
          "base_uri": "https://localhost:8080/"
        },
        "id": "xeo6mSesZpHA",
        "outputId": "8e62e6d4-2d67-4eda-dd6e-d7278b207832"
      },
      "execution_count": 34,
      "outputs": [
        {
          "output_type": "stream",
          "name": "stdout",
          "text": [
            "alpha:  0.01\n",
            "학습 세트 r2_score : 0.695\n",
            "테스트 세트 r2_score : 0.279\n",
            "학습 세트 MAE : 31.511\n",
            "테스트 세트 MAE : 37.951\n"
          ]
        }
      ]
    },
    {
      "cell_type": "markdown",
      "source": [
        "최적의 alpha값중 Lasso가 학습률이 높게 나오지만 Ridge가 검증은 높다 </br>\n",
        "어떤 모델을 사용해야 좋을까? </br>\n",
        "**Lasso_train > Ridge_train**</br>\n",
        "**Lasso_val < Ridge_val**"
      ],
      "metadata": {
        "id": "m2wRuqN5b0bt"
      }
    },
    {
      "cell_type": "code",
      "source": [
        "# ridge로 학습\n",
        "alpha = 4\n",
        "ridge = Ridge(alpha=alpha)  \n",
        "ridge.fit(X_train_ohe, y_train)\n",
        "\n",
        "print(\"alpha: \", ridge.alpha)\n",
        "\n",
        "# 성능 확인\n",
        "ridge_train, ridge_test = print_R2(ridge, X_train_ohe, y_train, X_test_ohe, y_test) #test\n",
        "ridge_train, ridge_test = print_MAE(ridge, X_train_ohe, y_train, X_test_ohe, y_test) #test"
      ],
      "metadata": {
        "colab": {
          "base_uri": "https://localhost:8080/"
        },
        "id": "Blp68cudA7M6",
        "outputId": "c8608eb7-040a-4e4b-ea7b-5c4692c0b9a6"
      },
      "execution_count": 35,
      "outputs": [
        {
          "output_type": "stream",
          "name": "stdout",
          "text": [
            "학습 세트 r2_score : 0.613\n",
            "테스트 세트 r2_score : 0.514\n",
            "학습 세트 MAE : 32.774\n",
            "테스트 세트 MAE : 38.805\n"
          ]
        }
      ]
    },
    {
      "cell_type": "markdown",
      "source": [
        "류재영의 개인 의견</br>\n",
        "원래는 모델을 지정하고 테스트는 딱 한번만 해야하는데,</br>\n",
        "Lasso의 학습 세트가 더 높게 나와서 Lasso로도 확인을 해봤습니다."
      ],
      "metadata": {
        "id": "gNxOVvy6c4MY"
      }
    },
    {
      "cell_type": "code",
      "source": [
        "# Lasso 학습\n",
        "alpha = 0.01\n",
        "lasso = Lasso(alpha=alpha)\n",
        "lasso.fit(X_train_ohe, y_train)\n",
        "\n",
        "print(\"alpha: \", lasso.alpha)\n",
        "\n",
        "# 성능 확인\n",
        "lasso_train, lasso_val = print_R2(lasso, X_train_ohe, y_train, X_test_ohe, y_test) #Validation\n",
        "lasso_train, lasso_val = print_MAE(lasso, X_train_ohe, y_train, X_test_ohe, y_test) #Validation"
      ],
      "metadata": {
        "colab": {
          "base_uri": "https://localhost:8080/"
        },
        "id": "wiG8zmt2cmLt",
        "outputId": "96e8adb8-e342-44c7-c375-85fe0a4e352f"
      },
      "execution_count": 36,
      "outputs": [
        {
          "output_type": "stream",
          "name": "stdout",
          "text": [
            "alpha:  0.01\n",
            "학습 세트 r2_score : 0.695\n",
            "테스트 세트 r2_score : 0.514\n",
            "학습 세트 MAE : 31.511\n",
            "테스트 세트 MAE : 38.74\n"
          ]
        }
      ]
    },
    {
      "cell_type": "markdown",
      "source": [
        "Ridge 회귀 모델\n",
        "OLS, Ridge, Lasso 모델을 비교해봤을 떄,\n",
        "Ridge 모델이 R2 값과 MAE 값에서 더 나은 성능을 보였다."
      ],
      "metadata": {
        "id": "As9LF3pIAGwo"
      }
    },
    {
      "cell_type": "markdown",
      "source": [
        "### **Conclusion**\n",
        "> 오늘 Topic을 수행한 결과를 바탕으로, 다음 사항에 대해 답해 주세요.\n",
        "\n",
        "1. Ridge 및 Lasso 모델의 성능은 기준모델과 비교하여 어떤가요? \n",
        "2. 일반 선형 회귀 모델 학습 결과, 어떤 문제가 발생하였나요?\n",
        "3. Ridge 및 Lasso 모델의 학습 결과는 일반 선형 회귀 모델과 비교하여 어떤가요?\n",
        "  - 모델 성능은 어떻게 다른가요?\n",
        "  - 회귀 계수는 어떻게 다른가요?\n",
        "4. Ridge 및 Lasso 모델은 일반 선형 회귀 모델의 문제를 어떻게 해결할 수 있는지 설명하세요. \n",
        "- **Discussion** 표의 `정리` 탭에 답변을 정리하여 적어 주세요. "
      ],
      "metadata": {
        "id": "R8hoGe_2cQUb"
      }
    },
    {
      "cell_type": "markdown",
      "source": [
        "1. Ridge 및 Lasso 모델의 성능은 기준 모델보다 나음.\n",
        "2. 일반 선형 회귀 모델은 과적합이 발생함.\n",
        "3. 모델 비교\n",
        " - 모델 성능 : Ridge > Lasso > OLS\n",
        " - 회귀 계수 : OLS > Ridge, Lasso<br>\n",
        " (alpha 값을 어떻게 놓느냐에 따라 다르나, Ridge와 달리 Lasso 모델은 일부 회귀계수를 0으로 만들어,<br> 필요없는 변수를 제거할 수 있음)\n",
        "4. 회귀계수(가중치)를 제어함으로써 과적합을 해결할 수 있음"
      ],
      "metadata": {
        "id": "6jsaPkAaC9FK"
      }
    },
    {
      "cell_type": "markdown",
      "source": [
        "## **심화 Topic(optional)**\n",
        "1. Ridge와 Lasso 회귀의 차이점을 설명하고 언제 어떤 모델을 사용하는 게 더 좋을지 예시를 들어 설명해보세요.\n",
        "2. 카테고리가 너무 많은 경우(high cardinality)에 원핫인코딩을 사용하기 적합하지 않은 이유는 무엇일까요?\n",
        "    - 구체적인 예시를 들어서 설명해보세요. (예: 미국의 51개 주)\n",
        "    - 이 경우 발생할 수 있는 문제는 무엇이 있을까요?"
      ],
      "metadata": {
        "id": "-Xo1-WZzgeCP"
      }
    },
    {
      "cell_type": "markdown",
      "source": [
        "1. Ridge와 Lasso의 차이점\n",
        "- Ridge 방법은 회귀계수의 제곱의 합을 제한하는 방법으로 0은 아니나 0에 수렴하게 적용할 수 있음\n",
        "- Lasso 방법은 회귀계수의 절대값의 합을 제한하는 방법으로 회귀계수를 0으로 만들 수 있음<br>\n",
        "알파(람다) 값을 높혀 가중치를 제어함으로써 0이 아닌 변수를 선택하여 회귀곡선을 그릴 수 있음.\n",
        "2. 카데고리가 너무 많은 데이터의 경우, 온핫 인코딩을 할 경우 상관계수가 높은 독립변수들이 많이 생기기 때문에 다중공선성의 문제가 발생할 수 있음."
      ],
      "metadata": {
        "id": "YlWyyXjcN5ow"
      }
    }
  ]
}