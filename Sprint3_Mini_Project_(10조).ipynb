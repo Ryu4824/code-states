{
  "nbformat": 4,
  "nbformat_minor": 0,
  "metadata": {
    "colab": {
      "provenance": [],
      "include_colab_link": true
    },
    "kernelspec": {
      "name": "python3",
      "display_name": "Python 3"
    },
    "language_info": {
      "name": "python"
    }
  },
  "cells": [
    {
      "cell_type": "markdown",
      "metadata": {
        "id": "view-in-github",
        "colab_type": "text"
      },
      "source": [
        "<a href=\"https://colab.research.google.com/github/Ryu4824/code-states/blob/main/Sprint3_Mini_Project_(10%E1%84%8C%E1%85%A9).ipynb\" target=\"_parent\"><img src=\"https://colab.research.google.com/assets/colab-badge.svg\" alt=\"Open In Colab\"/></a>"
      ]
    },
    {
      "cell_type": "markdown",
      "source": [
        "# **Sprint 3 Mini Project**\n"
      ],
      "metadata": {
        "id": "ozuNq4ntan5m"
      }
    },
    {
      "cell_type": "markdown",
      "source": [
        "## Sprint 학습 목표\n",
        "\n",
        "- 선형대수의 기본 개념(scalar, vector, matrix)과 그 필요성을 이해할 수 있다.\n",
        "- 머신러닝의 지도학습과 비지도학습의 차이점을 이해할 수 있다.\n",
        "  - 비지도학습의 종류인 차원축소와 클러스터링을 목적에 맞게 진행할 수 있다."
      ],
      "metadata": {
        "id": "TNlVAZ15azaz"
      }
    },
    {
      "cell_type": "markdown",
      "source": [
        "## Project 문제 정의"
      ],
      "metadata": {
        "id": "Dt5KsBNbbN1B"
      }
    },
    {
      "cell_type": "markdown",
      "source": [
        "### 배경\n",
        "\n",
        "> 여러분은 국제 NGO 기구에서 데이터 분석 업무를 담당하고 있습니다. 현재 해당 NGO에서는 확보한 자금을 효과적으로 사용하기 위해 논의 중입니다. 진행 중인 의사결정 중 가장 중요한 것은 **가장 도움이 필요한 국가**를 선정하는 것입니다. 따라서 여러분은 주어진 데이터의 국가들의 기본 건강 정보 및 사회적 경제적 정보를 바탕으로 국가 내의 발전 정도를 파악하여, 어느 국가에 가장 먼저 도움을 줄 것인지에 대한 인사이트를 도출하는 업무를 맡게 되었습니다."
      ],
      "metadata": {
        "id": "S_30oFfwbUUW"
      }
    },
    {
      "cell_type": "markdown",
      "source": [
        "### Project 목표\n",
        "\n",
        "- 국가별로 전반적인 소득, 생활, 경제 상황을 확인하고 군집화를 수행한다.\n",
        "- 어떤 국가에 우선적으로 집중하여 자금을 줄 것인지에 대한 인사이트를 도출한다. "
      ],
      "metadata": {
        "id": "0YP8FV0IawBo"
      }
    },
    {
      "cell_type": "markdown",
      "source": [
        "## **N131 - Linear Algebra**\n",
        "\n",
        "### 오늘의 목표\n",
        "- Vector, Matrix 연산을 통해 필요한 정보를 도출할 수 있다.\n",
        "- 선형 독립과 선형 종속의 의미를 이해할 수 있다.\n"
      ],
      "metadata": {
        "id": "jtAQyTDKbuGH"
      }
    },
    {
      "cell_type": "markdown",
      "source": [
        "### `Topic 1`: 데이터셋 전처리\n",
        "> 본격적으로 Project를 진행하기 위해 데이터셋을 불러와 전처리를 진행해봅시다.\n",
        "\n",
        "<br>\n",
        "\n",
        "🚨 **data description**\n",
        "\n",
        "- `country`: 국가명\n",
        "\n",
        "- `child_mort`: 5세 미만 영유아 사망률 (1000명 당)\n",
        "\n",
        "- `exports`: 전체 GDP 대비 수출 비율 (상품 및 서비스)\n",
        "\n",
        "- `health`: 전체 GDP 대비 의료 관련 총 소비율\n",
        "\n",
        "- `imports`: 전체 GDP 대비 수입 비율 (상품 및 서비스)\n",
        "\n",
        "- `Income`: 1인당 순 이익\n",
        "\n",
        "- `Inflation`: 인플레이션율\n",
        "\n",
        "- `life_expec`: 기대수명\n",
        "\n",
        "- `total_fer`: 합계출산율\n",
        "\n",
        "- `gdpp`: 1인당 GDP\n",
        "\n"
      ],
      "metadata": {
        "id": "0vOrRMndLZuF"
      }
    },
    {
      "cell_type": "markdown",
      "source": [
        "\n",
        "#### **1-1. pandas의 `read_csv` 함수를 활용하여 주어진 csv 파일을 `aid`라는 이름으로 불러오세요.**"
      ],
      "metadata": {
        "id": "VmMqcS5HPZpP"
      }
    },
    {
      "cell_type": "code",
      "source": [
        "import pandas as pd\n",
        "aid = pd.read_csv(\"country.csv\")"
      ],
      "metadata": {
        "id": "rkuaIZoI_1l0"
      },
      "execution_count": 26,
      "outputs": []
    },
    {
      "cell_type": "markdown",
      "source": [
        "#### **1-2. `aid`에 대해 품질의 문제와 구조적 문제가 있는지 확인 후 있다면 해결하세요.**"
      ],
      "metadata": {
        "id": "FtbFfUaYth4Z"
      }
    },
    {
      "cell_type": "code",
      "source": [
        "aid.head()"
      ],
      "metadata": {
        "colab": {
          "base_uri": "https://localhost:8080/",
          "height": 206
        },
        "id": "Dn63K6sbwvor",
        "outputId": "9f5bf8df-54b4-4125-a093-cee885ec2a07"
      },
      "execution_count": 27,
      "outputs": [
        {
          "output_type": "execute_result",
          "data": {
            "text/plain": [
              "               country  child_mort  exports  health  imports  income  \\\n",
              "0          Afghanistan        90.2     10.0    7.58     44.9    1610   \n",
              "1              Albania        16.6     28.0    6.55     48.6    9930   \n",
              "2              Algeria        27.3     38.4    4.17     31.4   12900   \n",
              "3               Angola       119.0     62.3    2.85     42.9    5900   \n",
              "4  Antigua and Barbuda        10.3     45.5    6.03     58.9   19100   \n",
              "\n",
              "   inflation  life_expec  total_fer   gdpp  \n",
              "0       9.44        56.2       5.82    553  \n",
              "1       4.49        76.3       1.65   4090  \n",
              "2      16.10        76.5       2.89   4460  \n",
              "3      22.40        60.1       6.16   3530  \n",
              "4       1.44        76.8       2.13  12200  "
            ],
            "text/html": [
              "\n",
              "  <div id=\"df-a62db76a-3142-469e-ad67-466c039c9470\">\n",
              "    <div class=\"colab-df-container\">\n",
              "      <div>\n",
              "<style scoped>\n",
              "    .dataframe tbody tr th:only-of-type {\n",
              "        vertical-align: middle;\n",
              "    }\n",
              "\n",
              "    .dataframe tbody tr th {\n",
              "        vertical-align: top;\n",
              "    }\n",
              "\n",
              "    .dataframe thead th {\n",
              "        text-align: right;\n",
              "    }\n",
              "</style>\n",
              "<table border=\"1\" class=\"dataframe\">\n",
              "  <thead>\n",
              "    <tr style=\"text-align: right;\">\n",
              "      <th></th>\n",
              "      <th>country</th>\n",
              "      <th>child_mort</th>\n",
              "      <th>exports</th>\n",
              "      <th>health</th>\n",
              "      <th>imports</th>\n",
              "      <th>income</th>\n",
              "      <th>inflation</th>\n",
              "      <th>life_expec</th>\n",
              "      <th>total_fer</th>\n",
              "      <th>gdpp</th>\n",
              "    </tr>\n",
              "  </thead>\n",
              "  <tbody>\n",
              "    <tr>\n",
              "      <th>0</th>\n",
              "      <td>Afghanistan</td>\n",
              "      <td>90.2</td>\n",
              "      <td>10.0</td>\n",
              "      <td>7.58</td>\n",
              "      <td>44.9</td>\n",
              "      <td>1610</td>\n",
              "      <td>9.44</td>\n",
              "      <td>56.2</td>\n",
              "      <td>5.82</td>\n",
              "      <td>553</td>\n",
              "    </tr>\n",
              "    <tr>\n",
              "      <th>1</th>\n",
              "      <td>Albania</td>\n",
              "      <td>16.6</td>\n",
              "      <td>28.0</td>\n",
              "      <td>6.55</td>\n",
              "      <td>48.6</td>\n",
              "      <td>9930</td>\n",
              "      <td>4.49</td>\n",
              "      <td>76.3</td>\n",
              "      <td>1.65</td>\n",
              "      <td>4090</td>\n",
              "    </tr>\n",
              "    <tr>\n",
              "      <th>2</th>\n",
              "      <td>Algeria</td>\n",
              "      <td>27.3</td>\n",
              "      <td>38.4</td>\n",
              "      <td>4.17</td>\n",
              "      <td>31.4</td>\n",
              "      <td>12900</td>\n",
              "      <td>16.10</td>\n",
              "      <td>76.5</td>\n",
              "      <td>2.89</td>\n",
              "      <td>4460</td>\n",
              "    </tr>\n",
              "    <tr>\n",
              "      <th>3</th>\n",
              "      <td>Angola</td>\n",
              "      <td>119.0</td>\n",
              "      <td>62.3</td>\n",
              "      <td>2.85</td>\n",
              "      <td>42.9</td>\n",
              "      <td>5900</td>\n",
              "      <td>22.40</td>\n",
              "      <td>60.1</td>\n",
              "      <td>6.16</td>\n",
              "      <td>3530</td>\n",
              "    </tr>\n",
              "    <tr>\n",
              "      <th>4</th>\n",
              "      <td>Antigua and Barbuda</td>\n",
              "      <td>10.3</td>\n",
              "      <td>45.5</td>\n",
              "      <td>6.03</td>\n",
              "      <td>58.9</td>\n",
              "      <td>19100</td>\n",
              "      <td>1.44</td>\n",
              "      <td>76.8</td>\n",
              "      <td>2.13</td>\n",
              "      <td>12200</td>\n",
              "    </tr>\n",
              "  </tbody>\n",
              "</table>\n",
              "</div>\n",
              "      <button class=\"colab-df-convert\" onclick=\"convertToInteractive('df-a62db76a-3142-469e-ad67-466c039c9470')\"\n",
              "              title=\"Convert this dataframe to an interactive table.\"\n",
              "              style=\"display:none;\">\n",
              "        \n",
              "  <svg xmlns=\"http://www.w3.org/2000/svg\" height=\"24px\"viewBox=\"0 0 24 24\"\n",
              "       width=\"24px\">\n",
              "    <path d=\"M0 0h24v24H0V0z\" fill=\"none\"/>\n",
              "    <path d=\"M18.56 5.44l.94 2.06.94-2.06 2.06-.94-2.06-.94-.94-2.06-.94 2.06-2.06.94zm-11 1L8.5 8.5l.94-2.06 2.06-.94-2.06-.94L8.5 2.5l-.94 2.06-2.06.94zm10 10l.94 2.06.94-2.06 2.06-.94-2.06-.94-.94-2.06-.94 2.06-2.06.94z\"/><path d=\"M17.41 7.96l-1.37-1.37c-.4-.4-.92-.59-1.43-.59-.52 0-1.04.2-1.43.59L10.3 9.45l-7.72 7.72c-.78.78-.78 2.05 0 2.83L4 21.41c.39.39.9.59 1.41.59.51 0 1.02-.2 1.41-.59l7.78-7.78 2.81-2.81c.8-.78.8-2.07 0-2.86zM5.41 20L4 18.59l7.72-7.72 1.47 1.35L5.41 20z\"/>\n",
              "  </svg>\n",
              "      </button>\n",
              "      \n",
              "  <style>\n",
              "    .colab-df-container {\n",
              "      display:flex;\n",
              "      flex-wrap:wrap;\n",
              "      gap: 12px;\n",
              "    }\n",
              "\n",
              "    .colab-df-convert {\n",
              "      background-color: #E8F0FE;\n",
              "      border: none;\n",
              "      border-radius: 50%;\n",
              "      cursor: pointer;\n",
              "      display: none;\n",
              "      fill: #1967D2;\n",
              "      height: 32px;\n",
              "      padding: 0 0 0 0;\n",
              "      width: 32px;\n",
              "    }\n",
              "\n",
              "    .colab-df-convert:hover {\n",
              "      background-color: #E2EBFA;\n",
              "      box-shadow: 0px 1px 2px rgba(60, 64, 67, 0.3), 0px 1px 3px 1px rgba(60, 64, 67, 0.15);\n",
              "      fill: #174EA6;\n",
              "    }\n",
              "\n",
              "    [theme=dark] .colab-df-convert {\n",
              "      background-color: #3B4455;\n",
              "      fill: #D2E3FC;\n",
              "    }\n",
              "\n",
              "    [theme=dark] .colab-df-convert:hover {\n",
              "      background-color: #434B5C;\n",
              "      box-shadow: 0px 1px 3px 1px rgba(0, 0, 0, 0.15);\n",
              "      filter: drop-shadow(0px 1px 2px rgba(0, 0, 0, 0.3));\n",
              "      fill: #FFFFFF;\n",
              "    }\n",
              "  </style>\n",
              "\n",
              "      <script>\n",
              "        const buttonEl =\n",
              "          document.querySelector('#df-a62db76a-3142-469e-ad67-466c039c9470 button.colab-df-convert');\n",
              "        buttonEl.style.display =\n",
              "          google.colab.kernel.accessAllowed ? 'block' : 'none';\n",
              "\n",
              "        async function convertToInteractive(key) {\n",
              "          const element = document.querySelector('#df-a62db76a-3142-469e-ad67-466c039c9470');\n",
              "          const dataTable =\n",
              "            await google.colab.kernel.invokeFunction('convertToInteractive',\n",
              "                                                     [key], {});\n",
              "          if (!dataTable) return;\n",
              "\n",
              "          const docLinkHtml = 'Like what you see? Visit the ' +\n",
              "            '<a target=\"_blank\" href=https://colab.research.google.com/notebooks/data_table.ipynb>data table notebook</a>'\n",
              "            + ' to learn more about interactive tables.';\n",
              "          element.innerHTML = '';\n",
              "          dataTable['output_type'] = 'display_data';\n",
              "          await google.colab.output.renderOutput(dataTable, element);\n",
              "          const docLink = document.createElement('div');\n",
              "          docLink.innerHTML = docLinkHtml;\n",
              "          element.appendChild(docLink);\n",
              "        }\n",
              "      </script>\n",
              "    </div>\n",
              "  </div>\n",
              "  "
            ]
          },
          "metadata": {},
          "execution_count": 27
        }
      ]
    },
    {
      "cell_type": "code",
      "source": [
        "aid.info()"
      ],
      "metadata": {
        "colab": {
          "base_uri": "https://localhost:8080/"
        },
        "id": "rsYL69_jwyo8",
        "outputId": "a7b0b4e5-9215-4439-a194-4041847dbe57"
      },
      "execution_count": 28,
      "outputs": [
        {
          "output_type": "stream",
          "name": "stdout",
          "text": [
            "<class 'pandas.core.frame.DataFrame'>\n",
            "RangeIndex: 167 entries, 0 to 166\n",
            "Data columns (total 10 columns):\n",
            " #   Column      Non-Null Count  Dtype  \n",
            "---  ------      --------------  -----  \n",
            " 0   country     167 non-null    object \n",
            " 1   child_mort  167 non-null    float64\n",
            " 2   exports     167 non-null    float64\n",
            " 3   health      167 non-null    float64\n",
            " 4   imports     167 non-null    float64\n",
            " 5   income      167 non-null    int64  \n",
            " 6   inflation   167 non-null    float64\n",
            " 7   life_expec  167 non-null    float64\n",
            " 8   total_fer   167 non-null    float64\n",
            " 9   gdpp        167 non-null    int64  \n",
            "dtypes: float64(7), int64(2), object(1)\n",
            "memory usage: 13.2+ KB\n"
          ]
        }
      ]
    },
    {
      "cell_type": "code",
      "source": [
        "aid[\"child_mort\"].sort_values()"
      ],
      "metadata": {
        "colab": {
          "base_uri": "https://localhost:8080/"
        },
        "id": "76e6DkWfw7Y6",
        "outputId": "cef6c1f1-8363-4741-c9f1-e9f786b894d1"
      },
      "execution_count": 29,
      "outputs": [
        {
          "output_type": "execute_result",
          "data": {
            "text/plain": [
              "68       2.6\n",
              "91       2.8\n",
              "133      2.8\n",
              "53       3.0\n",
              "144      3.0\n",
              "       ...  \n",
              "97     137.0\n",
              "31     149.0\n",
              "32     150.0\n",
              "132    160.0\n",
              "66     208.0\n",
              "Name: child_mort, Length: 167, dtype: float64"
            ]
          },
          "metadata": {},
          "execution_count": 29
        }
      ]
    },
    {
      "cell_type": "code",
      "source": [
        "import matplotlib.pyplot as plt\n"
      ],
      "metadata": {
        "id": "iagzoH18xL6V"
      },
      "execution_count": 30,
      "outputs": []
    },
    {
      "cell_type": "code",
      "source": [
        "import seaborn as sns\n",
        "plt.boxplot(aid['life_expec'], vert = 0)\n",
        "plt.show()"
      ],
      "metadata": {
        "colab": {
          "base_uri": "https://localhost:8080/",
          "height": 265
        },
        "id": "lszFVdd4xl8q",
        "outputId": "af1e4ed1-b46c-47fe-f354-11a0882d3321"
      },
      "execution_count": 62,
      "outputs": [
        {
          "output_type": "display_data",
          "data": {
            "text/plain": [
              "<Figure size 432x288 with 1 Axes>"
            ],
            "image/png": "[encoded data removed]"
          },
          "metadata": {
            "needs_background": "light"
          }
        }
      ]
    },
    {
      "cell_type": "code",
      "source": [
        "aid_clean = aid.copy()\n",
        "aid_clean[\"life_expec\"] = aid_clean[\"life_expec\"].map(lambda x: x if x > 50 else aid_clean[\"life_expec\"].median())"
      ],
      "metadata": {
        "id": "tbskID1Nxvlz"
      },
      "execution_count": 32,
      "outputs": []
    },
    {
      "cell_type": "code",
      "source": [
        "plt.boxplot(aid_clean[\"life_expec\"]);"
      ],
      "metadata": {
        "colab": {
          "base_uri": "https://localhost:8080/",
          "height": 265
        },
        "id": "BM13cXKbyCGI",
        "outputId": "0d6de1eb-8251-4faf-cfef-c172cc893e29"
      },
      "execution_count": 33,
      "outputs": [
        {
          "output_type": "display_data",
          "data": {
            "text/plain": [
              "<Figure size 432x288 with 1 Axes>"
            ],
            "image/png": "[encoded data removed]"
          },
          "metadata": {
            "needs_background": "light"
          }
        }
      ]
    },
    {
      "cell_type": "code",
      "source": [
        "aid_clean.sort_values(\"inflation\")"
      ],
      "metadata": {
        "colab": {
          "base_uri": "https://localhost:8080/",
          "height": 424
        },
        "id": "W4uTKK2gzYVb",
        "outputId": "c2d25d0f-32c2-4f4a-cca8-0072052526c4"
      },
      "execution_count": 34,
      "outputs": [
        {
          "output_type": "execute_result",
          "data": {
            "text/plain": [
              "               country  child_mort  exports  health  imports  income  \\\n",
              "131         Seychelles        14.4     93.8    3.40    108.0   20400   \n",
              "73             Ireland         4.2    103.0    9.19     86.5   45700   \n",
              "77               Japan         3.2     15.0    9.49     13.6   35800   \n",
              "43      Czech Republic         3.4     66.0    7.88     62.9   28300   \n",
              "135           Slovenia         3.2     64.3    9.41     62.9   28700   \n",
              "..                 ...         ...      ...     ...      ...     ...   \n",
              "49   Equatorial Guinea       111.0     85.8    4.48     58.9   33700   \n",
              "149        Timor-Leste        62.6      2.2    9.12     27.8    1850   \n",
              "103           Mongolia        26.1     46.7    5.44     56.7    7710   \n",
              "163          Venezuela        17.1     28.5    4.91     17.6   16500   \n",
              "113            Nigeria       130.0     25.3    5.07     17.4    5150   \n",
              "\n",
              "     inflation  life_expec  total_fer   gdpp  \n",
              "131     -4.210        73.4       2.17  10800  \n",
              "73      -3.220        80.4       2.05  48700  \n",
              "77      -1.900        82.8       1.39  44500  \n",
              "43      -1.430        77.5       1.51  19800  \n",
              "135     -0.987        79.5       1.57  23400  \n",
              "..         ...         ...        ...    ...  \n",
              "49      24.900        60.9       5.21  17100  \n",
              "149     26.500        71.1       6.23   3600  \n",
              "103     39.200        66.2       2.64   2650  \n",
              "163     45.900        75.4       2.47  13500  \n",
              "113    104.000        60.5       5.84   2330  \n",
              "\n",
              "[167 rows x 10 columns]"
            ],
            "text/html": [
              "\n",
              "  <div id=\"df-9cb36403-63e6-48e1-b4cb-9a04fd28107d\">\n",
              "    <div class=\"colab-df-container\">\n",
              "      <div>\n",
              "<style scoped>\n",
              "    .dataframe tbody tr th:only-of-type {\n",
              "        vertical-align: middle;\n",
              "    }\n",
              "\n",
              "    .dataframe tbody tr th {\n",
              "        vertical-align: top;\n",
              "    }\n",
              "\n",
              "    .dataframe thead th {\n",
              "        text-align: right;\n",
              "    }\n",
              "</style>\n",
              "<table border=\"1\" class=\"dataframe\">\n",
              "  <thead>\n",
              "    <tr style=\"text-align: right;\">\n",
              "      <th></th>\n",
              "      <th>country</th>\n",
              "      <th>child_mort</th>\n",
              "      <th>exports</th>\n",
              "      <th>health</th>\n",
              "      <th>imports</th>\n",
              "      <th>income</th>\n",
              "      <th>inflation</th>\n",
              "      <th>life_expec</th>\n",
              "      <th>total_fer</th>\n",
              "      <th>gdpp</th>\n",
              "    </tr>\n",
              "  </thead>\n",
              "  <tbody>\n",
              "    <tr>\n",
              "      <th>131</th>\n",
              "      <td>Seychelles</td>\n",
              "      <td>14.4</td>\n",
              "      <td>93.8</td>\n",
              "      <td>3.40</td>\n",
              "      <td>108.0</td>\n",
              "      <td>20400</td>\n",
              "      <td>-4.210</td>\n",
              "      <td>73.4</td>\n",
              "      <td>2.17</td>\n",
              "      <td>10800</td>\n",
              "    </tr>\n",
              "    <tr>\n",
              "      <th>73</th>\n",
              "      <td>Ireland</td>\n",
              "      <td>4.2</td>\n",
              "      <td>103.0</td>\n",
              "      <td>9.19</td>\n",
              "      <td>86.5</td>\n",
              "      <td>45700</td>\n",
              "      <td>-3.220</td>\n",
              "      <td>80.4</td>\n",
              "      <td>2.05</td>\n",
              "      <td>48700</td>\n",
              "    </tr>\n",
              "    <tr>\n",
              "      <th>77</th>\n",
              "      <td>Japan</td>\n",
              "      <td>3.2</td>\n",
              "      <td>15.0</td>\n",
              "      <td>9.49</td>\n",
              "      <td>13.6</td>\n",
              "      <td>35800</td>\n",
              "      <td>-1.900</td>\n",
              "      <td>82.8</td>\n",
              "      <td>1.39</td>\n",
              "      <td>44500</td>\n",
              "    </tr>\n",
              "    <tr>\n",
              "      <th>43</th>\n",
              "      <td>Czech Republic</td>\n",
              "      <td>3.4</td>\n",
              "      <td>66.0</td>\n",
              "      <td>7.88</td>\n",
              "      <td>62.9</td>\n",
              "      <td>28300</td>\n",
              "      <td>-1.430</td>\n",
              "      <td>77.5</td>\n",
              "      <td>1.51</td>\n",
              "      <td>19800</td>\n",
              "    </tr>\n",
              "    <tr>\n",
              "      <th>135</th>\n",
              "      <td>Slovenia</td>\n",
              "      <td>3.2</td>\n",
              "      <td>64.3</td>\n",
              "      <td>9.41</td>\n",
              "      <td>62.9</td>\n",
              "      <td>28700</td>\n",
              "      <td>-0.987</td>\n",
              "      <td>79.5</td>\n",
              "      <td>1.57</td>\n",
              "      <td>23400</td>\n",
              "    </tr>\n",
              "    <tr>\n",
              "      <th>...</th>\n",
              "      <td>...</td>\n",
              "      <td>...</td>\n",
              "      <td>...</td>\n",
              "      <td>...</td>\n",
              "      <td>...</td>\n",
              "      <td>...</td>\n",
              "      <td>...</td>\n",
              "      <td>...</td>\n",
              "      <td>...</td>\n",
              "      <td>...</td>\n",
              "    </tr>\n",
              "    <tr>\n",
              "      <th>49</th>\n",
              "      <td>Equatorial Guinea</td>\n",
              "      <td>111.0</td>\n",
              "      <td>85.8</td>\n",
              "      <td>4.48</td>\n",
              "      <td>58.9</td>\n",
              "      <td>33700</td>\n",
              "      <td>24.900</td>\n",
              "      <td>60.9</td>\n",
              "      <td>5.21</td>\n",
              "      <td>17100</td>\n",
              "    </tr>\n",
              "    <tr>\n",
              "      <th>149</th>\n",
              "      <td>Timor-Leste</td>\n",
              "      <td>62.6</td>\n",
              "      <td>2.2</td>\n",
              "      <td>9.12</td>\n",
              "      <td>27.8</td>\n",
              "      <td>1850</td>\n",
              "      <td>26.500</td>\n",
              "      <td>71.1</td>\n",
              "      <td>6.23</td>\n",
              "      <td>3600</td>\n",
              "    </tr>\n",
              "    <tr>\n",
              "      <th>103</th>\n",
              "      <td>Mongolia</td>\n",
              "      <td>26.1</td>\n",
              "      <td>46.7</td>\n",
              "      <td>5.44</td>\n",
              "      <td>56.7</td>\n",
              "      <td>7710</td>\n",
              "      <td>39.200</td>\n",
              "      <td>66.2</td>\n",
              "      <td>2.64</td>\n",
              "      <td>2650</td>\n",
              "    </tr>\n",
              "    <tr>\n",
              "      <th>163</th>\n",
              "      <td>Venezuela</td>\n",
              "      <td>17.1</td>\n",
              "      <td>28.5</td>\n",
              "      <td>4.91</td>\n",
              "      <td>17.6</td>\n",
              "      <td>16500</td>\n",
              "      <td>45.900</td>\n",
              "      <td>75.4</td>\n",
              "      <td>2.47</td>\n",
              "      <td>13500</td>\n",
              "    </tr>\n",
              "    <tr>\n",
              "      <th>113</th>\n",
              "      <td>Nigeria</td>\n",
              "      <td>130.0</td>\n",
              "      <td>25.3</td>\n",
              "      <td>5.07</td>\n",
              "      <td>17.4</td>\n",
              "      <td>5150</td>\n",
              "      <td>104.000</td>\n",
              "      <td>60.5</td>\n",
              "      <td>5.84</td>\n",
              "      <td>2330</td>\n",
              "    </tr>\n",
              "  </tbody>\n",
              "</table>\n",
              "<p>167 rows × 10 columns</p>\n",
              "</div>\n",
              "      <button class=\"colab-df-convert\" onclick=\"convertToInteractive('df-9cb36403-63e6-48e1-b4cb-9a04fd28107d')\"\n",
              "              title=\"Convert this dataframe to an interactive table.\"\n",
              "              style=\"display:none;\">\n",
              "        \n",
              "  <svg xmlns=\"http://www.w3.org/2000/svg\" height=\"24px\"viewBox=\"0 0 24 24\"\n",
              "       width=\"24px\">\n",
              "    <path d=\"M0 0h24v24H0V0z\" fill=\"none\"/>\n",
              "    <path d=\"M18.56 5.44l.94 2.06.94-2.06 2.06-.94-2.06-.94-.94-2.06-.94 2.06-2.06.94zm-11 1L8.5 8.5l.94-2.06 2.06-.94-2.06-.94L8.5 2.5l-.94 2.06-2.06.94zm10 10l.94 2.06.94-2.06 2.06-.94-2.06-.94-.94-2.06-.94 2.06-2.06.94z\"/><path d=\"M17.41 7.96l-1.37-1.37c-.4-.4-.92-.59-1.43-.59-.52 0-1.04.2-1.43.59L10.3 9.45l-7.72 7.72c-.78.78-.78 2.05 0 2.83L4 21.41c.39.39.9.59 1.41.59.51 0 1.02-.2 1.41-.59l7.78-7.78 2.81-2.81c.8-.78.8-2.07 0-2.86zM5.41 20L4 18.59l7.72-7.72 1.47 1.35L5.41 20z\"/>\n",
              "  </svg>\n",
              "      </button>\n",
              "      \n",
              "  <style>\n",
              "    .colab-df-container {\n",
              "      display:flex;\n",
              "      flex-wrap:wrap;\n",
              "      gap: 12px;\n",
              "    }\n",
              "\n",
              "    .colab-df-convert {\n",
              "      background-color: #E8F0FE;\n",
              "      border: none;\n",
              "      border-radius: 50%;\n",
              "      cursor: pointer;\n",
              "      display: none;\n",
              "      fill: #1967D2;\n",
              "      height: 32px;\n",
              "      padding: 0 0 0 0;\n",
              "      width: 32px;\n",
              "    }\n",
              "\n",
              "    .colab-df-convert:hover {\n",
              "      background-color: #E2EBFA;\n",
              "      box-shadow: 0px 1px 2px rgba(60, 64, 67, 0.3), 0px 1px 3px 1px rgba(60, 64, 67, 0.15);\n",
              "      fill: #174EA6;\n",
              "    }\n",
              "\n",
              "    [theme=dark] .colab-df-convert {\n",
              "      background-color: #3B4455;\n",
              "      fill: #D2E3FC;\n",
              "    }\n",
              "\n",
              "    [theme=dark] .colab-df-convert:hover {\n",
              "      background-color: #434B5C;\n",
              "      box-shadow: 0px 1px 3px 1px rgba(0, 0, 0, 0.15);\n",
              "      filter: drop-shadow(0px 1px 2px rgba(0, 0, 0, 0.3));\n",
              "      fill: #FFFFFF;\n",
              "    }\n",
              "  </style>\n",
              "\n",
              "      <script>\n",
              "        const buttonEl =\n",
              "          document.querySelector('#df-9cb36403-63e6-48e1-b4cb-9a04fd28107d button.colab-df-convert');\n",
              "        buttonEl.style.display =\n",
              "          google.colab.kernel.accessAllowed ? 'block' : 'none';\n",
              "\n",
              "        async function convertToInteractive(key) {\n",
              "          const element = document.querySelector('#df-9cb36403-63e6-48e1-b4cb-9a04fd28107d');\n",
              "          const dataTable =\n",
              "            await google.colab.kernel.invokeFunction('convertToInteractive',\n",
              "                                                     [key], {});\n",
              "          if (!dataTable) return;\n",
              "\n",
              "          const docLinkHtml = 'Like what you see? Visit the ' +\n",
              "            '<a target=\"_blank\" href=https://colab.research.google.com/notebooks/data_table.ipynb>data table notebook</a>'\n",
              "            + ' to learn more about interactive tables.';\n",
              "          element.innerHTML = '';\n",
              "          dataTable['output_type'] = 'display_data';\n",
              "          await google.colab.output.renderOutput(dataTable, element);\n",
              "          const docLink = document.createElement('div');\n",
              "          docLink.innerHTML = docLinkHtml;\n",
              "          element.appendChild(docLink);\n",
              "        }\n",
              "      </script>\n",
              "    </div>\n",
              "  </div>\n",
              "  "
            ]
          },
          "metadata": {},
          "execution_count": 34
        }
      ]
    },
    {
      "cell_type": "code",
      "source": [
        "aid_clean.loc[113,\"inflation\"] = 21.34\n",
        "aid_clean.loc[113,\"inflation\"]"
      ],
      "metadata": {
        "colab": {
          "base_uri": "https://localhost:8080/"
        },
        "id": "nE10ovsBzpEr",
        "outputId": "9c90b2e5-496f-4d00-843a-fa3803f8f311"
      },
      "execution_count": 35,
      "outputs": [
        {
          "output_type": "execute_result",
          "data": {
            "text/plain": [
              "21.34"
            ]
          },
          "metadata": {},
          "execution_count": 35
        }
      ]
    },
    {
      "cell_type": "markdown",
      "source": [
        "1. life_expec 칼럼에서 이상치를 중간값으로 대체\n",
        "\n",
        "2. Nigeria, inflation에서 이상치 104.000을 21.34로 대체체"
      ],
      "metadata": {
        "id": "KA_WKmPU_3PO"
      }
    },
    {
      "cell_type": "markdown",
      "source": [
        "### `Topic 2`: Vector & Matrix 연산\n",
        "> 위에서 전처리를 마친 `aid`를 활용하여 연산을 진행해봅시다.\n",
        "\n"
      ],
      "metadata": {
        "id": "3hOs58uKQYa6"
      }
    },
    {
      "cell_type": "markdown",
      "source": [
        "#### **2-1. 좌표 평면 상에서 3 국가 간의 거리를 측정하여 어떤 국가 간의 거리가 가장 짧은지 구해보세요.**\n",
        "- `aid` 내 index가 2,4,6인 국가를 추출하세요.\n",
        "- 해당 국가들의 데이터를 가지고 exports와 imports를 각각 x축, y축으로 하는 scatterplot을 그려보세요.\n",
        "- 국가들 간의 거리를 Vector의 길이 공식을 활용하여 계산해보세요.\n",
        "  - $||v|| = \\sqrt{a^2 + b^2 + c^2 + \\cdots}$"
      ],
      "metadata": {
        "id": "9ve5Puc5QuKn"
      }
    },
    {
      "cell_type": "code",
      "source": [
        "aid_246 = aid.loc[[2,4,6], [\"country\", \"exports\", \"imports\"]]"
      ],
      "metadata": {
        "id": "JHbJpsIH_4rr"
      },
      "execution_count": 36,
      "outputs": []
    },
    {
      "cell_type": "code",
      "source": [
        "color = [\"red\",\"blue\",\"green\"]\n",
        "for i in range(len(aid_246)):\n",
        "  plt.scatter(aid_246[\"exports\"].iloc[i], aid_246[\"imports\"].iloc[i], color=color[i], label=aid_246[\"country\"].iloc[i])\n",
        "plt.xlim(0,46)\n",
        "plt.ylim(0,60)\n",
        "plt.legend(loc = 'lower left');"
      ],
      "metadata": {
        "colab": {
          "base_uri": "https://localhost:8080/",
          "height": 269
        },
        "id": "MTxmdr9TzKTM",
        "outputId": "949bc4a7-3a2f-4b9c-c303-d9443cefe7e2"
      },
      "execution_count": 60,
      "outputs": [
        {
          "output_type": "display_data",
          "data": {
            "text/plain": [
              "<Figure size 432x288 with 1 Axes>"
            ],
            "image/png": "[encoded data removed]"
          },
          "metadata": {
            "needs_background": "light"
          }
        }
      ]
    },
    {
      "cell_type": "code",
      "source": [
        "import numpy as np"
      ],
      "metadata": {
        "id": "sXO4stBt1qcb"
      },
      "execution_count": 38,
      "outputs": []
    },
    {
      "cell_type": "code",
      "source": [
        "array1 = np.array(aid_246[[\"exports\", \"imports\"]])\n",
        "array1"
      ],
      "metadata": {
        "colab": {
          "base_uri": "https://localhost:8080/"
        },
        "id": "kpPOGIse1sSX",
        "outputId": "ab4f516a-fcab-4bb9-c8b6-c6a2a6957c6d"
      },
      "execution_count": 39,
      "outputs": [
        {
          "output_type": "execute_result",
          "data": {
            "text/plain": [
              "array([[38.4, 31.4],\n",
              "       [45.5, 58.9],\n",
              "       [20.8, 45.3]])"
            ]
          },
          "metadata": {},
          "execution_count": 39
        }
      ]
    },
    {
      "cell_type": "code",
      "source": [
        "exports = np.array(aid_246['exports'])\n",
        "imports = np.array(aid_246['imports'])\n",
        "Alg = np.stack((exports[0], imports[0]), axis=0)\n",
        "Ant = np.stack((exports[1], imports[1]), axis=0)\n",
        "Arm = np.stack((exports[2], imports[2]), axis=0)\n",
        "print(Alg)\n",
        "print(Ant)\n",
        "print(Arm)"
      ],
      "metadata": {
        "colab": {
          "base_uri": "https://localhost:8080/"
        },
        "id": "bdwEXoUw2Dc7",
        "outputId": "edc5f91d-a408-400c-f9e4-1922661c641e"
      },
      "execution_count": 40,
      "outputs": [
        {
          "output_type": "stream",
          "name": "stdout",
          "text": [
            "[38.4 31.4]\n",
            "[45.5 58.9]\n",
            "[20.8 45.3]\n"
          ]
        }
      ]
    },
    {
      "cell_type": "code",
      "source": [
        "import math"
      ],
      "metadata": {
        "id": "U3HpltMq2fbD"
      },
      "execution_count": 41,
      "outputs": []
    },
    {
      "cell_type": "code",
      "source": [
        "Algd = math.sqrt(Alg[0] ** 2 + Alg[1] ** 2)\n",
        "Antd = math.sqrt(Ant[0] ** 2 + Ant[1] ** 2)\n",
        "Armd = math.sqrt(Arm[0] ** 2 + Arm[1] ** 2)\n",
        "Algd, Antd, Armd"
      ],
      "metadata": {
        "colab": {
          "base_uri": "https://localhost:8080/"
        },
        "id": "icE3K5G82LDb",
        "outputId": "8ce92a42-4b16-4b17-97ca-2d7f66d7139f"
      },
      "execution_count": 42,
      "outputs": [
        {
          "output_type": "execute_result",
          "data": {
            "text/plain": [
              "(49.60362889950694, 74.42754866311265, 49.8470661122598)"
            ]
          },
          "metadata": {},
          "execution_count": 42
        }
      ]
    },
    {
      "cell_type": "markdown",
      "source": [
        "원점에서부터 거리 짧은 순: Algeria, Armenia, Antigua and Barbuda"
      ],
      "metadata": {
        "id": "2QwALNAc22e-"
      }
    },
    {
      "cell_type": "code",
      "source": [
        "alg_ant = Alg - Ant\n",
        "alg_arm = Alg - Arm\n",
        "ant_arm = Ant - Arm"
      ],
      "metadata": {
        "id": "jGhE_-yt7bH0"
      },
      "execution_count": 43,
      "outputs": []
    },
    {
      "cell_type": "code",
      "source": [
        "alg_antd = math.sqrt(alg_ant[0] ** 2 + alg_ant[1] ** 2)\n",
        "alg_armd = math.sqrt(alg_arm[0] ** 2 + alg_arm[1] ** 2)\n",
        "ant_armd = math.sqrt(ant_arm[0] ** 2 + ant_arm[1] ** 2)\n",
        "alg_antd, alg_armd, ant_armd"
      ],
      "metadata": {
        "colab": {
          "base_uri": "https://localhost:8080/"
        },
        "id": "K2OoCRO27rbt",
        "outputId": "bcab567f-490e-4ad8-9613-c28ed11017e8"
      },
      "execution_count": 44,
      "outputs": [
        {
          "output_type": "execute_result",
          "data": {
            "text/plain": [
              "(28.401760508813535, 22.426992665089983, 28.196631004430298)"
            ]
          },
          "metadata": {},
          "execution_count": 44
        }
      ]
    },
    {
      "cell_type": "markdown",
      "source": [
        "서로 거리가 제일 짧은 나라: Algeria와 Armenia\n"
      ],
      "metadata": {
        "id": "0JzJygdv8BMl"
      }
    },
    {
      "cell_type": "markdown",
      "source": [
        "#### **2-2. 행렬곱을 사용하여 10개 국의 총 임금의 합을 계산해보세요.**\n",
        "- `aid` 내 index가 0~9인 국가를 추출하세요.\n",
        "- 해당 국가들의 국민 수는 각각 [10, 20, 30, 20, 10, 50, 30, 20, 10, 40] 이라고 가정한 후, `income`과 국민 수를 활용하여 10개 국 전체의 임금 합을 계산하세요.\n",
        "- for loop을 사용하여 해당 수식을 구현했을 때와 비교했을 때 어떤 것이 더 효율적인지 확인해보셔도 좋습니다."
      ],
      "metadata": {
        "id": "T-qz3WCxRBje"
      }
    },
    {
      "cell_type": "code",
      "source": [
        "aid_income = aid.loc[0:9, \"income\"]\n",
        "aid_income"
      ],
      "metadata": {
        "id": "MCWiuIvH_6Ip",
        "colab": {
          "base_uri": "https://localhost:8080/"
        },
        "outputId": "43f12956-8c8f-4cae-9cb7-8dcdc0d55f50"
      },
      "execution_count": 45,
      "outputs": [
        {
          "output_type": "execute_result",
          "data": {
            "text/plain": [
              "0     1610\n",
              "1     9930\n",
              "2    12900\n",
              "3     5900\n",
              "4    19100\n",
              "5    18700\n",
              "6     6700\n",
              "7    41400\n",
              "8    43200\n",
              "9    16000\n",
              "Name: income, dtype: int64"
            ]
          },
          "metadata": {},
          "execution_count": 45
        }
      ]
    },
    {
      "cell_type": "code",
      "source": [
        "pop = [10, 20, 30, 20, 10, 50, 30, 20, 10, 40]"
      ],
      "metadata": {
        "id": "L-QS2TrY3u_E"
      },
      "execution_count": 46,
      "outputs": []
    },
    {
      "cell_type": "code",
      "source": [
        "np.dot(aid_income, pop)"
      ],
      "metadata": {
        "colab": {
          "base_uri": "https://localhost:8080/"
        },
        "id": "YSuKH2MK3ysK",
        "outputId": "8d9130c8-b98f-4d43-9b68-599254654076"
      },
      "execution_count": 47,
      "outputs": [
        {
          "output_type": "execute_result",
          "data": {
            "text/plain": [
              "3946700"
            ]
          },
          "metadata": {},
          "execution_count": 47
        }
      ]
    },
    {
      "cell_type": "code",
      "source": [
        "list1 = []\n",
        "\n",
        "for idx, i in enumerate(aid_income):\n",
        "  list1.append(aid_income[idx] * pop[idx])\n",
        "\n",
        "sum(list1)"
      ],
      "metadata": {
        "colab": {
          "base_uri": "https://localhost:8080/"
        },
        "id": "3QUq8q3f4yu-",
        "outputId": "d37432d4-c7ac-41a9-875a-4a0116276d71"
      },
      "execution_count": 48,
      "outputs": [
        {
          "output_type": "execute_result",
          "data": {
            "text/plain": [
              "3946700"
            ]
          },
          "metadata": {},
          "execution_count": 48
        }
      ]
    },
    {
      "cell_type": "markdown",
      "source": [
        "for loop이라는 긴 코드를 작성하지 않아도 되서 np.dot이 더 효율적이다.\n",
        "np.dot / np.matmul: 브로드캐스팅이 가능. array 형태이면 알아서 계산해준다."
      ],
      "metadata": {
        "id": "2rueJKwK4Ta8"
      }
    },
    {
      "cell_type": "markdown",
      "source": [
        "### `Topic 3`: 선형 종속, 선형 독립\n",
        "\n",
        "\n"
      ],
      "metadata": {
        "id": "O6kQ2RRfrQsE"
      }
    },
    {
      "cell_type": "markdown",
      "source": [
        "#### **3-1. '두 벡터가 선형 종속 관계에 있다' 라는 말이 어떤 의미인지 설명해보세요.**\n",
        "- 선형 종속과 선형 독립의 의미를 생각해보세요.\n",
        "- 선형 종속인 두 벡터를 2차원 평면에 나타내면 어떻게 표현이 되는지, 시각화를 통해 이해해보셔도 좋습니다."
      ],
      "metadata": {
        "id": "C01hLAXqrk6z"
      }
    },
    {
      "cell_type": "markdown",
      "source": [
        "선형종속이면 두 개의 벡터가 필요 없다. 왜냐하면 선 상의 하나의 벡터로 나머지 하나를 포함한 다른 어떤 벡터도 표현할 수 있기 때문이다.\n",
        "\n",
        "선형독립:\n",
        "*   두 개의 벡터로 평면을 만들 수 있고, 세 개의 벡터로 3D를 만들 수 있을 때의 벡터가 서로 독립이다.\n",
        "*   벡터 수와 차원이 일치하는 경우.\n",
        "\n"
      ],
      "metadata": {
        "id": "ouDS6tfO_8Ed"
      }
    },
    {
      "cell_type": "code",
      "source": [
        "v1 = [2, 1]\n",
        "v2 = [4, 2]\n",
        "v3 = [1, -1]\n",
        "\n",
        "plt.xticks(np.arange(-4, 5))\n",
        "plt.yticks(np.arange(-2, 4))\n",
        "\n",
        "plt.axhline(0, 0, 1, color='lightgray', linestyle='--', linewidth=1)\n",
        "plt.axvline(0, 0, 1, color='lightgray', linestyle='--', linewidth=1)\n",
        "plt.arrow(0, 0, v1[0], v1[1], head_width=0.1, color='#790D90')\n",
        "plt.text(2.1, 1.1, 'v1')\n",
        "plt.arrow(0, 0, v2[0], v2[1], head_width=0.1, color='#0E6A88')\n",
        "plt.text(4.1, 2.1, 'v2')\n",
        "plt.arrow(0, 0, v3[0], v3[1], head_width=0.1, color='#DAB00F')\n",
        "plt.text(1.1, -1.1, 'v3')\n",
        "plt.title('Vector example1')\n",
        "plt.show()"
      ],
      "metadata": {
        "colab": {
          "base_uri": "https://localhost:8080/",
          "height": 281
        },
        "id": "3ku-OCa96mo-",
        "outputId": "1a90d9f6-1363-4dc9-f7c4-9a991e96392f"
      },
      "execution_count": 66,
      "outputs": [
        {
          "output_type": "display_data",
          "data": {
            "text/plain": [
              "<Figure size 432x288 with 1 Axes>"
            ],
            "image/png": "[encoded data removed]"
          },
          "metadata": {
            "needs_background": "light"
          }
        }
      ]
    },
    {
      "cell_type": "markdown",
      "source": [
        "위 그래프에서 보라색 벡터를 늘려서 파란색 벡터로 만들거나, 파란색 벡터를 줄여서 보라색 벡터로 만들 수 있지만, 노란색 벡터는 만들 수 없다."
      ],
      "metadata": {
        "id": "Hi1nuCyo7ISE"
      }
    }
  ]
}