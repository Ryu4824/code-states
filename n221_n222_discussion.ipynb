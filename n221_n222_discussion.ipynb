{
  "nbformat": 4,
  "nbformat_minor": 0,
  "metadata": {
    "colab": {
      "provenance": [],
      "include_colab_link": true
    },
    "kernelspec": {
      "name": "python3",
      "display_name": "Python 3"
    },
    "language_info": {
      "name": "python"
    }
  },
  "cells": [
    {
      "cell_type": "markdown",
      "metadata": {
        "id": "view-in-github",
        "colab_type": "text"
      },
      "source": [
        "<a href=\"https://colab.research.google.com/github/Ryu4824/code-states/blob/main/n221_n222_discussion.ipynb\" target=\"_parent\"><img src=\"https://colab.research.google.com/assets/colab-badge.svg\" alt=\"Open In Colab\"/></a>"
      ]
    },
    {
      "cell_type": "markdown",
      "source": [
        "# **N221 Tree Based Model**\n",
        "\n",
        "## 오늘의 목표\n",
        "- scikit-learn을 이용해 Decision tree와 Random forest 모델을 구현할 수 있습니다.\n",
        "- 파이프라인을 활용해 전처리 및 모델 학습을 수행할 수 있습니다. \n",
        "- 트리 기반 모델의 Feature importance를 해석할 수 있습니다. \n",
        "- 트리 기반 모델과 선형 회귀 모델의 차이점을 파악할 수 있습니다. \n"
      ],
      "metadata": {
        "id": "VPGhfU_ooM-y"
      }
    },
    {
      "cell_type": "markdown",
      "source": [
        "## **개념 Topic**\n",
        "> 오늘은 결정 트리(Decision Tree) 모델과 앙상블 기법 중 배깅(Bagging)을 대표하는 모델인 랜덤 포레스트(Random Forest) 모델에 대해 배웠습니다.\n",
        "\n",
        "- 랜덤포레스트가 결정트리보다 상대적으로 과적합을 피할 수 있는 이유는 무엇인가요? 랜덤포레스트의 랜덤성이 과적합 해소에 어떻게 영향을 미치는지 설명해보세요.\n",
        "```\n",
        "랜덤성 : 부트스트래핑을 하는 과정에서 랜덤으로 샘플 선택 / 트리가 분기하는 과정에서 랜덤으로 피쳐 선택\n",
        "```\n",
        "  - 만약 설명이 어렵다면 어느 부분이 이해가 안 되는지 구체적인 질문을 동기들과 나눠보세요.\n",
        "  - 랜덤포레스트의 랜덤성이 과적합 해소에 어떻게 영향을 미치는지 비유를 들어 설명해보세요.\n",
        "    ```\n",
        "    e.g. 수능 전 3월 모의고사만 풀어보는 것이 아니라 3월, 6월, 9월 등 여러 모의고사를 풀어보면 수능 문제도 더 잘 풀 수 있습니다. \n",
        "    - 수능 -> 테스트 데이터\n",
        "    - 3월 모의고사만 푼다면 모의고사 점수는 높지만 수능 점수는 낮을 수 있다. -> 과적합\n",
        "    - 3월, 6월, 9월 등 여러 모의고사 -> 다양한 기본 모델(결정 트리), 랜덤성   \n",
        "    - 수능 고득점 -> 과적합 해소\n",
        "    ```\n",
        "      - 체크리스트\n",
        "        - 과적합과 랜덤성에 대한 비유가 올바른가?\n",
        "        - 랜덤성으로 인해 과적합이 해소된다는 결론이 포함되었는가?\n",
        "- **Discussion** 표의 `정리` 탭에 답변을 정리하여 적어 주세요. "
      ],
      "metadata": {
        "id": "KMoB4KxFMq19"
      }
    },
    {
      "cell_type": "markdown",
      "source": [
        "## **코딩 Topic**"
      ],
      "metadata": {
        "id": "BRSv9NneX1cb"
      }
    },
    {
      "cell_type": "markdown",
      "source": [
        "### **Part.1 : 데이터 준비**\n",
        "n214에서 사용했던 통신사 고객의 계약 해지 데이터셋인 [Telco Customer Churn](https://www.kaggle.com/datasets/blastchar/telco-customer-churn)를 사용해서 해지 여부를 예측하는 분류 문제를 풀어보겠습니다.\n",
        "\n",
        "> **Data Description**\n",
        "\n",
        "- customerID : Customer ID\n",
        "- gender : Whether the customer is a male or a female\n",
        "- SeniorCitizen : Whether the customer is a senior citizen or not (1, 0)\n",
        "- Partner : Whether the customer has a partner or not (Yes, No)\n",
        "- Dependents : Whether the customer has dependents or not (Yes, No)\n",
        "- tenure : Number of months the customer has stayed with the company\n",
        "- PhoneService : Whether the customer has a phone service or not (Yes, No)\n",
        "- MultipleLines : Whether the customer has multiple lines or not (Yes, No, No phone service)\n",
        "- InternetService : Customer’s internet service provider (DSL, Fiber optic, No)\n",
        "- OnlineSecurity : Whether the customer has online security or not (Yes, No, No internet service)\n",
        "- OnlineBackup : Whether the customer has online backup or not (Yes, No, No internet service)\n",
        "- DeviceProtection : Whether the customer has device protection or not (Yes, No, No internet service)\n",
        "- TechSupport : Whether the customer has tech support or not (Yes, No, No internet service)\n",
        "- StreamingTV : Whether the customer has streaming TV or not (Yes, No, No internet service)\n",
        "- StreamingMovies : Whether the customer has streaming movies or not (Yes, No, No internet service)\n",
        "- Contract : The contract term of the customer (Month-to-month, One year, Two year)\n",
        "- PaperlessBilling : Whether the customer has paperless billing or not (Yes, No)\n",
        "- PaymentMethod : The customer’s payment method (Electronic check, Mailed check, Bank transfer (automatic), Credit card (automatic))\n",
        "- MonthlyCharges : The amount charged to the customer monthly\n",
        "- TotalCharges : The total amount charged to the customer\n",
        "- Churn : Whether the customer churned or not (Yes or No)"
      ],
      "metadata": {
        "id": "Igc38GuksgtT"
      }
    },
    {
      "cell_type": "code",
      "source": [
        "!pip install category_encoders"
      ],
      "metadata": {
        "id": "aXmd2vUI5838",
        "colab": {
          "base_uri": "https://localhost:8080/"
        },
        "outputId": "0ad5f25f-751f-4ae7-cce1-ccdbc039b930"
      },
      "execution_count": null,
      "outputs": [
        {
          "output_type": "stream",
          "name": "stdout",
          "text": [
            "Looking in indexes: https://pypi.org/simple, https://us-python.pkg.dev/colab-wheels/public/simple/\n",
            "Requirement already satisfied: category_encoders in /usr/local/lib/python3.9/dist-packages (2.6.0)\n",
            "Requirement already satisfied: statsmodels>=0.9.0 in /usr/local/lib/python3.9/dist-packages (from category_encoders) (0.13.5)\n",
            "Requirement already satisfied: pandas>=1.0.5 in /usr/local/lib/python3.9/dist-packages (from category_encoders) (1.4.4)\n",
            "Requirement already satisfied: numpy>=1.14.0 in /usr/local/lib/python3.9/dist-packages (from category_encoders) (1.22.4)\n",
            "Requirement already satisfied: scikit-learn>=0.20.0 in /usr/local/lib/python3.9/dist-packages (from category_encoders) (1.2.2)\n",
            "Requirement already satisfied: scipy>=1.0.0 in /usr/local/lib/python3.9/dist-packages (from category_encoders) (1.10.1)\n",
            "Requirement already satisfied: patsy>=0.5.1 in /usr/local/lib/python3.9/dist-packages (from category_encoders) (0.5.3)\n",
            "Requirement already satisfied: pytz>=2020.1 in /usr/local/lib/python3.9/dist-packages (from pandas>=1.0.5->category_encoders) (2022.7.1)\n",
            "Requirement already satisfied: python-dateutil>=2.8.1 in /usr/local/lib/python3.9/dist-packages (from pandas>=1.0.5->category_encoders) (2.8.2)\n",
            "Requirement already satisfied: six in /usr/local/lib/python3.9/dist-packages (from patsy>=0.5.1->category_encoders) (1.16.0)\n",
            "Requirement already satisfied: joblib>=1.1.1 in /usr/local/lib/python3.9/dist-packages (from scikit-learn>=0.20.0->category_encoders) (1.1.1)\n",
            "Requirement already satisfied: threadpoolctl>=2.0.0 in /usr/local/lib/python3.9/dist-packages (from scikit-learn>=0.20.0->category_encoders) (3.1.0)\n",
            "Requirement already satisfied: packaging>=21.3 in /usr/local/lib/python3.9/dist-packages (from statsmodels>=0.9.0->category_encoders) (23.0)\n"
          ]
        }
      ]
    },
    {
      "cell_type": "markdown",
      "source": [
        "#### **1-1. 데이터셋 불러오기 및 전처리**\n",
        "- 데이터셋을 불러오세요. \n",
        "- n214에서와 마찬가지로 전처리를 수행하세요.\n",
        "  - `customerID` colulmn을 제거하세요. \n",
        "  - 결측치 및 중복인 샘플(row) 제거 후 index를 재정렬하세요.\n",
        "  - `TotalCharges` 데이터 타입을 `float`으로 변환하세요. \n",
        "- 타겟 클래스 비율을 확인해 보세요. \n",
        "  - 타겟 변수는 `Churn`입니다.\n",
        "- optional) 추가적으로 전처리 및 특성공학을 수행해 보세요. "
      ],
      "metadata": {
        "id": "tlCRDofgYDaD"
      }
    },
    {
      "cell_type": "code",
      "source": [
        "# 데이터셋 불러오기 \n",
        "import pandas as pd\n",
        "df = pd.read_csv('https://ds-lecture-data.s3.ap-northeast-2.amazonaws.com/renewal/mldl/Customer_Churn.csv')\n",
        "df.head()"
      ],
      "metadata": {
        "id": "HrhYhYaRuf12",
        "colab": {
          "base_uri": "https://localhost:8080/",
          "height": 386
        },
        "outputId": "cfb7833b-161f-43dc-fd85-79712652af3f"
      },
      "execution_count": null,
      "outputs": [
        {
          "output_type": "execute_result",
          "data": {
            "text/plain": [
              "   customerID  gender  SeniorCitizen Partner Dependents  tenure PhoneService  \\\n",
              "0  7590-VHVEG  Female              0     Yes         No       1           No   \n",
              "1  5575-GNVDE    Male              0      No         No      34          Yes   \n",
              "2  3668-QPYBK    Male              0      No         No       2          Yes   \n",
              "3  7795-CFOCW    Male              0      No         No      45           No   \n",
              "4  9237-HQITU  Female              0      No         No       2          Yes   \n",
              "\n",
              "      MultipleLines InternetService OnlineSecurity  ... DeviceProtection  \\\n",
              "0  No phone service             DSL             No  ...               No   \n",
              "1                No             DSL            Yes  ...              Yes   \n",
              "2                No             DSL            Yes  ...               No   \n",
              "3  No phone service             DSL            Yes  ...              Yes   \n",
              "4                No     Fiber optic             No  ...               No   \n",
              "\n",
              "  TechSupport StreamingTV StreamingMovies        Contract PaperlessBilling  \\\n",
              "0          No          No              No  Month-to-month              Yes   \n",
              "1          No          No              No        One year               No   \n",
              "2          No          No              No  Month-to-month              Yes   \n",
              "3         Yes          No              No        One year               No   \n",
              "4          No          No              No  Month-to-month              Yes   \n",
              "\n",
              "               PaymentMethod MonthlyCharges  TotalCharges Churn  \n",
              "0           Electronic check          29.85         29.85    No  \n",
              "1               Mailed check          56.95        1889.5    No  \n",
              "2               Mailed check          53.85        108.15   Yes  \n",
              "3  Bank transfer (automatic)          42.30       1840.75    No  \n",
              "4           Electronic check          70.70        151.65   Yes  \n",
              "\n",
              "[5 rows x 21 columns]"
            ],
            "text/html": [
              "\n",
              "  <div id=\"df-629bfea4-d27d-4209-96bb-b57cb66930a5\">\n",
              "    <div class=\"colab-df-container\">\n",
              "      <div>\n",
              "<style scoped>\n",
              "    .dataframe tbody tr th:only-of-type {\n",
              "        vertical-align: middle;\n",
              "    }\n",
              "\n",
              "    .dataframe tbody tr th {\n",
              "        vertical-align: top;\n",
              "    }\n",
              "\n",
              "    .dataframe thead th {\n",
              "        text-align: right;\n",
              "    }\n",
              "</style>\n",
              "<table border=\"1\" class=\"dataframe\">\n",
              "  <thead>\n",
              "    <tr style=\"text-align: right;\">\n",
              "      <th></th>\n",
              "      <th>customerID</th>\n",
              "      <th>gender</th>\n",
              "      <th>SeniorCitizen</th>\n",
              "      <th>Partner</th>\n",
              "      <th>Dependents</th>\n",
              "      <th>tenure</th>\n",
              "      <th>PhoneService</th>\n",
              "      <th>MultipleLines</th>\n",
              "      <th>InternetService</th>\n",
              "      <th>OnlineSecurity</th>\n",
              "      <th>...</th>\n",
              "      <th>DeviceProtection</th>\n",
              "      <th>TechSupport</th>\n",
              "      <th>StreamingTV</th>\n",
              "      <th>StreamingMovies</th>\n",
              "      <th>Contract</th>\n",
              "      <th>PaperlessBilling</th>\n",
              "      <th>PaymentMethod</th>\n",
              "      <th>MonthlyCharges</th>\n",
              "      <th>TotalCharges</th>\n",
              "      <th>Churn</th>\n",
              "    </tr>\n",
              "  </thead>\n",
              "  <tbody>\n",
              "    <tr>\n",
              "      <th>0</th>\n",
              "      <td>7590-VHVEG</td>\n",
              "      <td>Female</td>\n",
              "      <td>0</td>\n",
              "      <td>Yes</td>\n",
              "      <td>No</td>\n",
              "      <td>1</td>\n",
              "      <td>No</td>\n",
              "      <td>No phone service</td>\n",
              "      <td>DSL</td>\n",
              "      <td>No</td>\n",
              "      <td>...</td>\n",
              "      <td>No</td>\n",
              "      <td>No</td>\n",
              "      <td>No</td>\n",
              "      <td>No</td>\n",
              "      <td>Month-to-month</td>\n",
              "      <td>Yes</td>\n",
              "      <td>Electronic check</td>\n",
              "      <td>29.85</td>\n",
              "      <td>29.85</td>\n",
              "      <td>No</td>\n",
              "    </tr>\n",
              "    <tr>\n",
              "      <th>1</th>\n",
              "      <td>5575-GNVDE</td>\n",
              "      <td>Male</td>\n",
              "      <td>0</td>\n",
              "      <td>No</td>\n",
              "      <td>No</td>\n",
              "      <td>34</td>\n",
              "      <td>Yes</td>\n",
              "      <td>No</td>\n",
              "      <td>DSL</td>\n",
              "      <td>Yes</td>\n",
              "      <td>...</td>\n",
              "      <td>Yes</td>\n",
              "      <td>No</td>\n",
              "      <td>No</td>\n",
              "      <td>No</td>\n",
              "      <td>One year</td>\n",
              "      <td>No</td>\n",
              "      <td>Mailed check</td>\n",
              "      <td>56.95</td>\n",
              "      <td>1889.5</td>\n",
              "      <td>No</td>\n",
              "    </tr>\n",
              "    <tr>\n",
              "      <th>2</th>\n",
              "      <td>3668-QPYBK</td>\n",
              "      <td>Male</td>\n",
              "      <td>0</td>\n",
              "      <td>No</td>\n",
              "      <td>No</td>\n",
              "      <td>2</td>\n",
              "      <td>Yes</td>\n",
              "      <td>No</td>\n",
              "      <td>DSL</td>\n",
              "      <td>Yes</td>\n",
              "      <td>...</td>\n",
              "      <td>No</td>\n",
              "      <td>No</td>\n",
              "      <td>No</td>\n",
              "      <td>No</td>\n",
              "      <td>Month-to-month</td>\n",
              "      <td>Yes</td>\n",
              "      <td>Mailed check</td>\n",
              "      <td>53.85</td>\n",
              "      <td>108.15</td>\n",
              "      <td>Yes</td>\n",
              "    </tr>\n",
              "    <tr>\n",
              "      <th>3</th>\n",
              "      <td>7795-CFOCW</td>\n",
              "      <td>Male</td>\n",
              "      <td>0</td>\n",
              "      <td>No</td>\n",
              "      <td>No</td>\n",
              "      <td>45</td>\n",
              "      <td>No</td>\n",
              "      <td>No phone service</td>\n",
              "      <td>DSL</td>\n",
              "      <td>Yes</td>\n",
              "      <td>...</td>\n",
              "      <td>Yes</td>\n",
              "      <td>Yes</td>\n",
              "      <td>No</td>\n",
              "      <td>No</td>\n",
              "      <td>One year</td>\n",
              "      <td>No</td>\n",
              "      <td>Bank transfer (automatic)</td>\n",
              "      <td>42.30</td>\n",
              "      <td>1840.75</td>\n",
              "      <td>No</td>\n",
              "    </tr>\n",
              "    <tr>\n",
              "      <th>4</th>\n",
              "      <td>9237-HQITU</td>\n",
              "      <td>Female</td>\n",
              "      <td>0</td>\n",
              "      <td>No</td>\n",
              "      <td>No</td>\n",
              "      <td>2</td>\n",
              "      <td>Yes</td>\n",
              "      <td>No</td>\n",
              "      <td>Fiber optic</td>\n",
              "      <td>No</td>\n",
              "      <td>...</td>\n",
              "      <td>No</td>\n",
              "      <td>No</td>\n",
              "      <td>No</td>\n",
              "      <td>No</td>\n",
              "      <td>Month-to-month</td>\n",
              "      <td>Yes</td>\n",
              "      <td>Electronic check</td>\n",
              "      <td>70.70</td>\n",
              "      <td>151.65</td>\n",
              "      <td>Yes</td>\n",
              "    </tr>\n",
              "  </tbody>\n",
              "</table>\n",
              "<p>5 rows × 21 columns</p>\n",
              "</div>\n",
              "      <button class=\"colab-df-convert\" onclick=\"convertToInteractive('df-629bfea4-d27d-4209-96bb-b57cb66930a5')\"\n",
              "              title=\"Convert this dataframe to an interactive table.\"\n",
              "              style=\"display:none;\">\n",
              "        \n",
              "  <svg xmlns=\"http://www.w3.org/2000/svg\" height=\"24px\"viewBox=\"0 0 24 24\"\n",
              "       width=\"24px\">\n",
              "    <path d=\"M0 0h24v24H0V0z\" fill=\"none\"/>\n",
              "    <path d=\"M18.56 5.44l.94 2.06.94-2.06 2.06-.94-2.06-.94-.94-2.06-.94 2.06-2.06.94zm-11 1L8.5 8.5l.94-2.06 2.06-.94-2.06-.94L8.5 2.5l-.94 2.06-2.06.94zm10 10l.94 2.06.94-2.06 2.06-.94-2.06-.94-.94-2.06-.94 2.06-2.06.94z\"/><path d=\"M17.41 7.96l-1.37-1.37c-.4-.4-.92-.59-1.43-.59-.52 0-1.04.2-1.43.59L10.3 9.45l-7.72 7.72c-.78.78-.78 2.05 0 2.83L4 21.41c.39.39.9.59 1.41.59.51 0 1.02-.2 1.41-.59l7.78-7.78 2.81-2.81c.8-.78.8-2.07 0-2.86zM5.41 20L4 18.59l7.72-7.72 1.47 1.35L5.41 20z\"/>\n",
              "  </svg>\n",
              "      </button>\n",
              "      \n",
              "  <style>\n",
              "    .colab-df-container {\n",
              "      display:flex;\n",
              "      flex-wrap:wrap;\n",
              "      gap: 12px;\n",
              "    }\n",
              "\n",
              "    .colab-df-convert {\n",
              "      background-color: #E8F0FE;\n",
              "      border: none;\n",
              "      border-radius: 50%;\n",
              "      cursor: pointer;\n",
              "      display: none;\n",
              "      fill: #1967D2;\n",
              "      height: 32px;\n",
              "      padding: 0 0 0 0;\n",
              "      width: 32px;\n",
              "    }\n",
              "\n",
              "    .colab-df-convert:hover {\n",
              "      background-color: #E2EBFA;\n",
              "      box-shadow: 0px 1px 2px rgba(60, 64, 67, 0.3), 0px 1px 3px 1px rgba(60, 64, 67, 0.15);\n",
              "      fill: #174EA6;\n",
              "    }\n",
              "\n",
              "    [theme=dark] .colab-df-convert {\n",
              "      background-color: #3B4455;\n",
              "      fill: #D2E3FC;\n",
              "    }\n",
              "\n",
              "    [theme=dark] .colab-df-convert:hover {\n",
              "      background-color: #434B5C;\n",
              "      box-shadow: 0px 1px 3px 1px rgba(0, 0, 0, 0.15);\n",
              "      filter: drop-shadow(0px 1px 2px rgba(0, 0, 0, 0.3));\n",
              "      fill: #FFFFFF;\n",
              "    }\n",
              "  </style>\n",
              "\n",
              "      <script>\n",
              "        const buttonEl =\n",
              "          document.querySelector('#df-629bfea4-d27d-4209-96bb-b57cb66930a5 button.colab-df-convert');\n",
              "        buttonEl.style.display =\n",
              "          google.colab.kernel.accessAllowed ? 'block' : 'none';\n",
              "\n",
              "        async function convertToInteractive(key) {\n",
              "          const element = document.querySelector('#df-629bfea4-d27d-4209-96bb-b57cb66930a5');\n",
              "          const dataTable =\n",
              "            await google.colab.kernel.invokeFunction('convertToInteractive',\n",
              "                                                     [key], {});\n",
              "          if (!dataTable) return;\n",
              "\n",
              "          const docLinkHtml = 'Like what you see? Visit the ' +\n",
              "            '<a target=\"_blank\" href=https://colab.research.google.com/notebooks/data_table.ipynb>data table notebook</a>'\n",
              "            + ' to learn more about interactive tables.';\n",
              "          element.innerHTML = '';\n",
              "          dataTable['output_type'] = 'display_data';\n",
              "          await google.colab.output.renderOutput(dataTable, element);\n",
              "          const docLink = document.createElement('div');\n",
              "          docLink.innerHTML = docLinkHtml;\n",
              "          element.appendChild(docLink);\n",
              "        }\n",
              "      </script>\n",
              "    </div>\n",
              "  </div>\n",
              "  "
            ]
          },
          "metadata": {},
          "execution_count": 86
        }
      ]
    },
    {
      "cell_type": "code",
      "source": [
        "# customerID colulmn을 제거하세요.\n",
        "df.drop('customerID', axis = 1, inplace = True)\n",
        "# 결측치 및 중복인 샘플(row) 제거 후 index를 재정렬하세요.\n",
        "df = df.drop_duplicates().reset_index()\n",
        "# TotalCharges 데이터 타입을 float으로 변환하세요.\n",
        "df['TotalCharges'] = df['TotalCharges'].replace({' ' : '0'}).astype('float')\n",
        "# Target class 비율 확인\n",
        "df['Churn'].value_counts(normalize = True)"
      ],
      "metadata": {
        "id": "ySPN_lYAakqn",
        "colab": {
          "base_uri": "https://localhost:8080/"
        },
        "outputId": "55d2a6ca-ed0f-4fd1-f927-ce5758c70da9"
      },
      "execution_count": null,
      "outputs": [
        {
          "output_type": "execute_result",
          "data": {
            "text/plain": [
              "No     0.735508\n",
              "Yes    0.264492\n",
              "Name: Churn, dtype: float64"
            ]
          },
          "metadata": {},
          "execution_count": 87
        }
      ]
    },
    {
      "cell_type": "code",
      "source": [
        "import numpy as np\n",
        "\n",
        "\n",
        "def engineer(df):\n",
        "    \"\"\"특성을 엔지니어링 하는 함수입니다.\"\"\"\n",
        "\n",
        "    # 높은 카디널리티를 가지는 특성을 제거합니다.\n",
        "    selected_cols = df.select_dtypes(include=[\"number\", \"object\"])\n",
        "    labels = selected_cols.nunique()  # 특성별 카디널리티 리스트\n",
        "    selected_features = labels[labels <= 30].index.tolist()  # 카디널리티가 30보다 작은 특성만 선택합니다.\n",
        "    df = df[selected_features]\n",
        "\n",
        "    return df\n",
        "df = engineer(df)"
      ],
      "metadata": {
        "id": "_WTyXUgLBTCE"
      },
      "execution_count": null,
      "outputs": []
    },
    {
      "cell_type": "markdown",
      "source": [
        "#### **1-2. 데이터셋 분리**\n",
        "- 특성 X와 타겟 y를 지정하세요.\n",
        "  - 타겟 데이터를 `No`는 0으로, `Yes`는 1로 변환하세요.\n",
        "- X와 y 모두 train/test set으로 분리하세요.\n",
        "  - 적절한 비로 train : test 비율을 설정하세요.\n",
        "  - `random_state`를 설정하여 고정된 결과가 나오도록 해 보세요.\n",
        "  - 타겟 클래스 비율이 유지되도록 분리하세요.\n",
        "- X와 y 모두 train set을 train/validation set으로 분리하세요. \n",
        "  - 적절한 비로 train : val 비율을 설정하세요.\n",
        "  - `random_state`를 설정하여 고정된 결과가 나오도록 해 보세요.\n",
        "  - 타겟 클래스 비율이 유지되도록 분리하세요."
      ],
      "metadata": {
        "id": "HGK7uOevvmfZ"
      }
    },
    {
      "cell_type": "code",
      "source": [
        "X = df.drop('Churn', axis=1)\n",
        "y = df['Churn'].map({'No': 0, 'Yes': 1})\n",
        "from sklearn.model_selection import train_test_split\n",
        "X_train, X_test, y_train, y_test = train_test_split(X, y, test_size = 0.2, random_state = 42, stratify = y)\n",
        "X_train, X_val, y_train, y_val = train_test_split(X_train, y_train, test_size = 0.2, random_state = 42, stratify = y_train)"
      ],
      "metadata": {
        "id": "eFcosb2gakNm"
      },
      "execution_count": null,
      "outputs": []
    },
    {
      "cell_type": "markdown",
      "source": [
        "### **Part.2 : 모델 학습 및 평가**"
      ],
      "metadata": {
        "id": "a9UkuD3_sOxh"
      }
    },
    {
      "cell_type": "markdown",
      "source": [
        "#### **2-1. 기준모델**\n",
        "- 최빈값을 이용하여 기준모델을 만들고, accuracy 값을 확인하세요. \n",
        "  - 기준모델은 train set에 대하여 생성합니다. "
      ],
      "metadata": {
        "id": "aZ4NQ3QA7Ikw"
      }
    },
    {
      "cell_type": "code",
      "source": [
        "from sklearn.metrics import accuracy_score\n",
        "\n",
        "base = y_train.mode()[0]\n",
        "baseline = len(y_train) * [base]\n",
        "baseline_acc = accuracy_score(y_train, baseline)\n",
        "print(f'기준모델의 정확도는 {baseline_acc.round(3)} 입니다')"
      ],
      "metadata": {
        "id": "8cjDSqvLamDw",
        "colab": {
          "base_uri": "https://localhost:8080/"
        },
        "outputId": "dbe86171-50be-4a2f-ce10-3667cd00ddd1"
      },
      "execution_count": null,
      "outputs": [
        {
          "output_type": "stream",
          "name": "stdout",
          "text": [
            "기준모델의 정확도는 0.736 입니다\n"
          ]
        }
      ]
    },
    {
      "cell_type": "markdown",
      "source": [
        "#### **2-2. Decision Tree**\n",
        "- 파이프라인을 다음과 같이 구성하세요.\n",
        "  - 데이터셋 변환에는 `OrdinalEncoder()`를 사용합니다.\n",
        "  - 분류 모델은 `DecisionTreeClassifier()`를 사용합니다.\n",
        "    - `random_state`로 시드를 고정하세요.\n",
        "- 파이프라인을 사용하여 데이터셋 변환 및 모델 학습을 수행하세요.\n",
        "- train/val set의 정확도를 각각 구하세요.  "
      ],
      "metadata": {
        "id": "_kOSnDF4cP7M"
      }
    },
    {
      "cell_type": "code",
      "source": [
        "from category_encoders import OrdinalEncoder\n",
        "from sklearn.impute import SimpleImputer\n",
        "from sklearn.pipeline import make_pipeline\n",
        "from sklearn.tree import DecisionTreeClassifier\n",
        "\n",
        "pipe_dt = make_pipeline(\n",
        "    OrdinalEncoder(),\n",
        "    SimpleImputer(),\n",
        "    DecisionTreeClassifier(random_state=42, criterion=\"gini\"),\n",
        ")\n",
        "pipe_dt.fit(X_train, y_train)\n",
        "\n",
        "print(\"훈련 정확도: \", pipe_dt.score(X_train, y_train))\n",
        "print(\"검증 정확도: \", pipe_dt.score(X_val, y_val))"
      ],
      "metadata": {
        "id": "9qk6sFNFam3y",
        "colab": {
          "base_uri": "https://localhost:8080/"
        },
        "outputId": "5fe1fe78-92ff-462f-ab63-1eef3aa8a0b8"
      },
      "execution_count": null,
      "outputs": [
        {
          "output_type": "stream",
          "name": "stdout",
          "text": [
            "훈련 정확도:  0.9312110418521816\n",
            "검증 정확도:  0.7064056939501779\n"
          ]
        }
      ]
    },
    {
      "cell_type": "markdown",
      "source": [
        "#### **2-3. Random Forest**\n",
        "- **2-2**에서 사용했던 파이프라인의 모델만 `RandomForestClassifier()`로 변경하여 학습 결과를 비교해 보세요. \n",
        "  - `random_state`로 시드를 고정하세요.\n",
        "  - train/val set의 정확도를 각각 구하세요. "
      ],
      "metadata": {
        "id": "YvzE4l6asUAV"
      }
    },
    {
      "cell_type": "code",
      "source": [
        "from sklearn.ensemble import RandomForestClassifier\n",
        "\n",
        "pipe_rf = make_pipeline(\n",
        "    OrdinalEncoder(),\n",
        "    SimpleImputer(),\n",
        "    RandomForestClassifier(random_state=42, oob_score=True, n_jobs=-1),\n",
        ")\n",
        "\n",
        "pipe_rf.fit(X_train, y_train)\n",
        "print(\"훈련 정확도: \", pipe_rf.score(X_train, y_train))\n",
        "print(\"검증 정확도: \", pipe_rf.score(X_val, y_val))"
      ],
      "metadata": {
        "id": "bFOAf5huanum",
        "colab": {
          "base_uri": "https://localhost:8080/"
        },
        "outputId": "29cfa5ce-12ec-4709-b4da-f2d8c3dd705c"
      },
      "execution_count": null,
      "outputs": [
        {
          "output_type": "stream",
          "name": "stdout",
          "text": [
            "훈련 정확도:  0.9312110418521816\n",
            "검증 정확도:  0.744661921708185\n"
          ]
        }
      ]
    },
    {
      "cell_type": "markdown",
      "source": [
        "#### **2-4. 과적합 해소**\n",
        "- decision tree와 random forest의 `max_depth`를 각각 조정하여 과적합을 해소해 보세요. \n",
        "  - `max_depth`를 얼마로 설정했을 때 가장 성능이 좋은지 최적의 값을 찾아보세요."
      ],
      "metadata": {
        "id": "Oq6IIr08mPym"
      }
    },
    {
      "cell_type": "code",
      "source": [
        "pipe_dt = make_pipeline(\n",
        "    OrdinalEncoder(),\n",
        "    SimpleImputer(),\n",
        "    DecisionTreeClassifier(random_state=42, criterion=\"gini\", max_depth = 10),\n",
        ")\n",
        "pipe_dt.fit(X_train, y_train)\n",
        "\n",
        "from sklearn.metrics import classification_report\n",
        "y_pred = pipe_dt.predict(X_val)\n",
        "print(\"나무 훈련 평가 : \\n\", classification_report(y_val, y_pred))\n",
        "\n",
        "pipe_rf = make_pipeline(\n",
        "    OrdinalEncoder(),\n",
        "    SimpleImputer(),\n",
        "    RandomForestClassifier(random_state=42, oob_score=True, n_jobs=-1, max_depth = 10),\n",
        ")\n",
        "pipe_rf.fit(X_train, y_train)\n",
        "\n",
        "y_pred_ = pipe_rf.predict(X_val)\n",
        "print(\"숲 훈련 평가 : \\n\" , classification_report(y_val, y_pred_))"
      ],
      "metadata": {
        "id": "Q2FfE1v8aol9",
        "colab": {
          "base_uri": "https://localhost:8080/"
        },
        "outputId": "ff97eddd-4799-4e6a-bc5f-f8876a5c6eca"
      },
      "execution_count": null,
      "outputs": [
        {
          "output_type": "stream",
          "name": "stdout",
          "text": [
            "나무 훈련 평가 : \n",
            "               precision    recall  f1-score   support\n",
            "\n",
            "           0       0.83      0.82      0.83       827\n",
            "           1       0.52      0.55      0.53       297\n",
            "\n",
            "    accuracy                           0.75      1124\n",
            "   macro avg       0.68      0.68      0.68      1124\n",
            "weighted avg       0.75      0.75      0.75      1124\n",
            "\n",
            "숲 훈련 평가 : \n",
            "               precision    recall  f1-score   support\n",
            "\n",
            "           0       0.83      0.88      0.86       827\n",
            "           1       0.60      0.50      0.55       297\n",
            "\n",
            "    accuracy                           0.78      1124\n",
            "   macro avg       0.72      0.69      0.70      1124\n",
            "weighted avg       0.77      0.78      0.77      1124\n",
            "\n"
          ]
        }
      ]
    },
    {
      "cell_type": "markdown",
      "source": [
        "### **2-5. 최종 모델**\n",
        "- **2-2 ~ 2-4**에서 만든 모델 중 가장 성능이 좋다고 판단되는 모델을 선택하여 test set에 대한 일반화 성능을 확인해 보세요.\n",
        "\n",
        "> 타겟 데이터가 불균형하지만, 예측 모델 accuracy가 기준 모델보다 높은 편이고 과대적합 된 결과를 간편하게 보기 위해 평가지표로 accuracy만 살펴보았습니다. 다른 평가지표로 기준 모델 및 예측 모델의 결과를 살펴보셔도 좋습니다."
      ],
      "metadata": {
        "id": "xlOO1cQJRfni"
      }
    },
    {
      "cell_type": "markdown",
      "source": [
        "### **Part.3 모델 해석**"
      ],
      "metadata": {
        "id": "e2ipyvmmppN5"
      }
    },
    {
      "cell_type": "markdown",
      "source": [
        "#### **3-1. Feature Importance**\n",
        "- **2-4**에서 학습한 decision tree와 random forest 모델의 feature importance를 각각 해석해 보세요. \n",
        "  - 파이프라인에서 모델만 추출하여 사용합니다. "
      ],
      "metadata": {
        "id": "JITVNCqGprnp"
      }
    },
    {
      "cell_type": "code",
      "source": [
        "%matplotlib inline\n",
        "import matplotlib.pyplot as plt\n",
        "model_dt = pipe_dt.named_steps['decisiontreeclassifier']\n",
        "importances = pd.Series(model_dt.feature_importances_, X_train.columns)\n",
        "plt.figure(figsize=(10, 20))\n",
        "importances.sort_values().plot.barh();"
      ],
      "metadata": {
        "id": "_v1YcFzBaqMy",
        "colab": {
          "base_uri": "https://localhost:8080/",
          "height": 1000
        },
        "outputId": "3a31dedb-a4f3-44ee-9512-408ed2bf4ed2"
      },
      "execution_count": null,
      "outputs": [
        {
          "output_type": "display_data",
          "data": {
            "text/plain": [
              "<Figure size 720x1440 with 1 Axes>"
            ],
            "image/png": "[encoded data removed]"
          },
          "metadata": {
            "needs_background": "light"
          }
        }
      ]
    },
    {
      "cell_type": "code",
      "source": [
        "model_rf = pipe_rf.named_steps['randomforestclassifier']\n",
        "importances = pd.Series(model_rf.feature_importances_, X_train.columns)\n",
        "plt.figure(figsize=(10, 20))\n",
        "importances.sort_values().plot.barh();"
      ],
      "metadata": {
        "colab": {
          "base_uri": "https://localhost:8080/",
          "height": 1000
        },
        "id": "Ir6XMPvrOm2L",
        "outputId": "0d896d85-6db2-4f26-89f0-692f27af23b4"
      },
      "execution_count": null,
      "outputs": [
        {
          "output_type": "display_data",
          "data": {
            "text/plain": [
              "<Figure size 720x1440 with 1 Axes>"
            ],
            "image/png": "[encoded data removed]"
          },
          "metadata": {
            "needs_background": "light"
          }
        }
      ]
    },
    {
      "cell_type": "markdown",
      "source": [
        "### **Conclusion**\n",
        "> 오늘 Topic을 수행한 결과를 바탕으로, 다음 사항에 대해 발표해 주세요.\n",
        "\n",
        "1. Decision tree 및 Random forest의 성능은 기준모델과 비교하여 어떤가요? \n",
        "2. 트리 기반 모델의 학습 결과, 어떤 문제가 발생하였나요?\n",
        "  - 해당 문제를 어떻게 해소할 수 있나요?\n",
        "3. Decision tree와 Random forest의 Feature importance를 해석해 보세요. \n",
        "4. 트리 기반 모델과 선형 모델의 차이점을 설명해 보세요. \n",
        "5. (advanced) 트리 기반 모델에서 범주형 데이터에 One-Hot Encoder가 아닌 Ordinal Encoder를 사용한 이유는 무엇일까요? \n",
        "- **Discussion** 표의 `정리` 탭에 답변을 정리하여 적어 주세요. "
      ],
      "metadata": {
        "id": "R8hoGe_2cQUb"
      }
    },
    {
      "cell_type": "markdown",
      "source": [
        "## **심화 Topic(optional)**\n",
        "- 결정트리에서는 왜 명목형 변수에 OneHotEncoding을 적용하지 않고 모두 OrdinalEncoding으로 변환하여도 상관없는지 논의해보세요.\n",
        "  - 트리 기반 모델에서 OneHotEncoding을 사용했을 때 생기는 문제점은 무엇일까요? 어떤 경우에, 왜 그런지 이유를 생각해보세요.\n",
        "  - OrdinalEncoding을 사용하면 어떻게 위 문제를 해결할 수 있을까요? \n",
        "  - 순서형 변수의 범주의 순서가 바뀌면 결과가 달라질까요? 다음 코드를 실행한 후 결과를 확인하고 이유를 설명해보세요.\n",
        "    - Encoder는 `OrdinalEncoder()`를 사용하세요.\n",
        "    - 결측치는 `SimpleImputer()`를 사용하여 처리하세요. "
      ],
      "metadata": {
        "id": "cHzdhTeKnCPF"
      }
    },
    {
      "cell_type": "code",
      "source": [
        "#데이터 로딩 및 분리\n",
        "target = 'vacc_h1n1_f'\n",
        "train = pd.merge(pd.read_csv('https://ds-lecture-data.s3.ap-northeast-2.amazonaws.com/vacc_flu/train.csv'), \n",
        "                 pd.read_csv('https://ds-lecture-data.s3.ap-northeast-2.amazonaws.com/vacc_flu/train_labels.csv')[target], left_index=True, right_index=True)\n",
        "\n",
        "#편의상 4개의 변수만 사용합니다.\n",
        "train = train[['behavioral_face_mask', 'behavioral_wash_hands', 'opinion_h1n1_vacc_effective', target]]\n",
        "\n",
        "#데이터 분리\n",
        "X_train, X_val, y_train, y_val = train_test_split(train.drop(target, axis = 1), train[target], test_size = 0.2, random_state = 42, stratify = train[target])\n",
        "print(X_train.shape, X_val.shape, y_train.shape, y_val.shape)\n",
        "X_train.head()"
      ],
      "metadata": {
        "id": "Xj7KWOEDnigY",
        "colab": {
          "base_uri": "https://localhost:8080/",
          "height": 224
        },
        "outputId": "2e42c0bd-14be-427d-aaf2-706eb58d8c92"
      },
      "execution_count": null,
      "outputs": [
        {
          "output_type": "stream",
          "name": "stdout",
          "text": [
            "(33723, 3) (8431, 3) (33723,) (8431,)\n"
          ]
        },
        {
          "output_type": "execute_result",
          "data": {
            "text/plain": [
              "       behavioral_face_mask  behavioral_wash_hands opinion_h1n1_vacc_effective\n",
              "18446                   NaN                    NaN                         NaN\n",
              "2370                    0.0                    1.0          Somewhat Effective\n",
              "1475                    0.0                    1.0          Somewhat Effective\n",
              "10595                   1.0                    1.0          Somewhat Effective\n",
              "29287                   0.0                    1.0          Somewhat Effective"
            ],
            "text/html": [
              "\n",
              "  <div id=\"df-b6a7f509-d4e2-45d4-a645-8d1f6b462e3e\">\n",
              "    <div class=\"colab-df-container\">\n",
              "      <div>\n",
              "<style scoped>\n",
              "    .dataframe tbody tr th:only-of-type {\n",
              "        vertical-align: middle;\n",
              "    }\n",
              "\n",
              "    .dataframe tbody tr th {\n",
              "        vertical-align: top;\n",
              "    }\n",
              "\n",
              "    .dataframe thead th {\n",
              "        text-align: right;\n",
              "    }\n",
              "</style>\n",
              "<table border=\"1\" class=\"dataframe\">\n",
              "  <thead>\n",
              "    <tr style=\"text-align: right;\">\n",
              "      <th></th>\n",
              "      <th>behavioral_face_mask</th>\n",
              "      <th>behavioral_wash_hands</th>\n",
              "      <th>opinion_h1n1_vacc_effective</th>\n",
              "    </tr>\n",
              "  </thead>\n",
              "  <tbody>\n",
              "    <tr>\n",
              "      <th>18446</th>\n",
              "      <td>NaN</td>\n",
              "      <td>NaN</td>\n",
              "      <td>NaN</td>\n",
              "    </tr>\n",
              "    <tr>\n",
              "      <th>2370</th>\n",
              "      <td>0.0</td>\n",
              "      <td>1.0</td>\n",
              "      <td>Somewhat Effective</td>\n",
              "    </tr>\n",
              "    <tr>\n",
              "      <th>1475</th>\n",
              "      <td>0.0</td>\n",
              "      <td>1.0</td>\n",
              "      <td>Somewhat Effective</td>\n",
              "    </tr>\n",
              "    <tr>\n",
              "      <th>10595</th>\n",
              "      <td>1.0</td>\n",
              "      <td>1.0</td>\n",
              "      <td>Somewhat Effective</td>\n",
              "    </tr>\n",
              "    <tr>\n",
              "      <th>29287</th>\n",
              "      <td>0.0</td>\n",
              "      <td>1.0</td>\n",
              "      <td>Somewhat Effective</td>\n",
              "    </tr>\n",
              "  </tbody>\n",
              "</table>\n",
              "</div>\n",
              "      <button class=\"colab-df-convert\" onclick=\"convertToInteractive('df-b6a7f509-d4e2-45d4-a645-8d1f6b462e3e')\"\n",
              "              title=\"Convert this dataframe to an interactive table.\"\n",
              "              style=\"display:none;\">\n",
              "        \n",
              "  <svg xmlns=\"http://www.w3.org/2000/svg\" height=\"24px\"viewBox=\"0 0 24 24\"\n",
              "       width=\"24px\">\n",
              "    <path d=\"M0 0h24v24H0V0z\" fill=\"none\"/>\n",
              "    <path d=\"M18.56 5.44l.94 2.06.94-2.06 2.06-.94-2.06-.94-.94-2.06-.94 2.06-2.06.94zm-11 1L8.5 8.5l.94-2.06 2.06-.94-2.06-.94L8.5 2.5l-.94 2.06-2.06.94zm10 10l.94 2.06.94-2.06 2.06-.94-2.06-.94-.94-2.06-.94 2.06-2.06.94z\"/><path d=\"M17.41 7.96l-1.37-1.37c-.4-.4-.92-.59-1.43-.59-.52 0-1.04.2-1.43.59L10.3 9.45l-7.72 7.72c-.78.78-.78 2.05 0 2.83L4 21.41c.39.39.9.59 1.41.59.51 0 1.02-.2 1.41-.59l7.78-7.78 2.81-2.81c.8-.78.8-2.07 0-2.86zM5.41 20L4 18.59l7.72-7.72 1.47 1.35L5.41 20z\"/>\n",
              "  </svg>\n",
              "      </button>\n",
              "      \n",
              "  <style>\n",
              "    .colab-df-container {\n",
              "      display:flex;\n",
              "      flex-wrap:wrap;\n",
              "      gap: 12px;\n",
              "    }\n",
              "\n",
              "    .colab-df-convert {\n",
              "      background-color: #E8F0FE;\n",
              "      border: none;\n",
              "      border-radius: 50%;\n",
              "      cursor: pointer;\n",
              "      display: none;\n",
              "      fill: #1967D2;\n",
              "      height: 32px;\n",
              "      padding: 0 0 0 0;\n",
              "      width: 32px;\n",
              "    }\n",
              "\n",
              "    .colab-df-convert:hover {\n",
              "      background-color: #E2EBFA;\n",
              "      box-shadow: 0px 1px 2px rgba(60, 64, 67, 0.3), 0px 1px 3px 1px rgba(60, 64, 67, 0.15);\n",
              "      fill: #174EA6;\n",
              "    }\n",
              "\n",
              "    [theme=dark] .colab-df-convert {\n",
              "      background-color: #3B4455;\n",
              "      fill: #D2E3FC;\n",
              "    }\n",
              "\n",
              "    [theme=dark] .colab-df-convert:hover {\n",
              "      background-color: #434B5C;\n",
              "      box-shadow: 0px 1px 3px 1px rgba(0, 0, 0, 0.15);\n",
              "      filter: drop-shadow(0px 1px 2px rgba(0, 0, 0, 0.3));\n",
              "      fill: #FFFFFF;\n",
              "    }\n",
              "  </style>\n",
              "\n",
              "      <script>\n",
              "        const buttonEl =\n",
              "          document.querySelector('#df-b6a7f509-d4e2-45d4-a645-8d1f6b462e3e button.colab-df-convert');\n",
              "        buttonEl.style.display =\n",
              "          google.colab.kernel.accessAllowed ? 'block' : 'none';\n",
              "\n",
              "        async function convertToInteractive(key) {\n",
              "          const element = document.querySelector('#df-b6a7f509-d4e2-45d4-a645-8d1f6b462e3e');\n",
              "          const dataTable =\n",
              "            await google.colab.kernel.invokeFunction('convertToInteractive',\n",
              "                                                     [key], {});\n",
              "          if (!dataTable) return;\n",
              "\n",
              "          const docLinkHtml = 'Like what you see? Visit the ' +\n",
              "            '<a target=\"_blank\" href=https://colab.research.google.com/notebooks/data_table.ipynb>data table notebook</a>'\n",
              "            + ' to learn more about interactive tables.';\n",
              "          element.innerHTML = '';\n",
              "          dataTable['output_type'] = 'display_data';\n",
              "          await google.colab.output.renderOutput(dataTable, element);\n",
              "          const docLink = document.createElement('div');\n",
              "          docLink.innerHTML = docLinkHtml;\n",
              "          element.appendChild(docLink);\n",
              "        }\n",
              "      </script>\n",
              "    </div>\n",
              "  </div>\n",
              "  "
            ]
          },
          "metadata": {},
          "execution_count": 98
        }
      ]
    },
    {
      "cell_type": "code",
      "source": [
        "# 인코딩이 필요한 변수\n",
        "X_train['opinion_h1n1_vacc_effective'].value_counts()"
      ],
      "metadata": {
        "id": "dra6ewDrnkps",
        "colab": {
          "base_uri": "https://localhost:8080/"
        },
        "outputId": "22531d89-70c9-4c4b-8724-d88e63be742b"
      },
      "execution_count": null,
      "outputs": [
        {
          "output_type": "execute_result",
          "data": {
            "text/plain": [
              "Somewhat Effective      11808\n",
              "Very Effective           7190\n",
              "Dont Know                4872\n",
              "Not Very Effective       1836\n",
              "Not At All Effective      876\n",
              "Refused                   109\n",
              "Name: opinion_h1n1_vacc_effective, dtype: int64"
            ]
          },
          "metadata": {},
          "execution_count": 99
        }
      ]
    },
    {
      "cell_type": "code",
      "source": [
        "# 먼저 맵핑을 지정하지 않고 Ordinal 인코딩을 사용했을 때 결과를 살펴보세요. "
      ],
      "metadata": {
        "id": "wsm6pIVNnpw1"
      },
      "execution_count": null,
      "outputs": []
    },
    {
      "cell_type": "code",
      "source": [
        "# 다음으로 아래와 같이 맵핑을 지정하고 Ordinal 인코딩을 사용했을 때 결과를 살펴보세요. \n",
        "# 공식문서의 mapping 파라미터를 참고하여 수행해 보세요. https://contrib.scikit-learn.org/category_encoders/ordinal.html\n",
        "'''\n",
        "mapping = {'Somewhat Effective' : 1, 'Very Effective': 2, 'Dont Know': 3,\n",
        "'Not Very Effective': 4, 'Not At All Effective': 5, 'Refused': 6}\n",
        "'''\n",
        "# 맵핑을 지정하지 않았을 때의 결과와 성능을 비교해 보세요! "
      ],
      "metadata": {
        "id": "zvdfPW2IntmD",
        "colab": {
          "base_uri": "https://localhost:8080/",
          "height": 35
        },
        "outputId": "4dbbb1cb-9d59-403b-acbe-9b80a0a5341d"
      },
      "execution_count": null,
      "outputs": [
        {
          "output_type": "execute_result",
          "data": {
            "text/plain": [
              "\"\\nmapping = {'Somewhat Effective' : 1, 'Very Effective': 2, 'Dont Know': 3,\\n'Not Very Effective': 4, 'Not At All Effective': 5, 'Refused': 6}\\n\""
            ],
            "application/vnd.google.colaboratory.intrinsic+json": {
              "type": "string"
            }
          },
          "metadata": {},
          "execution_count": 101
        }
      ]
    },
    {
      "cell_type": "markdown",
      "source": [
        "# **N222 Boosting**\n",
        "\n",
        "## 오늘의 목표\n",
        "- XGBoost 라이브러리를 이용해 XGBoost 모델을 구현할 수 있습니다.\n",
        "- 하이퍼파라미터 튜닝을 통해 과적합을 해소할 수 있습니다.\n",
        "- early stopping에 대해 이해하고, 이를 적용하여 모델을 학습할 수 있습니다. \n"
      ],
      "metadata": {
        "id": "sjY1E3nqVNOd"
      }
    },
    {
      "cell_type": "markdown",
      "source": [
        "## **개념 Topic**\n",
        "> 오늘은 대표적 앙상블 기법인 부스팅(Boosting)에 대해 배웠습니다.\n",
        "\n",
        "- 배깅과 부스팅의 차이를 한 문장으로 요약하여 설명해보세요.\n",
        "    - 각각의 모델은 편향과 분산 중 어떤 에러를 줄이는 방향으로 학습하나요?\n",
        "        - 어떻게 그 에러를 줄일 수 있나요?\n",
        "    - 만약 설명이 어렵다면 어느 부분이 이해가 안 되는지 구체적인 질문을 동기들과 나눠보세요.\n",
        "- **Discussion** 표의 `정리` 탭에 답변을 정리하여 적어 주세요. "
      ],
      "metadata": {
        "id": "dYtPHR8-VcVd"
      }
    },
    {
      "cell_type": "markdown",
      "source": [
        "## **코딩 Topic**"
      ],
      "metadata": {
        "id": "7xuFTuNYVd-u"
      }
    },
    {
      "cell_type": "markdown",
      "source": [
        "### **Part.4 : 모델 학습 및 평가**\n",
        "> **N221**의 **Part.1**에 이어 **Part.5** & **Part.6**를 진행합니다. "
      ],
      "metadata": {
        "id": "4o94xCgWVn5Y"
      }
    },
    {
      "cell_type": "markdown",
      "source": [
        "#### **4-1. XGBoost**\n",
        "- 파이프라인을 다음과 같이 구성하세요.\n",
        "  - 데이터셋 변환에는 `OrdinalEncoder()`를 사용합니다.\n",
        "  - 분류 모델은 `XGBClassifier()`를 사용합니다.\n",
        "    - `random_state`를 설정하여 고정된 결과가 나오도록 해 보세요.\n",
        "    - 분류 모델에 적합한 `objective`를 설정하세요.\n",
        "    - `eval_metric=error`로 설정하세요. \n",
        "- 파이프라인을 사용하여 데이터셋 변환 및 모델 학습을 수행하세요.\n",
        "- train/val set의 정확도를 각각 구하세요. "
      ],
      "metadata": {
        "id": "HhQr1OzZWMZC"
      }
    },
    {
      "cell_type": "code",
      "source": [],
      "metadata": {
        "id": "vEtz_KwNbDmo"
      },
      "execution_count": null,
      "outputs": []
    },
    {
      "cell_type": "markdown",
      "source": [
        "#### **4-2. 과적합 해소**\n",
        "- 과적합이 발생하지 않도록 `max_depth`와 `learning_rate`을 조정해 보세요. \n",
        "  - `max_depth` 값을 고정한 상태에서 `learning_rate`를 얼마로 설정했을 때 가장 성능이 좋은지 최적의 값을 찾아보세요."
      ],
      "metadata": {
        "id": "CfjrtLE9ZjT2"
      }
    },
    {
      "cell_type": "code",
      "source": [],
      "metadata": {
        "id": "V6GpvKVobErO"
      },
      "execution_count": null,
      "outputs": []
    },
    {
      "cell_type": "markdown",
      "source": [
        "#### **4-3. early stopping**\n",
        "> 이번에는 early stopping을 적용하여 학습해 보겠습니다.\n",
        "\n",
        "- `OrdinalEncoder()`를 사용하여 데이터셋을 변환하세요.\n",
        "- `XGBClassifier()` 모델을 생성하세요. \n",
        "  - `random_state`를 설정하여 고정된 결과가 나오도록 해 보세요.\n",
        "  - `objective`, `eval_metric`은 **2-1**과 동일하게 설정하세요.  \n",
        "  - `max_depth`, `learning_rate`은 **2-2**에서 구한 최적의 값으로 설정하세요. \n",
        "  - `n_estimators`를 충분히 크게 설정해 보세요. \n",
        "- early stopping을 적용하여 모델을 학습시키세요.\n",
        "  - `eval_set`은 위에서 인코딩한 train/val set으로 설정하세요.\n",
        "  - 50 rounds 동안 성능이 향상되지 않으면 학습을 멈추도록 설정하세요. "
      ],
      "metadata": {
        "id": "KxWd4UIxaRob"
      }
    },
    {
      "cell_type": "code",
      "source": [],
      "metadata": {
        "id": "PAR3sukvbGJa"
      },
      "execution_count": null,
      "outputs": []
    },
    {
      "cell_type": "markdown",
      "source": [
        "#### **4-4. 최종 모델**\n",
        "- **4-1 ~ 4-3**에서 만든 모델 중 가장 성능이 좋다고 판단되는 모델을 선택하여 test set에 대한 일반화 성능을 확인해 보세요."
      ],
      "metadata": {
        "id": "SH1V3fiISkZh"
      }
    },
    {
      "cell_type": "code",
      "source": [],
      "metadata": {
        "id": "AUR85CSLXvOl"
      },
      "execution_count": null,
      "outputs": []
    },
    {
      "cell_type": "markdown",
      "source": [
        "### **Part.5 모델 해석**"
      ],
      "metadata": {
        "id": "-okcF01FVn5Z"
      }
    },
    {
      "cell_type": "markdown",
      "source": [
        "#### **5-1. Feature Importance**\n",
        "- XGBoost의 feature importance를 해석해 보세요. \n",
        "  - **4-3**에서 early stopping을 적용했던 모델을 사용합니다. \n",
        "  - **n221**에서 나타낸 random forest의 feature importance와 비교해 보세요.\n"
      ],
      "metadata": {
        "id": "4S46vjbXuuSx"
      }
    },
    {
      "cell_type": "code",
      "source": [],
      "metadata": {
        "id": "d7Hm9E50bJHS"
      },
      "execution_count": null,
      "outputs": []
    },
    {
      "cell_type": "markdown",
      "source": [
        "### **Conclusion**\n",
        "> 오늘 Topic을 수행한 결과를 바탕으로, 다음 사항에 대해 발표해 주세요.\n",
        "\n",
        "1. Decision tree 및 Random forest와 마찬가지로 XGBoost에서도 과적합이 발생했나요?\n",
        "  - 과적합을 어떻게 해소하였나요? \n",
        "2. XGBoost 라이브러리에서 제공하는 early stopping을 적용해 보았는데, early stopping은 어떤 역할을 수행하는 기능인가요? \n",
        "3. Decision tree / Random forest / XGBoost의 성능을 비교해 보세요.\n",
        "4. Random forest와 Xgboost의 Feature importance를 비교해 보세요. \n",
        "- **Discussion** 표의 `정리` 탭에 답변을 정리하여 적어 주세요. "
      ],
      "metadata": {
        "id": "yKMUpJjhvd-R"
      }
    },
    {
      "cell_type": "markdown",
      "source": [
        "## **심화 Topic(optional)**\n",
        "- Learning rate를 조정하는 것은 어떤 의미가 있을까요? 다음 코드를 사용하여 결과를 확인해 보세요.\n",
        "  - Learning rate 값에 따라 모델의 성능은 어떻게 변하나요? \n",
        "  - Learning rate는 어떤 역할을 하는 하이퍼파라미터인가요?"
      ],
      "metadata": {
        "id": "XMbq3CpTpTJJ"
      }
    },
    {
      "cell_type": "code",
      "source": [
        "# 타겟을 정합니다.\n",
        "target = \"vacc_h1n1_f\"\n",
        "\n",
        "# 학습데이터 features, labels 를 병합합니다.\n",
        "train = pd.merge(\n",
        "    pd.read_csv(\n",
        "        \"https://ds-lecture-data.s3.ap-northeast-2.amazonaws.com/vacc_flu/train.csv\"\n",
        "    ),\n",
        "    pd.read_csv(\n",
        "        \"https://ds-lecture-data.s3.ap-northeast-2.amazonaws.com/vacc_flu/train_labels.csv\"\n",
        "    )[target],\n",
        "    left_index=True,\n",
        "    right_index=True,\n",
        ")\n",
        "test = pd.read_csv(\n",
        "    \"https://ds-lecture-data.s3.ap-northeast-2.amazonaws.com/vacc_flu/test.csv\"\n",
        ")\n",
        "\n",
        "# 80/20 비율로 학습/테스트 데이터를 분리합니다.\n",
        "train, val = train_test_split(\n",
        "    train, train_size=0.80, test_size=0.20, stratify=train[target], random_state=2\n",
        ")\n",
        "\n",
        "X_train, y_train = train.drop(columns=target), train[target]\n",
        "X_val, y_val = val.drop(columns=target), val[target]\n",
        "X_test = test"
      ],
      "metadata": {
        "id": "ZRNEiI-vp9gy"
      },
      "execution_count": null,
      "outputs": []
    },
    {
      "cell_type": "code",
      "source": [
        "# 학습률 변화에 따른 결과 함수\n",
        "def change_lr(lr):\n",
        "  pipe = make_pipeline(\n",
        "      OrdinalEncoder(),\n",
        "      XGBClassifier(\n",
        "          objective=\"binary:logistic\",\n",
        "          eval_metric=\"error\",  # error = 1 - accuracy 지표를 사용해 평가합니다.\n",
        "          n_estimators=100,\n",
        "          random_state=42,\n",
        "          n_jobs=-1,\n",
        "          max_depth=7,\n",
        "          learning_rate=lr,\n",
        "      ),\n",
        "  )\n",
        "\n",
        "  pipe.fit(X_train, y_train)\n",
        "  print(f'학습률이 {lr}일 때')\n",
        "  print('학습 정확도: ', pipe.score(X_train, y_train))\n",
        "  print('검증 정확도: ', pipe.score(X_val, y_val))\n",
        "  print('')"
      ],
      "metadata": {
        "id": "7iUWHZF5qEn4"
      },
      "execution_count": null,
      "outputs": []
    },
    {
      "cell_type": "code",
      "source": [
        "# for문을 사용해서 학습률 변화에 따라 결과가 어떻게 바뀌는지 확인해보세요!\n",
        "lr_list = [0.1, 0.3, 0.5, 0.7, 1]"
      ],
      "metadata": {
        "id": "9TD4XByPqJV4"
      },
      "execution_count": null,
      "outputs": []
    }
  ]
}